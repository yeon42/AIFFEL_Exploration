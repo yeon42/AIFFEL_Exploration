{
 "cells": [
  {
   "cell_type": "markdown",
   "id": "d4f1e233",
   "metadata": {},
   "source": [
    "# 👒 [E-14] Movielens 영화 추천 실습\n",
    "\n",
    "이전에 다룬 MF 모델 학습 방법을 토대로, 내가 좋아할만한 영화 추천 시스템 제작해보기.\n",
    "\n",
    "### 🐬 Movielens 데이터\n",
    ": 추천 시스템의 MNIST라 부를만한 Movielens 데이터\n",
    "\n",
    "<br/>\n",
    "\n",
    "**✔️ 조건**\n",
    "- 유저가 영화에 대해 평점을 매긴 데이터가 데이터 크기 별로 있음: **`MovieLens 1M Dataset`** 사용 권장\n",
    "- 별점 데이터는 대표적인 explicit 데이터 -> implicit 데이터로 간주하고 테스트해보기\n",
    "- 별점을 **시청횟수**로 해석하기\n",
    "- 유저가 3점 미만으로 준 데이터는 선호하지 않는다고 가정하기"
   ]
  },
  {
   "cell_type": "markdown",
   "id": "3beee3e6",
   "metadata": {},
   "source": [
    "### 1) 데이터 준비와 전처리\n",
    "Movielens 데이터를 보면 `rating.dat` 안에 이미 인덱싱까지 완료한 사용자-영화-평점 데이터가 정리되어 있음"
   ]
  },
  {
   "cell_type": "code",
   "execution_count": 1,
   "id": "7e06b6e6",
   "metadata": {},
   "outputs": [],
   "source": [
    "import pandas as pd\n",
    "import os"
   ]
  },
  {
   "cell_type": "code",
   "execution_count": 2,
   "id": "86390875",
   "metadata": {},
   "outputs": [
    {
     "data": {
      "text/html": [
       "<div>\n",
       "<style scoped>\n",
       "    .dataframe tbody tr th:only-of-type {\n",
       "        vertical-align: middle;\n",
       "    }\n",
       "\n",
       "    .dataframe tbody tr th {\n",
       "        vertical-align: top;\n",
       "    }\n",
       "\n",
       "    .dataframe thead th {\n",
       "        text-align: right;\n",
       "    }\n",
       "</style>\n",
       "<table border=\"1\" class=\"dataframe\">\n",
       "  <thead>\n",
       "    <tr style=\"text-align: right;\">\n",
       "      <th></th>\n",
       "      <th>user_id</th>\n",
       "      <th>movie_id</th>\n",
       "      <th>ratings</th>\n",
       "      <th>timestamp</th>\n",
       "    </tr>\n",
       "  </thead>\n",
       "  <tbody>\n",
       "    <tr>\n",
       "      <th>0</th>\n",
       "      <td>1</td>\n",
       "      <td>1193</td>\n",
       "      <td>5</td>\n",
       "      <td>978300760</td>\n",
       "    </tr>\n",
       "    <tr>\n",
       "      <th>1</th>\n",
       "      <td>1</td>\n",
       "      <td>661</td>\n",
       "      <td>3</td>\n",
       "      <td>978302109</td>\n",
       "    </tr>\n",
       "    <tr>\n",
       "      <th>2</th>\n",
       "      <td>1</td>\n",
       "      <td>914</td>\n",
       "      <td>3</td>\n",
       "      <td>978301968</td>\n",
       "    </tr>\n",
       "    <tr>\n",
       "      <th>3</th>\n",
       "      <td>1</td>\n",
       "      <td>3408</td>\n",
       "      <td>4</td>\n",
       "      <td>978300275</td>\n",
       "    </tr>\n",
       "    <tr>\n",
       "      <th>4</th>\n",
       "      <td>1</td>\n",
       "      <td>2355</td>\n",
       "      <td>5</td>\n",
       "      <td>978824291</td>\n",
       "    </tr>\n",
       "  </tbody>\n",
       "</table>\n",
       "</div>"
      ],
      "text/plain": [
       "   user_id  movie_id  ratings  timestamp\n",
       "0        1      1193        5  978300760\n",
       "1        1       661        3  978302109\n",
       "2        1       914        3  978301968\n",
       "3        1      3408        4  978300275\n",
       "4        1      2355        5  978824291"
      ]
     },
     "execution_count": 2,
     "metadata": {},
     "output_type": "execute_result"
    }
   ],
   "source": [
    "rating_file_path = os.getenv('HOME') + '/aiffel/recommendata_iu/data/ml-1m/ratings.dat'\n",
    "\n",
    "ratings_cols = ['user_id', 'movie_id', 'ratings', 'timestamp']\n",
    "ratings = pd.read_csv(rating_file_path, sep='::', names=ratings_cols, engine='python', encoding=\"ISO-8859-1\")\n",
    "\n",
    "orginal_data_size = len(ratings)\n",
    "ratings.head()"
   ]
  },
  {
   "cell_type": "code",
   "execution_count": 3,
   "id": "4e42c5ec",
   "metadata": {},
   "outputs": [
    {
     "name": "stdout",
     "output_type": "stream",
     "text": [
      "orginal_data_size: 1000209, filtered_data_size: 836478\n",
      "Ratio of Remaining Data is 83.63%\n"
     ]
    }
   ],
   "source": [
    "# 3점 이상만 남깁니다.\n",
    "ratings = ratings[ratings['ratings'] >= 3]\n",
    "filtered_data_size = len(ratings)\n",
    "\n",
    "print(f'orginal_data_size: {orginal_data_size}, filtered_data_size: {filtered_data_size}')\n",
    "print(f'Ratio of Remaining Data is {filtered_data_size / orginal_data_size:.2%}')"
   ]
  },
  {
   "cell_type": "code",
   "execution_count": 4,
   "id": "7aabdb05",
   "metadata": {},
   "outputs": [],
   "source": [
    "# ratings 컬럼의 이름을 counts로 바꿉니다.\n",
    "ratings.rename(columns={'ratings':'counts'}, inplace=True)"
   ]
  },
  {
   "cell_type": "code",
   "execution_count": 5,
   "id": "fcef19ab",
   "metadata": {},
   "outputs": [
    {
     "data": {
      "text/html": [
       "<div>\n",
       "<style scoped>\n",
       "    .dataframe tbody tr th:only-of-type {\n",
       "        vertical-align: middle;\n",
       "    }\n",
       "\n",
       "    .dataframe tbody tr th {\n",
       "        vertical-align: top;\n",
       "    }\n",
       "\n",
       "    .dataframe thead th {\n",
       "        text-align: right;\n",
       "    }\n",
       "</style>\n",
       "<table border=\"1\" class=\"dataframe\">\n",
       "  <thead>\n",
       "    <tr style=\"text-align: right;\">\n",
       "      <th></th>\n",
       "      <th>user_id</th>\n",
       "      <th>movie_id</th>\n",
       "      <th>counts</th>\n",
       "      <th>timestamp</th>\n",
       "    </tr>\n",
       "  </thead>\n",
       "  <tbody>\n",
       "    <tr>\n",
       "      <th>0</th>\n",
       "      <td>1</td>\n",
       "      <td>1193</td>\n",
       "      <td>5</td>\n",
       "      <td>978300760</td>\n",
       "    </tr>\n",
       "    <tr>\n",
       "      <th>1</th>\n",
       "      <td>1</td>\n",
       "      <td>661</td>\n",
       "      <td>3</td>\n",
       "      <td>978302109</td>\n",
       "    </tr>\n",
       "    <tr>\n",
       "      <th>2</th>\n",
       "      <td>1</td>\n",
       "      <td>914</td>\n",
       "      <td>3</td>\n",
       "      <td>978301968</td>\n",
       "    </tr>\n",
       "    <tr>\n",
       "      <th>3</th>\n",
       "      <td>1</td>\n",
       "      <td>3408</td>\n",
       "      <td>4</td>\n",
       "      <td>978300275</td>\n",
       "    </tr>\n",
       "    <tr>\n",
       "      <th>4</th>\n",
       "      <td>1</td>\n",
       "      <td>2355</td>\n",
       "      <td>5</td>\n",
       "      <td>978824291</td>\n",
       "    </tr>\n",
       "  </tbody>\n",
       "</table>\n",
       "</div>"
      ],
      "text/plain": [
       "   user_id  movie_id  counts  timestamp\n",
       "0        1      1193       5  978300760\n",
       "1        1       661       3  978302109\n",
       "2        1       914       3  978301968\n",
       "3        1      3408       4  978300275\n",
       "4        1      2355       5  978824291"
      ]
     },
     "execution_count": 5,
     "metadata": {},
     "output_type": "execute_result"
    }
   ],
   "source": [
    "ratings.head()"
   ]
  },
  {
   "cell_type": "code",
   "execution_count": 6,
   "id": "126f8df6",
   "metadata": {},
   "outputs": [
    {
     "data": {
      "text/plain": [
       "0          5\n",
       "1          3\n",
       "2          3\n",
       "3          4\n",
       "4          5\n",
       "          ..\n",
       "1000203    3\n",
       "1000205    5\n",
       "1000206    5\n",
       "1000207    4\n",
       "1000208    4\n",
       "Name: counts, Length: 836478, dtype: int64"
      ]
     },
     "execution_count": 6,
     "metadata": {},
     "output_type": "execute_result"
    }
   ],
   "source": [
    "ratings['counts']"
   ]
  },
  {
   "cell_type": "code",
   "execution_count": 7,
   "id": "16b285de",
   "metadata": {},
   "outputs": [
    {
     "data": {
      "text/html": [
       "<div>\n",
       "<style scoped>\n",
       "    .dataframe tbody tr th:only-of-type {\n",
       "        vertical-align: middle;\n",
       "    }\n",
       "\n",
       "    .dataframe tbody tr th {\n",
       "        vertical-align: top;\n",
       "    }\n",
       "\n",
       "    .dataframe thead th {\n",
       "        text-align: right;\n",
       "    }\n",
       "</style>\n",
       "<table border=\"1\" class=\"dataframe\">\n",
       "  <thead>\n",
       "    <tr style=\"text-align: right;\">\n",
       "      <th></th>\n",
       "      <th>movie_id</th>\n",
       "      <th>title</th>\n",
       "      <th>genre</th>\n",
       "    </tr>\n",
       "  </thead>\n",
       "  <tbody>\n",
       "    <tr>\n",
       "      <th>0</th>\n",
       "      <td>1</td>\n",
       "      <td>Toy Story (1995)</td>\n",
       "      <td>Animation|Children's|Comedy</td>\n",
       "    </tr>\n",
       "    <tr>\n",
       "      <th>1</th>\n",
       "      <td>2</td>\n",
       "      <td>Jumanji (1995)</td>\n",
       "      <td>Adventure|Children's|Fantasy</td>\n",
       "    </tr>\n",
       "    <tr>\n",
       "      <th>2</th>\n",
       "      <td>3</td>\n",
       "      <td>Grumpier Old Men (1995)</td>\n",
       "      <td>Comedy|Romance</td>\n",
       "    </tr>\n",
       "    <tr>\n",
       "      <th>3</th>\n",
       "      <td>4</td>\n",
       "      <td>Waiting to Exhale (1995)</td>\n",
       "      <td>Comedy|Drama</td>\n",
       "    </tr>\n",
       "    <tr>\n",
       "      <th>4</th>\n",
       "      <td>5</td>\n",
       "      <td>Father of the Bride Part II (1995)</td>\n",
       "      <td>Comedy</td>\n",
       "    </tr>\n",
       "  </tbody>\n",
       "</table>\n",
       "</div>"
      ],
      "text/plain": [
       "   movie_id                               title                         genre\n",
       "0         1                    Toy Story (1995)   Animation|Children's|Comedy\n",
       "1         2                      Jumanji (1995)  Adventure|Children's|Fantasy\n",
       "2         3             Grumpier Old Men (1995)                Comedy|Romance\n",
       "3         4            Waiting to Exhale (1995)                  Comedy|Drama\n",
       "4         5  Father of the Bride Part II (1995)                        Comedy"
      ]
     },
     "execution_count": 7,
     "metadata": {},
     "output_type": "execute_result"
    }
   ],
   "source": [
    "# 영화 제목을 보기 위해 메타 데이터를 읽어옵니다.\n",
    "movie_file_path = os.getenv('HOME') + '/aiffel/recommendata_iu/data/ml-1m/movies.dat'\n",
    "\n",
    "cols = ['movie_id', 'title', 'genre'] \n",
    "movies = pd.read_csv(movie_file_path, sep='::', names=cols, engine='python', encoding='ISO-8859-1')\n",
    "movies.head()"
   ]
  },
  {
   "cell_type": "markdown",
   "id": "b670c87f",
   "metadata": {},
   "source": [
    "### - 추가적인 데이터 탐색"
   ]
  },
  {
   "cell_type": "code",
   "execution_count": 8,
   "id": "0e52c629",
   "metadata": {
    "scrolled": true
   },
   "outputs": [
    {
     "data": {
      "text/html": [
       "<div>\n",
       "<style scoped>\n",
       "    .dataframe tbody tr th:only-of-type {\n",
       "        vertical-align: middle;\n",
       "    }\n",
       "\n",
       "    .dataframe tbody tr th {\n",
       "        vertical-align: top;\n",
       "    }\n",
       "\n",
       "    .dataframe thead th {\n",
       "        text-align: right;\n",
       "    }\n",
       "</style>\n",
       "<table border=\"1\" class=\"dataframe\">\n",
       "  <thead>\n",
       "    <tr style=\"text-align: right;\">\n",
       "      <th></th>\n",
       "      <th>movie_id</th>\n",
       "      <th>title</th>\n",
       "      <th>genre</th>\n",
       "    </tr>\n",
       "  </thead>\n",
       "  <tbody>\n",
       "    <tr>\n",
       "      <th>3878</th>\n",
       "      <td>3948</td>\n",
       "      <td>Meet the Parents (2000)</td>\n",
       "      <td>Comedy</td>\n",
       "    </tr>\n",
       "    <tr>\n",
       "      <th>3879</th>\n",
       "      <td>3949</td>\n",
       "      <td>Requiem for a Dream (2000)</td>\n",
       "      <td>Drama</td>\n",
       "    </tr>\n",
       "    <tr>\n",
       "      <th>3880</th>\n",
       "      <td>3950</td>\n",
       "      <td>Tigerland (2000)</td>\n",
       "      <td>Drama</td>\n",
       "    </tr>\n",
       "    <tr>\n",
       "      <th>3881</th>\n",
       "      <td>3951</td>\n",
       "      <td>Two Family House (2000)</td>\n",
       "      <td>Drama</td>\n",
       "    </tr>\n",
       "    <tr>\n",
       "      <th>3882</th>\n",
       "      <td>3952</td>\n",
       "      <td>Contender, The (2000)</td>\n",
       "      <td>Drama|Thriller</td>\n",
       "    </tr>\n",
       "  </tbody>\n",
       "</table>\n",
       "</div>"
      ],
      "text/plain": [
       "      movie_id                       title           genre\n",
       "3878      3948     Meet the Parents (2000)          Comedy\n",
       "3879      3949  Requiem for a Dream (2000)           Drama\n",
       "3880      3950            Tigerland (2000)           Drama\n",
       "3881      3951     Two Family House (2000)           Drama\n",
       "3882      3952       Contender, The (2000)  Drama|Thriller"
      ]
     },
     "execution_count": 8,
     "metadata": {},
     "output_type": "execute_result"
    }
   ],
   "source": [
    "movies.tail() # index와 id가 다르구나."
   ]
  },
  {
   "cell_type": "code",
   "execution_count": 9,
   "id": "41dbc09a",
   "metadata": {},
   "outputs": [
    {
     "name": "stdout",
     "output_type": "stream",
     "text": [
      "3793\n"
     ]
    }
   ],
   "source": [
    "sum = 0\n",
    "for i in range(len(movies)):\n",
    "    if (i+1) != movies['movie_id'][i]:\n",
    "#         print(i)\n",
    "        sum += 1\n",
    "    \n",
    "print(sum)\n",
    "# movies['movie_id']"
   ]
  },
  {
   "cell_type": "code",
   "execution_count": 10,
   "id": "f908e36f",
   "metadata": {},
   "outputs": [
    {
     "data": {
      "text/html": [
       "<div>\n",
       "<style scoped>\n",
       "    .dataframe tbody tr th:only-of-type {\n",
       "        vertical-align: middle;\n",
       "    }\n",
       "\n",
       "    .dataframe tbody tr th {\n",
       "        vertical-align: top;\n",
       "    }\n",
       "\n",
       "    .dataframe thead th {\n",
       "        text-align: right;\n",
       "    }\n",
       "</style>\n",
       "<table border=\"1\" class=\"dataframe\">\n",
       "  <thead>\n",
       "    <tr style=\"text-align: right;\">\n",
       "      <th></th>\n",
       "      <th>movie_id</th>\n",
       "      <th>title</th>\n",
       "      <th>genre</th>\n",
       "    </tr>\n",
       "  </thead>\n",
       "  <tbody>\n",
       "    <tr>\n",
       "      <th>88</th>\n",
       "      <td>89</td>\n",
       "      <td>Nick of Time (1995)</td>\n",
       "      <td>Action|Thriller</td>\n",
       "    </tr>\n",
       "    <tr>\n",
       "      <th>89</th>\n",
       "      <td>90</td>\n",
       "      <td>Journey of August King, The (1995)</td>\n",
       "      <td>Drama</td>\n",
       "    </tr>\n",
       "    <tr>\n",
       "      <th>90</th>\n",
       "      <td>92</td>\n",
       "      <td>Mary Reilly (1996)</td>\n",
       "      <td>Drama|Thriller</td>\n",
       "    </tr>\n",
       "    <tr>\n",
       "      <th>91</th>\n",
       "      <td>93</td>\n",
       "      <td>Vampire in Brooklyn (1995)</td>\n",
       "      <td>Comedy|Romance</td>\n",
       "    </tr>\n",
       "    <tr>\n",
       "      <th>92</th>\n",
       "      <td>94</td>\n",
       "      <td>Beautiful Girls (1996)</td>\n",
       "      <td>Drama</td>\n",
       "    </tr>\n",
       "  </tbody>\n",
       "</table>\n",
       "</div>"
      ],
      "text/plain": [
       "    movie_id                               title            genre\n",
       "88        89                 Nick of Time (1995)  Action|Thriller\n",
       "89        90  Journey of August King, The (1995)            Drama\n",
       "90        92                  Mary Reilly (1996)   Drama|Thriller\n",
       "91        93          Vampire in Brooklyn (1995)   Comedy|Romance\n",
       "92        94              Beautiful Girls (1996)            Drama"
      ]
     },
     "execution_count": 10,
     "metadata": {},
     "output_type": "execute_result"
    }
   ],
   "source": [
    "movies[88:93] # movie_id가 1부터 차례대로 존재하지 않는다."
   ]
  },
  {
   "cell_type": "code",
   "execution_count": 91,
   "id": "a92eb28d",
   "metadata": {},
   "outputs": [
    {
     "data": {
      "text/plain": [
       "0    1\n",
       "1    1\n",
       "2    1\n",
       "3    1\n",
       "4    1\n",
       "Name: user_id, dtype: int64"
      ]
     },
     "execution_count": 91,
     "metadata": {},
     "output_type": "execute_result"
    }
   ],
   "source": [
    "ratings['user_id'].head()"
   ]
  },
  {
   "cell_type": "code",
   "execution_count": 90,
   "id": "bd13b738",
   "metadata": {},
   "outputs": [
    {
     "data": {
      "text/plain": [
       "1000203    6040\n",
       "1000205    6040\n",
       "1000206    6040\n",
       "1000207    6040\n",
       "1000208    6040\n",
       "Name: user_id, dtype: int64"
      ]
     },
     "execution_count": 90,
     "metadata": {},
     "output_type": "execute_result"
    }
   ],
   "source": [
    "ratings['user_id'].tail()"
   ]
  },
  {
   "cell_type": "code",
   "execution_count": 89,
   "id": "b9123eff",
   "metadata": {},
   "outputs": [
    {
     "data": {
      "text/plain": [
       "6039"
      ]
     },
     "execution_count": 89,
     "metadata": {},
     "output_type": "execute_result"
    }
   ],
   "source": [
    "ratings['user_id'].nunique()\n",
    "\n",
    "# user_id도 인덱스는 1~6040이라 총 6040이라 생각했지만,\n",
    "# nunique()로 판별해보니 총 6039개였다.\n",
    "# 마찬가지로 중간에 빠진 id가 있다. (1부터 차례대로 존재하지 않는다.)"
   ]
  },
  {
   "cell_type": "code",
   "execution_count": null,
   "id": "8a82b130",
   "metadata": {},
   "outputs": [],
   "source": []
  },
  {
   "cell_type": "code",
   "execution_count": null,
   "id": "207461b4",
   "metadata": {},
   "outputs": [],
   "source": []
  },
  {
   "cell_type": "markdown",
   "id": "38cbbd62",
   "metadata": {},
   "source": [
    "- movie_id를 기준으로 합쳐 새로운 데이터 프레임 만들기\n",
    "> - `how=left` 속성을 통해 ratings 데이터에 movies를 붙이고, `on='movie_id'` 속성을 통해 `movie_id`를 기준으로 합친다."
   ]
  },
  {
   "cell_type": "code",
   "execution_count": 12,
   "id": "bbf1ccd9",
   "metadata": {},
   "outputs": [
    {
     "data": {
      "text/plain": [
       "(836478, 3883)"
      ]
     },
     "execution_count": 12,
     "metadata": {},
     "output_type": "execute_result"
    }
   ],
   "source": [
    "len(ratings), len(movies)"
   ]
  },
  {
   "cell_type": "code",
   "execution_count": 13,
   "id": "9bd73b2c",
   "metadata": {},
   "outputs": [
    {
     "data": {
      "text/html": [
       "<div>\n",
       "<style scoped>\n",
       "    .dataframe tbody tr th:only-of-type {\n",
       "        vertical-align: middle;\n",
       "    }\n",
       "\n",
       "    .dataframe tbody tr th {\n",
       "        vertical-align: top;\n",
       "    }\n",
       "\n",
       "    .dataframe thead th {\n",
       "        text-align: right;\n",
       "    }\n",
       "</style>\n",
       "<table border=\"1\" class=\"dataframe\">\n",
       "  <thead>\n",
       "    <tr style=\"text-align: right;\">\n",
       "      <th></th>\n",
       "      <th>user_id</th>\n",
       "      <th>movie_id</th>\n",
       "      <th>counts</th>\n",
       "      <th>timestamp</th>\n",
       "      <th>title</th>\n",
       "      <th>genre</th>\n",
       "    </tr>\n",
       "  </thead>\n",
       "  <tbody>\n",
       "    <tr>\n",
       "      <th>0</th>\n",
       "      <td>1</td>\n",
       "      <td>1193</td>\n",
       "      <td>5</td>\n",
       "      <td>978300760</td>\n",
       "      <td>One Flew Over the Cuckoo's Nest (1975)</td>\n",
       "      <td>Drama</td>\n",
       "    </tr>\n",
       "    <tr>\n",
       "      <th>1</th>\n",
       "      <td>1</td>\n",
       "      <td>661</td>\n",
       "      <td>3</td>\n",
       "      <td>978302109</td>\n",
       "      <td>James and the Giant Peach (1996)</td>\n",
       "      <td>Animation|Children's|Musical</td>\n",
       "    </tr>\n",
       "    <tr>\n",
       "      <th>2</th>\n",
       "      <td>1</td>\n",
       "      <td>914</td>\n",
       "      <td>3</td>\n",
       "      <td>978301968</td>\n",
       "      <td>My Fair Lady (1964)</td>\n",
       "      <td>Musical|Romance</td>\n",
       "    </tr>\n",
       "    <tr>\n",
       "      <th>3</th>\n",
       "      <td>1</td>\n",
       "      <td>3408</td>\n",
       "      <td>4</td>\n",
       "      <td>978300275</td>\n",
       "      <td>Erin Brockovich (2000)</td>\n",
       "      <td>Drama</td>\n",
       "    </tr>\n",
       "    <tr>\n",
       "      <th>4</th>\n",
       "      <td>1</td>\n",
       "      <td>2355</td>\n",
       "      <td>5</td>\n",
       "      <td>978824291</td>\n",
       "      <td>Bug's Life, A (1998)</td>\n",
       "      <td>Animation|Children's|Comedy</td>\n",
       "    </tr>\n",
       "  </tbody>\n",
       "</table>\n",
       "</div>"
      ],
      "text/plain": [
       "   user_id  movie_id  counts  timestamp  \\\n",
       "0        1      1193       5  978300760   \n",
       "1        1       661       3  978302109   \n",
       "2        1       914       3  978301968   \n",
       "3        1      3408       4  978300275   \n",
       "4        1      2355       5  978824291   \n",
       "\n",
       "                                    title                         genre  \n",
       "0  One Flew Over the Cuckoo's Nest (1975)                         Drama  \n",
       "1        James and the Giant Peach (1996)  Animation|Children's|Musical  \n",
       "2                     My Fair Lady (1964)               Musical|Romance  \n",
       "3                  Erin Brockovich (2000)                         Drama  \n",
       "4                    Bug's Life, A (1998)   Animation|Children's|Comedy  "
      ]
     },
     "execution_count": 13,
     "metadata": {},
     "output_type": "execute_result"
    }
   ],
   "source": [
    "df = pd.merge(ratings, movies, how='left', on='movie_id')\n",
    "df.head()"
   ]
  },
  {
   "cell_type": "code",
   "execution_count": 14,
   "id": "77e88f61",
   "metadata": {},
   "outputs": [
    {
     "data": {
      "text/plain": [
       "count    6039.000000\n",
       "mean      138.512668\n",
       "std       156.241599\n",
       "min         1.000000\n",
       "25%        38.000000\n",
       "50%        81.000000\n",
       "75%       177.000000\n",
       "max      1968.000000\n",
       "Name: movie_id, dtype: float64"
      ]
     },
     "execution_count": 14,
     "metadata": {},
     "output_type": "execute_result"
    }
   ],
   "source": [
    "df.groupby('user_id')['movie_id'].count().describe()"
   ]
  },
  {
   "cell_type": "code",
   "execution_count": 15,
   "id": "e7ab2ee7",
   "metadata": {},
   "outputs": [
    {
     "data": {
      "text/plain": [
       "(3628, 3628)"
      ]
     },
     "execution_count": 15,
     "metadata": {},
     "output_type": "execute_result"
    }
   ],
   "source": [
    "df['movie_id'].nunique(), df['title'].nunique()"
   ]
  },
  {
   "cell_type": "code",
   "execution_count": null,
   "id": "be2bce43",
   "metadata": {},
   "outputs": [],
   "source": []
  },
  {
   "cell_type": "markdown",
   "id": "a8bbae98",
   "metadata": {},
   "source": [
    "### 2) 분석해보기\n",
    "\n",
    "> ratings에 있는 유니크한 영화 개수"
   ]
  },
  {
   "cell_type": "code",
   "execution_count": 16,
   "id": "163ff140",
   "metadata": {},
   "outputs": [
    {
     "data": {
      "text/plain": [
       "3628"
      ]
     },
     "execution_count": 16,
     "metadata": {},
     "output_type": "execute_result"
    }
   ],
   "source": [
    "ratings['movie_id'].nunique()"
   ]
  },
  {
   "cell_type": "code",
   "execution_count": 17,
   "id": "7c530eef",
   "metadata": {},
   "outputs": [
    {
     "data": {
      "text/plain": [
       "3628"
      ]
     },
     "execution_count": 17,
     "metadata": {},
     "output_type": "execute_result"
    }
   ],
   "source": [
    "df['movie_id'].nunique()"
   ]
  },
  {
   "cell_type": "markdown",
   "id": "58501cbf",
   "metadata": {},
   "source": [
    "> ratings에 있는 유니크한 사용자 수"
   ]
  },
  {
   "cell_type": "code",
   "execution_count": 18,
   "id": "971c524f",
   "metadata": {},
   "outputs": [
    {
     "data": {
      "text/plain": [
       "6039"
      ]
     },
     "execution_count": 18,
     "metadata": {},
     "output_type": "execute_result"
    }
   ],
   "source": [
    "ratings['user_id'].nunique()"
   ]
  },
  {
   "cell_type": "code",
   "execution_count": 19,
   "id": "80a7cbec",
   "metadata": {},
   "outputs": [
    {
     "data": {
      "text/plain": [
       "6039"
      ]
     },
     "execution_count": 19,
     "metadata": {},
     "output_type": "execute_result"
    }
   ],
   "source": [
    "df['user_id'].nunique()"
   ]
  },
  {
   "cell_type": "markdown",
   "id": "d71ae2f9",
   "metadata": {},
   "source": [
    "> 가장 인기 있는 영화 30개 (인기순)"
   ]
  },
  {
   "cell_type": "code",
   "execution_count": 20,
   "id": "249c3dd0",
   "metadata": {},
   "outputs": [
    {
     "data": {
      "text/html": [
       "<div>\n",
       "<style scoped>\n",
       "    .dataframe tbody tr th:only-of-type {\n",
       "        vertical-align: middle;\n",
       "    }\n",
       "\n",
       "    .dataframe tbody tr th {\n",
       "        vertical-align: top;\n",
       "    }\n",
       "\n",
       "    .dataframe thead th {\n",
       "        text-align: right;\n",
       "    }\n",
       "</style>\n",
       "<table border=\"1\" class=\"dataframe\">\n",
       "  <thead>\n",
       "    <tr style=\"text-align: right;\">\n",
       "      <th></th>\n",
       "      <th>user_id</th>\n",
       "      <th>movie_id</th>\n",
       "      <th>counts</th>\n",
       "      <th>timestamp</th>\n",
       "      <th>title</th>\n",
       "      <th>genre</th>\n",
       "    </tr>\n",
       "  </thead>\n",
       "  <tbody>\n",
       "    <tr>\n",
       "      <th>0</th>\n",
       "      <td>1</td>\n",
       "      <td>1193</td>\n",
       "      <td>5</td>\n",
       "      <td>978300760</td>\n",
       "      <td>One Flew Over the Cuckoo's Nest (1975)</td>\n",
       "      <td>Drama</td>\n",
       "    </tr>\n",
       "    <tr>\n",
       "      <th>1</th>\n",
       "      <td>1</td>\n",
       "      <td>661</td>\n",
       "      <td>3</td>\n",
       "      <td>978302109</td>\n",
       "      <td>James and the Giant Peach (1996)</td>\n",
       "      <td>Animation|Children's|Musical</td>\n",
       "    </tr>\n",
       "    <tr>\n",
       "      <th>2</th>\n",
       "      <td>1</td>\n",
       "      <td>914</td>\n",
       "      <td>3</td>\n",
       "      <td>978301968</td>\n",
       "      <td>My Fair Lady (1964)</td>\n",
       "      <td>Musical|Romance</td>\n",
       "    </tr>\n",
       "    <tr>\n",
       "      <th>3</th>\n",
       "      <td>1</td>\n",
       "      <td>3408</td>\n",
       "      <td>4</td>\n",
       "      <td>978300275</td>\n",
       "      <td>Erin Brockovich (2000)</td>\n",
       "      <td>Drama</td>\n",
       "    </tr>\n",
       "    <tr>\n",
       "      <th>4</th>\n",
       "      <td>1</td>\n",
       "      <td>2355</td>\n",
       "      <td>5</td>\n",
       "      <td>978824291</td>\n",
       "      <td>Bug's Life, A (1998)</td>\n",
       "      <td>Animation|Children's|Comedy</td>\n",
       "    </tr>\n",
       "  </tbody>\n",
       "</table>\n",
       "</div>"
      ],
      "text/plain": [
       "   user_id  movie_id  counts  timestamp  \\\n",
       "0        1      1193       5  978300760   \n",
       "1        1       661       3  978302109   \n",
       "2        1       914       3  978301968   \n",
       "3        1      3408       4  978300275   \n",
       "4        1      2355       5  978824291   \n",
       "\n",
       "                                    title                         genre  \n",
       "0  One Flew Over the Cuckoo's Nest (1975)                         Drama  \n",
       "1        James and the Giant Peach (1996)  Animation|Children's|Musical  \n",
       "2                     My Fair Lady (1964)               Musical|Romance  \n",
       "3                  Erin Brockovich (2000)                         Drama  \n",
       "4                    Bug's Life, A (1998)   Animation|Children's|Comedy  "
      ]
     },
     "execution_count": 20,
     "metadata": {},
     "output_type": "execute_result"
    }
   ],
   "source": [
    "df.head()"
   ]
  },
  {
   "cell_type": "code",
   "execution_count": 21,
   "id": "37bd7bb4",
   "metadata": {},
   "outputs": [
    {
     "data": {
      "text/plain": [
       "title\n",
       "American Beauty (1999)                                   3211\n",
       "Star Wars: Episode IV - A New Hope (1977)                2910\n",
       "Star Wars: Episode V - The Empire Strikes Back (1980)    2885\n",
       "Star Wars: Episode VI - Return of the Jedi (1983)        2716\n",
       "Saving Private Ryan (1998)                               2561\n",
       "Terminator 2: Judgment Day (1991)                        2509\n",
       "Silence of the Lambs, The (1991)                         2498\n",
       "Raiders of the Lost Ark (1981)                           2473\n",
       "Back to the Future (1985)                                2460\n",
       "Matrix, The (1999)                                       2434\n",
       "Jurassic Park (1993)                                     2413\n",
       "Sixth Sense, The (1999)                                  2385\n",
       "Fargo (1996)                                             2371\n",
       "Braveheart (1995)                                        2314\n",
       "Men in Black (1997)                                      2297\n",
       "Schindler's List (1993)                                  2257\n",
       "Princess Bride, The (1987)                               2252\n",
       "Shakespeare in Love (1998)                               2213\n",
       "L.A. Confidential (1997)                                 2210\n",
       "Shawshank Redemption, The (1994)                         2194\n",
       "Godfather, The (1972)                                    2167\n",
       "Groundhog Day (1993)                                     2121\n",
       "E.T. the Extra-Terrestrial (1982)                        2102\n",
       "Being John Malkovich (1999)                              2066\n",
       "Ghostbusters (1984)                                      2051\n",
       "Pulp Fiction (1994)                                      2030\n",
       "Forrest Gump (1994)                                      2022\n",
       "Terminator, The (1984)                                   2019\n",
       "Toy Story (1995)                                         2000\n",
       "Fugitive, The (1993)                                     1941\n",
       "Name: counts, dtype: int64"
      ]
     },
     "execution_count": 21,
     "metadata": {},
     "output_type": "execute_result"
    }
   ],
   "source": [
    "df.groupby('title').count()['counts'].sort_values(ascending=False)[:30]"
   ]
  },
  {
   "cell_type": "code",
   "execution_count": null,
   "id": "76f1db29",
   "metadata": {},
   "outputs": [],
   "source": []
  },
  {
   "cell_type": "markdown",
   "id": "83c442c5",
   "metadata": {},
   "source": [
    "### 3) 내가 선호하는 영화를 5가지 골라 ratings에 추가해주기\n",
    "> 일단 검색이 easy하기 위해 title을 소문자로 바꿔준다."
   ]
  },
  {
   "cell_type": "code",
   "execution_count": 22,
   "id": "7f52b371",
   "metadata": {},
   "outputs": [],
   "source": [
    "df['title'] = df['title'].str.lower()"
   ]
  },
  {
   "cell_type": "code",
   "execution_count": 23,
   "id": "c793af08",
   "metadata": {},
   "outputs": [
    {
     "data": {
      "text/html": [
       "<div>\n",
       "<style scoped>\n",
       "    .dataframe tbody tr th:only-of-type {\n",
       "        vertical-align: middle;\n",
       "    }\n",
       "\n",
       "    .dataframe tbody tr th {\n",
       "        vertical-align: top;\n",
       "    }\n",
       "\n",
       "    .dataframe thead th {\n",
       "        text-align: right;\n",
       "    }\n",
       "</style>\n",
       "<table border=\"1\" class=\"dataframe\">\n",
       "  <thead>\n",
       "    <tr style=\"text-align: right;\">\n",
       "      <th></th>\n",
       "      <th>user_id</th>\n",
       "      <th>movie_id</th>\n",
       "      <th>counts</th>\n",
       "      <th>timestamp</th>\n",
       "      <th>title</th>\n",
       "      <th>genre</th>\n",
       "    </tr>\n",
       "  </thead>\n",
       "  <tbody>\n",
       "    <tr>\n",
       "      <th>0</th>\n",
       "      <td>1</td>\n",
       "      <td>1193</td>\n",
       "      <td>5</td>\n",
       "      <td>978300760</td>\n",
       "      <td>one flew over the cuckoo's nest (1975)</td>\n",
       "      <td>Drama</td>\n",
       "    </tr>\n",
       "    <tr>\n",
       "      <th>1</th>\n",
       "      <td>1</td>\n",
       "      <td>661</td>\n",
       "      <td>3</td>\n",
       "      <td>978302109</td>\n",
       "      <td>james and the giant peach (1996)</td>\n",
       "      <td>Animation|Children's|Musical</td>\n",
       "    </tr>\n",
       "    <tr>\n",
       "      <th>2</th>\n",
       "      <td>1</td>\n",
       "      <td>914</td>\n",
       "      <td>3</td>\n",
       "      <td>978301968</td>\n",
       "      <td>my fair lady (1964)</td>\n",
       "      <td>Musical|Romance</td>\n",
       "    </tr>\n",
       "    <tr>\n",
       "      <th>3</th>\n",
       "      <td>1</td>\n",
       "      <td>3408</td>\n",
       "      <td>4</td>\n",
       "      <td>978300275</td>\n",
       "      <td>erin brockovich (2000)</td>\n",
       "      <td>Drama</td>\n",
       "    </tr>\n",
       "    <tr>\n",
       "      <th>4</th>\n",
       "      <td>1</td>\n",
       "      <td>2355</td>\n",
       "      <td>5</td>\n",
       "      <td>978824291</td>\n",
       "      <td>bug's life, a (1998)</td>\n",
       "      <td>Animation|Children's|Comedy</td>\n",
       "    </tr>\n",
       "  </tbody>\n",
       "</table>\n",
       "</div>"
      ],
      "text/plain": [
       "   user_id  movie_id  counts  timestamp  \\\n",
       "0        1      1193       5  978300760   \n",
       "1        1       661       3  978302109   \n",
       "2        1       914       3  978301968   \n",
       "3        1      3408       4  978300275   \n",
       "4        1      2355       5  978824291   \n",
       "\n",
       "                                    title                         genre  \n",
       "0  one flew over the cuckoo's nest (1975)                         Drama  \n",
       "1        james and the giant peach (1996)  Animation|Children's|Musical  \n",
       "2                     my fair lady (1964)               Musical|Romance  \n",
       "3                  erin brockovich (2000)                         Drama  \n",
       "4                    bug's life, a (1998)   Animation|Children's|Comedy  "
      ]
     },
     "execution_count": 23,
     "metadata": {},
     "output_type": "execute_result"
    }
   ],
   "source": [
    "df.head()"
   ]
  },
  {
   "cell_type": "markdown",
   "id": "3841f210",
   "metadata": {},
   "source": [
    "> 필요한 열만 냅두기\n",
    ">> - `movie_id`와 `title`은 실질적으로 같은 의미라 판단 -> `movie_id` 제거\n",
    ">> - `timestamp` 제거"
   ]
  },
  {
   "cell_type": "code",
   "execution_count": 24,
   "id": "651aa0e9",
   "metadata": {},
   "outputs": [],
   "source": [
    "data_copy = df.copy()"
   ]
  },
  {
   "cell_type": "code",
   "execution_count": 25,
   "id": "34df09a4",
   "metadata": {},
   "outputs": [
    {
     "data": {
      "text/html": [
       "<div>\n",
       "<style scoped>\n",
       "    .dataframe tbody tr th:only-of-type {\n",
       "        vertical-align: middle;\n",
       "    }\n",
       "\n",
       "    .dataframe tbody tr th {\n",
       "        vertical-align: top;\n",
       "    }\n",
       "\n",
       "    .dataframe thead th {\n",
       "        text-align: right;\n",
       "    }\n",
       "</style>\n",
       "<table border=\"1\" class=\"dataframe\">\n",
       "  <thead>\n",
       "    <tr style=\"text-align: right;\">\n",
       "      <th></th>\n",
       "      <th>user_id</th>\n",
       "      <th>counts</th>\n",
       "      <th>title</th>\n",
       "      <th>genre</th>\n",
       "    </tr>\n",
       "  </thead>\n",
       "  <tbody>\n",
       "    <tr>\n",
       "      <th>0</th>\n",
       "      <td>1</td>\n",
       "      <td>5</td>\n",
       "      <td>one flew over the cuckoo's nest (1975)</td>\n",
       "      <td>Drama</td>\n",
       "    </tr>\n",
       "    <tr>\n",
       "      <th>1</th>\n",
       "      <td>1</td>\n",
       "      <td>3</td>\n",
       "      <td>james and the giant peach (1996)</td>\n",
       "      <td>Animation|Children's|Musical</td>\n",
       "    </tr>\n",
       "    <tr>\n",
       "      <th>2</th>\n",
       "      <td>1</td>\n",
       "      <td>3</td>\n",
       "      <td>my fair lady (1964)</td>\n",
       "      <td>Musical|Romance</td>\n",
       "    </tr>\n",
       "    <tr>\n",
       "      <th>3</th>\n",
       "      <td>1</td>\n",
       "      <td>4</td>\n",
       "      <td>erin brockovich (2000)</td>\n",
       "      <td>Drama</td>\n",
       "    </tr>\n",
       "    <tr>\n",
       "      <th>4</th>\n",
       "      <td>1</td>\n",
       "      <td>5</td>\n",
       "      <td>bug's life, a (1998)</td>\n",
       "      <td>Animation|Children's|Comedy</td>\n",
       "    </tr>\n",
       "  </tbody>\n",
       "</table>\n",
       "</div>"
      ],
      "text/plain": [
       "   user_id  counts                                   title  \\\n",
       "0        1       5  one flew over the cuckoo's nest (1975)   \n",
       "1        1       3        james and the giant peach (1996)   \n",
       "2        1       3                     my fair lady (1964)   \n",
       "3        1       4                  erin brockovich (2000)   \n",
       "4        1       5                    bug's life, a (1998)   \n",
       "\n",
       "                          genre  \n",
       "0                         Drama  \n",
       "1  Animation|Children's|Musical  \n",
       "2               Musical|Romance  \n",
       "3                         Drama  \n",
       "4   Animation|Children's|Comedy  "
      ]
     },
     "execution_count": 25,
     "metadata": {},
     "output_type": "execute_result"
    }
   ],
   "source": [
    "data = data_copy.drop(['movie_id', 'timestamp'], axis=1)\n",
    "data.head()"
   ]
  },
  {
   "cell_type": "markdown",
   "id": "633319ec",
   "metadata": {},
   "source": [
    "> - misérables, les (1998)\n",
    "> - king kong (1933)\n",
    "> - men in black (1997)\n",
    "> - soldier's story, a (1984)\n",
    "> - back to the future (1985)"
   ]
  },
  {
   "cell_type": "code",
   "execution_count": 26,
   "id": "02f4d906",
   "metadata": {},
   "outputs": [
    {
     "name": "stdout",
     "output_type": "stream",
     "text": [
      "99    Drama\n",
      "Name: genre, dtype: object 228    Action|Adventure|Horror\n",
      "Name: genre, dtype: object 185    Action|Adventure|Comedy|Sci-Fi\n",
      "Name: genre, dtype: object 96    Drama\n",
      "Name: genre, dtype: object 22    Comedy|Sci-Fi\n",
      "Name: genre, dtype: object\n"
     ]
    }
   ],
   "source": [
    "print(\n",
    "data[data['title'] == \"misérables, les (1998)\"][:1]['genre'],\n",
    "data[data['title'] == \"king kong (1933)\"][:1]['genre'],\n",
    "data[data['title'] == \"men in black (1997)\"][:1]['genre'],\n",
    "data[data['title'] == \"soldier's story, a (1984)\"][:1]['genre'],\n",
    "data[data['title'] == \"back to the future (1985)\"][:1]['genre'])"
   ]
  },
  {
   "cell_type": "code",
   "execution_count": 27,
   "id": "a790dc89",
   "metadata": {},
   "outputs": [
    {
     "data": {
      "text/html": [
       "<div>\n",
       "<style scoped>\n",
       "    .dataframe tbody tr th:only-of-type {\n",
       "        vertical-align: middle;\n",
       "    }\n",
       "\n",
       "    .dataframe tbody tr th {\n",
       "        vertical-align: top;\n",
       "    }\n",
       "\n",
       "    .dataframe thead th {\n",
       "        text-align: right;\n",
       "    }\n",
       "</style>\n",
       "<table border=\"1\" class=\"dataframe\">\n",
       "  <thead>\n",
       "    <tr style=\"text-align: right;\">\n",
       "      <th></th>\n",
       "      <th>user_id</th>\n",
       "      <th>counts</th>\n",
       "      <th>title</th>\n",
       "      <th>genre</th>\n",
       "    </tr>\n",
       "  </thead>\n",
       "  <tbody>\n",
       "    <tr>\n",
       "      <th>836473</th>\n",
       "      <td>6040</td>\n",
       "      <td>3</td>\n",
       "      <td>platoon (1986)</td>\n",
       "      <td>Drama|War</td>\n",
       "    </tr>\n",
       "    <tr>\n",
       "      <th>836474</th>\n",
       "      <td>6040</td>\n",
       "      <td>5</td>\n",
       "      <td>crying game, the (1992)</td>\n",
       "      <td>Drama|Romance|War</td>\n",
       "    </tr>\n",
       "    <tr>\n",
       "      <th>836475</th>\n",
       "      <td>6040</td>\n",
       "      <td>5</td>\n",
       "      <td>welcome to the dollhouse (1995)</td>\n",
       "      <td>Comedy|Drama</td>\n",
       "    </tr>\n",
       "    <tr>\n",
       "      <th>836476</th>\n",
       "      <td>6040</td>\n",
       "      <td>4</td>\n",
       "      <td>sophie's choice (1982)</td>\n",
       "      <td>Drama</td>\n",
       "    </tr>\n",
       "    <tr>\n",
       "      <th>836477</th>\n",
       "      <td>6040</td>\n",
       "      <td>4</td>\n",
       "      <td>e.t. the extra-terrestrial (1982)</td>\n",
       "      <td>Children's|Drama|Fantasy|Sci-Fi</td>\n",
       "    </tr>\n",
       "    <tr>\n",
       "      <th>0</th>\n",
       "      <td>yeon</td>\n",
       "      <td>5</td>\n",
       "      <td>misérables, les (1998)</td>\n",
       "      <td>Drama</td>\n",
       "    </tr>\n",
       "    <tr>\n",
       "      <th>1</th>\n",
       "      <td>yeon</td>\n",
       "      <td>5</td>\n",
       "      <td>king kong (1933)</td>\n",
       "      <td>Action|Adventure|Horror</td>\n",
       "    </tr>\n",
       "    <tr>\n",
       "      <th>2</th>\n",
       "      <td>yeon</td>\n",
       "      <td>5</td>\n",
       "      <td>men in black (1997)</td>\n",
       "      <td>Action|Adventure|Comedy|Sci-Fi</td>\n",
       "    </tr>\n",
       "    <tr>\n",
       "      <th>3</th>\n",
       "      <td>yeon</td>\n",
       "      <td>5</td>\n",
       "      <td>soldier's story, a (1984)</td>\n",
       "      <td>Drama</td>\n",
       "    </tr>\n",
       "    <tr>\n",
       "      <th>4</th>\n",
       "      <td>yeon</td>\n",
       "      <td>5</td>\n",
       "      <td>back to the future (1985)</td>\n",
       "      <td>Comedy|Sci-Fi</td>\n",
       "    </tr>\n",
       "  </tbody>\n",
       "</table>\n",
       "</div>"
      ],
      "text/plain": [
       "       user_id  counts                              title  \\\n",
       "836473    6040       3                     platoon (1986)   \n",
       "836474    6040       5            crying game, the (1992)   \n",
       "836475    6040       5    welcome to the dollhouse (1995)   \n",
       "836476    6040       4             sophie's choice (1982)   \n",
       "836477    6040       4  e.t. the extra-terrestrial (1982)   \n",
       "0         yeon       5             misérables, les (1998)   \n",
       "1         yeon       5                   king kong (1933)   \n",
       "2         yeon       5                men in black (1997)   \n",
       "3         yeon       5          soldier's story, a (1984)   \n",
       "4         yeon       5          back to the future (1985)   \n",
       "\n",
       "                                  genre  \n",
       "836473                        Drama|War  \n",
       "836474                Drama|Romance|War  \n",
       "836475                     Comedy|Drama  \n",
       "836476                            Drama  \n",
       "836477  Children's|Drama|Fantasy|Sci-Fi  \n",
       "0                                 Drama  \n",
       "1               Action|Adventure|Horror  \n",
       "2        Action|Adventure|Comedy|Sci-Fi  \n",
       "3                                 Drama  \n",
       "4                         Comedy|Sci-Fi  "
      ]
     },
     "execution_count": 27,
     "metadata": {},
     "output_type": "execute_result"
    }
   ],
   "source": [
    "my_fav = ['misérables, les (1998)', 'king kong (1933)', 'men in black (1997)', \"soldier's story, a (1984)\", 'back to the future (1985)']\n",
    "gen = ['Drama', 'Action|Adventure|Horror', 'Action|Adventure|Comedy|Sci-Fi', 'Drama', 'Comedy|Sci-Fi']\n",
    "\n",
    "my_movie = pd.DataFrame({'user_id': ['yeon']*5,\n",
    "                         'counts':[5]*5,\n",
    "                         'title': my_fav,\n",
    "                         'genre': gen\n",
    "                         })\n",
    "\n",
    "if not data.isin({'user_id': ['yeon']})['user_id'].any():  # user_id에 'yeon'이라는 데이터가 없다면\n",
    "    data = data.append(my_movie)                           # 위에 임의로 만든 my_movie 데이터를 추가해 줍니다. \n",
    "\n",
    "data.tail(10)       # 잘 추가되었는지 확인해 봅시다."
   ]
  },
  {
   "cell_type": "code",
   "execution_count": 28,
   "id": "a4c340a9",
   "metadata": {},
   "outputs": [
    {
     "data": {
      "text/plain": [
       "(6040, 3628, 301)"
      ]
     },
     "execution_count": 28,
     "metadata": {},
     "output_type": "execute_result"
    }
   ],
   "source": [
    "data['user_id'].nunique(), data['title'].nunique(), data['genre'].nunique()"
   ]
  },
  {
   "cell_type": "code",
   "execution_count": 29,
   "id": "ef4dd704",
   "metadata": {},
   "outputs": [],
   "source": [
    "# 고유한 유저, 타이틀을 찾아내는 코드\n",
    "user_unique = data['user_id'].unique()\n",
    "title_unique = data['title'].unique()\n",
    "\n",
    "# 유저, 타이틀 indexing 하는 코드 idx는 index의 약자입니다.\n",
    "user_to_idx = {v: k for k, v in enumerate(user_unique)} # id: index\n",
    "title_to_idx = {v: k for k, v in enumerate(title_unique)} # artist: index"
   ]
  },
  {
   "cell_type": "code",
   "execution_count": 30,
   "id": "de228d56",
   "metadata": {},
   "outputs": [
    {
     "data": {
      "text/plain": [
       "(6040, 3628)"
      ]
     },
     "execution_count": 30,
     "metadata": {},
     "output_type": "execute_result"
    }
   ],
   "source": [
    "len(user_unique), len(title_unique)"
   ]
  },
  {
   "cell_type": "code",
   "execution_count": 31,
   "id": "c4be97ee",
   "metadata": {},
   "outputs": [
    {
     "name": "stdout",
     "output_type": "stream",
     "text": [
      "6039\n",
      "98\n"
     ]
    }
   ],
   "source": [
    "print(user_to_idx['yeon']) # yeon이 마지막 유저 인덱스로 잘 들어왔다.\n",
    "print(title_to_idx[\"misérables, les (1998)\"])"
   ]
  },
  {
   "cell_type": "code",
   "execution_count": 32,
   "id": "c39e6dd3",
   "metadata": {},
   "outputs": [
    {
     "name": "stdout",
     "output_type": "stream",
     "text": [
      "user_id column indexing OK!!\n",
      "title column indexing OK!!\n"
     ]
    },
    {
     "data": {
      "text/html": [
       "<div>\n",
       "<style scoped>\n",
       "    .dataframe tbody tr th:only-of-type {\n",
       "        vertical-align: middle;\n",
       "    }\n",
       "\n",
       "    .dataframe tbody tr th {\n",
       "        vertical-align: top;\n",
       "    }\n",
       "\n",
       "    .dataframe thead th {\n",
       "        text-align: right;\n",
       "    }\n",
       "</style>\n",
       "<table border=\"1\" class=\"dataframe\">\n",
       "  <thead>\n",
       "    <tr style=\"text-align: right;\">\n",
       "      <th></th>\n",
       "      <th>user_id</th>\n",
       "      <th>counts</th>\n",
       "      <th>title</th>\n",
       "      <th>genre</th>\n",
       "    </tr>\n",
       "  </thead>\n",
       "  <tbody>\n",
       "    <tr>\n",
       "      <th>0</th>\n",
       "      <td>0</td>\n",
       "      <td>5</td>\n",
       "      <td>0</td>\n",
       "      <td>Drama</td>\n",
       "    </tr>\n",
       "    <tr>\n",
       "      <th>1</th>\n",
       "      <td>0</td>\n",
       "      <td>3</td>\n",
       "      <td>1</td>\n",
       "      <td>Animation|Children's|Musical</td>\n",
       "    </tr>\n",
       "    <tr>\n",
       "      <th>2</th>\n",
       "      <td>0</td>\n",
       "      <td>3</td>\n",
       "      <td>2</td>\n",
       "      <td>Musical|Romance</td>\n",
       "    </tr>\n",
       "    <tr>\n",
       "      <th>3</th>\n",
       "      <td>0</td>\n",
       "      <td>4</td>\n",
       "      <td>3</td>\n",
       "      <td>Drama</td>\n",
       "    </tr>\n",
       "    <tr>\n",
       "      <th>4</th>\n",
       "      <td>0</td>\n",
       "      <td>5</td>\n",
       "      <td>4</td>\n",
       "      <td>Animation|Children's|Comedy</td>\n",
       "    </tr>\n",
       "    <tr>\n",
       "      <th>...</th>\n",
       "      <td>...</td>\n",
       "      <td>...</td>\n",
       "      <td>...</td>\n",
       "      <td>...</td>\n",
       "    </tr>\n",
       "    <tr>\n",
       "      <th>0</th>\n",
       "      <td>6039</td>\n",
       "      <td>5</td>\n",
       "      <td>98</td>\n",
       "      <td>Drama</td>\n",
       "    </tr>\n",
       "    <tr>\n",
       "      <th>1</th>\n",
       "      <td>6039</td>\n",
       "      <td>5</td>\n",
       "      <td>196</td>\n",
       "      <td>Action|Adventure|Horror</td>\n",
       "    </tr>\n",
       "    <tr>\n",
       "      <th>2</th>\n",
       "      <td>6039</td>\n",
       "      <td>5</td>\n",
       "      <td>175</td>\n",
       "      <td>Action|Adventure|Comedy|Sci-Fi</td>\n",
       "    </tr>\n",
       "    <tr>\n",
       "      <th>3</th>\n",
       "      <td>6039</td>\n",
       "      <td>5</td>\n",
       "      <td>95</td>\n",
       "      <td>Drama</td>\n",
       "    </tr>\n",
       "    <tr>\n",
       "      <th>4</th>\n",
       "      <td>6039</td>\n",
       "      <td>5</td>\n",
       "      <td>22</td>\n",
       "      <td>Comedy|Sci-Fi</td>\n",
       "    </tr>\n",
       "  </tbody>\n",
       "</table>\n",
       "<p>836483 rows × 4 columns</p>\n",
       "</div>"
      ],
      "text/plain": [
       "    user_id  counts  title                           genre\n",
       "0         0       5      0                           Drama\n",
       "1         0       3      1    Animation|Children's|Musical\n",
       "2         0       3      2                 Musical|Romance\n",
       "3         0       4      3                           Drama\n",
       "4         0       5      4     Animation|Children's|Comedy\n",
       "..      ...     ...    ...                             ...\n",
       "0      6039       5     98                           Drama\n",
       "1      6039       5    196         Action|Adventure|Horror\n",
       "2      6039       5    175  Action|Adventure|Comedy|Sci-Fi\n",
       "3      6039       5     95                           Drama\n",
       "4      6039       5     22                   Comedy|Sci-Fi\n",
       "\n",
       "[836483 rows x 4 columns]"
      ]
     },
     "execution_count": 32,
     "metadata": {},
     "output_type": "execute_result"
    }
   ],
   "source": [
    "# indexing을 통해 데이터 컬럼 내 값을 바꾸는 코드\n",
    "# dictionary 자료형의 get 함수는 https://wikidocs.net/16 을 참고하세요.\n",
    "\n",
    "# user_to_idx.get을 통해 user_id 컬럼의 모든 값을 인덱싱한 Series를 구해 봅시다. \n",
    "# 혹시 정상적으로 인덱싱되지 않은 row가 있다면 인덱스가 NaN이 될 테니 dropna()로 제거합니다. \n",
    "temp_user_data = data['user_id'].map(user_to_idx.get).dropna()\n",
    "if len(temp_user_data) == len(data):   # 모든 row가 정상적으로 인덱싱되었다면\n",
    "    print('user_id column indexing OK!!')\n",
    "    data['user_id'] = temp_user_data   # data['user_id']을 인덱싱된 Series로 교체해 줍니다. \n",
    "else:\n",
    "    print('user_id column indexing Fail!!')\n",
    "\n",
    "# title_to_idx을 통해 artist 컬럼도 동일한 방식으로 인덱싱해 줍니다. \n",
    "temp_title_data = data['title'].map(title_to_idx.get).dropna()\n",
    "if len(temp_title_data) == len(data):\n",
    "    print('title column indexing OK!!')\n",
    "    data['title'] = temp_title_data\n",
    "else:\n",
    "    print('title column indexing Fail!!')\n",
    "\n",
    "data"
   ]
  },
  {
   "cell_type": "code",
   "execution_count": null,
   "id": "6c1c555a",
   "metadata": {},
   "outputs": [],
   "source": []
  },
  {
   "cell_type": "markdown",
   "id": "4d6e27c1",
   "metadata": {},
   "source": [
    "### 4) CSR Matrix 직접 만들기"
   ]
  },
  {
   "cell_type": "code",
   "execution_count": 33,
   "id": "2c7b210a",
   "metadata": {},
   "outputs": [
    {
     "data": {
      "text/plain": [
       "(6040, 3628)"
      ]
     },
     "execution_count": 33,
     "metadata": {},
     "output_type": "execute_result"
    }
   ],
   "source": [
    "data['user_id'].nunique(), data['title'].nunique()"
   ]
  },
  {
   "cell_type": "code",
   "execution_count": 34,
   "id": "05cf2576",
   "metadata": {},
   "outputs": [
    {
     "data": {
      "text/plain": [
       "<6040x3628 sparse matrix of type '<class 'numpy.int64'>'\n",
       "\twith 836483 stored elements in Compressed Sparse Row format>"
      ]
     },
     "execution_count": 34,
     "metadata": {},
     "output_type": "execute_result"
    }
   ],
   "source": [
    "# 실습 위에 설명보고 이해해서 만들어보기\n",
    "from scipy.sparse import csr_matrix\n",
    "\n",
    "num_user = data['user_id'].nunique()\n",
    "num_title = data['title'].nunique()\n",
    "\n",
    "csr_data = csr_matrix((data.counts, (data.user_id, data.title)), shape=(num_user, num_title))\n",
    "csr_data"
   ]
  },
  {
   "cell_type": "code",
   "execution_count": 35,
   "id": "f8ca7957",
   "metadata": {},
   "outputs": [
    {
     "name": "stdout",
     "output_type": "stream",
     "text": [
      "  (0, 0)\t5\n",
      "  (0, 1)\t3\n",
      "  (0, 2)\t3\n",
      "  (0, 3)\t4\n",
      "  (0, 4)\t5\n",
      "  (0, 5)\t3\n",
      "  (0, 6)\t5\n",
      "  (0, 7)\t5\n",
      "  (0, 8)\t4\n",
      "  (0, 9)\t4\n",
      "  (0, 10)\t5\n",
      "  (0, 11)\t4\n",
      "  (0, 12)\t4\n",
      "  (0, 13)\t4\n",
      "  (0, 14)\t5\n",
      "  (0, 15)\t4\n",
      "  (0, 16)\t3\n",
      "  (0, 17)\t4\n",
      "  (0, 18)\t5\n",
      "  (0, 19)\t4\n",
      "  (0, 20)\t3\n",
      "  (0, 21)\t3\n",
      "  (0, 22)\t5\n",
      "  (0, 23)\t5\n",
      "  (0, 24)\t3\n",
      "  :\t:\n",
      "  (6038, 2311)\t4\n",
      "  (6038, 2317)\t5\n",
      "  (6038, 2386)\t4\n",
      "  (6038, 2394)\t5\n",
      "  (6038, 2424)\t4\n",
      "  (6038, 2437)\t4\n",
      "  (6038, 2446)\t5\n",
      "  (6038, 2471)\t4\n",
      "  (6038, 2511)\t5\n",
      "  (6038, 2523)\t4\n",
      "  (6038, 2559)\t3\n",
      "  (6038, 2560)\t4\n",
      "  (6038, 2631)\t5\n",
      "  (6038, 2648)\t4\n",
      "  (6038, 2654)\t5\n",
      "  (6038, 2738)\t4\n",
      "  (6038, 2740)\t5\n",
      "  (6038, 2857)\t5\n",
      "  (6038, 2860)\t3\n",
      "  (6038, 3311)\t5\n",
      "  (6039, 22)\t5\n",
      "  (6039, 95)\t5\n",
      "  (6039, 98)\t5\n",
      "  (6039, 175)\t5\n",
      "  (6039, 196)\t5\n"
     ]
    }
   ],
   "source": [
    "print(csr_data)"
   ]
  },
  {
   "cell_type": "code",
   "execution_count": null,
   "id": "59cc0a24",
   "metadata": {},
   "outputs": [],
   "source": []
  },
  {
   "cell_type": "markdown",
   "id": "d874a780",
   "metadata": {},
   "source": [
    "### 5) als_model = AlternatingLeastSquares 모델을 직접 구성해 훈련 시키기"
   ]
  },
  {
   "cell_type": "code",
   "execution_count": 36,
   "id": "1164d5af",
   "metadata": {},
   "outputs": [],
   "source": [
    "from implicit.als import AlternatingLeastSquares\n",
    "import os\n",
    "import numpy as np\n",
    "\n",
    "# implicit 라이브러리에서 권장하고 있는 부분입니다. 학습 내용과는 무관합니다.\n",
    "os.environ['OPENBLAS_NUM_THREADS'] = '1'\n",
    "os.environ['KMP_DUPLICATE_LIB_OK'] = 'True'\n",
    "os.environ['MKL_NUM_THREADS'] = '1'"
   ]
  },
  {
   "cell_type": "code",
   "execution_count": 37,
   "id": "5af2e3b4",
   "metadata": {},
   "outputs": [],
   "source": [
    "# Implicit AlternatingLeastSquares 모델의 선언\n",
    "als_model = AlternatingLeastSquares(factors=100, \n",
    "                                    regularization=0.01, \n",
    "                                    use_gpu=False, \n",
    "                                    iterations=15, \n",
    "                                    dtype=np.float32)"
   ]
  },
  {
   "cell_type": "code",
   "execution_count": 38,
   "id": "615d15e1",
   "metadata": {},
   "outputs": [
    {
     "data": {
      "text/plain": [
       "<3628x6040 sparse matrix of type '<class 'numpy.int64'>'\n",
       "\twith 836483 stored elements in Compressed Sparse Column format>"
      ]
     },
     "execution_count": 38,
     "metadata": {},
     "output_type": "execute_result"
    }
   ],
   "source": [
    "# als 모델은 input으로 (item X user 꼴의 matrix를 받기 때문에 Transpose해줍니다.)\n",
    "csr_data_transpose = csr_data.T\n",
    "csr_data_transpose"
   ]
  },
  {
   "cell_type": "code",
   "execution_count": 39,
   "id": "90b66d33",
   "metadata": {},
   "outputs": [
    {
     "data": {
      "application/vnd.jupyter.widget-view+json": {
       "model_id": "727a918866a548688a7bb9c470e56a8f",
       "version_major": 2,
       "version_minor": 0
      },
      "text/plain": [
       "  0%|          | 0/15 [00:00<?, ?it/s]"
      ]
     },
     "metadata": {},
     "output_type": "display_data"
    }
   ],
   "source": [
    "# 모델 훈련\n",
    "als_model.fit(csr_data_transpose)"
   ]
  },
  {
   "cell_type": "code",
   "execution_count": null,
   "id": "b06939ad",
   "metadata": {},
   "outputs": [],
   "source": []
  },
  {
   "cell_type": "markdown",
   "id": "7244a5fd",
   "metadata": {},
   "source": [
    "### 6) 내가 선호하는 5가지 영화 중 하나와 그 외의 영화 하나를 골라 훈련된 모델이 예측한 나의 선호도 파악해보기"
   ]
  },
  {
   "cell_type": "code",
   "execution_count": 40,
   "id": "c1fe13ed",
   "metadata": {},
   "outputs": [],
   "source": [
    "yeon, miserable = user_to_idx['yeon'], title_to_idx['misérables, les (1998)']\n",
    "yeon_vector, miserable_vector = als_model.user_factors[yeon], als_model.item_factors[miserable]"
   ]
  },
  {
   "cell_type": "code",
   "execution_count": 41,
   "id": "9ba9af1d",
   "metadata": {},
   "outputs": [
    {
     "data": {
      "text/plain": [
       "array([ 0.10223146,  0.41567594, -0.27738497,  0.12017343, -0.41949466,\n",
       "       -0.04357485, -0.01972907,  0.4091624 ,  0.4892804 ,  0.54615086,\n",
       "        0.11377988,  0.2117782 ,  0.0088392 ,  0.50712824, -0.4280614 ,\n",
       "        0.22757185,  0.61680824, -0.10853993, -0.09536171, -0.32253507,\n",
       "       -0.1808744 ,  0.14798819,  1.0483569 ,  1.1636428 ,  0.16501772,\n",
       "       -0.13266475, -0.6215812 , -0.02033659,  0.2740878 ,  0.16976358,\n",
       "        0.30697903,  0.28227216,  0.57928264, -0.31713188,  0.19659536,\n",
       "       -0.11899117,  0.81394875, -0.19006501, -0.7696614 ,  0.12688126,\n",
       "       -0.3400262 , -0.5874306 , -0.55463994,  0.6241994 ,  0.60745037,\n",
       "       -0.6577938 , -0.6739609 , -0.37751538,  0.00982179,  0.7640779 ,\n",
       "       -0.6070048 , -0.37419865,  0.3471502 , -0.3369955 , -0.29753348,\n",
       "       -0.5776674 , -0.26770255,  0.03486999,  0.14616643, -0.09931198,\n",
       "        0.69273734,  0.93203104,  0.02886639,  0.531077  ,  0.3857499 ,\n",
       "        0.17034037, -0.3820886 , -0.21078633,  0.20665598, -0.01749097,\n",
       "       -0.7182968 , -0.3937551 , -0.4177946 , -0.6514497 , -0.40649554,\n",
       "       -0.5939819 , -0.26065144, -0.2067687 ,  0.1049309 ,  1.1305634 ,\n",
       "       -0.28312555, -0.19830757,  0.6905712 , -0.17631038, -0.1891739 ,\n",
       "       -1.1081775 ,  0.01807318, -0.16989933,  0.15178402,  0.85868645,\n",
       "       -0.05456427,  0.44590712,  0.10556685,  0.18343106,  0.03880651,\n",
       "        0.01193805, -0.06817147, -0.03054565,  0.30863717, -0.43792248],\n",
       "      dtype=float32)"
      ]
     },
     "execution_count": 41,
     "metadata": {},
     "output_type": "execute_result"
    }
   ],
   "source": [
    "yeon_vector"
   ]
  },
  {
   "cell_type": "code",
   "execution_count": 42,
   "id": "af60f8a5",
   "metadata": {},
   "outputs": [
    {
     "data": {
      "text/plain": [
       "array([-0.00388683,  0.03442129, -0.01294139, -0.02207728, -0.01233814,\n",
       "        0.0045761 ,  0.00944578,  0.01094749,  0.02332033,  0.024163  ,\n",
       "        0.01982096, -0.00696979,  0.02119031,  0.00399983,  0.00405479,\n",
       "        0.02025165,  0.01207358,  0.00851654,  0.01801369,  0.01934545,\n",
       "       -0.01299634,  0.01437124,  0.00571197,  0.01322639,  0.01525709,\n",
       "       -0.01032946,  0.00572218,  0.01056943,  0.01485178,  0.02471231,\n",
       "       -0.01584918,  0.01956293,  0.00331143,  0.01119871,  0.00033239,\n",
       "       -0.00238855, -0.0019167 ,  0.00140023, -0.0085923 ,  0.01794661,\n",
       "        0.02230695, -0.01170717, -0.00353177, -0.00477717,  0.02181477,\n",
       "        0.00565632,  0.00485325, -0.0186134 ,  0.01229157,  0.02689637,\n",
       "        0.01556346, -0.0069597 ,  0.01195382, -0.01258907,  0.00667704,\n",
       "        0.01521775, -0.00065525,  0.01368804,  0.00274175,  0.00563149,\n",
       "       -0.0098778 ,  0.01916235,  0.01845099,  0.00990553, -0.00039155,\n",
       "       -0.01311252, -0.00845211, -0.0011868 ,  0.00481899,  0.00251072,\n",
       "       -0.01108837, -0.00714171,  0.01625719, -0.00149465, -0.0025546 ,\n",
       "        0.00162056,  0.00251393,  0.00628024,  0.00282547,  0.01305624,\n",
       "       -0.00748695,  0.01860469,  0.02510633, -0.01209134,  0.01432164,\n",
       "        0.00166942,  0.00343763, -0.00240239, -0.00254075,  0.02584382,\n",
       "       -0.00010008,  0.00628201,  0.00826989, -0.0052141 , -0.00991311,\n",
       "        0.00054208,  0.01803782, -0.00191008,  0.00087806,  0.00360359],\n",
       "      dtype=float32)"
      ]
     },
     "execution_count": 42,
     "metadata": {},
     "output_type": "execute_result"
    }
   ],
   "source": [
    "miserable_vector"
   ]
  },
  {
   "cell_type": "code",
   "execution_count": 43,
   "id": "78064159",
   "metadata": {},
   "outputs": [
    {
     "data": {
      "text/plain": [
       "0.18980479"
      ]
     },
     "execution_count": 43,
     "metadata": {},
     "output_type": "execute_result"
    }
   ],
   "source": [
    "# zimin과 black_eyed_peas를 내적하는 코드\n",
    "np.dot(yeon_vector, miserable_vector)"
   ]
  },
  {
   "cell_type": "code",
   "execution_count": 44,
   "id": "c8ecaaae",
   "metadata": {},
   "outputs": [],
   "source": [
    "# print(\n",
    "# data[data['title'] == \"misérables, les (1998)\"][:1]['genre'],\n",
    "# data[data['title'] == \"king kong (1933)\"][:1]['genre'],\n",
    "# data[data['title'] == \"men in black (1997)\"][:1]['genre'],\n",
    "# data[data['title'] == \"soldier's story, a (1984)\"][:1]['genre'],\n",
    "# data[data['title'] == \"back to the future (1985)\"][:1]['genre'])"
   ]
  },
  {
   "cell_type": "code",
   "execution_count": 45,
   "id": "1d980f79",
   "metadata": {},
   "outputs": [],
   "source": [
    "king = title_to_idx[\"king kong (1933)\"]\n",
    "king_vector = als_model.item_factors[king]\n",
    "\n",
    "men = title_to_idx[\"men in black (1997)\"]\n",
    "men_vector = als_model.item_factors[men]\n",
    "\n",
    "soldier = title_to_idx[\"soldier's story, a (1984)\"]\n",
    "soldier_vector = als_model.item_factors[soldier]\n",
    "\n",
    "future = title_to_idx[\"back to the future (1985)\"]\n",
    "future_vector = als_model.item_factors[future]"
   ]
  },
  {
   "cell_type": "code",
   "execution_count": 46,
   "id": "20b92bd0",
   "metadata": {},
   "outputs": [
    {
     "name": "stdout",
     "output_type": "stream",
     "text": [
      "0.27823105 0.48559764 0.09167732 0.40583813\n"
     ]
    }
   ],
   "source": [
    "print(np.dot(yeon_vector, king_vector),\n",
    "np.dot(yeon_vector, men_vector), \n",
    "np.dot(yeon_vector, soldier_vector), \n",
    "np.dot(yeon_vector, future_vector))"
   ]
  },
  {
   "cell_type": "markdown",
   "id": "88208247",
   "metadata": {},
   "source": [
    "> 생각보다 선호도가 1과 차이가 많이 나고, 심지어는 0 근처의 값들도 많이 나왔다."
   ]
  },
  {
   "cell_type": "markdown",
   "id": "8cbe9388",
   "metadata": {},
   "source": [
    "#### 보지 못한 영화에 대한 선호도 확인"
   ]
  },
  {
   "cell_type": "code",
   "execution_count": 47,
   "id": "0f4f5159",
   "metadata": {},
   "outputs": [
    {
     "data": {
      "text/plain": [
       "-0.1247444"
      ]
     },
     "execution_count": 47,
     "metadata": {},
     "output_type": "execute_result"
    }
   ],
   "source": [
    "platoon = title_to_idx[\"platoon (1986)\"]\n",
    "platoon_vector = als_model.item_factors[platoon]\n",
    "\n",
    "np.dot(yeon_vector, platoon_vector)"
   ]
  },
  {
   "cell_type": "code",
   "execution_count": 48,
   "id": "e9f454fc",
   "metadata": {},
   "outputs": [
    {
     "data": {
      "text/plain": [
       "-0.022222796"
      ]
     },
     "execution_count": 48,
     "metadata": {},
     "output_type": "execute_result"
    }
   ],
   "source": [
    "sophie = title_to_idx[\"sophie's choice (1982)\"]\n",
    "sophie_vector = als_model.item_factors[sophie]\n",
    "\n",
    "np.dot(yeon_vector, sophie_vector)"
   ]
  },
  {
   "cell_type": "code",
   "execution_count": 49,
   "id": "9049e3de",
   "metadata": {},
   "outputs": [
    {
     "data": {
      "text/plain": [
       "0.062141195"
      ]
     },
     "execution_count": 49,
     "metadata": {},
     "output_type": "execute_result"
    }
   ],
   "source": [
    "doll = title_to_idx[\"welcome to the dollhouse (1995)\"]\n",
    "doll_vector = als_model.item_factors[doll]\n",
    "\n",
    "np.dot(yeon_vector, doll_vector)"
   ]
  },
  {
   "cell_type": "markdown",
   "id": "622773df",
   "metadata": {},
   "source": [
    "> 보지 못한 영화에 대한 선호도가 모두 음수가 나올 줄 알았는데 0.06인 값도 나왔다. 이는 yeon이 시청한 영화 `soldier's story a`와 0.02밖에 차이가 나지 않는다."
   ]
  },
  {
   "cell_type": "code",
   "execution_count": null,
   "id": "5ee7d72c",
   "metadata": {},
   "outputs": [],
   "source": []
  },
  {
   "cell_type": "markdown",
   "id": "08f0d574",
   "metadata": {},
   "source": [
    "### 8) 내가 가장 좋아할만한 영화들 추천받기\n",
    "### 8-1) 비슷한 영화 찾기"
   ]
  },
  {
   "cell_type": "code",
   "execution_count": 50,
   "id": "019136e9",
   "metadata": {},
   "outputs": [
    {
     "data": {
      "text/plain": [
       "[(175, 1.0),\n",
       " (107, 0.831708),\n",
       " (92, 0.61478126),\n",
       " (62, 0.57132185),\n",
       " (150, 0.49441674),\n",
       " (145, 0.48883635),\n",
       " (82, 0.48881575),\n",
       " (124, 0.48745483),\n",
       " (375, 0.45425677),\n",
       " (138, 0.40729585),\n",
       " (3466, 0.40442565),\n",
       " (60, 0.35737863),\n",
       " (3183, 0.35596535),\n",
       " (670, 0.35376173),\n",
       " (544, 0.35368767)]"
      ]
     },
     "execution_count": 50,
     "metadata": {},
     "output_type": "execute_result"
    }
   ],
   "source": [
    "favorite_title = \"men in black (1997)\"\n",
    "title_id = title_to_idx[favorite_title]\n",
    "similar_title = als_model.similar_items(title_id, N=15)\n",
    "similar_title"
   ]
  },
  {
   "cell_type": "code",
   "execution_count": 51,
   "id": "2e2136cc",
   "metadata": {},
   "outputs": [
    {
     "data": {
      "text/plain": [
       "['men in black (1997)',\n",
       " 'jurassic park (1993)',\n",
       " 'terminator 2: judgment day (1991)',\n",
       " 'total recall (1990)',\n",
       " 'independence day (id4) (1996)',\n",
       " 'fifth element, the (1997)',\n",
       " 'lost world: jurassic park, the (1997)',\n",
       " 'matrix, the (1999)',\n",
       " 'face/off (1997)',\n",
       " 'true lies (1994)',\n",
       " 'schlafes bruder (brother of sleep) (1995)',\n",
       " 'star wars: episode i - the phantom menace (1999)',\n",
       " 'sorority house massacre ii (1990)',\n",
       " 'galaxy quest (1999)',\n",
       " 'stargate (1994)']"
      ]
     },
     "execution_count": 51,
     "metadata": {},
     "output_type": "execute_result"
    }
   ],
   "source": [
    "# title_to_idx 를 뒤집어, index로부터 title 이름을 얻는 dict를 생성합니다. \n",
    "idx_to_title = {v: k for k, v in title_to_idx.items()}\n",
    "[idx_to_title[i[0]] for i in similar_title]"
   ]
  },
  {
   "cell_type": "code",
   "execution_count": 52,
   "id": "2fb3faae",
   "metadata": {},
   "outputs": [
    {
     "data": {
      "text/plain": [
       "['men in black (1997)',\n",
       " 'jurassic park (1993)',\n",
       " 'terminator 2: judgment day (1991)',\n",
       " 'total recall (1990)',\n",
       " 'independence day (id4) (1996)',\n",
       " 'fifth element, the (1997)',\n",
       " 'lost world: jurassic park, the (1997)',\n",
       " 'matrix, the (1999)',\n",
       " 'face/off (1997)',\n",
       " 'true lies (1994)']"
      ]
     },
     "execution_count": 52,
     "metadata": {},
     "output_type": "execute_result"
    }
   ],
   "source": [
    "# 위를 함수로 구현하기\n",
    "def get_similar_title(title_name: str): # 타입 힌트\n",
    "    title_id = title_to_idx[title_name]\n",
    "    similar_title = als_model.similar_items(title_id)\n",
    "    similar_title = [idx_to_title[i[0]] for i in similar_title]\n",
    "    return similar_title\n",
    "\n",
    "get_similar_title(\"men in black (1997)\")"
   ]
  },
  {
   "cell_type": "markdown",
   "id": "feda3509",
   "metadata": {},
   "source": [
    "### 8-2) 내가 좋아할 만한 영화 추천"
   ]
  },
  {
   "cell_type": "code",
   "execution_count": 53,
   "id": "f16b3fdb",
   "metadata": {},
   "outputs": [
    {
     "data": {
      "text/plain": [
       "[(107, 0.44837394),\n",
       " (92, 0.28796017),\n",
       " (670, 0.26986974),\n",
       " (0, 0.25429463),\n",
       " (44, 0.23039778),\n",
       " (124, 0.2219212),\n",
       " (243, 0.21735065),\n",
       " (60, 0.21349567),\n",
       " (64, 0.20621061),\n",
       " (424, 0.19960901),\n",
       " (62, 0.19337395),\n",
       " (87, 0.18880908),\n",
       " (117, 0.18792754),\n",
       " (450, 0.18114169),\n",
       " (6, 0.17762613),\n",
       " (82, 0.16795927),\n",
       " (5, 0.16780601),\n",
       " (1004, 0.16420367),\n",
       " (154, 0.15631124),\n",
       " (26, 0.14648208)]"
      ]
     },
     "execution_count": 53,
     "metadata": {},
     "output_type": "execute_result"
    }
   ],
   "source": [
    "user = user_to_idx['yeon']\n",
    "\n",
    "# recommend에서는 user*item CSR Matrix를 받습니다.\n",
    "title_recommended = als_model.recommend(user, \n",
    "                                        csr_data, \n",
    "                                        N=20, \n",
    "                                        filter_already_liked_items=True)\n",
    "title_recommended"
   ]
  },
  {
   "cell_type": "code",
   "execution_count": 54,
   "id": "b1defeca",
   "metadata": {},
   "outputs": [
    {
     "data": {
      "text/plain": [
       "['jurassic park (1993)',\n",
       " 'terminator 2: judgment day (1991)',\n",
       " 'galaxy quest (1999)',\n",
       " \"one flew over the cuckoo's nest (1975)\",\n",
       " 'star wars: episode iv - a new hope (1977)',\n",
       " 'matrix, the (1999)',\n",
       " 'ghostbusters (1984)',\n",
       " 'star wars: episode i - the phantom menace (1999)',\n",
       " 'star wars: episode vi - return of the jedi (1983)',\n",
       " 'misérables, les (1995)',\n",
       " 'total recall (1990)',\n",
       " 'braveheart (1995)',\n",
       " 'star wars: episode v - the empire strikes back (1980)',\n",
       " 'life is beautiful (la vita è bella) (1997)',\n",
       " 'ben-hur (1959)',\n",
       " 'lost world: jurassic park, the (1997)',\n",
       " 'princess bride, the (1987)',\n",
       " 'frankenstein (1931)',\n",
       " 'as good as it gets (1997)',\n",
       " 'e.t. the extra-terrestrial (1982)']"
      ]
     },
     "execution_count": 54,
     "metadata": {},
     "output_type": "execute_result"
    }
   ],
   "source": [
    "[idx_to_title[i[0]] for i in title_recommended]"
   ]
  },
  {
   "cell_type": "markdown",
   "id": "df7c6a48",
   "metadata": {},
   "source": [
    "#### 기여도 확인"
   ]
  },
  {
   "cell_type": "code",
   "execution_count": 55,
   "id": "04523f94",
   "metadata": {},
   "outputs": [],
   "source": [
    "jurassic = title_to_idx['jurassic park (1993)']\n",
    "explain = als_model.explain(user, csr_data, itemid=jurassic)"
   ]
  },
  {
   "cell_type": "code",
   "execution_count": 56,
   "id": "b4e32b3d",
   "metadata": {},
   "outputs": [
    {
     "data": {
      "text/plain": [
       "[('men in black (1997)', 0.347568738931146),\n",
       " ('king kong (1933)', 0.033649843947351585),\n",
       " ('misérables, les (1998)', 0.030933253977570685),\n",
       " ('back to the future (1985)', 0.028904132256918073),\n",
       " (\"soldier's story, a (1984)\", 0.0009355589975818424)]"
      ]
     },
     "execution_count": 56,
     "metadata": {},
     "output_type": "execute_result"
    }
   ],
   "source": [
    "[(idx_to_title[i[0]], i[1]) for i in explain[1]]"
   ]
  },
  {
   "cell_type": "markdown",
   "id": "b6fc7a9b",
   "metadata": {},
   "source": [
    "> 내가 봤다고 추가한 영화들이 `jurassic park` 영화를 추천하는데 가장 많이 기여했음을 알 수 있다."
   ]
  },
  {
   "cell_type": "code",
   "execution_count": null,
   "id": "140b252c",
   "metadata": {},
   "outputs": [],
   "source": []
  },
  {
   "cell_type": "markdown",
   "id": "6b96c7d5",
   "metadata": {},
   "source": [
    "## 🐬 2nd-try\n",
    "> 내가 좋아하는 영화를 좀 더 의미있게 추출해보자.\n",
    "> - 비슷한 장르만 봤다고 가정하기"
   ]
  },
  {
   "cell_type": "code",
   "execution_count": 57,
   "id": "f923bac4",
   "metadata": {},
   "outputs": [],
   "source": [
    "data_copy2 = df.copy()"
   ]
  },
  {
   "cell_type": "code",
   "execution_count": 58,
   "id": "12e81d7e",
   "metadata": {},
   "outputs": [
    {
     "data": {
      "text/html": [
       "<div>\n",
       "<style scoped>\n",
       "    .dataframe tbody tr th:only-of-type {\n",
       "        vertical-align: middle;\n",
       "    }\n",
       "\n",
       "    .dataframe tbody tr th {\n",
       "        vertical-align: top;\n",
       "    }\n",
       "\n",
       "    .dataframe thead th {\n",
       "        text-align: right;\n",
       "    }\n",
       "</style>\n",
       "<table border=\"1\" class=\"dataframe\">\n",
       "  <thead>\n",
       "    <tr style=\"text-align: right;\">\n",
       "      <th></th>\n",
       "      <th>user_id</th>\n",
       "      <th>counts</th>\n",
       "      <th>title</th>\n",
       "      <th>genre</th>\n",
       "    </tr>\n",
       "  </thead>\n",
       "  <tbody>\n",
       "    <tr>\n",
       "      <th>0</th>\n",
       "      <td>1</td>\n",
       "      <td>5</td>\n",
       "      <td>one flew over the cuckoo's nest (1975)</td>\n",
       "      <td>Drama</td>\n",
       "    </tr>\n",
       "    <tr>\n",
       "      <th>1</th>\n",
       "      <td>1</td>\n",
       "      <td>3</td>\n",
       "      <td>james and the giant peach (1996)</td>\n",
       "      <td>Animation|Children's|Musical</td>\n",
       "    </tr>\n",
       "    <tr>\n",
       "      <th>2</th>\n",
       "      <td>1</td>\n",
       "      <td>3</td>\n",
       "      <td>my fair lady (1964)</td>\n",
       "      <td>Musical|Romance</td>\n",
       "    </tr>\n",
       "    <tr>\n",
       "      <th>3</th>\n",
       "      <td>1</td>\n",
       "      <td>4</td>\n",
       "      <td>erin brockovich (2000)</td>\n",
       "      <td>Drama</td>\n",
       "    </tr>\n",
       "    <tr>\n",
       "      <th>4</th>\n",
       "      <td>1</td>\n",
       "      <td>5</td>\n",
       "      <td>bug's life, a (1998)</td>\n",
       "      <td>Animation|Children's|Comedy</td>\n",
       "    </tr>\n",
       "  </tbody>\n",
       "</table>\n",
       "</div>"
      ],
      "text/plain": [
       "   user_id  counts                                   title  \\\n",
       "0        1       5  one flew over the cuckoo's nest (1975)   \n",
       "1        1       3        james and the giant peach (1996)   \n",
       "2        1       3                     my fair lady (1964)   \n",
       "3        1       4                  erin brockovich (2000)   \n",
       "4        1       5                    bug's life, a (1998)   \n",
       "\n",
       "                          genre  \n",
       "0                         Drama  \n",
       "1  Animation|Children's|Musical  \n",
       "2               Musical|Romance  \n",
       "3                         Drama  \n",
       "4   Animation|Children's|Comedy  "
      ]
     },
     "execution_count": 58,
     "metadata": {},
     "output_type": "execute_result"
    }
   ],
   "source": [
    "data = data_copy2.drop(['movie_id', 'timestamp'], axis=1)\n",
    "data.head()"
   ]
  },
  {
   "cell_type": "code",
   "execution_count": 59,
   "id": "4c00d0c7",
   "metadata": {},
   "outputs": [
    {
     "data": {
      "text/html": [
       "<div>\n",
       "<style scoped>\n",
       "    .dataframe tbody tr th:only-of-type {\n",
       "        vertical-align: middle;\n",
       "    }\n",
       "\n",
       "    .dataframe tbody tr th {\n",
       "        vertical-align: top;\n",
       "    }\n",
       "\n",
       "    .dataframe thead th {\n",
       "        text-align: right;\n",
       "    }\n",
       "</style>\n",
       "<table border=\"1\" class=\"dataframe\">\n",
       "  <thead>\n",
       "    <tr style=\"text-align: right;\">\n",
       "      <th></th>\n",
       "      <th>user_id</th>\n",
       "      <th>counts</th>\n",
       "      <th>title</th>\n",
       "      <th>genre</th>\n",
       "    </tr>\n",
       "  </thead>\n",
       "  <tbody>\n",
       "    <tr>\n",
       "      <th>1734</th>\n",
       "      <td>18</td>\n",
       "      <td>3</td>\n",
       "      <td>all dogs go to heaven (1989)</td>\n",
       "      <td>Animation|Children's</td>\n",
       "    </tr>\n",
       "    <tr>\n",
       "      <th>1744</th>\n",
       "      <td>18</td>\n",
       "      <td>5</td>\n",
       "      <td>mulan (1998)</td>\n",
       "      <td>Animation|Children's</td>\n",
       "    </tr>\n",
       "    <tr>\n",
       "      <th>1745</th>\n",
       "      <td>18</td>\n",
       "      <td>5</td>\n",
       "      <td>aladdin (1992)</td>\n",
       "      <td>Animation|Children's|Comedy|Musical</td>\n",
       "    </tr>\n",
       "    <tr>\n",
       "      <th>1748</th>\n",
       "      <td>18</td>\n",
       "      <td>4</td>\n",
       "      <td>toy story (1995)</td>\n",
       "      <td>Animation|Children's|Comedy</td>\n",
       "    </tr>\n",
       "    <tr>\n",
       "      <th>1752</th>\n",
       "      <td>18</td>\n",
       "      <td>5</td>\n",
       "      <td>charlotte's web (1973)</td>\n",
       "      <td>Animation|Children's</td>\n",
       "    </tr>\n",
       "    <tr>\n",
       "      <th>1754</th>\n",
       "      <td>18</td>\n",
       "      <td>5</td>\n",
       "      <td>secret of nimh, the (1982)</td>\n",
       "      <td>Animation|Children's</td>\n",
       "    </tr>\n",
       "    <tr>\n",
       "      <th>1761</th>\n",
       "      <td>18</td>\n",
       "      <td>5</td>\n",
       "      <td>snow white and the seven dwarfs (1937)</td>\n",
       "      <td>Animation|Children's|Musical</td>\n",
       "    </tr>\n",
       "    <tr>\n",
       "      <th>1762</th>\n",
       "      <td>18</td>\n",
       "      <td>5</td>\n",
       "      <td>beauty and the beast (1991)</td>\n",
       "      <td>Animation|Children's|Musical</td>\n",
       "    </tr>\n",
       "    <tr>\n",
       "      <th>1763</th>\n",
       "      <td>18</td>\n",
       "      <td>4</td>\n",
       "      <td>pinocchio (1940)</td>\n",
       "      <td>Animation|Children's</td>\n",
       "    </tr>\n",
       "    <tr>\n",
       "      <th>1772</th>\n",
       "      <td>18</td>\n",
       "      <td>5</td>\n",
       "      <td>american tail, an (1986)</td>\n",
       "      <td>Animation|Children's|Comedy</td>\n",
       "    </tr>\n",
       "    <tr>\n",
       "      <th>1773</th>\n",
       "      <td>18</td>\n",
       "      <td>3</td>\n",
       "      <td>american tail: fievel goes west, an (1991)</td>\n",
       "      <td>Animation|Children's|Comedy</td>\n",
       "    </tr>\n",
       "    <tr>\n",
       "      <th>1779</th>\n",
       "      <td>18</td>\n",
       "      <td>5</td>\n",
       "      <td>akira (1988)</td>\n",
       "      <td>Adventure|Animation|Sci-Fi|Thriller</td>\n",
       "    </tr>\n",
       "    <tr>\n",
       "      <th>1780</th>\n",
       "      <td>18</td>\n",
       "      <td>5</td>\n",
       "      <td>ghost in the shell (kokaku kidotai) (1995)</td>\n",
       "      <td>Animation|Sci-Fi</td>\n",
       "    </tr>\n",
       "    <tr>\n",
       "      <th>1782</th>\n",
       "      <td>18</td>\n",
       "      <td>4</td>\n",
       "      <td>jungle book, the (1967)</td>\n",
       "      <td>Animation|Children's|Comedy|Musical</td>\n",
       "    </tr>\n",
       "    <tr>\n",
       "      <th>1784</th>\n",
       "      <td>18</td>\n",
       "      <td>4</td>\n",
       "      <td>swan princess, the (1994)</td>\n",
       "      <td>Animation|Children's</td>\n",
       "    </tr>\n",
       "    <tr>\n",
       "      <th>1788</th>\n",
       "      <td>18</td>\n",
       "      <td>5</td>\n",
       "      <td>lady and the tramp (1955)</td>\n",
       "      <td>Animation|Children's|Comedy|Musical|Romance</td>\n",
       "    </tr>\n",
       "    <tr>\n",
       "      <th>1789</th>\n",
       "      <td>18</td>\n",
       "      <td>5</td>\n",
       "      <td>little mermaid, the (1989)</td>\n",
       "      <td>Animation|Children's|Comedy|Musical|Romance</td>\n",
       "    </tr>\n",
       "    <tr>\n",
       "      <th>1792</th>\n",
       "      <td>18</td>\n",
       "      <td>5</td>\n",
       "      <td>fantasia (1940)</td>\n",
       "      <td>Animation|Children's|Musical</td>\n",
       "    </tr>\n",
       "    <tr>\n",
       "      <th>1793</th>\n",
       "      <td>18</td>\n",
       "      <td>4</td>\n",
       "      <td>101 dalmatians (1961)</td>\n",
       "      <td>Animation|Children's</td>\n",
       "    </tr>\n",
       "    <tr>\n",
       "      <th>1795</th>\n",
       "      <td>18</td>\n",
       "      <td>4</td>\n",
       "      <td>peter pan (1953)</td>\n",
       "      <td>Animation|Children's|Fantasy|Musical</td>\n",
       "    </tr>\n",
       "  </tbody>\n",
       "</table>\n",
       "</div>"
      ],
      "text/plain": [
       "      user_id  counts                                       title  \\\n",
       "1734       18       3                all dogs go to heaven (1989)   \n",
       "1744       18       5                                mulan (1998)   \n",
       "1745       18       5                              aladdin (1992)   \n",
       "1748       18       4                            toy story (1995)   \n",
       "1752       18       5                      charlotte's web (1973)   \n",
       "1754       18       5                  secret of nimh, the (1982)   \n",
       "1761       18       5      snow white and the seven dwarfs (1937)   \n",
       "1762       18       5                 beauty and the beast (1991)   \n",
       "1763       18       4                            pinocchio (1940)   \n",
       "1772       18       5                    american tail, an (1986)   \n",
       "1773       18       3  american tail: fievel goes west, an (1991)   \n",
       "1779       18       5                                akira (1988)   \n",
       "1780       18       5  ghost in the shell (kokaku kidotai) (1995)   \n",
       "1782       18       4                     jungle book, the (1967)   \n",
       "1784       18       4                   swan princess, the (1994)   \n",
       "1788       18       5                   lady and the tramp (1955)   \n",
       "1789       18       5                  little mermaid, the (1989)   \n",
       "1792       18       5                             fantasia (1940)   \n",
       "1793       18       4                       101 dalmatians (1961)   \n",
       "1795       18       4                            peter pan (1953)   \n",
       "\n",
       "                                            genre  \n",
       "1734                         Animation|Children's  \n",
       "1744                         Animation|Children's  \n",
       "1745          Animation|Children's|Comedy|Musical  \n",
       "1748                  Animation|Children's|Comedy  \n",
       "1752                         Animation|Children's  \n",
       "1754                         Animation|Children's  \n",
       "1761                 Animation|Children's|Musical  \n",
       "1762                 Animation|Children's|Musical  \n",
       "1763                         Animation|Children's  \n",
       "1772                  Animation|Children's|Comedy  \n",
       "1773                  Animation|Children's|Comedy  \n",
       "1779          Adventure|Animation|Sci-Fi|Thriller  \n",
       "1780                             Animation|Sci-Fi  \n",
       "1782          Animation|Children's|Comedy|Musical  \n",
       "1784                         Animation|Children's  \n",
       "1788  Animation|Children's|Comedy|Musical|Romance  \n",
       "1789  Animation|Children's|Comedy|Musical|Romance  \n",
       "1792                 Animation|Children's|Musical  \n",
       "1793                         Animation|Children's  \n",
       "1795         Animation|Children's|Fantasy|Musical  "
      ]
     },
     "execution_count": 59,
     "metadata": {},
     "output_type": "execute_result"
    }
   ],
   "source": [
    "# 'Animation'이 포함된 장르만 시청했다고 가정\n",
    "data[data['genre'].str.contains('Animation')][100:120]"
   ]
  },
  {
   "cell_type": "code",
   "execution_count": 60,
   "id": "a319b63c",
   "metadata": {},
   "outputs": [
    {
     "data": {
      "text/html": [
       "<div>\n",
       "<style scoped>\n",
       "    .dataframe tbody tr th:only-of-type {\n",
       "        vertical-align: middle;\n",
       "    }\n",
       "\n",
       "    .dataframe tbody tr th {\n",
       "        vertical-align: top;\n",
       "    }\n",
       "\n",
       "    .dataframe thead th {\n",
       "        text-align: right;\n",
       "    }\n",
       "</style>\n",
       "<table border=\"1\" class=\"dataframe\">\n",
       "  <thead>\n",
       "    <tr style=\"text-align: right;\">\n",
       "      <th></th>\n",
       "      <th>user_id</th>\n",
       "      <th>counts</th>\n",
       "      <th>title</th>\n",
       "      <th>genre</th>\n",
       "    </tr>\n",
       "  </thead>\n",
       "  <tbody>\n",
       "    <tr>\n",
       "      <th>836473</th>\n",
       "      <td>6040</td>\n",
       "      <td>3</td>\n",
       "      <td>platoon (1986)</td>\n",
       "      <td>Drama|War</td>\n",
       "    </tr>\n",
       "    <tr>\n",
       "      <th>836474</th>\n",
       "      <td>6040</td>\n",
       "      <td>5</td>\n",
       "      <td>crying game, the (1992)</td>\n",
       "      <td>Drama|Romance|War</td>\n",
       "    </tr>\n",
       "    <tr>\n",
       "      <th>836475</th>\n",
       "      <td>6040</td>\n",
       "      <td>5</td>\n",
       "      <td>welcome to the dollhouse (1995)</td>\n",
       "      <td>Comedy|Drama</td>\n",
       "    </tr>\n",
       "    <tr>\n",
       "      <th>836476</th>\n",
       "      <td>6040</td>\n",
       "      <td>4</td>\n",
       "      <td>sophie's choice (1982)</td>\n",
       "      <td>Drama</td>\n",
       "    </tr>\n",
       "    <tr>\n",
       "      <th>836477</th>\n",
       "      <td>6040</td>\n",
       "      <td>4</td>\n",
       "      <td>e.t. the extra-terrestrial (1982)</td>\n",
       "      <td>Children's|Drama|Fantasy|Sci-Fi</td>\n",
       "    </tr>\n",
       "    <tr>\n",
       "      <th>0</th>\n",
       "      <td>yeon</td>\n",
       "      <td>4</td>\n",
       "      <td>tarzan (1999)</td>\n",
       "      <td>Animation</td>\n",
       "    </tr>\n",
       "    <tr>\n",
       "      <th>1</th>\n",
       "      <td>yeon</td>\n",
       "      <td>4</td>\n",
       "      <td>toy story (1995)</td>\n",
       "      <td>Animation</td>\n",
       "    </tr>\n",
       "    <tr>\n",
       "      <th>2</th>\n",
       "      <td>yeon</td>\n",
       "      <td>4</td>\n",
       "      <td>cinderella (1950)</td>\n",
       "      <td>Animation</td>\n",
       "    </tr>\n",
       "    <tr>\n",
       "      <th>3</th>\n",
       "      <td>yeon</td>\n",
       "      <td>4</td>\n",
       "      <td>beauty and the beast (1991)</td>\n",
       "      <td>Animation</td>\n",
       "    </tr>\n",
       "    <tr>\n",
       "      <th>4</th>\n",
       "      <td>yeon</td>\n",
       "      <td>4</td>\n",
       "      <td>bambi (1942)</td>\n",
       "      <td>Animation</td>\n",
       "    </tr>\n",
       "  </tbody>\n",
       "</table>\n",
       "</div>"
      ],
      "text/plain": [
       "       user_id  counts                              title  \\\n",
       "836473    6040       3                     platoon (1986)   \n",
       "836474    6040       5            crying game, the (1992)   \n",
       "836475    6040       5    welcome to the dollhouse (1995)   \n",
       "836476    6040       4             sophie's choice (1982)   \n",
       "836477    6040       4  e.t. the extra-terrestrial (1982)   \n",
       "0         yeon       4                      tarzan (1999)   \n",
       "1         yeon       4                   toy story (1995)   \n",
       "2         yeon       4                  cinderella (1950)   \n",
       "3         yeon       4        beauty and the beast (1991)   \n",
       "4         yeon       4                       bambi (1942)   \n",
       "\n",
       "                                  genre  \n",
       "836473                        Drama|War  \n",
       "836474                Drama|Romance|War  \n",
       "836475                     Comedy|Drama  \n",
       "836476                            Drama  \n",
       "836477  Children's|Drama|Fantasy|Sci-Fi  \n",
       "0                             Animation  \n",
       "1                             Animation  \n",
       "2                             Animation  \n",
       "3                             Animation  \n",
       "4                             Animation  "
      ]
     },
     "execution_count": 60,
     "metadata": {},
     "output_type": "execute_result"
    }
   ],
   "source": [
    "my_fav = [\"tarzan (1999)\", \"toy story (1995)\", \"cinderella (1950)\",\n",
    "         \"beauty and the beast (1991)\", \"bambi (1942)\"]\n",
    "\n",
    "my_movie = pd.DataFrame({'user_id': ['yeon']*5,\n",
    "                         'counts': [4]*5,\n",
    "                         'title': my_fav,\n",
    "                         'genre': ['Animation']*5\n",
    "                        })\n",
    "\n",
    "if not data.isin({'user_id': ['yeon']})['user_id'].any():\n",
    "    data = data.append(my_movie)\n",
    "    \n",
    "data.tail(10)"
   ]
  },
  {
   "cell_type": "code",
   "execution_count": 61,
   "id": "1b2714bf",
   "metadata": {},
   "outputs": [
    {
     "data": {
      "text/plain": [
       "user_id     True\n",
       "counts     False\n",
       "title      False\n",
       "genre      False\n",
       "dtype: bool"
      ]
     },
     "execution_count": 61,
     "metadata": {},
     "output_type": "execute_result"
    }
   ],
   "source": [
    "data.isin({'user_id': ['yeon']}).any()"
   ]
  },
  {
   "cell_type": "code",
   "execution_count": 62,
   "id": "1e6a6805",
   "metadata": {},
   "outputs": [
    {
     "data": {
      "text/plain": [
       "True"
      ]
     },
     "execution_count": 62,
     "metadata": {},
     "output_type": "execute_result"
    }
   ],
   "source": [
    "data.isin({'user_id': ['yeon']})['user_id'].any()"
   ]
  },
  {
   "cell_type": "code",
   "execution_count": 63,
   "id": "290b66bc",
   "metadata": {},
   "outputs": [
    {
     "data": {
      "text/plain": [
       "(6040, 3628, 301)"
      ]
     },
     "execution_count": 63,
     "metadata": {},
     "output_type": "execute_result"
    }
   ],
   "source": [
    "data['user_id'].nunique(), data['title'].nunique(), data['genre'].nunique()"
   ]
  },
  {
   "cell_type": "code",
   "execution_count": 64,
   "id": "26bd316f",
   "metadata": {},
   "outputs": [],
   "source": [
    "# 고유한 유저, 타이틀을 찾아내는 코드\n",
    "user_unique = data['user_id'].unique()\n",
    "title_unique = data['title'].unique()\n",
    "\n",
    "# 유저, 타이틀을 indexing하는 코드\n",
    "user_to_idx = {v: k for k, v in enumerate(user_unique)}\n",
    "title_to_idx = {v: k for k, v in enumerate(title_unique)}"
   ]
  },
  {
   "cell_type": "code",
   "execution_count": 65,
   "id": "52421338",
   "metadata": {},
   "outputs": [
    {
     "name": "stdout",
     "output_type": "stream",
     "text": [
      "6039\n"
     ]
    }
   ],
   "source": [
    "print(user_to_idx['yeon']) # 마지막 index로 잘 들어옴"
   ]
  },
  {
   "cell_type": "code",
   "execution_count": 66,
   "id": "9d282ae0",
   "metadata": {},
   "outputs": [
    {
     "data": {
      "text/plain": [
       "<function dict.get(key, default=None, /)>"
      ]
     },
     "execution_count": 66,
     "metadata": {},
     "output_type": "execute_result"
    }
   ],
   "source": [
    "user_to_idx.get"
   ]
  },
  {
   "cell_type": "code",
   "execution_count": 67,
   "id": "66fb38b3",
   "metadata": {},
   "outputs": [
    {
     "name": "stdout",
     "output_type": "stream",
     "text": [
      "user_id column indexing OK!!\n",
      "title column indexing OK!!\n"
     ]
    },
    {
     "data": {
      "text/html": [
       "<div>\n",
       "<style scoped>\n",
       "    .dataframe tbody tr th:only-of-type {\n",
       "        vertical-align: middle;\n",
       "    }\n",
       "\n",
       "    .dataframe tbody tr th {\n",
       "        vertical-align: top;\n",
       "    }\n",
       "\n",
       "    .dataframe thead th {\n",
       "        text-align: right;\n",
       "    }\n",
       "</style>\n",
       "<table border=\"1\" class=\"dataframe\">\n",
       "  <thead>\n",
       "    <tr style=\"text-align: right;\">\n",
       "      <th></th>\n",
       "      <th>user_id</th>\n",
       "      <th>counts</th>\n",
       "      <th>title</th>\n",
       "      <th>genre</th>\n",
       "    </tr>\n",
       "  </thead>\n",
       "  <tbody>\n",
       "    <tr>\n",
       "      <th>0</th>\n",
       "      <td>0</td>\n",
       "      <td>5</td>\n",
       "      <td>0</td>\n",
       "      <td>Drama</td>\n",
       "    </tr>\n",
       "    <tr>\n",
       "      <th>1</th>\n",
       "      <td>0</td>\n",
       "      <td>3</td>\n",
       "      <td>1</td>\n",
       "      <td>Animation|Children's|Musical</td>\n",
       "    </tr>\n",
       "    <tr>\n",
       "      <th>2</th>\n",
       "      <td>0</td>\n",
       "      <td>3</td>\n",
       "      <td>2</td>\n",
       "      <td>Musical|Romance</td>\n",
       "    </tr>\n",
       "    <tr>\n",
       "      <th>3</th>\n",
       "      <td>0</td>\n",
       "      <td>4</td>\n",
       "      <td>3</td>\n",
       "      <td>Drama</td>\n",
       "    </tr>\n",
       "    <tr>\n",
       "      <th>4</th>\n",
       "      <td>0</td>\n",
       "      <td>5</td>\n",
       "      <td>4</td>\n",
       "      <td>Animation|Children's|Comedy</td>\n",
       "    </tr>\n",
       "    <tr>\n",
       "      <th>...</th>\n",
       "      <td>...</td>\n",
       "      <td>...</td>\n",
       "      <td>...</td>\n",
       "      <td>...</td>\n",
       "    </tr>\n",
       "    <tr>\n",
       "      <th>0</th>\n",
       "      <td>6039</td>\n",
       "      <td>4</td>\n",
       "      <td>16</td>\n",
       "      <td>Animation</td>\n",
       "    </tr>\n",
       "    <tr>\n",
       "      <th>1</th>\n",
       "      <td>6039</td>\n",
       "      <td>4</td>\n",
       "      <td>40</td>\n",
       "      <td>Animation</td>\n",
       "    </tr>\n",
       "    <tr>\n",
       "      <th>2</th>\n",
       "      <td>6039</td>\n",
       "      <td>4</td>\n",
       "      <td>37</td>\n",
       "      <td>Animation</td>\n",
       "    </tr>\n",
       "    <tr>\n",
       "      <th>3</th>\n",
       "      <td>6039</td>\n",
       "      <td>4</td>\n",
       "      <td>10</td>\n",
       "      <td>Animation</td>\n",
       "    </tr>\n",
       "    <tr>\n",
       "      <th>4</th>\n",
       "      <td>6039</td>\n",
       "      <td>4</td>\n",
       "      <td>17</td>\n",
       "      <td>Animation</td>\n",
       "    </tr>\n",
       "  </tbody>\n",
       "</table>\n",
       "<p>836483 rows × 4 columns</p>\n",
       "</div>"
      ],
      "text/plain": [
       "    user_id  counts  title                         genre\n",
       "0         0       5      0                         Drama\n",
       "1         0       3      1  Animation|Children's|Musical\n",
       "2         0       3      2               Musical|Romance\n",
       "3         0       4      3                         Drama\n",
       "4         0       5      4   Animation|Children's|Comedy\n",
       "..      ...     ...    ...                           ...\n",
       "0      6039       4     16                     Animation\n",
       "1      6039       4     40                     Animation\n",
       "2      6039       4     37                     Animation\n",
       "3      6039       4     10                     Animation\n",
       "4      6039       4     17                     Animation\n",
       "\n",
       "[836483 rows x 4 columns]"
      ]
     },
     "execution_count": 67,
     "metadata": {},
     "output_type": "execute_result"
    }
   ],
   "source": [
    "# user_to_idx.get을 통해 user_to_idx의 모든 key, value를 Series로 구함\n",
    "# .map()을 통해 data['user_id']와 같은 key를 갖는 value를 map 시켜줌\n",
    "# 정상적으로 인덱싱 되지 않은 row의 경우 인ㄷ게스가 NaN이 될테니 dropna()로 제거\n",
    "temp_user_data = data['user_id'].map(user_to_idx.get).dropna()\n",
    "if len(temp_user_data) == len(data):\n",
    "    print('user_id column indexing OK!!')\n",
    "    data['user_id'] = temp_user_data # data['user_id']로 인덱싱된 Series로 교체해줌\n",
    "else:\n",
    "    print('user_id column indexing Fail!!')\n",
    "\n",
    "# title_to_idx을 통해 artist 컬럼도 동일한 방식으로 인덱싱해 줍니다. \n",
    "temp_title_data = data['title'].map(title_to_idx.get).dropna()\n",
    "if len(temp_title_data) == len(data):\n",
    "    print('title column indexing OK!!')\n",
    "    data['title'] = temp_title_data\n",
    "else:\n",
    "    print('title column indexing Fail!!')\n",
    "\n",
    "data"
   ]
  },
  {
   "cell_type": "code",
   "execution_count": 68,
   "id": "dc6217a9",
   "metadata": {},
   "outputs": [
    {
     "data": {
      "text/plain": [
       "<6040x3628 sparse matrix of type '<class 'numpy.int64'>'\n",
       "\twith 836483 stored elements in Compressed Sparse Row format>"
      ]
     },
     "execution_count": 68,
     "metadata": {},
     "output_type": "execute_result"
    }
   ],
   "source": [
    "# CSR Matrix\n",
    "from scipy.sparse import csr_matrix\n",
    "\n",
    "num_user = data['user_id'].nunique()\n",
    "num_title = data['title'].nunique()\n",
    "\n",
    "csr_data = csr_matrix((data.counts, (data.user_id, data.title)), shape=(num_user, num_title))\n",
    "csr_data"
   ]
  },
  {
   "cell_type": "code",
   "execution_count": 69,
   "id": "154199b8",
   "metadata": {},
   "outputs": [
    {
     "name": "stdout",
     "output_type": "stream",
     "text": [
      "  (0, 0)\t5\n",
      "  (0, 1)\t3\n",
      "  (0, 2)\t3\n",
      "  (0, 3)\t4\n",
      "  (0, 4)\t5\n",
      "  (0, 5)\t3\n",
      "  (0, 6)\t5\n",
      "  (0, 7)\t5\n",
      "  (0, 8)\t4\n",
      "  (0, 9)\t4\n",
      "  (0, 10)\t5\n",
      "  (0, 11)\t4\n",
      "  (0, 12)\t4\n",
      "  (0, 13)\t4\n",
      "  (0, 14)\t5\n",
      "  (0, 15)\t4\n",
      "  (0, 16)\t3\n",
      "  (0, 17)\t4\n",
      "  (0, 18)\t5\n",
      "  (0, 19)\t4\n",
      "  (0, 20)\t3\n",
      "  (0, 21)\t3\n",
      "  (0, 22)\t5\n",
      "  (0, 23)\t5\n",
      "  (0, 24)\t3\n",
      "  :\t:\n",
      "  (6038, 2311)\t4\n",
      "  (6038, 2317)\t5\n",
      "  (6038, 2386)\t4\n",
      "  (6038, 2394)\t5\n",
      "  (6038, 2424)\t4\n",
      "  (6038, 2437)\t4\n",
      "  (6038, 2446)\t5\n",
      "  (6038, 2471)\t4\n",
      "  (6038, 2511)\t5\n",
      "  (6038, 2523)\t4\n",
      "  (6038, 2559)\t3\n",
      "  (6038, 2560)\t4\n",
      "  (6038, 2631)\t5\n",
      "  (6038, 2648)\t4\n",
      "  (6038, 2654)\t5\n",
      "  (6038, 2738)\t4\n",
      "  (6038, 2740)\t5\n",
      "  (6038, 2857)\t5\n",
      "  (6038, 2860)\t3\n",
      "  (6038, 3311)\t5\n",
      "  (6039, 10)\t4\n",
      "  (6039, 16)\t4\n",
      "  (6039, 17)\t4\n",
      "  (6039, 37)\t4\n",
      "  (6039, 40)\t4\n"
     ]
    }
   ],
   "source": [
    "print(csr_data)"
   ]
  },
  {
   "cell_type": "code",
   "execution_count": 70,
   "id": "3f7a6d74",
   "metadata": {},
   "outputs": [],
   "source": [
    "# AlternatingLeastSquares 모델\n",
    "\n",
    "from implicit.als import AlternatingLeastSquares\n",
    "import os\n",
    "import numpy as np\n",
    "\n",
    "# implicit 라이브러리에서 권장하는 부분 (학습 내용과는 무관)\n",
    "os.environ['OPENBLAS_NUM_THREADS'] = '1'\n",
    "os.environ['KMP_DUPLICATE_LIB_OK'] = 'True'\n",
    "os.environ['MKL_NUM_THREADS'] = '1'"
   ]
  },
  {
   "cell_type": "code",
   "execution_count": 71,
   "id": "e6a7d3ed",
   "metadata": {},
   "outputs": [],
   "source": [
    "# Implicit AlternatingSeriesSquares 모델의 선언\n",
    "als_model = AlternatingLeastSquares(factors=100,\n",
    "                                    regularization=0.01,\n",
    "                                    use_gpu=False,\n",
    "                                    iterations=15,\n",
    "                                    dtype=np.float32)"
   ]
  },
  {
   "cell_type": "code",
   "execution_count": 72,
   "id": "2f942ab5",
   "metadata": {},
   "outputs": [
    {
     "data": {
      "text/plain": [
       "<3628x6040 sparse matrix of type '<class 'numpy.int64'>'\n",
       "\twith 836483 stored elements in Compressed Sparse Column format>"
      ]
     },
     "execution_count": 72,
     "metadata": {},
     "output_type": "execute_result"
    }
   ],
   "source": [
    "# als 모델은 input으로 item X user 꼴의 matrix를 받으므로 Transpose 해주기\n",
    "csr_data_transpose = csr_data.T\n",
    "csr_data_transpose"
   ]
  },
  {
   "cell_type": "code",
   "execution_count": 73,
   "id": "473a9625",
   "metadata": {},
   "outputs": [
    {
     "data": {
      "application/vnd.jupyter.widget-view+json": {
       "model_id": "7939a77188e847f1b360bd478be8748a",
       "version_major": 2,
       "version_minor": 0
      },
      "text/plain": [
       "  0%|          | 0/15 [00:00<?, ?it/s]"
      ]
     },
     "metadata": {},
     "output_type": "display_data"
    }
   ],
   "source": [
    "# 모델 훈련\n",
    "als_model.fit(csr_data_transpose)"
   ]
  },
  {
   "cell_type": "code",
   "execution_count": 74,
   "id": "dbe526be",
   "metadata": {},
   "outputs": [],
   "source": [
    "# 내가 선호하는 영화 하나 골라 훈련된 모델이 예측한 내 선호도 파악해보기\n",
    "yeon, toy = user_to_idx['yeon'], title_to_idx['toy story (1995)']\n",
    "yeon_vector, toy_vector = als_model.user_factors[yeon], als_model.item_factors[toy]"
   ]
  },
  {
   "cell_type": "code",
   "execution_count": 75,
   "id": "ab2c657c",
   "metadata": {},
   "outputs": [
    {
     "data": {
      "text/plain": [
       "array([-0.03237853, -0.8112134 ,  0.12492882, -0.03238954,  0.16518976,\n",
       "       -0.13444537,  0.46394488, -0.45214972,  1.0664    ,  0.14171718,\n",
       "        0.32324138, -0.09487187, -0.10906488,  0.24568687, -0.32574353,\n",
       "       -0.09812591,  0.38190797,  0.50065655, -0.6000787 ,  0.29480347,\n",
       "       -0.1102195 ,  0.09189848, -0.10850241,  0.34490606, -0.34320882,\n",
       "        0.22529666,  0.23808257,  0.22599994,  0.07547922,  0.34988502,\n",
       "        0.02464161, -0.11065204,  0.7625838 , -0.56317943, -0.23231241,\n",
       "        0.52497655, -0.39255306, -0.7996937 ,  0.11458381, -0.7375542 ,\n",
       "       -0.23194315,  0.281631  , -0.59650177, -0.44351617, -0.53230256,\n",
       "        0.15749614,  0.66059107,  0.2359882 ,  0.01045387, -0.1715315 ,\n",
       "        0.1062969 , -0.36355722,  0.643036  , -0.24985766,  0.6084954 ,\n",
       "        0.8096315 , -1.3040098 ,  0.05442179, -0.65849423, -0.01331906,\n",
       "        0.21130672,  0.1566588 , -1.2179389 , -0.7748289 ,  0.16874771,\n",
       "        0.29861358,  0.39398307, -0.18725336, -0.07219707,  0.31009877,\n",
       "        0.13665403, -0.15589824, -0.96906674,  0.53193665,  0.66422224,\n",
       "        0.5548866 , -0.14735672, -0.10354166,  0.22645772,  0.40676245,\n",
       "        0.58352673,  0.58672976, -0.27553785,  0.36863244, -0.40547916,\n",
       "       -0.5294288 ,  0.50438946, -0.33198673,  0.0807227 , -0.13616727,\n",
       "        0.22842662, -0.5126222 ,  0.48889282,  0.3188237 ,  0.1891502 ,\n",
       "       -0.35296398,  0.28502783,  0.18260735,  0.04729169,  0.18067169],\n",
       "      dtype=float32)"
      ]
     },
     "execution_count": 75,
     "metadata": {},
     "output_type": "execute_result"
    }
   ],
   "source": [
    "yeon_vector"
   ]
  },
  {
   "cell_type": "code",
   "execution_count": 76,
   "id": "ab30cade",
   "metadata": {},
   "outputs": [
    {
     "data": {
      "text/plain": [
       "array([ 0.00039017, -0.01238247,  0.03578262,  0.00090308,  0.00710632,\n",
       "        0.00137028,  0.02872787, -0.00205029,  0.00709597,  0.01688072,\n",
       "        0.01170911, -0.01519036, -0.01800711,  0.01046418,  0.00738228,\n",
       "       -0.00738027,  0.02148806,  0.02002275, -0.02383891,  0.00746094,\n",
       "        0.00354295,  0.02138529, -0.00567409,  0.0198663 ,  0.00997763,\n",
       "        0.00987985,  0.04095101,  0.03317755,  0.01199262, -0.00126008,\n",
       "        0.01511723,  0.01189682,  0.02140596, -0.03624062,  0.02774235,\n",
       "        0.02886336,  0.00668471, -0.03119276,  0.00995038, -0.00113635,\n",
       "       -0.00142319,  0.00567669, -0.0182303 , -0.00989127, -0.00527925,\n",
       "        0.02816091,  0.0064056 ,  0.02119739, -0.01530181, -0.00073159,\n",
       "        0.01653981,  0.00631407,  0.00346209, -0.0099992 , -0.02515699,\n",
       "        0.01123337, -0.04449842,  0.02297432, -0.00128543,  0.02110685,\n",
       "        0.02061981,  0.0009486 , -0.04445238, -0.00515058,  0.05133826,\n",
       "        0.00973491,  0.01245662, -0.01554864,  0.00505119,  0.02223887,\n",
       "        0.01566137, -0.02248052, -0.01971374,  0.01566358,  0.0080593 ,\n",
       "        0.03583528,  0.00254519,  0.01547762,  0.00689555,  0.02008521,\n",
       "        0.01869298,  0.02329649,  0.00959579,  0.00056281, -0.00224004,\n",
       "       -0.0237765 ,  0.01160893, -0.0236678 ,  0.03045613,  0.03814064,\n",
       "        0.00805202,  0.01090899,  0.03221771,  0.01760301,  0.00685119,\n",
       "       -0.02421858,  0.00317119,  0.01844485, -0.01404946,  0.01644326],\n",
       "      dtype=float32)"
      ]
     },
     "execution_count": 76,
     "metadata": {},
     "output_type": "execute_result"
    }
   ],
   "source": [
    "toy_vector"
   ]
  },
  {
   "cell_type": "code",
   "execution_count": 77,
   "id": "f077651f",
   "metadata": {},
   "outputs": [
    {
     "data": {
      "text/plain": [
       "0.50357443"
      ]
     },
     "execution_count": 77,
     "metadata": {},
     "output_type": "execute_result"
    }
   ],
   "source": [
    "np.dot(yeon_vector, toy_vector)"
   ]
  },
  {
   "cell_type": "code",
   "execution_count": 78,
   "id": "08f4232e",
   "metadata": {},
   "outputs": [],
   "source": [
    "my_fav = [\"tarzan (1999)\", \"toy story (1995)\", \"cinderella (1950)\",\n",
    "         \"beauty and the beast (1991)\", \"bambi (1942)\"]"
   ]
  },
  {
   "cell_type": "code",
   "execution_count": 79,
   "id": "53bb3e0f",
   "metadata": {},
   "outputs": [
    {
     "name": "stdout",
     "output_type": "stream",
     "text": [
      "0.38375247\n",
      "0.38752672\n",
      "0.57635146\n",
      "0.41738373\n"
     ]
    }
   ],
   "source": [
    "tarzan = title_to_idx[\"tarzan (1999)\"]\n",
    "tarzan_vector = als_model.item_factors[tarzan]\n",
    "print(np.dot(yeon_vector, tarzan_vector))\n",
    "\n",
    "cin = title_to_idx[\"cinderella (1950)\"]\n",
    "cin_vector = als_model.item_factors[cin]\n",
    "print(np.dot(yeon_vector, cin_vector))\n",
    "\n",
    "beauty = title_to_idx[\"beauty and the beast (1991)\"]\n",
    "beauty_vector = als_model.item_factors[beauty]\n",
    "print(np.dot(yeon_vector, beauty_vector))\n",
    "\n",
    "bambi = title_to_idx[\"bambi (1942)\"]\n",
    "bambi_vector = als_model.item_factors[bambi]\n",
    "print(np.dot(yeon_vector, bambi_vector))"
   ]
  },
  {
   "cell_type": "markdown",
   "id": "0002310d",
   "metadata": {},
   "source": [
    "> 동일한 장르만 추가해서 1에 더 가까운 높은 값을 기대했는데 1st-try와 결과가 드라마틱하게 차이나지 않았다.\n",
    "> - `title`과 `counts`로 콘텐츠 기반 필터링을 사용해 기대했던 것 만큼 `genre`와 깊은 관계가 있지 않다는 생각이 들었다."
   ]
  },
  {
   "cell_type": "code",
   "execution_count": 80,
   "id": "8e93d797",
   "metadata": {},
   "outputs": [
    {
     "name": "stdout",
     "output_type": "stream",
     "text": [
      "-0.0184083\n",
      "0.031199781\n"
     ]
    }
   ],
   "source": [
    "# 보지 못한 영화에 대한 선호도\n",
    "one = title_to_idx[\"one flew over the cuckoo's nest (1975)\"] # Drama\n",
    "one_vector = als_model.item_factors[one]\n",
    "print(np.dot(yeon_vector, one_vector))\n",
    "\n",
    "six = title_to_idx[\"sixth sense, the (1999)\"] # Thriller\n",
    "six_vector = als_model.item_factors[six]\n",
    "print(np.dot(yeon_vector, six_vector))"
   ]
  },
  {
   "cell_type": "markdown",
   "id": "443c2d19",
   "metadata": {},
   "source": [
    "> 보지 못한 영화에 대한 선호도는 대부분 0 근처거나 음수임을 알 수 있다.\n",
    "> - 1st-try보다는 차이가 많이 난다."
   ]
  },
  {
   "cell_type": "code",
   "execution_count": 81,
   "id": "03ed7a50",
   "metadata": {},
   "outputs": [
    {
     "data": {
      "text/plain": [
       "[(40, 0.9999999),\n",
       " (50, 0.7975026),\n",
       " (322, 0.6030621),\n",
       " (33, 0.5977157),\n",
       " (4, 0.57841027),\n",
       " (110, 0.52970064),\n",
       " (330, 0.48881882),\n",
       " (20, 0.4782641),\n",
       " (10, 0.47476017),\n",
       " (255, 0.42414254),\n",
       " (126, 0.39045945),\n",
       " (160, 0.37999249),\n",
       " (34, 0.37962848),\n",
       " (16, 0.36829722),\n",
       " (1825, 0.35697356)]"
      ]
     },
     "execution_count": 81,
     "metadata": {},
     "output_type": "execute_result"
    }
   ],
   "source": [
    "# 비슷한 영화 추천받기\n",
    "fav_title = \"toy story (1995)\"\n",
    "title_id = title_to_idx[fav_title]\n",
    "similar_title = als_model.similar_items(title_id, N=15)\n",
    "similar_title"
   ]
  },
  {
   "cell_type": "code",
   "execution_count": 82,
   "id": "d1371084",
   "metadata": {},
   "outputs": [],
   "source": [
    "# index로부터 title 이름을 얻는 dict 생성\n",
    "idx_to_title = {v: k for k, v in title_to_idx.items()}\n",
    "# [idx_to_title[i[0]] for i in similar_title]"
   ]
  },
  {
   "cell_type": "code",
   "execution_count": 83,
   "id": "93d42761",
   "metadata": {},
   "outputs": [
    {
     "data": {
      "text/plain": [
       "['toy story (1995)',\n",
       " 'toy story 2 (1999)',\n",
       " 'babe (1995)',\n",
       " 'aladdin (1992)',\n",
       " \"bug's life, a (1998)\",\n",
       " 'groundhog day (1993)',\n",
       " 'lion king, the (1994)',\n",
       " 'pleasantville (1998)',\n",
       " 'beauty and the beast (1991)',\n",
       " \"there's something about mary (1998)\"]"
      ]
     },
     "execution_count": 83,
     "metadata": {},
     "output_type": "execute_result"
    }
   ],
   "source": [
    "# 위를 함수로 구현하기\n",
    "def get_similar_title(title_name: str):\n",
    "    title_id = title_to_idx[title_name]\n",
    "    similar_title = als_model.similar_items(title_id)\n",
    "    similar_title = [idx_to_title[i[0]] for i in similar_title]\n",
    "    return similar_title\n",
    "\n",
    "get_similar_title(fav_title) # \"toy story (1995)\""
   ]
  },
  {
   "cell_type": "markdown",
   "id": "bf3872c4",
   "metadata": {},
   "source": [
    "> 제목만 봐도 모두 `Animation` 영화임을 알 수 있다."
   ]
  },
  {
   "cell_type": "code",
   "execution_count": 84,
   "id": "2b376504",
   "metadata": {},
   "outputs": [
    {
     "data": {
      "text/plain": [
       "[(33, 0.51885164),\n",
       " (330, 0.47943527),\n",
       " (50, 0.47207084),\n",
       " (4, 0.39573058),\n",
       " (8, 0.37989622),\n",
       " (34, 0.36496577),\n",
       " (528, 0.3455613),\n",
       " (46, 0.33170196),\n",
       " (572, 0.32616752),\n",
       " (536, 0.3219366),\n",
       " (548, 0.31761724),\n",
       " (30, 0.3126245),\n",
       " (191, 0.3079758),\n",
       " (950, 0.2967661),\n",
       " (547, 0.2919436),\n",
       " (551, 0.28474638),\n",
       " (32, 0.2535414),\n",
       " (619, 0.24108833),\n",
       " (851, 0.23492028),\n",
       " (520, 0.23277721)]"
      ]
     },
     "execution_count": 84,
     "metadata": {},
     "output_type": "execute_result"
    }
   ],
   "source": [
    "# 내가 좋아할만한 영화 추천\n",
    "user = user_to_idx['yeon']\n",
    "\n",
    "# recommend에선 user*item CSR Matrix를 받음\n",
    "title_recommended = als_model.recommend(user,\n",
    "                                        csr_data,\n",
    "                                        N=20,\n",
    "                                        filter_already_liked_items=True)\n",
    "title_recommended"
   ]
  },
  {
   "cell_type": "code",
   "execution_count": 85,
   "id": "fe49c51e",
   "metadata": {},
   "outputs": [
    {
     "data": {
      "text/plain": [
       "['aladdin (1992)',\n",
       " 'lion king, the (1994)',\n",
       " 'toy story 2 (1999)',\n",
       " \"bug's life, a (1998)\",\n",
       " 'snow white and the seven dwarfs (1937)',\n",
       " 'mulan (1998)',\n",
       " 'pinocchio (1940)',\n",
       " 'dumbo (1941)',\n",
       " 'sleeping beauty (1959)',\n",
       " 'jungle book, the (1967)',\n",
       " 'fantasia (1940)',\n",
       " 'antz (1998)',\n",
       " 'little mermaid, the (1989)',\n",
       " '101 dalmatians (1961)',\n",
       " 'lady and the tramp (1955)',\n",
       " 'peter pan (1953)',\n",
       " 'hercules (1997)',\n",
       " 'alice in wonderland (1951)',\n",
       " 'iron giant, the (1999)',\n",
       " \"charlotte's web (1973)\"]"
      ]
     },
     "execution_count": 85,
     "metadata": {},
     "output_type": "execute_result"
    }
   ],
   "source": [
    "[idx_to_title[i[0]] for i in title_recommended]"
   ]
  },
  {
   "cell_type": "code",
   "execution_count": 86,
   "id": "c2b2338f",
   "metadata": {},
   "outputs": [],
   "source": [
    "aladdin = title_to_idx['aladdin (1992)']\n",
    "explain = als_model.explain(user, csr_data, itemid=aladdin)"
   ]
  },
  {
   "cell_type": "code",
   "execution_count": 87,
   "id": "8d690c72",
   "metadata": {},
   "outputs": [
    {
     "data": {
      "text/plain": [
       "[('beauty and the beast (1991)', 0.22645449233092538),\n",
       " ('toy story (1995)', 0.14473115543218437),\n",
       " ('tarzan (1999)', 0.08401910869690082),\n",
       " ('cinderella (1950)', 0.034960320226042785),\n",
       " ('bambi (1942)', 0.021133182191141235)]"
      ]
     },
     "execution_count": 87,
     "metadata": {},
     "output_type": "execute_result"
    }
   ],
   "source": [
    "[(idx_to_title[i[0]], i[1]) for i in explain[1]]"
   ]
  },
  {
   "cell_type": "markdown",
   "id": "9b984b5e",
   "metadata": {},
   "source": [
    "> 마찬가지로 내가 추가로 입력한 모든 영화들이 `aladdin`을 추천하는데 가장 많이 기여함을 알 수 있다."
   ]
  },
  {
   "cell_type": "markdown",
   "id": "0c1d6550",
   "metadata": {},
   "source": [
    "***"
   ]
  },
  {
   "cell_type": "markdown",
   "id": "38745535",
   "metadata": {},
   "source": [
    "# 🧤 회고\n",
    "\n",
    "- 평소 추천시스템을 다루는 알고리즘에 대해 큰 관심이 있었는데 지난 Fundamental만 보고는 개념적인 이해도 완벽하게 되지 않았다. 이번 Exploration에서도 CSR Matrix나 MF 모델에 대해 100% 이해했다고 자부할 순 없지만 왜 사용하는지, 어떤 모델을 어떤 방식으로 사용할 수 있는지 조금은 배울 수 있었던 재밌는 노드였다.\n",
    "\n",
    "<br/>\n",
    "\n",
    "- 그동안 명시적인 데이터에 대해서만 생각해보았지 implicit한 피드백을 어떻게 처리할지 깊게 생각해보지 못했다. 이는 데이터를 다루는 사람의 주관과 데이터의 baseline을 모두 고려해야 하며 정답이 없다고 생각하는데, 다음 번엔 좀 더 밀접하고 맞물려있는 조건들도 분석해보고 싶다.\n",
    "\n",
    "<br/>\n",
    "\n",
    "- 처음엔 user_id와 movie_id가 1부터 차례대로 존재할 거라 생각해(원래 숫자로 주어졌기 때문에) 굳이 예제처럼 새로 영어 이름(ex. `yeon`)을 추가하고, 이를 `user_to_idx`로 변형하는 작업을 거쳐야 하나 싶었는데, 초기 nunique()로 파악해보니 중간에 빈 id 값들이 존재했다. EDA 때 이런 파악은 굉장히 중요한 부분이라 생각된다.\n",
    "\n",
    "<br/>\n",
    "\n",
    "- 진행하며 가장 궁금했던 부분은 어떤 원리로 1에 가까운게 선호도가 높은 것인지, 1보다 큰 것은 어떤 의미이며며 1보다 얼마나 가까워야 높은 선호도를 갖는다고 판단할 수 있는지였다 (..) 이것도 주관적인 견해가 들어가야 하는 것일까 ?!?! 아님 내가 모르는 것 ?!?!\n",
    "\n",
    "<br/>\n",
    "\n",
    "- Movielens 영화 추천 실습에서 genre는 explicit한 데이터로 콘텐츠 기반 필터링을 통해 추천해줄 수 있는 것 같다. `협업 필터링`과 `콘텐츠 기반 필터링`을 함께 사용할 순 없을까? 사실 counts와 genre를 동시에 고려해 사용자 맞춤형 영화를 추천해주고 싶었다. 분명 방법을 있을테지만 아직 거기까진 깊이 들어가지 못했다.\n",
    "\n",
    "<br/>\n",
    "\n",
    "- 1st-try에선 어떤 영화인지 고려하지 않고 아무 영화들을 추가해 담았었는데, 내가 본 영화에 대한 & 보지 못한 영화에 대한 선호도가 크게 차이가 나지 않았다. recommend로 내가 좋아할 만한 영화를 추천받았을 때도 그 영화가 정말 내가 추가한 영화들과 관련이 있는지도 잘 알지 못해 (허헛^__^..) 2nd-try를 진행했는데, 이 땐 `animation` 장르의 영화 위주로 추가했다. 1st-try보단 계산된 선호도가 조금 높긴 했지만 별반 다를 건 없었다. 3번째로 작성한 선호도 측정 값에 대한 이해가 되어야 해결할 수 있는 문제인 것 같다.\n",
    "\n",
    "<br/>\n",
    "\n",
    "- 또한 기여도 체크 부분에서 내가 새롭게 추가한 영화들이 새 영화들을 추천하는데 가장 많이 기여한 것을 보고 어쩌면 당연한 건데 원래 이런 건가..? 싶은 의문도 들었다.\n",
    "\n",
    "<br/>\n",
    "\n",
    "- 평소 알고리즘의 노예로 사는 것을 좋아해서 (..) 여러 유투브, 넷플릭스 등의 OTT 서비스들 혹은 특히 멜론에서 내 선호도를 파악해 추천해주는 음악이나 한 해가 끝나고 1년 간의 내 데이터를 분석해 리포트로 보여주는 것을 굉장히 좋아한다. 나도 추천 알고리즘의 개발자로 실생활에 유의미한 도움을 줄 수 있는 삶을 살고싶어졌다. 재밌었던 노드다!"
   ]
  },
  {
   "cell_type": "code",
   "execution_count": null,
   "id": "6f723f34",
   "metadata": {},
   "outputs": [],
   "source": []
  }
 ],
 "metadata": {
  "kernelspec": {
   "display_name": "Python 3 (ipykernel)",
   "language": "python",
   "name": "python3"
  },
  "language_info": {
   "codemirror_mode": {
    "name": "ipython",
    "version": 3
   },
   "file_extension": ".py",
   "mimetype": "text/x-python",
   "name": "python",
   "nbconvert_exporter": "python",
   "pygments_lexer": "ipython3",
   "version": "3.9.7"
  }
 },
 "nbformat": 4,
 "nbformat_minor": 5
}
