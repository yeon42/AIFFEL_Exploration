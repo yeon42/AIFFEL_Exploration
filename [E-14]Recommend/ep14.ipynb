{
 "cells": [
  {
   "cell_type": "markdown",
   "id": "f71db25d",
   "metadata": {},
   "source": [
    "## 추천 시스템 (Recommender System)\n",
    ": 나와 비슷한 다른 사용자들이 좋아하는 것과 비슷한 것을 내게 추천해준다.\n",
    "<br/>\n",
    "\n",
    "추천 시스템은 1. 아이템은 매우 많고 2. 유저의 취향이 다양할 때 유저가 소비할만한 아이템을 예측하는 모델이다. <br/>\n",
    "\n",
    "**유저가 좋아하는 특정 아티스트와 유사한 다른 아티스트를 추천**하는 추천 시스템을 만들어보자. <br/> [Last.fm][1]에서 어떤 유저가 특정 아티스트의 노래를 몇 번 들었는지에 대한 [데이터][2]를 제공하고 있다.\n",
    "\n",
    "> 학술용으로 제공한 [멜론 데이터][3]도 이용 가능\n",
    "\n",
    "[1]:https://www.last.fm/\n",
    "[2]:http://ocelma.net/MusicRecommendationDataset/lastfm-360K.html\n",
    "[3]:https://arena.kakao.com/c/7"
   ]
  },
  {
   "cell_type": "markdown",
   "id": "a411ee42",
   "metadata": {},
   "source": [
    "## 1. 데이터 탐색하기와 전처리\n",
    "\n",
    "### 데이터 준비\n",
    "오늘 다룰 데이터는 `csv` 파일이 아닌 `tsv` 파일인데, 크기가 1.6Gb가 넘어간다.\n",
    "> `tsv`는 Tab-Separated Values의 약자로, Comma-Separated Values인 `csv`와 거의 동일하나 구분자가 comma가 아닌 tab인 것이다.\n",
    "> - 이는 Pandas의 `read_csv`를 이용해 충분히 열어볼 수 있다."
   ]
  },
  {
   "cell_type": "code",
   "execution_count": 1,
   "id": "c94debfc",
   "metadata": {},
   "outputs": [
    {
     "data": {
      "text/html": [
       "<div>\n",
       "<style scoped>\n",
       "    .dataframe tbody tr th:only-of-type {\n",
       "        vertical-align: middle;\n",
       "    }\n",
       "\n",
       "    .dataframe tbody tr th {\n",
       "        vertical-align: top;\n",
       "    }\n",
       "\n",
       "    .dataframe thead th {\n",
       "        text-align: right;\n",
       "    }\n",
       "</style>\n",
       "<table border=\"1\" class=\"dataframe\">\n",
       "  <thead>\n",
       "    <tr style=\"text-align: right;\">\n",
       "      <th></th>\n",
       "      <th>user_id</th>\n",
       "      <th>artist_MBID</th>\n",
       "      <th>artist</th>\n",
       "      <th>play</th>\n",
       "    </tr>\n",
       "  </thead>\n",
       "  <tbody>\n",
       "    <tr>\n",
       "      <th>0</th>\n",
       "      <td>00000c289a1829a808ac09c00daf10bc3c4e223b</td>\n",
       "      <td>3bd73256-3905-4f3a-97e2-8b341527f805</td>\n",
       "      <td>betty blowtorch</td>\n",
       "      <td>2137</td>\n",
       "    </tr>\n",
       "    <tr>\n",
       "      <th>1</th>\n",
       "      <td>00000c289a1829a808ac09c00daf10bc3c4e223b</td>\n",
       "      <td>f2fb0ff0-5679-42ec-a55c-15109ce6e320</td>\n",
       "      <td>die Ärzte</td>\n",
       "      <td>1099</td>\n",
       "    </tr>\n",
       "    <tr>\n",
       "      <th>2</th>\n",
       "      <td>00000c289a1829a808ac09c00daf10bc3c4e223b</td>\n",
       "      <td>b3ae82c2-e60b-4551-a76d-6620f1b456aa</td>\n",
       "      <td>melissa etheridge</td>\n",
       "      <td>897</td>\n",
       "    </tr>\n",
       "    <tr>\n",
       "      <th>3</th>\n",
       "      <td>00000c289a1829a808ac09c00daf10bc3c4e223b</td>\n",
       "      <td>3d6bbeb7-f90e-4d10-b440-e153c0d10b53</td>\n",
       "      <td>elvenking</td>\n",
       "      <td>717</td>\n",
       "    </tr>\n",
       "    <tr>\n",
       "      <th>4</th>\n",
       "      <td>00000c289a1829a808ac09c00daf10bc3c4e223b</td>\n",
       "      <td>bbd2ffd7-17f4-4506-8572-c1ea58c3f9a8</td>\n",
       "      <td>juliette &amp; the licks</td>\n",
       "      <td>706</td>\n",
       "    </tr>\n",
       "    <tr>\n",
       "      <th>5</th>\n",
       "      <td>00000c289a1829a808ac09c00daf10bc3c4e223b</td>\n",
       "      <td>8bfac288-ccc5-448d-9573-c33ea2aa5c30</td>\n",
       "      <td>red hot chili peppers</td>\n",
       "      <td>691</td>\n",
       "    </tr>\n",
       "    <tr>\n",
       "      <th>6</th>\n",
       "      <td>00000c289a1829a808ac09c00daf10bc3c4e223b</td>\n",
       "      <td>6531c8b1-76ea-4141-b270-eb1ac5b41375</td>\n",
       "      <td>magica</td>\n",
       "      <td>545</td>\n",
       "    </tr>\n",
       "    <tr>\n",
       "      <th>7</th>\n",
       "      <td>00000c289a1829a808ac09c00daf10bc3c4e223b</td>\n",
       "      <td>21f3573f-10cf-44b3-aeaa-26cccd8448b5</td>\n",
       "      <td>the black dahlia murder</td>\n",
       "      <td>507</td>\n",
       "    </tr>\n",
       "    <tr>\n",
       "      <th>8</th>\n",
       "      <td>00000c289a1829a808ac09c00daf10bc3c4e223b</td>\n",
       "      <td>c5db90c4-580d-4f33-b364-fbaa5a3a58b5</td>\n",
       "      <td>the murmurs</td>\n",
       "      <td>424</td>\n",
       "    </tr>\n",
       "    <tr>\n",
       "      <th>9</th>\n",
       "      <td>00000c289a1829a808ac09c00daf10bc3c4e223b</td>\n",
       "      <td>0639533a-0402-40ba-b6e0-18b067198b73</td>\n",
       "      <td>lunachicks</td>\n",
       "      <td>403</td>\n",
       "    </tr>\n",
       "  </tbody>\n",
       "</table>\n",
       "</div>"
      ],
      "text/plain": [
       "                                    user_id  \\\n",
       "0  00000c289a1829a808ac09c00daf10bc3c4e223b   \n",
       "1  00000c289a1829a808ac09c00daf10bc3c4e223b   \n",
       "2  00000c289a1829a808ac09c00daf10bc3c4e223b   \n",
       "3  00000c289a1829a808ac09c00daf10bc3c4e223b   \n",
       "4  00000c289a1829a808ac09c00daf10bc3c4e223b   \n",
       "5  00000c289a1829a808ac09c00daf10bc3c4e223b   \n",
       "6  00000c289a1829a808ac09c00daf10bc3c4e223b   \n",
       "7  00000c289a1829a808ac09c00daf10bc3c4e223b   \n",
       "8  00000c289a1829a808ac09c00daf10bc3c4e223b   \n",
       "9  00000c289a1829a808ac09c00daf10bc3c4e223b   \n",
       "\n",
       "                            artist_MBID                   artist  play  \n",
       "0  3bd73256-3905-4f3a-97e2-8b341527f805          betty blowtorch  2137  \n",
       "1  f2fb0ff0-5679-42ec-a55c-15109ce6e320                die Ärzte  1099  \n",
       "2  b3ae82c2-e60b-4551-a76d-6620f1b456aa        melissa etheridge   897  \n",
       "3  3d6bbeb7-f90e-4d10-b440-e153c0d10b53                elvenking   717  \n",
       "4  bbd2ffd7-17f4-4506-8572-c1ea58c3f9a8     juliette & the licks   706  \n",
       "5  8bfac288-ccc5-448d-9573-c33ea2aa5c30    red hot chili peppers   691  \n",
       "6  6531c8b1-76ea-4141-b270-eb1ac5b41375                   magica   545  \n",
       "7  21f3573f-10cf-44b3-aeaa-26cccd8448b5  the black dahlia murder   507  \n",
       "8  c5db90c4-580d-4f33-b364-fbaa5a3a58b5              the murmurs   424  \n",
       "9  0639533a-0402-40ba-b6e0-18b067198b73               lunachicks   403  "
      ]
     },
     "execution_count": 1,
     "metadata": {},
     "output_type": "execute_result"
    }
   ],
   "source": [
    "import pandas as pd\n",
    "import os\n",
    "\n",
    "fname = os.getenv('HOME') + '/aiffel/recommendata_iu/data/lastfm-dataset-360K/usersha1-artmbid-artname-plays.tsv'\n",
    "col_names = ['user_id', 'artist_MBID', 'artist', 'play']   # 임의로 지정한 컬럼명\n",
    "data = pd.read_csv(fname, sep='\\t', names= col_names)      # sep='\\t'로 주어야 tsv를 열 수 있습니다.  \n",
    "data.head(10)"
   ]
  },
  {
   "cell_type": "markdown",
   "id": "c8feab39",
   "metadata": {},
   "source": [
    "> 여기서 `artist_MBID`는 우리의 관심사가 아니다. (계정 id)"
   ]
  },
  {
   "cell_type": "code",
   "execution_count": 2,
   "id": "84ffee0c",
   "metadata": {},
   "outputs": [
    {
     "data": {
      "text/html": [
       "<div>\n",
       "<style scoped>\n",
       "    .dataframe tbody tr th:only-of-type {\n",
       "        vertical-align: middle;\n",
       "    }\n",
       "\n",
       "    .dataframe tbody tr th {\n",
       "        vertical-align: top;\n",
       "    }\n",
       "\n",
       "    .dataframe thead th {\n",
       "        text-align: right;\n",
       "    }\n",
       "</style>\n",
       "<table border=\"1\" class=\"dataframe\">\n",
       "  <thead>\n",
       "    <tr style=\"text-align: right;\">\n",
       "      <th></th>\n",
       "      <th>user_id</th>\n",
       "      <th>artist</th>\n",
       "      <th>play</th>\n",
       "    </tr>\n",
       "  </thead>\n",
       "  <tbody>\n",
       "    <tr>\n",
       "      <th>0</th>\n",
       "      <td>00000c289a1829a808ac09c00daf10bc3c4e223b</td>\n",
       "      <td>betty blowtorch</td>\n",
       "      <td>2137</td>\n",
       "    </tr>\n",
       "    <tr>\n",
       "      <th>1</th>\n",
       "      <td>00000c289a1829a808ac09c00daf10bc3c4e223b</td>\n",
       "      <td>die Ärzte</td>\n",
       "      <td>1099</td>\n",
       "    </tr>\n",
       "    <tr>\n",
       "      <th>2</th>\n",
       "      <td>00000c289a1829a808ac09c00daf10bc3c4e223b</td>\n",
       "      <td>melissa etheridge</td>\n",
       "      <td>897</td>\n",
       "    </tr>\n",
       "    <tr>\n",
       "      <th>3</th>\n",
       "      <td>00000c289a1829a808ac09c00daf10bc3c4e223b</td>\n",
       "      <td>elvenking</td>\n",
       "      <td>717</td>\n",
       "    </tr>\n",
       "    <tr>\n",
       "      <th>4</th>\n",
       "      <td>00000c289a1829a808ac09c00daf10bc3c4e223b</td>\n",
       "      <td>juliette &amp; the licks</td>\n",
       "      <td>706</td>\n",
       "    </tr>\n",
       "    <tr>\n",
       "      <th>5</th>\n",
       "      <td>00000c289a1829a808ac09c00daf10bc3c4e223b</td>\n",
       "      <td>red hot chili peppers</td>\n",
       "      <td>691</td>\n",
       "    </tr>\n",
       "    <tr>\n",
       "      <th>6</th>\n",
       "      <td>00000c289a1829a808ac09c00daf10bc3c4e223b</td>\n",
       "      <td>magica</td>\n",
       "      <td>545</td>\n",
       "    </tr>\n",
       "    <tr>\n",
       "      <th>7</th>\n",
       "      <td>00000c289a1829a808ac09c00daf10bc3c4e223b</td>\n",
       "      <td>the black dahlia murder</td>\n",
       "      <td>507</td>\n",
       "    </tr>\n",
       "    <tr>\n",
       "      <th>8</th>\n",
       "      <td>00000c289a1829a808ac09c00daf10bc3c4e223b</td>\n",
       "      <td>the murmurs</td>\n",
       "      <td>424</td>\n",
       "    </tr>\n",
       "    <tr>\n",
       "      <th>9</th>\n",
       "      <td>00000c289a1829a808ac09c00daf10bc3c4e223b</td>\n",
       "      <td>lunachicks</td>\n",
       "      <td>403</td>\n",
       "    </tr>\n",
       "  </tbody>\n",
       "</table>\n",
       "</div>"
      ],
      "text/plain": [
       "                                    user_id                   artist  play\n",
       "0  00000c289a1829a808ac09c00daf10bc3c4e223b          betty blowtorch  2137\n",
       "1  00000c289a1829a808ac09c00daf10bc3c4e223b                die Ärzte  1099\n",
       "2  00000c289a1829a808ac09c00daf10bc3c4e223b        melissa etheridge   897\n",
       "3  00000c289a1829a808ac09c00daf10bc3c4e223b                elvenking   717\n",
       "4  00000c289a1829a808ac09c00daf10bc3c4e223b     juliette & the licks   706\n",
       "5  00000c289a1829a808ac09c00daf10bc3c4e223b    red hot chili peppers   691\n",
       "6  00000c289a1829a808ac09c00daf10bc3c4e223b                   magica   545\n",
       "7  00000c289a1829a808ac09c00daf10bc3c4e223b  the black dahlia murder   507\n",
       "8  00000c289a1829a808ac09c00daf10bc3c4e223b              the murmurs   424\n",
       "9  00000c289a1829a808ac09c00daf10bc3c4e223b               lunachicks   403"
      ]
     },
     "execution_count": 2,
     "metadata": {},
     "output_type": "execute_result"
    }
   ],
   "source": [
    "# 사용하는 컬럼만 남겨줍니다.\n",
    "using_cols = ['user_id', 'artist', 'play']\n",
    "data = data[using_cols]\n",
    "# data = data.drop(['artist_MBID'], axis=1)\n",
    "data.head(10)"
   ]
  },
  {
   "cell_type": "code",
   "execution_count": 3,
   "id": "e2f08ae7",
   "metadata": {},
   "outputs": [
    {
     "data": {
      "text/html": [
       "<div>\n",
       "<style scoped>\n",
       "    .dataframe tbody tr th:only-of-type {\n",
       "        vertical-align: middle;\n",
       "    }\n",
       "\n",
       "    .dataframe tbody tr th {\n",
       "        vertical-align: top;\n",
       "    }\n",
       "\n",
       "    .dataframe thead th {\n",
       "        text-align: right;\n",
       "    }\n",
       "</style>\n",
       "<table border=\"1\" class=\"dataframe\">\n",
       "  <thead>\n",
       "    <tr style=\"text-align: right;\">\n",
       "      <th></th>\n",
       "      <th>user_id</th>\n",
       "      <th>artist</th>\n",
       "      <th>play</th>\n",
       "    </tr>\n",
       "  </thead>\n",
       "  <tbody>\n",
       "    <tr>\n",
       "      <th>0</th>\n",
       "      <td>00000c289a1829a808ac09c00daf10bc3c4e223b</td>\n",
       "      <td>betty blowtorch</td>\n",
       "      <td>2137</td>\n",
       "    </tr>\n",
       "    <tr>\n",
       "      <th>1</th>\n",
       "      <td>00000c289a1829a808ac09c00daf10bc3c4e223b</td>\n",
       "      <td>die ärzte</td>\n",
       "      <td>1099</td>\n",
       "    </tr>\n",
       "    <tr>\n",
       "      <th>2</th>\n",
       "      <td>00000c289a1829a808ac09c00daf10bc3c4e223b</td>\n",
       "      <td>melissa etheridge</td>\n",
       "      <td>897</td>\n",
       "    </tr>\n",
       "    <tr>\n",
       "      <th>3</th>\n",
       "      <td>00000c289a1829a808ac09c00daf10bc3c4e223b</td>\n",
       "      <td>elvenking</td>\n",
       "      <td>717</td>\n",
       "    </tr>\n",
       "    <tr>\n",
       "      <th>4</th>\n",
       "      <td>00000c289a1829a808ac09c00daf10bc3c4e223b</td>\n",
       "      <td>juliette &amp; the licks</td>\n",
       "      <td>706</td>\n",
       "    </tr>\n",
       "    <tr>\n",
       "      <th>5</th>\n",
       "      <td>00000c289a1829a808ac09c00daf10bc3c4e223b</td>\n",
       "      <td>red hot chili peppers</td>\n",
       "      <td>691</td>\n",
       "    </tr>\n",
       "    <tr>\n",
       "      <th>6</th>\n",
       "      <td>00000c289a1829a808ac09c00daf10bc3c4e223b</td>\n",
       "      <td>magica</td>\n",
       "      <td>545</td>\n",
       "    </tr>\n",
       "    <tr>\n",
       "      <th>7</th>\n",
       "      <td>00000c289a1829a808ac09c00daf10bc3c4e223b</td>\n",
       "      <td>the black dahlia murder</td>\n",
       "      <td>507</td>\n",
       "    </tr>\n",
       "    <tr>\n",
       "      <th>8</th>\n",
       "      <td>00000c289a1829a808ac09c00daf10bc3c4e223b</td>\n",
       "      <td>the murmurs</td>\n",
       "      <td>424</td>\n",
       "    </tr>\n",
       "    <tr>\n",
       "      <th>9</th>\n",
       "      <td>00000c289a1829a808ac09c00daf10bc3c4e223b</td>\n",
       "      <td>lunachicks</td>\n",
       "      <td>403</td>\n",
       "    </tr>\n",
       "  </tbody>\n",
       "</table>\n",
       "</div>"
      ],
      "text/plain": [
       "                                    user_id                   artist  play\n",
       "0  00000c289a1829a808ac09c00daf10bc3c4e223b          betty blowtorch  2137\n",
       "1  00000c289a1829a808ac09c00daf10bc3c4e223b                die ärzte  1099\n",
       "2  00000c289a1829a808ac09c00daf10bc3c4e223b        melissa etheridge   897\n",
       "3  00000c289a1829a808ac09c00daf10bc3c4e223b                elvenking   717\n",
       "4  00000c289a1829a808ac09c00daf10bc3c4e223b     juliette & the licks   706\n",
       "5  00000c289a1829a808ac09c00daf10bc3c4e223b    red hot chili peppers   691\n",
       "6  00000c289a1829a808ac09c00daf10bc3c4e223b                   magica   545\n",
       "7  00000c289a1829a808ac09c00daf10bc3c4e223b  the black dahlia murder   507\n",
       "8  00000c289a1829a808ac09c00daf10bc3c4e223b              the murmurs   424\n",
       "9  00000c289a1829a808ac09c00daf10bc3c4e223b               lunachicks   403"
      ]
     },
     "execution_count": 3,
     "metadata": {},
     "output_type": "execute_result"
    }
   ],
   "source": [
    "data['artist'] = data['artist'].str.lower() # 검색을 쉽게 하기 위해 아티스트 문자열을 소문자로 바꿔줍시다.\n",
    "data.head(10)"
   ]
  },
  {
   "cell_type": "markdown",
   "id": "bda86e96",
   "metadata": {},
   "source": [
    "> 첫 번째 유저가 어떤 아티스트의 노래를 듣는지 확인해보기\n",
    "> - `data.loc[0, 'user_id']`: 0번째 행의 user \n",
    "> - user id 같으면 True, 아니면 False"
   ]
  },
  {
   "cell_type": "code",
   "execution_count": 4,
   "id": "1acd8d83",
   "metadata": {},
   "outputs": [
    {
     "data": {
      "text/plain": [
       "'00000c289a1829a808ac09c00daf10bc3c4e223b'"
      ]
     },
     "execution_count": 4,
     "metadata": {},
     "output_type": "execute_result"
    }
   ],
   "source": [
    "data.loc[0, 'user_id']"
   ]
  },
  {
   "cell_type": "code",
   "execution_count": 5,
   "id": "e1ee2de8",
   "metadata": {},
   "outputs": [
    {
     "data": {
      "text/html": [
       "<div>\n",
       "<style scoped>\n",
       "    .dataframe tbody tr th:only-of-type {\n",
       "        vertical-align: middle;\n",
       "    }\n",
       "\n",
       "    .dataframe tbody tr th {\n",
       "        vertical-align: top;\n",
       "    }\n",
       "\n",
       "    .dataframe thead th {\n",
       "        text-align: right;\n",
       "    }\n",
       "</style>\n",
       "<table border=\"1\" class=\"dataframe\">\n",
       "  <thead>\n",
       "    <tr style=\"text-align: right;\">\n",
       "      <th></th>\n",
       "      <th>user_id</th>\n",
       "      <th>artist</th>\n",
       "      <th>play</th>\n",
       "    </tr>\n",
       "  </thead>\n",
       "  <tbody>\n",
       "    <tr>\n",
       "      <th>0</th>\n",
       "      <td>00000c289a1829a808ac09c00daf10bc3c4e223b</td>\n",
       "      <td>betty blowtorch</td>\n",
       "      <td>2137</td>\n",
       "    </tr>\n",
       "    <tr>\n",
       "      <th>1</th>\n",
       "      <td>00000c289a1829a808ac09c00daf10bc3c4e223b</td>\n",
       "      <td>die ärzte</td>\n",
       "      <td>1099</td>\n",
       "    </tr>\n",
       "    <tr>\n",
       "      <th>2</th>\n",
       "      <td>00000c289a1829a808ac09c00daf10bc3c4e223b</td>\n",
       "      <td>melissa etheridge</td>\n",
       "      <td>897</td>\n",
       "    </tr>\n",
       "    <tr>\n",
       "      <th>3</th>\n",
       "      <td>00000c289a1829a808ac09c00daf10bc3c4e223b</td>\n",
       "      <td>elvenking</td>\n",
       "      <td>717</td>\n",
       "    </tr>\n",
       "    <tr>\n",
       "      <th>4</th>\n",
       "      <td>00000c289a1829a808ac09c00daf10bc3c4e223b</td>\n",
       "      <td>juliette &amp; the licks</td>\n",
       "      <td>706</td>\n",
       "    </tr>\n",
       "    <tr>\n",
       "      <th>5</th>\n",
       "      <td>00000c289a1829a808ac09c00daf10bc3c4e223b</td>\n",
       "      <td>red hot chili peppers</td>\n",
       "      <td>691</td>\n",
       "    </tr>\n",
       "    <tr>\n",
       "      <th>6</th>\n",
       "      <td>00000c289a1829a808ac09c00daf10bc3c4e223b</td>\n",
       "      <td>magica</td>\n",
       "      <td>545</td>\n",
       "    </tr>\n",
       "    <tr>\n",
       "      <th>7</th>\n",
       "      <td>00000c289a1829a808ac09c00daf10bc3c4e223b</td>\n",
       "      <td>the black dahlia murder</td>\n",
       "      <td>507</td>\n",
       "    </tr>\n",
       "    <tr>\n",
       "      <th>8</th>\n",
       "      <td>00000c289a1829a808ac09c00daf10bc3c4e223b</td>\n",
       "      <td>the murmurs</td>\n",
       "      <td>424</td>\n",
       "    </tr>\n",
       "    <tr>\n",
       "      <th>9</th>\n",
       "      <td>00000c289a1829a808ac09c00daf10bc3c4e223b</td>\n",
       "      <td>lunachicks</td>\n",
       "      <td>403</td>\n",
       "    </tr>\n",
       "    <tr>\n",
       "      <th>10</th>\n",
       "      <td>00000c289a1829a808ac09c00daf10bc3c4e223b</td>\n",
       "      <td>walls of jericho</td>\n",
       "      <td>393</td>\n",
       "    </tr>\n",
       "    <tr>\n",
       "      <th>11</th>\n",
       "      <td>00000c289a1829a808ac09c00daf10bc3c4e223b</td>\n",
       "      <td>letzte instanz</td>\n",
       "      <td>387</td>\n",
       "    </tr>\n",
       "    <tr>\n",
       "      <th>12</th>\n",
       "      <td>00000c289a1829a808ac09c00daf10bc3c4e223b</td>\n",
       "      <td>goldfrapp</td>\n",
       "      <td>361</td>\n",
       "    </tr>\n",
       "    <tr>\n",
       "      <th>13</th>\n",
       "      <td>00000c289a1829a808ac09c00daf10bc3c4e223b</td>\n",
       "      <td>horrorpops</td>\n",
       "      <td>358</td>\n",
       "    </tr>\n",
       "    <tr>\n",
       "      <th>14</th>\n",
       "      <td>00000c289a1829a808ac09c00daf10bc3c4e223b</td>\n",
       "      <td>the butchies</td>\n",
       "      <td>329</td>\n",
       "    </tr>\n",
       "    <tr>\n",
       "      <th>15</th>\n",
       "      <td>00000c289a1829a808ac09c00daf10bc3c4e223b</td>\n",
       "      <td>jack off jill</td>\n",
       "      <td>316</td>\n",
       "    </tr>\n",
       "    <tr>\n",
       "      <th>16</th>\n",
       "      <td>00000c289a1829a808ac09c00daf10bc3c4e223b</td>\n",
       "      <td>babes in toyland</td>\n",
       "      <td>310</td>\n",
       "    </tr>\n",
       "    <tr>\n",
       "      <th>17</th>\n",
       "      <td>00000c289a1829a808ac09c00daf10bc3c4e223b</td>\n",
       "      <td>dropkick murphys</td>\n",
       "      <td>302</td>\n",
       "    </tr>\n",
       "    <tr>\n",
       "      <th>18</th>\n",
       "      <td>00000c289a1829a808ac09c00daf10bc3c4e223b</td>\n",
       "      <td>all:my:faults</td>\n",
       "      <td>288</td>\n",
       "    </tr>\n",
       "    <tr>\n",
       "      <th>19</th>\n",
       "      <td>00000c289a1829a808ac09c00daf10bc3c4e223b</td>\n",
       "      <td>le tigre</td>\n",
       "      <td>281</td>\n",
       "    </tr>\n",
       "    <tr>\n",
       "      <th>20</th>\n",
       "      <td>00000c289a1829a808ac09c00daf10bc3c4e223b</td>\n",
       "      <td>schandmaul</td>\n",
       "      <td>244</td>\n",
       "    </tr>\n",
       "    <tr>\n",
       "      <th>21</th>\n",
       "      <td>00000c289a1829a808ac09c00daf10bc3c4e223b</td>\n",
       "      <td>edguy</td>\n",
       "      <td>232</td>\n",
       "    </tr>\n",
       "    <tr>\n",
       "      <th>22</th>\n",
       "      <td>00000c289a1829a808ac09c00daf10bc3c4e223b</td>\n",
       "      <td>maximum the hormone</td>\n",
       "      <td>231</td>\n",
       "    </tr>\n",
       "    <tr>\n",
       "      <th>23</th>\n",
       "      <td>00000c289a1829a808ac09c00daf10bc3c4e223b</td>\n",
       "      <td>all ends</td>\n",
       "      <td>229</td>\n",
       "    </tr>\n",
       "    <tr>\n",
       "      <th>24</th>\n",
       "      <td>00000c289a1829a808ac09c00daf10bc3c4e223b</td>\n",
       "      <td>jack johnson</td>\n",
       "      <td>227</td>\n",
       "    </tr>\n",
       "    <tr>\n",
       "      <th>25</th>\n",
       "      <td>00000c289a1829a808ac09c00daf10bc3c4e223b</td>\n",
       "      <td>eluveitie</td>\n",
       "      <td>222</td>\n",
       "    </tr>\n",
       "    <tr>\n",
       "      <th>26</th>\n",
       "      <td>00000c289a1829a808ac09c00daf10bc3c4e223b</td>\n",
       "      <td>rasputina</td>\n",
       "      <td>220</td>\n",
       "    </tr>\n",
       "    <tr>\n",
       "      <th>27</th>\n",
       "      <td>00000c289a1829a808ac09c00daf10bc3c4e223b</td>\n",
       "      <td>london after midnight</td>\n",
       "      <td>210</td>\n",
       "    </tr>\n",
       "    <tr>\n",
       "      <th>28</th>\n",
       "      <td>00000c289a1829a808ac09c00daf10bc3c4e223b</td>\n",
       "      <td>the killers</td>\n",
       "      <td>208</td>\n",
       "    </tr>\n",
       "    <tr>\n",
       "      <th>29</th>\n",
       "      <td>00000c289a1829a808ac09c00daf10bc3c4e223b</td>\n",
       "      <td>mutyumu</td>\n",
       "      <td>205</td>\n",
       "    </tr>\n",
       "    <tr>\n",
       "      <th>30</th>\n",
       "      <td>00000c289a1829a808ac09c00daf10bc3c4e223b</td>\n",
       "      <td>judas priest</td>\n",
       "      <td>198</td>\n",
       "    </tr>\n",
       "    <tr>\n",
       "      <th>31</th>\n",
       "      <td>00000c289a1829a808ac09c00daf10bc3c4e223b</td>\n",
       "      <td>rob zombie</td>\n",
       "      <td>198</td>\n",
       "    </tr>\n",
       "    <tr>\n",
       "      <th>32</th>\n",
       "      <td>00000c289a1829a808ac09c00daf10bc3c4e223b</td>\n",
       "      <td>the bosshoss</td>\n",
       "      <td>189</td>\n",
       "    </tr>\n",
       "    <tr>\n",
       "      <th>33</th>\n",
       "      <td>00000c289a1829a808ac09c00daf10bc3c4e223b</td>\n",
       "      <td>blue öyster cult</td>\n",
       "      <td>185</td>\n",
       "    </tr>\n",
       "    <tr>\n",
       "      <th>34</th>\n",
       "      <td>00000c289a1829a808ac09c00daf10bc3c4e223b</td>\n",
       "      <td>sandra nasic</td>\n",
       "      <td>183</td>\n",
       "    </tr>\n",
       "    <tr>\n",
       "      <th>35</th>\n",
       "      <td>00000c289a1829a808ac09c00daf10bc3c4e223b</td>\n",
       "      <td>john mayer</td>\n",
       "      <td>182</td>\n",
       "    </tr>\n",
       "    <tr>\n",
       "      <th>36</th>\n",
       "      <td>00000c289a1829a808ac09c00daf10bc3c4e223b</td>\n",
       "      <td>sleater-kinney</td>\n",
       "      <td>175</td>\n",
       "    </tr>\n",
       "    <tr>\n",
       "      <th>37</th>\n",
       "      <td>00000c289a1829a808ac09c00daf10bc3c4e223b</td>\n",
       "      <td>the who</td>\n",
       "      <td>168</td>\n",
       "    </tr>\n",
       "    <tr>\n",
       "      <th>38</th>\n",
       "      <td>00000c289a1829a808ac09c00daf10bc3c4e223b</td>\n",
       "      <td>disciple</td>\n",
       "      <td>154</td>\n",
       "    </tr>\n",
       "    <tr>\n",
       "      <th>39</th>\n",
       "      <td>00000c289a1829a808ac09c00daf10bc3c4e223b</td>\n",
       "      <td>tanzwut</td>\n",
       "      <td>153</td>\n",
       "    </tr>\n",
       "    <tr>\n",
       "      <th>40</th>\n",
       "      <td>00000c289a1829a808ac09c00daf10bc3c4e223b</td>\n",
       "      <td>guano apes</td>\n",
       "      <td>151</td>\n",
       "    </tr>\n",
       "    <tr>\n",
       "      <th>41</th>\n",
       "      <td>00000c289a1829a808ac09c00daf10bc3c4e223b</td>\n",
       "      <td>the rolling stones</td>\n",
       "      <td>150</td>\n",
       "    </tr>\n",
       "    <tr>\n",
       "      <th>42</th>\n",
       "      <td>00000c289a1829a808ac09c00daf10bc3c4e223b</td>\n",
       "      <td>little big town</td>\n",
       "      <td>145</td>\n",
       "    </tr>\n",
       "    <tr>\n",
       "      <th>43</th>\n",
       "      <td>00000c289a1829a808ac09c00daf10bc3c4e223b</td>\n",
       "      <td>team dresch</td>\n",
       "      <td>137</td>\n",
       "    </tr>\n",
       "    <tr>\n",
       "      <th>44</th>\n",
       "      <td>00000c289a1829a808ac09c00daf10bc3c4e223b</td>\n",
       "      <td>betty</td>\n",
       "      <td>135</td>\n",
       "    </tr>\n",
       "    <tr>\n",
       "      <th>45</th>\n",
       "      <td>00000c289a1829a808ac09c00daf10bc3c4e223b</td>\n",
       "      <td>l7</td>\n",
       "      <td>135</td>\n",
       "    </tr>\n",
       "    <tr>\n",
       "      <th>46</th>\n",
       "      <td>00000c289a1829a808ac09c00daf10bc3c4e223b</td>\n",
       "      <td>bif naked</td>\n",
       "      <td>134</td>\n",
       "    </tr>\n",
       "    <tr>\n",
       "      <th>47</th>\n",
       "      <td>00000c289a1829a808ac09c00daf10bc3c4e223b</td>\n",
       "      <td>girlschool</td>\n",
       "      <td>134</td>\n",
       "    </tr>\n",
       "    <tr>\n",
       "      <th>48</th>\n",
       "      <td>00000c289a1829a808ac09c00daf10bc3c4e223b</td>\n",
       "      <td>the wallflowers</td>\n",
       "      <td>131</td>\n",
       "    </tr>\n",
       "  </tbody>\n",
       "</table>\n",
       "</div>"
      ],
      "text/plain": [
       "                                     user_id                   artist  play\n",
       "0   00000c289a1829a808ac09c00daf10bc3c4e223b          betty blowtorch  2137\n",
       "1   00000c289a1829a808ac09c00daf10bc3c4e223b                die ärzte  1099\n",
       "2   00000c289a1829a808ac09c00daf10bc3c4e223b        melissa etheridge   897\n",
       "3   00000c289a1829a808ac09c00daf10bc3c4e223b                elvenking   717\n",
       "4   00000c289a1829a808ac09c00daf10bc3c4e223b     juliette & the licks   706\n",
       "5   00000c289a1829a808ac09c00daf10bc3c4e223b    red hot chili peppers   691\n",
       "6   00000c289a1829a808ac09c00daf10bc3c4e223b                   magica   545\n",
       "7   00000c289a1829a808ac09c00daf10bc3c4e223b  the black dahlia murder   507\n",
       "8   00000c289a1829a808ac09c00daf10bc3c4e223b              the murmurs   424\n",
       "9   00000c289a1829a808ac09c00daf10bc3c4e223b               lunachicks   403\n",
       "10  00000c289a1829a808ac09c00daf10bc3c4e223b         walls of jericho   393\n",
       "11  00000c289a1829a808ac09c00daf10bc3c4e223b           letzte instanz   387\n",
       "12  00000c289a1829a808ac09c00daf10bc3c4e223b                goldfrapp   361\n",
       "13  00000c289a1829a808ac09c00daf10bc3c4e223b               horrorpops   358\n",
       "14  00000c289a1829a808ac09c00daf10bc3c4e223b             the butchies   329\n",
       "15  00000c289a1829a808ac09c00daf10bc3c4e223b            jack off jill   316\n",
       "16  00000c289a1829a808ac09c00daf10bc3c4e223b         babes in toyland   310\n",
       "17  00000c289a1829a808ac09c00daf10bc3c4e223b         dropkick murphys   302\n",
       "18  00000c289a1829a808ac09c00daf10bc3c4e223b            all:my:faults   288\n",
       "19  00000c289a1829a808ac09c00daf10bc3c4e223b                 le tigre   281\n",
       "20  00000c289a1829a808ac09c00daf10bc3c4e223b               schandmaul   244\n",
       "21  00000c289a1829a808ac09c00daf10bc3c4e223b                    edguy   232\n",
       "22  00000c289a1829a808ac09c00daf10bc3c4e223b      maximum the hormone   231\n",
       "23  00000c289a1829a808ac09c00daf10bc3c4e223b                 all ends   229\n",
       "24  00000c289a1829a808ac09c00daf10bc3c4e223b             jack johnson   227\n",
       "25  00000c289a1829a808ac09c00daf10bc3c4e223b                eluveitie   222\n",
       "26  00000c289a1829a808ac09c00daf10bc3c4e223b                rasputina   220\n",
       "27  00000c289a1829a808ac09c00daf10bc3c4e223b    london after midnight   210\n",
       "28  00000c289a1829a808ac09c00daf10bc3c4e223b              the killers   208\n",
       "29  00000c289a1829a808ac09c00daf10bc3c4e223b                  mutyumu   205\n",
       "30  00000c289a1829a808ac09c00daf10bc3c4e223b             judas priest   198\n",
       "31  00000c289a1829a808ac09c00daf10bc3c4e223b               rob zombie   198\n",
       "32  00000c289a1829a808ac09c00daf10bc3c4e223b             the bosshoss   189\n",
       "33  00000c289a1829a808ac09c00daf10bc3c4e223b         blue öyster cult   185\n",
       "34  00000c289a1829a808ac09c00daf10bc3c4e223b             sandra nasic   183\n",
       "35  00000c289a1829a808ac09c00daf10bc3c4e223b               john mayer   182\n",
       "36  00000c289a1829a808ac09c00daf10bc3c4e223b           sleater-kinney   175\n",
       "37  00000c289a1829a808ac09c00daf10bc3c4e223b                  the who   168\n",
       "38  00000c289a1829a808ac09c00daf10bc3c4e223b                 disciple   154\n",
       "39  00000c289a1829a808ac09c00daf10bc3c4e223b                  tanzwut   153\n",
       "40  00000c289a1829a808ac09c00daf10bc3c4e223b               guano apes   151\n",
       "41  00000c289a1829a808ac09c00daf10bc3c4e223b       the rolling stones   150\n",
       "42  00000c289a1829a808ac09c00daf10bc3c4e223b          little big town   145\n",
       "43  00000c289a1829a808ac09c00daf10bc3c4e223b              team dresch   137\n",
       "44  00000c289a1829a808ac09c00daf10bc3c4e223b                    betty   135\n",
       "45  00000c289a1829a808ac09c00daf10bc3c4e223b                       l7   135\n",
       "46  00000c289a1829a808ac09c00daf10bc3c4e223b                bif naked   134\n",
       "47  00000c289a1829a808ac09c00daf10bc3c4e223b               girlschool   134\n",
       "48  00000c289a1829a808ac09c00daf10bc3c4e223b          the wallflowers   131"
      ]
     },
     "execution_count": 5,
     "metadata": {},
     "output_type": "execute_result"
    }
   ],
   "source": [
    "condition = (data['user_id'] == data.loc[0, 'user_id'])\n",
    "data.loc[condition]"
   ]
  },
  {
   "cell_type": "markdown",
   "id": "508524f6",
   "metadata": {},
   "source": [
    "### 데이터 탐색\n",
    "- 유저 수, 아티스트 수, 인기 많은 아티스트\n",
    "- 유저들이 몇 명의 아티스트를 듣고 있는지에 대한 통계\n",
    "- 유저 play 횟수 중앙값에 대한 통계"
   ]
  },
  {
   "cell_type": "code",
   "execution_count": 6,
   "id": "4fde815c",
   "metadata": {},
   "outputs": [
    {
     "data": {
      "text/plain": [
       "358868"
      ]
     },
     "execution_count": 6,
     "metadata": {},
     "output_type": "execute_result"
    }
   ],
   "source": [
    "# 유저 수\n",
    "data['user_id'].nunique() # 특정 컬럼('user_id')에 속한 유니크한 데이터의 개수"
   ]
  },
  {
   "cell_type": "code",
   "execution_count": 7,
   "id": "cadf4592",
   "metadata": {},
   "outputs": [
    {
     "data": {
      "text/plain": [
       "291346"
      ]
     },
     "execution_count": 7,
     "metadata": {},
     "output_type": "execute_result"
    }
   ],
   "source": [
    "# 아티스트 수\n",
    "data['artist'].nunique()"
   ]
  },
  {
   "cell_type": "code",
   "execution_count": 62,
   "id": "ec788898",
   "metadata": {},
   "outputs": [
    {
     "name": "stdout",
     "output_type": "stream",
     "text": [
      "          user_id  artist  play\n",
      "0               0       0  2137\n",
      "95417        1939       0    42\n",
      "173825       3553       0    41\n",
      "259868       5317       0    67\n",
      "330217       6757       0     3\n",
      "...           ...     ...   ...\n",
      "17221475   352395       0   215\n",
      "17307568   354173       0    68\n",
      "17362468   355305       0   156\n",
      "17416565   356415       0    65\n",
      "17534814   358849       0   308\n",
      "\n",
      "[96 rows x 3 columns]\n"
     ]
    }
   ],
   "source": [
    "data.groupby('artist')['user_id'].count()\n",
    "\n",
    "for i in data['artist'].unique()[:1]:\n",
    "    print(data.loc[data['artist'] == i])"
   ]
  },
  {
   "cell_type": "code",
   "execution_count": 8,
   "id": "82491d6c",
   "metadata": {
    "scrolled": false
   },
   "outputs": [
    {
     "data": {
      "text/plain": [
       "artist\n",
       "radiohead                77254\n",
       "the beatles              76245\n",
       "coldplay                 66658\n",
       "red hot chili peppers    48924\n",
       "muse                     46954\n",
       "metallica                45233\n",
       "pink floyd               44443\n",
       "the killers              41229\n",
       "linkin park              39773\n",
       "nirvana                  39479\n",
       "system of a down         37267\n",
       "queen                    34174\n",
       "u2                       33206\n",
       "daft punk                33001\n",
       "the cure                 32624\n",
       "led zeppelin             32295\n",
       "placebo                  32072\n",
       "depeche mode             31916\n",
       "david bowie              31862\n",
       "bob dylan                31799\n",
       "death cab for cutie      31482\n",
       "arctic monkeys           30348\n",
       "foo fighters             30144\n",
       "air                      29795\n",
       "the rolling stones       29754\n",
       "nine inch nails          28946\n",
       "sigur rós                28901\n",
       "green day                28732\n",
       "massive attack           28691\n",
       "moby                     28232\n",
       "Name: user_id, dtype: int64"
      ]
     },
     "execution_count": 8,
     "metadata": {},
     "output_type": "execute_result"
    }
   ],
   "source": [
    "# 인기 많은 아티스트\n",
    "artist_count = data.groupby('artist')['user_id'].count() # user_id가 몇 개인지\n",
    "artist_count.sort_values(ascending=False).head(30) # 내림차순 정렬"
   ]
  },
  {
   "cell_type": "code",
   "execution_count": 9,
   "id": "784446e6",
   "metadata": {},
   "outputs": [
    {
     "data": {
      "text/plain": [
       "count    358868.000000\n",
       "mean         48.863234\n",
       "std           8.524272\n",
       "min           1.000000\n",
       "25%          46.000000\n",
       "50%          49.000000\n",
       "75%          51.000000\n",
       "max         166.000000\n",
       "Name: artist, dtype: float64"
      ]
     },
     "execution_count": 9,
     "metadata": {},
     "output_type": "execute_result"
    }
   ],
   "source": [
    "# 유저별 몇 명의 아티스트를 듣고 있는지에 대한 통계\n",
    "user_count = data.groupby('user_id')['artist'].count()\n",
    "user_count.describe()"
   ]
  },
  {
   "cell_type": "code",
   "execution_count": 10,
   "id": "1dd36ee7",
   "metadata": {},
   "outputs": [
    {
     "data": {
      "text/plain": [
       "count    358868.000000\n",
       "mean        142.187676\n",
       "std         213.089902\n",
       "min           1.000000\n",
       "25%          32.000000\n",
       "50%          83.000000\n",
       "75%         180.000000\n",
       "max       50142.000000\n",
       "Name: play, dtype: float64"
      ]
     },
     "execution_count": 10,
     "metadata": {},
     "output_type": "execute_result"
    }
   ],
   "source": [
    "# 유저별 play횟수 중앙값에 대한 통계\n",
    "user_median = data.groupby('user_id')['play'].median()\n",
    "user_median.describe()"
   ]
  },
  {
   "cell_type": "markdown",
   "id": "e6699c69",
   "metadata": {},
   "source": [
    "### 모델 검증을 위한 사용자 초기 정보 세팅\n",
    "유튜브 뮤직 등 다양한 추천 시스템들은 처음 가입하는 사용자의 취향과 유사한 아티스트 정보를 5개 이상 입력받는 과정을 거친다.\n",
    "> 우리도 이와 동일하게 좋아하는 유명한 아티스트를 기존의 데이터에 추가해 넣어보자."
   ]
  },
  {
   "cell_type": "code",
   "execution_count": 11,
   "id": "8d8d0a88",
   "metadata": {},
   "outputs": [
    {
     "data": {
      "text/html": [
       "<div>\n",
       "<style scoped>\n",
       "    .dataframe tbody tr th:only-of-type {\n",
       "        vertical-align: middle;\n",
       "    }\n",
       "\n",
       "    .dataframe tbody tr th {\n",
       "        vertical-align: top;\n",
       "    }\n",
       "\n",
       "    .dataframe thead th {\n",
       "        text-align: right;\n",
       "    }\n",
       "</style>\n",
       "<table border=\"1\" class=\"dataframe\">\n",
       "  <thead>\n",
       "    <tr style=\"text-align: right;\">\n",
       "      <th></th>\n",
       "      <th>user_id</th>\n",
       "      <th>artist</th>\n",
       "      <th>play</th>\n",
       "    </tr>\n",
       "  </thead>\n",
       "  <tbody>\n",
       "    <tr>\n",
       "      <th>17535650</th>\n",
       "      <td>sep 20, 2008</td>\n",
       "      <td>turbostaat</td>\n",
       "      <td>12</td>\n",
       "    </tr>\n",
       "    <tr>\n",
       "      <th>17535651</th>\n",
       "      <td>sep 20, 2008</td>\n",
       "      <td>cuba missouri</td>\n",
       "      <td>11</td>\n",
       "    </tr>\n",
       "    <tr>\n",
       "      <th>17535652</th>\n",
       "      <td>sep 20, 2008</td>\n",
       "      <td>little man tate</td>\n",
       "      <td>11</td>\n",
       "    </tr>\n",
       "    <tr>\n",
       "      <th>17535653</th>\n",
       "      <td>sep 20, 2008</td>\n",
       "      <td>sigur rós</td>\n",
       "      <td>10</td>\n",
       "    </tr>\n",
       "    <tr>\n",
       "      <th>17535654</th>\n",
       "      <td>sep 20, 2008</td>\n",
       "      <td>the smiths</td>\n",
       "      <td>10</td>\n",
       "    </tr>\n",
       "    <tr>\n",
       "      <th>0</th>\n",
       "      <td>zimin</td>\n",
       "      <td>black eyed peas</td>\n",
       "      <td>30</td>\n",
       "    </tr>\n",
       "    <tr>\n",
       "      <th>1</th>\n",
       "      <td>zimin</td>\n",
       "      <td>maroon5</td>\n",
       "      <td>30</td>\n",
       "    </tr>\n",
       "    <tr>\n",
       "      <th>2</th>\n",
       "      <td>zimin</td>\n",
       "      <td>jason mraz</td>\n",
       "      <td>30</td>\n",
       "    </tr>\n",
       "    <tr>\n",
       "      <th>3</th>\n",
       "      <td>zimin</td>\n",
       "      <td>coldplay</td>\n",
       "      <td>30</td>\n",
       "    </tr>\n",
       "    <tr>\n",
       "      <th>4</th>\n",
       "      <td>zimin</td>\n",
       "      <td>beyoncé</td>\n",
       "      <td>30</td>\n",
       "    </tr>\n",
       "  </tbody>\n",
       "</table>\n",
       "</div>"
      ],
      "text/plain": [
       "               user_id           artist  play\n",
       "17535650  sep 20, 2008       turbostaat    12\n",
       "17535651  sep 20, 2008    cuba missouri    11\n",
       "17535652  sep 20, 2008  little man tate    11\n",
       "17535653  sep 20, 2008        sigur rós    10\n",
       "17535654  sep 20, 2008       the smiths    10\n",
       "0                zimin  black eyed peas    30\n",
       "1                zimin          maroon5    30\n",
       "2                zimin       jason mraz    30\n",
       "3                zimin         coldplay    30\n",
       "4                zimin          beyoncé    30"
      ]
     },
     "execution_count": 11,
     "metadata": {},
     "output_type": "execute_result"
    }
   ],
   "source": [
    "# 본인이 좋아하시는 아티스트 데이터로 바꿔서 추가하셔도 됩니다! 단, 이름은 꼭 데이터셋에 있는 것과 동일하게 맞춰주세요. \n",
    "my_favorite = ['black eyed peas', 'maroon5', 'jason mraz', 'coldplay', 'beyoncé']\n",
    "\n",
    "# 'zimin'이라는 user_id가 위 아티스트의 노래를 30회씩 들었다고 가정하겠습니다.\n",
    "my_playlist = pd.DataFrame({'user_id': ['zimin']*5, 'artist': my_favorite, 'play':[30]*5})\n",
    "\n",
    "if not data.isin({'user_id': ['zimin']})['user_id'].any():  # user_id에 'zimin'이라는 데이터가 없다면\n",
    "    data = data.append(my_playlist)                           # 위에 임의로 만든 my_favorite 데이터를 추가해 줍니다. \n",
    "\n",
    "data.tail(10)       # 잘 추가되었는지 확인해 봅시다."
   ]
  },
  {
   "cell_type": "markdown",
   "id": "d68358b5",
   "metadata": {},
   "source": [
    "> - reset_index(drop=False): index가 열로 들어감 (default)\n",
    "> - reset_index(drop=True): 원래대로!!"
   ]
  },
  {
   "cell_type": "code",
   "execution_count": 12,
   "id": "17dc6b08",
   "metadata": {},
   "outputs": [
    {
     "data": {
      "text/html": [
       "<div>\n",
       "<style scoped>\n",
       "    .dataframe tbody tr th:only-of-type {\n",
       "        vertical-align: middle;\n",
       "    }\n",
       "\n",
       "    .dataframe tbody tr th {\n",
       "        vertical-align: top;\n",
       "    }\n",
       "\n",
       "    .dataframe thead th {\n",
       "        text-align: right;\n",
       "    }\n",
       "</style>\n",
       "<table border=\"1\" class=\"dataframe\">\n",
       "  <thead>\n",
       "    <tr style=\"text-align: right;\">\n",
       "      <th></th>\n",
       "      <th>user_id</th>\n",
       "      <th>artist</th>\n",
       "      <th>play</th>\n",
       "    </tr>\n",
       "  </thead>\n",
       "  <tbody>\n",
       "    <tr>\n",
       "      <th>0</th>\n",
       "      <td>00000c289a1829a808ac09c00daf10bc3c4e223b</td>\n",
       "      <td>betty blowtorch</td>\n",
       "      <td>2137</td>\n",
       "    </tr>\n",
       "    <tr>\n",
       "      <th>1</th>\n",
       "      <td>00000c289a1829a808ac09c00daf10bc3c4e223b</td>\n",
       "      <td>die ärzte</td>\n",
       "      <td>1099</td>\n",
       "    </tr>\n",
       "    <tr>\n",
       "      <th>2</th>\n",
       "      <td>00000c289a1829a808ac09c00daf10bc3c4e223b</td>\n",
       "      <td>melissa etheridge</td>\n",
       "      <td>897</td>\n",
       "    </tr>\n",
       "    <tr>\n",
       "      <th>3</th>\n",
       "      <td>00000c289a1829a808ac09c00daf10bc3c4e223b</td>\n",
       "      <td>elvenking</td>\n",
       "      <td>717</td>\n",
       "    </tr>\n",
       "    <tr>\n",
       "      <th>4</th>\n",
       "      <td>00000c289a1829a808ac09c00daf10bc3c4e223b</td>\n",
       "      <td>juliette &amp; the licks</td>\n",
       "      <td>706</td>\n",
       "    </tr>\n",
       "  </tbody>\n",
       "</table>\n",
       "</div>"
      ],
      "text/plain": [
       "                                    user_id                artist  play\n",
       "0  00000c289a1829a808ac09c00daf10bc3c4e223b       betty blowtorch  2137\n",
       "1  00000c289a1829a808ac09c00daf10bc3c4e223b             die ärzte  1099\n",
       "2  00000c289a1829a808ac09c00daf10bc3c4e223b     melissa etheridge   897\n",
       "3  00000c289a1829a808ac09c00daf10bc3c4e223b             elvenking   717\n",
       "4  00000c289a1829a808ac09c00daf10bc3c4e223b  juliette & the licks   706"
      ]
     },
     "execution_count": 12,
     "metadata": {},
     "output_type": "execute_result"
    }
   ],
   "source": [
    "data.head()"
   ]
  },
  {
   "cell_type": "markdown",
   "id": "5ccc43a8",
   "metadata": {},
   "source": [
    "### 모델에 활용하기 위한 전처리 (실습)\n",
    "우리가 다루는 데이터에서 user와 artist 각각에 번호를 붙이고 싶다. 이런 작업을 **indexing** 이라 하고, 보통 추천 시스템, 자연어 처리에서 자주 하는 작업들이다."
   ]
  },
  {
   "cell_type": "code",
   "execution_count": 13,
   "id": "dd4e403a",
   "metadata": {},
   "outputs": [],
   "source": [
    "# 고유한 유저, 아티스트를 찾아내는 코드\n",
    "user_unique = data['user_id'].unique()\n",
    "artist_unique = data['artist'].unique()\n",
    "\n",
    "# 유저, 아티스트 indexing 하는 코드 idx는 index의 약자입니다.\n",
    "user_to_idx = {v: k for k, v in enumerate(user_unique)} # id: index\n",
    "artist_to_idx = {v: k for k, v in enumerate(artist_unique)} # artist: index"
   ]
  },
  {
   "cell_type": "code",
   "execution_count": 30,
   "id": "09ad5f77",
   "metadata": {},
   "outputs": [
    {
     "data": {
      "text/plain": [
       "(358869, 291347)"
      ]
     },
     "execution_count": 30,
     "metadata": {},
     "output_type": "execute_result"
    }
   ],
   "source": [
    "len(user_unique), len(artist_unique)"
   ]
  },
  {
   "cell_type": "code",
   "execution_count": 14,
   "id": "3ad29b7a",
   "metadata": {},
   "outputs": [
    {
     "name": "stdout",
     "output_type": "stream",
     "text": [
      "358868\n",
      "376\n"
     ]
    }
   ],
   "source": [
    "# 인덱싱이 잘 되었는지 확인해 봅니다. \n",
    "print(user_to_idx['zimin'])    # 358869명의 유저 중 마지막으로 추가된 유저이니 358868이 나와야 합니다. \n",
    "print(artist_to_idx['black eyed peas'])"
   ]
  },
  {
   "cell_type": "markdown",
   "id": "328752de",
   "metadata": {},
   "source": [
    "> - `get`: Key로 Value 얻기"
   ]
  },
  {
   "cell_type": "code",
   "execution_count": 15,
   "id": "8dee9723",
   "metadata": {},
   "outputs": [
    {
     "data": {
      "text/plain": [
       "(17535660, 358869)"
      ]
     },
     "execution_count": 15,
     "metadata": {},
     "output_type": "execute_result"
    }
   ],
   "source": [
    "len(data), len(user_to_idx)"
   ]
  },
  {
   "cell_type": "code",
   "execution_count": 66,
   "id": "37902f5e",
   "metadata": {},
   "outputs": [
    {
     "data": {
      "text/plain": [
       "<function dict.get(key, default=None, /)>"
      ]
     },
     "execution_count": 66,
     "metadata": {},
     "output_type": "execute_result"
    }
   ],
   "source": [
    "user_to_idx.get"
   ]
  },
  {
   "cell_type": "code",
   "execution_count": 16,
   "id": "5243ee16",
   "metadata": {},
   "outputs": [
    {
     "name": "stdout",
     "output_type": "stream",
     "text": [
      "user_id column indexing OK!!\n",
      "artist column indexing OK!!\n"
     ]
    },
    {
     "data": {
      "text/html": [
       "<div>\n",
       "<style scoped>\n",
       "    .dataframe tbody tr th:only-of-type {\n",
       "        vertical-align: middle;\n",
       "    }\n",
       "\n",
       "    .dataframe tbody tr th {\n",
       "        vertical-align: top;\n",
       "    }\n",
       "\n",
       "    .dataframe thead th {\n",
       "        text-align: right;\n",
       "    }\n",
       "</style>\n",
       "<table border=\"1\" class=\"dataframe\">\n",
       "  <thead>\n",
       "    <tr style=\"text-align: right;\">\n",
       "      <th></th>\n",
       "      <th>user_id</th>\n",
       "      <th>artist</th>\n",
       "      <th>play</th>\n",
       "    </tr>\n",
       "  </thead>\n",
       "  <tbody>\n",
       "    <tr>\n",
       "      <th>0</th>\n",
       "      <td>0</td>\n",
       "      <td>0</td>\n",
       "      <td>2137</td>\n",
       "    </tr>\n",
       "    <tr>\n",
       "      <th>1</th>\n",
       "      <td>0</td>\n",
       "      <td>1</td>\n",
       "      <td>1099</td>\n",
       "    </tr>\n",
       "    <tr>\n",
       "      <th>2</th>\n",
       "      <td>0</td>\n",
       "      <td>2</td>\n",
       "      <td>897</td>\n",
       "    </tr>\n",
       "    <tr>\n",
       "      <th>3</th>\n",
       "      <td>0</td>\n",
       "      <td>3</td>\n",
       "      <td>717</td>\n",
       "    </tr>\n",
       "    <tr>\n",
       "      <th>4</th>\n",
       "      <td>0</td>\n",
       "      <td>4</td>\n",
       "      <td>706</td>\n",
       "    </tr>\n",
       "    <tr>\n",
       "      <th>...</th>\n",
       "      <td>...</td>\n",
       "      <td>...</td>\n",
       "      <td>...</td>\n",
       "    </tr>\n",
       "    <tr>\n",
       "      <th>0</th>\n",
       "      <td>358868</td>\n",
       "      <td>376</td>\n",
       "      <td>30</td>\n",
       "    </tr>\n",
       "    <tr>\n",
       "      <th>1</th>\n",
       "      <td>358868</td>\n",
       "      <td>270115</td>\n",
       "      <td>30</td>\n",
       "    </tr>\n",
       "    <tr>\n",
       "      <th>2</th>\n",
       "      <td>358868</td>\n",
       "      <td>3746</td>\n",
       "      <td>30</td>\n",
       "    </tr>\n",
       "    <tr>\n",
       "      <th>3</th>\n",
       "      <td>358868</td>\n",
       "      <td>62</td>\n",
       "      <td>30</td>\n",
       "    </tr>\n",
       "    <tr>\n",
       "      <th>4</th>\n",
       "      <td>358868</td>\n",
       "      <td>396</td>\n",
       "      <td>30</td>\n",
       "    </tr>\n",
       "  </tbody>\n",
       "</table>\n",
       "<p>17535660 rows × 3 columns</p>\n",
       "</div>"
      ],
      "text/plain": [
       "    user_id  artist  play\n",
       "0         0       0  2137\n",
       "1         0       1  1099\n",
       "2         0       2   897\n",
       "3         0       3   717\n",
       "4         0       4   706\n",
       "..      ...     ...   ...\n",
       "0    358868     376    30\n",
       "1    358868  270115    30\n",
       "2    358868    3746    30\n",
       "3    358868      62    30\n",
       "4    358868     396    30\n",
       "\n",
       "[17535660 rows x 3 columns]"
      ]
     },
     "execution_count": 16,
     "metadata": {},
     "output_type": "execute_result"
    }
   ],
   "source": [
    "# indexing을 통해 데이터 컬럼 내 값을 바꾸는 코드\n",
    "# dictionary 자료형의 get 함수는 https://wikidocs.net/16 을 참고하세요.\n",
    "\n",
    "# user_to_idx.get을 통해 user_id 컬럼의 모든 값을 인덱싱한 Series를 구해 봅시다. \n",
    "# 혹시 정상적으로 인덱싱되지 않은 row가 있다면 인덱스가 NaN이 될 테니 dropna()로 제거합니다. \n",
    "temp_user_data = data['user_id'].map(user_to_idx.get).dropna()\n",
    "if len(temp_user_data) == len(data):   # 모든 row가 정상적으로 인덱싱되었다면\n",
    "    print('user_id column indexing OK!!')\n",
    "    data['user_id'] = temp_user_data   # data['user_id']을 인덱싱된 Series로 교체해 줍니다. \n",
    "else:\n",
    "    print('user_id column indexing Fail!!')\n",
    "\n",
    "# artist_to_idx을 통해 artist 컬럼도 동일한 방식으로 인덱싱해 줍니다. \n",
    "temp_artist_data = data['artist'].map(artist_to_idx.get).dropna()\n",
    "if len(temp_artist_data) == len(data):\n",
    "    print('artist column indexing OK!!')\n",
    "    data['artist'] = temp_artist_data\n",
    "else:\n",
    "    print('artist column indexing Fail!!')\n",
    "\n",
    "data"
   ]
  },
  {
   "cell_type": "code",
   "execution_count": null,
   "id": "a3ce7870",
   "metadata": {},
   "outputs": [],
   "source": []
  },
  {
   "cell_type": "markdown",
   "id": "b34c54ad",
   "metadata": {},
   "source": [
    "## 2. 사용자의 명시적/암묵적 평가\n",
    "\n",
    "우리가 만들 추천 시스템은 사용자들이 아이템을 얼마나 선호하는지 모델링하기를 원하므로, 사용자의 아이템 선호도를 말해주는 유저 행동 데이터셋이 필요하다.\n",
    "> 여기서는 **좋아요**나 **별점**처럼 선호도를 명시적(explicit)으로 나타내는 것이 아니라 사용자가 아티스트 곡을 몇 번 플레이 했냐만을 알고 있다. 이렇게 서비스를 이용하며 자연스럽게 발생하는 **암묵적(implicit)인 피드백**도 평가 지표가 될 수 있다.\n",
    "\n",
    "[Collaborative Filtering for Implicit Feedback Datasets][1] 논문에서는 암묵적 피드백 데이터셋의 특징을 다음과 같이 정리한다.\n",
    "- 부정적인 피드백이 없다.\n",
    "- 애초에 잡음이 많다.\n",
    "- 수치는 신뢰도를 의미한다.\n",
    "- Implicit-feedback Recommender System의 평가는 적절한 방법을 고민해보아야 한다.\n",
    "\n",
    "> 애매한 암묵적 데이터야말로 도메인 지식과 직관이 활용되어야 하는 영역이라 판단된다.\n",
    "\n",
    "[1]:http://yifanhu.net/PUB/cf.pdf"
   ]
  },
  {
   "cell_type": "code",
   "execution_count": 17,
   "id": "763a45e3",
   "metadata": {},
   "outputs": [
    {
     "name": "stdout",
     "output_type": "stream",
     "text": [
      "147740, 17535660\n",
      "Ratio of only_one over all data is 0.84%\n"
     ]
    }
   ],
   "source": [
    "# 1회만 play한 데이터의 비율을 보는 코드\n",
    "only_one = data[data['play'] < 2]\n",
    "one, all_data = len(only_one), len(data)\n",
    "print(f'{one}, {all_data}')\n",
    "print(f'Ratio of only_one over all data is {one/all_data :.2%}')  # f-format에 대한 설명은 https://bit.ly/2DTLqYU"
   ]
  },
  {
   "cell_type": "markdown",
   "id": "84fba783",
   "metadata": {},
   "source": [
    "우리가 만들 모델에서 암묵적 데이터의 해석을 위해 다음과 같은 규칙을 적용하자.\n",
    "> 1. 한 번이라도 들었다면 선호한다고 판단\n",
    "> 2. 많이 재생한 아티스트에 대해 가중치를 주어 더 확실히 좋아한다고 판단"
   ]
  },
  {
   "cell_type": "code",
   "execution_count": null,
   "id": "60840ff4",
   "metadata": {},
   "outputs": [],
   "source": []
  },
  {
   "cell_type": "markdown",
   "id": "b2717995",
   "metadata": {},
   "source": [
    "## 3. Matrix Factorization (MF)\n",
    "\n",
    "아래 왼쪽의 그림처럼, 우린 m명의 사용자들이 n명의 아티스트에 대해 평가한 데이터를 포함한 (m, n) 사이즈의 `평가 행렬(Rating Matrix)`을 만들 것이다. 이 행렬은 대다수가 비어있는데, 추천 시스템의 `협업 필터링(Collaborative Filtering)`이란 결국 이런 평가 행렬을 전제로 한다. \n",
    "> 만약 이 평가 행렬의 비어 있는 부분을 포함한 완벽한 정보를 얻을 수만 있다면 (모든 사용자의 모든 아이템에 대한 선호도를 다 파악한 셈이니) 완벽한 추천이 가능해질 것이다.\n",
    "\n",
    "<br/>\n",
    "\n",
    "추천 시스템의 다양한 모델 중 `Matrix Factorization(MF, 행렬 분해)` 모델을 사용할 것인데, 이는 2006년 Netflix에서 백만 달러의 상금을 걸고 개최한 자사 추천 시스템의 성능을 10% 이상 향상시키는 챌린지를 계기로 알려졌다. <br/>\n",
    "\n",
    "> (m, n) 사이즈의 행렬 R을 (m, k) 사이즈의 행렬 P와 (k, n) 사이즈의 행렬 Q로 분해한다면 R이란 그저 P와 Q의 행렬곱으로 표현할 수 있다는 간단한 아이디어.\n",
    "> - 대체로 k는 m, n보다 훨씬 작은 값이기 때문에 계산량 측면으로도 매우 유리하다.\n",
    "> - MF 모델은 성능이 준수하고 Scalability(확장성)가 좋아 많이 사용되는 모델이다."
   ]
  },
  {
   "attachments": {
    "image.png": {
     "image/png": "[encoded data removed]"
    }
   },
   "cell_type": "markdown",
   "id": "c0212f3a",
   "metadata": {},
   "source": [
    "![image.png](attachment:image.png)\n",
    "\n",
    "(출처: CuMF_SGD: Fast and Scalable Matrix Factorization (https://arxiv.org/pdf/1610.05838.pdf))"
   ]
  },
  {
   "cell_type": "markdown",
   "id": "e56e20fa",
   "metadata": {},
   "source": [
    "아래 그림은 MF 모델을 사용자에게 영화를 추천하는 모델에 대입해 그려본 것이다. (m=4, n=5, k=2) <br/>\n",
    "\n",
    "위에서 MF 모델은 큰 평가행렬 R을 두 개의 Feature Matrix P와 Q로 분해한다고 하였는데\n",
    "> - 일단 `(m, k) 사이즈의 Feature Matrix P`는 k차원의 벡터를 사용자의 수만큼 모아놓은 행렬이다.\n",
    "> - 아래 그림에서 첫 번째 벡터인 $P_0$ = (1, 0.1)은 빨간색 모자를 쓴 첫 번째 **사용자의 특성(Feature) 벡터**가 된다.\n",
    "> - Q행렬의 첫 번째 벡터 $Q_0$ = (0.9, -0.2)는 해리포터 **영화의 특성 벡터**가 된다.\n",
    "\n",
    "MF 모델은 이 두 벡터를 내적해 얻어지는 0.88이 바로 $R_{0, 0}$으로 정의되는 사용자의 영화 선호도로 보는 모델이다."
   ]
  },
  {
   "attachments": {
    "image.png": {
     "image/png": "[encoded data removed]"
    }
   },
   "cell_type": "markdown",
   "id": "b6655b6a",
   "metadata": {},
   "source": [
    "![image.png](attachment:image.png)\n",
    "\n",
    "<br/>\n",
    "(출처: https://developers.google.com/machine-learning/recommendation/collaborative/matrix)"
   ]
  },
  {
   "cell_type": "markdown",
   "id": "63725aaa",
   "metadata": {},
   "source": [
    "모델의 목표는 모든 유저와 아이템에 대해 **k-dimension**의 벡터를 잘 만드는 것!\n",
    "> 벡터를 잘 만드는 기준은 **유저 i의 벡터($U_i$)와 아이템 j의 벡터($I_j$)를 내적했을 때 유저 i가 아이템 j에 대해 평가한 수치($M_{ij}$)와 비슷한지**\n",
    "\n",
    "$$ U_i ⋅ I_j = M_{ij} $$\n",
    "\n",
    "<br/>\n",
    "\n",
    "MF에도 다양한 변형이 있는데, 위 논문에서 제안한 모델을 사용해보자. 이 모델에선 사전에 'zimin'이 'black eyed peas'를 play 했다는 데이터를 추가했기 때문에, 우리 벡터와 black eyed peas의 벡터를 곱했을 때 1에 가까워야 모델이 잘 학습하는 것을 목표로 한다. <br/>\n",
    "\n",
    "여기서 black eyed peas를 5번 들었어도 두 벡터를 곱했을 때 1에 가까워져야 한다!! (모델이 근사하고자 하는 것은 아티스트를 선호하는지 안 하는지를 맞추는 것이기 때문에) <br/>\n",
    "\n",
    "이를 통해 들어보지 못한 queen에 대해 우리 벡터와 queen의 벡터를 곱한 수치를 예상할 수도 있고, 만약 목표가 유저의 재생 횟수를 맞춰야 하는 것(or 별점을 맞추는 것)이라면 그에 맞는 다른 모델을 사용해야 한다. https://towardsdatascience.com/recommendation-system-matrix-factorization-d61978660b4b"
   ]
  },
  {
   "cell_type": "code",
   "execution_count": null,
   "id": "9087a261",
   "metadata": {},
   "outputs": [],
   "source": []
  },
  {
   "cell_type": "markdown",
   "id": "f9b23939",
   "metadata": {},
   "source": [
    "## 4. CSR (Compressed Sparse Row) Matrix\n",
    "\n",
    "유저 x 아이템 평가 행렬을 생각해봤을 때, 유저는 36만명, 아티스트는 29만명이었다. 이를 행렬로 표현하고, 행렬의 각 원소에 정수 한 개 (1 byte)가 들어간다면 36만 * 29만 * 1byte ≈ 97GB가 필요하다."
   ]
  },
  {
   "cell_type": "code",
   "execution_count": 18,
   "id": "2cb27b24",
   "metadata": {},
   "outputs": [
    {
     "data": {
      "text/plain": [
       "(358869, 291347)"
      ]
     },
     "execution_count": 18,
     "metadata": {},
     "output_type": "execute_result"
    }
   ],
   "source": [
    "data['user_id'].nunique(), data['artist'].nunique()"
   ]
  },
  {
   "attachments": {
    "image.png": {
     "image/png": "[encoded data removed]"
    }
   },
   "cell_type": "markdown",
   "id": "f7221bf9",
   "metadata": {},
   "source": [
    "유저 수 x 아티스트 수의 정보 안에는 유저가 들어보지 않은 아티스트에 대한 정보까지 모두 포함되어 계산된 것이기 때문이다. (Sparse Matrix 형태) 이는 메모리 낭비가 상당할 것이다.\n",
    "\n",
    "> 좋은 대안으로 `CSR(Compressed Sparse Row) Matrix`가 있는데, 다음 스텝에서 수행할 모델 학습의 input으로 사용할 데이터의 타입을 CSR Matrix로 할 것이다.\n",
    "\n",
    "**CSR Matrix**는 Sparse한 matrix에서 0이 아닌 유효한 데이터로 채워지는 데이터의 값과 좌표 정보만으로 구성해 메모리 사용량을 최소화하면서도 Sparse한 matrix와 동일한 행렬을 표현할 수 있도록 하는 데이터 구조이다.\n",
    "> data, indices, indptr로 행렬을 압축해 표현한다.\n",
    "\n",
    "![image.png](attachment:image.png)\n",
    "\n",
    "<br/>\n",
    "\n",
    "> - **data**: 0이 아닌 원소를 차례로 기입한 값\n",
    ">> data = [1, 2, 3, 4, 5, 6]\n",
    "> - **indices**: data의 각 요소가 어느 열(column)에 있는지를 표현한 index\n",
    ">> indices = [0, 4, 1, 3, 0, 3]\n",
    "> - **indptr**: 각 행(row)에서 0이 아닌 첫 번째 원소가 data 리스트에서의 몇 번째에 해당하는지와 마지막 data 벡터의 길이를 추가한 값. 이를 통해 data의 요소들이 어느 행(row)에 있는지를 알 수 있는데, 예시의 3번째 행처럼 0이 아닌 원소가 없는 경우엔 그 다음의 행과 같은 값을 넣어주었다.\n",
    ">> indptr = [0, 2, 4, 4, 6]\n",
    "\n",
    "> 이를 통해 data[0:2]는 첫 번째 행, data[2:4]는 두 번째 행, data[4:4]는 세 번째 행, data[4:6]은 네 번째 행에 위치함을 나타낼 수 있다."
   ]
  },
  {
   "cell_type": "markdown",
   "id": "530dc16b",
   "metadata": {},
   "source": [
    "이제 우리 data를 CSR Matrix에 맞게 바꿔보겠다. [만드는 방법][1] 은 다양하게 있는데, 위 링크에서 4번째로 설명하고 있는 방식이다.\n",
    "\n",
    "> `csr_matrix((data, (row_ind, col_ind)), [shape=(M, N)])`\n",
    "\n",
    "[1]:https://docs.scipy.org/doc/scipy/reference/generated/scipy.sparse.csr_matrix.html"
   ]
  },
  {
   "cell_type": "code",
   "execution_count": 19,
   "id": "0aae82d0",
   "metadata": {},
   "outputs": [
    {
     "data": {
      "text/plain": [
       "<358869x291347 sparse matrix of type '<class 'numpy.int64'>'\n",
       "\twith 17535578 stored elements in Compressed Sparse Row format>"
      ]
     },
     "execution_count": 19,
     "metadata": {},
     "output_type": "execute_result"
    }
   ],
   "source": [
    "# 실습 위에 설명보고 이해해서 만들어보기\n",
    "from scipy.sparse import csr_matrix\n",
    "\n",
    "num_user = data['user_id'].nunique()\n",
    "num_artist = data['artist'].nunique()\n",
    "\n",
    "csr_data = csr_matrix((data.play, (data.user_id, data.artist)), shape=(num_user, num_artist))\n",
    "csr_data"
   ]
  },
  {
   "cell_type": "code",
   "execution_count": 42,
   "id": "464a82af",
   "metadata": {},
   "outputs": [
    {
     "data": {
      "text/plain": [
       "((358869, 291347), (358869, 291347))"
      ]
     },
     "execution_count": 42,
     "metadata": {},
     "output_type": "execute_result"
    }
   ],
   "source": [
    "csr_data.shape, (num_user, num_artist)"
   ]
  },
  {
   "cell_type": "code",
   "execution_count": 20,
   "id": "aaa1ee25",
   "metadata": {},
   "outputs": [
    {
     "name": "stdout",
     "output_type": "stream",
     "text": [
      "  (0, 0)\t2137\n",
      "  (0, 1)\t1099\n",
      "  (0, 2)\t897\n",
      "  (0, 3)\t717\n",
      "  (0, 4)\t706\n",
      "  (0, 5)\t691\n",
      "  (0, 6)\t545\n",
      "  (0, 7)\t507\n",
      "  (0, 8)\t424\n",
      "  (0, 9)\t403\n",
      "  (0, 10)\t393\n",
      "  (0, 11)\t387\n",
      "  (0, 12)\t361\n",
      "  (0, 13)\t358\n",
      "  (0, 14)\t329\n",
      "  (0, 15)\t316\n",
      "  (0, 16)\t310\n",
      "  (0, 17)\t302\n",
      "  (0, 18)\t288\n",
      "  (0, 19)\t281\n",
      "  (0, 20)\t244\n",
      "  (0, 21)\t232\n",
      "  (0, 22)\t231\n",
      "  (0, 23)\t229\n",
      "  (0, 24)\t227\n",
      "  :\t:\n",
      "  (358867, 4542)\t23\n",
      "  (358867, 4896)\t12\n",
      "  (358867, 4947)\t19\n",
      "  (358867, 5395)\t14\n",
      "  (358867, 5562)\t39\n",
      "  (358867, 5858)\t93\n",
      "  (358867, 5867)\t16\n",
      "  (358867, 6855)\t36\n",
      "  (358867, 7856)\t46\n",
      "  (358867, 9641)\t45\n",
      "  (358867, 11203)\t40\n",
      "  (358867, 11631)\t12\n",
      "  (358867, 15227)\t51\n",
      "  (358867, 21303)\t14\n",
      "  (358867, 25966)\t12\n",
      "  (358867, 28563)\t12\n",
      "  (358867, 49416)\t54\n",
      "  (358867, 73333)\t14\n",
      "  (358867, 97322)\t15\n",
      "  (358867, 140606)\t11\n",
      "  (358868, 62)\t30\n",
      "  (358868, 376)\t30\n",
      "  (358868, 396)\t30\n",
      "  (358868, 3746)\t30\n",
      "  (358868, 270115)\t30\n"
     ]
    }
   ],
   "source": [
    "print(csr_data)"
   ]
  },
  {
   "cell_type": "code",
   "execution_count": null,
   "id": "128212d8",
   "metadata": {},
   "outputs": [],
   "source": []
  },
  {
   "cell_type": "markdown",
   "id": "859b692c",
   "metadata": {},
   "source": [
    "## 5. MF 모델 학습하기\n",
    "\n",
    "이전 스텝에서 설명한 Matrix Factorization 모델을 [implicit][1] 패키지를 사용해 학습해보자.\n",
    "- **`implicit`** 패키지는 이전 스텝에서 설명한 암묵적(implicit) dataset을 사용하는 다양한 모델을 굉장히 빠르게 학습할 수 있는 패키지\n",
    "- 이 패키지에 구현된 **`als(AlternatingLeastSquares) 모델`**을 사용할텐데, 이는 `Matrix Factorization`에서 쪼개진 두 Feature Matrix를 한 꺼번에 훈련하는 것을 잘 수렴하지 않기 때문에, 한쪽을 고정시키고 다른 쪽을 학습하는 방식을 번갈아 수행하는 **AlternatingLeastSqures** 방식이 효과적인 것으로 알려져있다.\n",
    "\n",
    "[1]:https://github.com/benfred/implicit"
   ]
  },
  {
   "attachments": {
    "image.png": {
     "image/png": "[encoded data removed]"
    }
   },
   "cell_type": "markdown",
   "id": "630e7555",
   "metadata": {},
   "source": [
    "(발췌: https://yeomko.tistory.com/4)\n",
    "\n",
    "<br/>\n",
    "\n",
    "![image.png](attachment:image.png)\n",
    "\n",
    "<br/>\n",
    "\n",
    "ALS는 사용자와 아이템의 Latent Factor를 한 번씩 번갈아가며 학습시킨다. 두 행렬을 한꺼번에 최적화시키는 것은 어렵기 때문에 둘 중 하나를 고정시킨다.\n",
    "> - 아이템의 행렬을 상수로 놓고 사용자의 행렬을 학습시키거나\n",
    "> - 사용자 행렬을 상수로 놓고 아이템 행렬을 학습시키는 방법"
   ]
  },
  {
   "cell_type": "code",
   "execution_count": 21,
   "id": "66618935",
   "metadata": {},
   "outputs": [],
   "source": [
    "from implicit.als import AlternatingLeastSquares\n",
    "import os\n",
    "import numpy as np\n",
    "\n",
    "# implicit 라이브러리에서 권장하고 있는 부분입니다. 학습 내용과는 무관합니다.\n",
    "os.environ['OPENBLAS_NUM_THREADS'] = '1'\n",
    "os.environ['KMP_DUPLICATE_LIB_OK'] = 'True'\n",
    "os.environ['MKL_NUM_THREADS'] = '1'"
   ]
  },
  {
   "cell_type": "markdown",
   "id": "76029e37",
   "metadata": {},
   "source": [
    "**AlternatingLeastSquares** 클래스의 `__init__ `파라미터를 살펴면\n",
    "\n",
    "1. factors: 유저와 아이템의 벡터를 몇 차원으로 할 것인지\n",
    "2. regularization: 과적합 방지를 위해 정규화 값을 얼마나 사용할 것인지\n",
    "3. use_gpu: GPU를 사용할 것인지\n",
    "4. iterations: epochs와 같은 의미. 데이터를 몇 번 반복해 학습할 것인지\n",
    "\n",
    "> 1번과 4번을 늘릴수록 학습 데이터를 잘 학습하게 되지만 과적합의 우려가 있다."
   ]
  },
  {
   "cell_type": "code",
   "execution_count": 22,
   "id": "a0c6a417",
   "metadata": {},
   "outputs": [],
   "source": [
    "# Implicit AlternatingLeastSquares 모델의 선언\n",
    "als_model = AlternatingLeastSquares(factors=100, \n",
    "                                    regularization=0.01, \n",
    "                                    use_gpu=False, \n",
    "                                    iterations=15, \n",
    "                                    dtype=np.float32)"
   ]
  },
  {
   "cell_type": "code",
   "execution_count": 23,
   "id": "7677a55d",
   "metadata": {},
   "outputs": [
    {
     "data": {
      "text/plain": [
       "<291347x358869 sparse matrix of type '<class 'numpy.int64'>'\n",
       "\twith 17535578 stored elements in Compressed Sparse Column format>"
      ]
     },
     "execution_count": 23,
     "metadata": {},
     "output_type": "execute_result"
    }
   ],
   "source": [
    "# als 모델은 input으로 (item X user 꼴의 matrix를 받기 때문에 Transpose해줍니다.)\n",
    "csr_data_transpose = csr_data.T\n",
    "csr_data_transpose"
   ]
  },
  {
   "cell_type": "code",
   "execution_count": 24,
   "id": "fe8afd6f",
   "metadata": {},
   "outputs": [
    {
     "data": {
      "application/vnd.jupyter.widget-view+json": {
       "model_id": "fb4083b403b942d5abb26124ebfb11a7",
       "version_major": 2,
       "version_minor": 0
      },
      "text/plain": [
       "  0%|          | 0/15 [00:00<?, ?it/s]"
      ]
     },
     "metadata": {},
     "output_type": "display_data"
    }
   ],
   "source": [
    "# 모델 훈련\n",
    "als_model.fit(csr_data_transpose)"
   ]
  },
  {
   "cell_type": "markdown",
   "id": "f96e33bf",
   "metadata": {},
   "source": [
    "아래 2가지를 살펴보자.\n",
    "\n",
    "> 1. Zimin 벡터와 blacked eyed peas의 **벡터를 어떻게 만들고 있는지**\n",
    "> 2. 두 벡터를 **곱하면 어떤 값**이 나오는지"
   ]
  },
  {
   "cell_type": "code",
   "execution_count": 25,
   "id": "390a80bb",
   "metadata": {},
   "outputs": [],
   "source": [
    "zimin, black_eyed_peas = user_to_idx['zimin'], artist_to_idx['black eyed peas']\n",
    "zimin_vector, black_eyed_peas_vector = als_model.user_factors[zimin], als_model.item_factors[black_eyed_peas]"
   ]
  },
  {
   "cell_type": "code",
   "execution_count": 43,
   "id": "86bd9c00",
   "metadata": {},
   "outputs": [
    {
     "data": {
      "text/plain": [
       "((100,), (100,))"
      ]
     },
     "execution_count": 43,
     "metadata": {},
     "output_type": "execute_result"
    }
   ],
   "source": [
    "zimin_vector.shape, black_eyed_peas_vector.shape # Why 100? k=100으로 뒀기 떄문!"
   ]
  },
  {
   "cell_type": "code",
   "execution_count": 74,
   "id": "2d86c4cb",
   "metadata": {},
   "outputs": [
    {
     "data": {
      "text/plain": [
       "(358869, 100)"
      ]
     },
     "execution_count": 74,
     "metadata": {},
     "output_type": "execute_result"
    }
   ],
   "source": [
    "als_model.user_factors.shape"
   ]
  },
  {
   "cell_type": "code",
   "execution_count": 44,
   "id": "d8b39279",
   "metadata": {},
   "outputs": [
    {
     "data": {
      "text/plain": [
       "array([-1.49281085e+00, -5.23754239e-01, -1.75892556e+00, -4.11121607e-01,\n",
       "        9.77922440e-01,  2.42855251e-01, -2.28815183e-01, -4.60433960e-01,\n",
       "        1.99438974e-01,  9.89637256e-01, -7.97484457e-01, -1.28873229e-01,\n",
       "        5.30208170e-01, -6.78577065e-01, -1.58282340e-01, -5.96122026e-01,\n",
       "       -2.93758243e-01,  1.74791014e+00, -5.33985972e-01,  4.95002389e-01,\n",
       "       -3.08333248e-01,  8.37658703e-01,  7.38967597e-01,  6.25042394e-02,\n",
       "       -5.19768372e-02, -1.28609884e+00,  1.42283905e+00, -7.19262123e-01,\n",
       "        1.54939711e-01, -4.83673751e-01, -8.43522191e-01,  1.11593818e-02,\n",
       "        4.54687029e-01,  7.13133872e-01,  3.09414178e-01,  3.45484287e-01,\n",
       "        8.99639487e-01, -2.71902536e-04,  5.23322463e-01,  6.09647691e-01,\n",
       "       -2.52717704e-01, -1.10959165e-01,  1.07742414e-01,  2.37118319e-01,\n",
       "       -3.28689039e-01,  1.99663773e-01,  2.23515093e-01, -3.67199272e-01,\n",
       "        1.32802415e+00,  3.08116466e-01,  3.19345385e-01,  4.43011284e-01,\n",
       "       -6.19487762e-01, -6.39867544e-01, -6.24979019e-01, -7.20700741e-01,\n",
       "        1.17255962e+00, -5.24489820e-01,  1.32275566e-01,  9.50944126e-01,\n",
       "        1.62755921e-01,  9.91412520e-01,  1.31971586e+00, -1.00720859e+00,\n",
       "        1.23281084e-01, -7.25323617e-01,  4.29826289e-01,  2.97280192e-01,\n",
       "        1.27245641e+00,  7.29379177e-01, -1.23514399e-01,  5.18424332e-01,\n",
       "       -3.83289397e-01, -7.26873577e-02, -3.53827834e-01, -2.10028812e-01,\n",
       "       -9.59032655e-01,  5.36361098e-01, -7.27700353e-01, -6.74989700e-01,\n",
       "       -5.91602981e-01, -4.36172426e-01, -1.05236135e-01, -6.41222000e-01,\n",
       "        6.16474628e-01,  1.52590021e-01, -1.46279335e-01,  9.62570250e-01,\n",
       "        2.15270460e-01, -6.01618662e-02,  2.69579470e-01, -5.19863904e-01,\n",
       "       -3.57553422e-01,  6.91329122e-01,  1.29464239e-01,  5.53734660e-01,\n",
       "       -3.89832884e-01,  5.42743921e-01, -1.28923178e+00,  1.97575122e-01],\n",
       "      dtype=float32)"
      ]
     },
     "execution_count": 44,
     "metadata": {},
     "output_type": "execute_result"
    }
   ],
   "source": [
    "zimin_vector"
   ]
  },
  {
   "cell_type": "code",
   "execution_count": 45,
   "id": "06107a57",
   "metadata": {},
   "outputs": [
    {
     "data": {
      "text/plain": [
       "array([-0.01721215,  0.00457541, -0.02040709, -0.00550808,  0.01017167,\n",
       "        0.01043705,  0.00250698,  0.0103947 ,  0.01490386,  0.01589917,\n",
       "       -0.00560125,  0.00639073,  0.01870393, -0.01238925,  0.00643551,\n",
       "        0.0059858 , -0.01394151,  0.02723389, -0.01273969,  0.00053285,\n",
       "       -0.00320975,  0.01173065,  0.02190735,  0.01117668, -0.01314119,\n",
       "       -0.0020282 ,  0.02634601, -0.00744909,  0.01160538,  0.00925387,\n",
       "       -0.00075463, -0.00180016,  0.0041208 ,  0.01282719,  0.00773677,\n",
       "        0.00028354,  0.00163781, -0.00104237,  0.00327861,  0.01317903,\n",
       "        0.00588479, -0.00787653,  0.01439495,  0.00591868,  0.00766783,\n",
       "        0.01295391, -0.00481636,  0.01726345,  0.02538334,  0.02237068,\n",
       "        0.00141719,  0.01439223,  0.00307652,  0.00186124, -0.00225118,\n",
       "        0.00184723,  0.01333306, -0.00995554, -0.00136809,  0.01812311,\n",
       "        0.00236488,  0.02476462,  0.02211089, -0.00889513,  0.01298963,\n",
       "       -0.00614236,  0.01144751,  0.01063266,  0.01923683,  0.01938552,\n",
       "       -0.00662824,  0.01740644, -0.01036947,  0.00299493, -0.00737391,\n",
       "        0.00532486, -0.0026846 ,  0.01051797,  0.01872831, -0.00436124,\n",
       "        0.00257249,  0.01450719,  0.0076933 ,  0.00085971,  0.00119688,\n",
       "        0.01261011,  0.00531679,  0.01828495,  0.0132299 , -0.00056872,\n",
       "        0.01567605, -0.00375992,  0.00975095, -0.00366114,  0.00536482,\n",
       "        0.01825286,  0.00577585,  0.01216855, -0.00631049,  0.01798205],\n",
       "      dtype=float32)"
      ]
     },
     "execution_count": 45,
     "metadata": {},
     "output_type": "execute_result"
    }
   ],
   "source": [
    "black_eyed_peas_vector"
   ]
  },
  {
   "cell_type": "code",
   "execution_count": 46,
   "id": "32affcaa",
   "metadata": {},
   "outputs": [
    {
     "data": {
      "text/plain": [
       "0.5058711"
      ]
     },
     "execution_count": 46,
     "metadata": {},
     "output_type": "execute_result"
    }
   ],
   "source": [
    "# zimin과 black_eyed_peas를 내적하는 코드\n",
    "np.dot(zimin_vector, black_eyed_peas_vector) # What?"
   ]
  },
  {
   "cell_type": "markdown",
   "id": "2dc97e3c",
   "metadata": {},
   "source": [
    "> 1이 나와야할 것 같은데 한참 낮은 수치가 나왔다.\n",
    "> - but, 학습 데이터에 대해서만 fitting하였고, 아직 보지 못한 데이터에 대한 예측을 잘할지 못할지는 검증하지 않았다."
   ]
  },
  {
   "cell_type": "code",
   "execution_count": 47,
   "id": "e6a11585",
   "metadata": {},
   "outputs": [
    {
     "data": {
      "text/plain": [
       "0.28282422"
      ]
     },
     "execution_count": 47,
     "metadata": {},
     "output_type": "execute_result"
    }
   ],
   "source": [
    "queen = artist_to_idx['queen']\n",
    "queen_vector = als_model.item_factors[queen]\n",
    "np.dot(zimin_vector, queen_vector)"
   ]
  },
  {
   "cell_type": "markdown",
   "id": "696e2f05",
   "metadata": {},
   "source": [
    "> 어느 정도가 나와야 모델이 선호한다고 판별하기 어렵다. 만드는 사람이 정하기 나름이고, 객관적인 지표로 만들어 기준을 정할 수도 있고, 도메인 경험을 통해 정할 수도 있다."
   ]
  },
  {
   "cell_type": "code",
   "execution_count": null,
   "id": "28b1b167",
   "metadata": {},
   "outputs": [],
   "source": []
  },
  {
   "cell_type": "markdown",
   "id": "0c0906d3",
   "metadata": {},
   "source": [
    "## 6. 비슷한 아티스트 찾기 + 유저에게 추천하기\n",
    "### 비슷한 아티스트 찾기\n",
    "\n",
    "`AlternatingLeastSquares` 클래스에 구현되어 있는 `similar_items` 메서드를 통해 비슷한 아티스트를 찾는다."
   ]
  },
  {
   "cell_type": "code",
   "execution_count": 48,
   "id": "ef658ab7",
   "metadata": {},
   "outputs": [
    {
     "data": {
      "text/plain": [
       "[(62, 1.0),\n",
       " (277, 0.9828172),\n",
       " (28, 0.9784496),\n",
       " (217, 0.9704937),\n",
       " (5, 0.97030425),\n",
       " (490, 0.96758753),\n",
       " (418, 0.9673285),\n",
       " (473, 0.9567048),\n",
       " (247, 0.95602375),\n",
       " (694, 0.9444346),\n",
       " (1018, 0.9437408),\n",
       " (268, 0.93996793),\n",
       " (910, 0.9382544),\n",
       " (531, 0.93182063),\n",
       " (55, 0.9312331)]"
      ]
     },
     "execution_count": 48,
     "metadata": {},
     "output_type": "execute_result"
    }
   ],
   "source": [
    "favorite_artist = 'coldplay'\n",
    "artist_id = artist_to_idx[favorite_artist]\n",
    "similar_artist = als_model.similar_items(artist_id, N=15)\n",
    "similar_artist"
   ]
  },
  {
   "cell_type": "code",
   "execution_count": 49,
   "id": "d2b223e0",
   "metadata": {},
   "outputs": [
    {
     "data": {
      "text/plain": [
       "['coldplay',\n",
       " 'muse',\n",
       " 'the killers',\n",
       " 'radiohead',\n",
       " 'red hot chili peppers',\n",
       " 'oasis',\n",
       " 'u2',\n",
       " 'placebo',\n",
       " 'the beatles',\n",
       " 'foo fighters',\n",
       " 'the smashing pumpkins',\n",
       " 'pink floyd',\n",
       " 'nirvana',\n",
       " 'depeche mode',\n",
       " 'arctic monkeys']"
      ]
     },
     "execution_count": 49,
     "metadata": {},
     "output_type": "execute_result"
    }
   ],
   "source": [
    "# artist_to_idx 를 뒤집어, index로부터 artist 이름을 얻는 dict를 생성합니다. \n",
    "idx_to_artist = {v: k for k, v in artist_to_idx.items()}\n",
    "[idx_to_artist[i[0]] for i in similar_artist]"
   ]
  },
  {
   "cell_type": "code",
   "execution_count": 50,
   "id": "20e8bba6",
   "metadata": {},
   "outputs": [],
   "source": [
    "# 위를 함수로 구현하기\n",
    "def get_similar_artist(artist_name: str): # 타입 힌트\n",
    "    artist_id = artist_to_idx[artist_name]\n",
    "    similar_artist = als_model.similar_items(artist_id)\n",
    "    similar_artist = [idx_to_artist[i[0]] for i in similar_artist]\n",
    "    return similar_artist"
   ]
  },
  {
   "cell_type": "code",
   "execution_count": 51,
   "id": "0972bbd4",
   "metadata": {},
   "outputs": [
    {
     "data": {
      "text/plain": [
       "['2pac',\n",
       " 'dr. dre',\n",
       " 'notorious b.i.g.',\n",
       " 'nas',\n",
       " 'the game',\n",
       " 'jay-z',\n",
       " 'snoop dogg',\n",
       " 'busta rhymes',\n",
       " '50 cent',\n",
       " 'ice cube']"
      ]
     },
     "execution_count": 51,
     "metadata": {},
     "output_type": "execute_result"
    }
   ],
   "source": [
    "# 힙합\n",
    "get_similar_artist('2pac')"
   ]
  },
  {
   "cell_type": "markdown",
   "id": "7d1e4e97",
   "metadata": {},
   "source": [
    "> 힙합의 경우 `마니아`들이 많기 때문에 더 잘 추천되는 것으로 생각된다."
   ]
  },
  {
   "cell_type": "code",
   "execution_count": 52,
   "id": "126b43e2",
   "metadata": {},
   "outputs": [
    {
     "data": {
      "text/plain": [
       "['lady gaga',\n",
       " 'britney spears',\n",
       " 'rihanna',\n",
       " 'katy perry',\n",
       " 'beyoncé',\n",
       " 'the pussycat dolls',\n",
       " 'christina aguilera',\n",
       " 'leona lewis',\n",
       " 'nelly furtado',\n",
       " 'mariah carey']"
      ]
     },
     "execution_count": 52,
     "metadata": {},
     "output_type": "execute_result"
    }
   ],
   "source": [
    "get_similar_artist('lady gaga') # 여자 아티스트들 추천"
   ]
  },
  {
   "cell_type": "code",
   "execution_count": null,
   "id": "522e833e",
   "metadata": {},
   "outputs": [],
   "source": []
  },
  {
   "cell_type": "markdown",
   "id": "3e3d3b39",
   "metadata": {},
   "source": [
    "### 유저에게 아티스트 추천하기\n",
    "\n",
    "`AlternatingLeastSquares` 클래스에 구현되어 있는 `recommend` 메서드를 통해 좋아할만한 아티스트를 추천받는다.\n",
    "> - `filter_already_liked_items=True`: 유저가 이미 평가한 아이템은 제외하는 Argument"
   ]
  },
  {
   "cell_type": "code",
   "execution_count": 53,
   "id": "9e62cc79",
   "metadata": {},
   "outputs": [
    {
     "data": {
      "text/plain": [
       "[(350, 0.45803472),\n",
       " (550, 0.4453687),\n",
       " (627, 0.4398257),\n",
       " (369, 0.4393021),\n",
       " (724, 0.43263012),\n",
       " (1800, 0.4306059),\n",
       " (354, 0.4254977),\n",
       " (355, 0.41696593),\n",
       " (2249, 0.41376278),\n",
       " (391, 0.41065225),\n",
       " (274, 0.40041623),\n",
       " (901, 0.39629155),\n",
       " (409, 0.3925488),\n",
       " (944, 0.39120346),\n",
       " (5555, 0.37636536),\n",
       " (618, 0.36417174),\n",
       " (2902, 0.3620874),\n",
       " (621, 0.36167806),\n",
       " (434, 0.36065286),\n",
       " (564, 0.34635583)]"
      ]
     },
     "execution_count": 53,
     "metadata": {},
     "output_type": "execute_result"
    }
   ],
   "source": [
    "user = user_to_idx['zimin']\n",
    "# recommend에서는 user*item CSR Matrix를 받습니다.\n",
    "artist_recommended = als_model.recommend(user, \n",
    "                                         csr_data, \n",
    "                                         N=20, \n",
    "                                         filter_already_liked_items=True)\n",
    "artist_recommended"
   ]
  },
  {
   "cell_type": "code",
   "execution_count": 54,
   "id": "e51eff33",
   "metadata": {},
   "outputs": [
    {
     "data": {
      "text/plain": [
       "['rihanna',\n",
       " 'britney spears',\n",
       " 'maroon 5',\n",
       " 'justin timberlake',\n",
       " 'lily allen',\n",
       " 'lady gaga',\n",
       " 'nelly furtado',\n",
       " 'madonna',\n",
       " 'katy perry',\n",
       " 'christina aguilera',\n",
       " 'michael jackson',\n",
       " 'pink',\n",
       " 'amy winehouse',\n",
       " 'avril lavigne',\n",
       " 'timbaland',\n",
       " 'the pussycat dolls',\n",
       " 'james blunt',\n",
       " 'alicia keys',\n",
       " 'eminem',\n",
       " 'kanye west']"
      ]
     },
     "execution_count": 54,
     "metadata": {},
     "output_type": "execute_result"
    }
   ],
   "source": [
    "[idx_to_artist[i[0]] for i in artist_recommended]"
   ]
  },
  {
   "cell_type": "markdown",
   "id": "f62d2c70",
   "metadata": {},
   "source": [
    "> `AlternatingLeastSquares` 클래스에 구현된 `explain` 메서드를 사용해 이 기록을 남긴 데이터 중 **이 추천에 기여한 정도**를 확인해보자."
   ]
  },
  {
   "cell_type": "code",
   "execution_count": 67,
   "id": "38826162",
   "metadata": {},
   "outputs": [],
   "source": [
    "rihanna = artist_to_idx['rihanna']\n",
    "explain = als_model.explain(user, csr_data, itemid=rihanna)"
   ]
  },
  {
   "cell_type": "code",
   "execution_count": 68,
   "id": "582c89c7",
   "metadata": {},
   "outputs": [
    {
     "data": {
      "text/plain": [
       "[('beyoncé', 0.2249873131413247),\n",
       " ('black eyed peas', 0.14776178086847805),\n",
       " ('jason mraz', 0.058009075307036584),\n",
       " ('coldplay', 0.027429781276271794),\n",
       " ('maroon5', 0.00045162577938040016)]"
      ]
     },
     "execution_count": 68,
     "metadata": {},
     "output_type": "execute_result"
    }
   ],
   "source": [
    "[(idx_to_artist[i[0]], i[1]) for i in explain[1]]"
   ]
  },
  {
   "cell_type": "markdown",
   "id": "c95a519a",
   "metadata": {},
   "source": [
    "> `maroon5`는 이미 평가한 아이템인데 왜 또 나왔을까? implicit 버전 0.4.2에서 생긴 버그\n",
    "> - 오픈 소스 생태계에선 누구든 이런 문제점을 지적하고 pull request를 통해 수정을 제안할 수도 있다."
   ]
  },
  {
   "cell_type": "markdown",
   "id": "3f05c247",
   "metadata": {},
   "source": [
    "### 마무리 - 아쉬운 점\n",
    "1. 유저, 아티스트에 대한 Meta 정보를 반영하기 쉽지 않음\n",
    "- 연령대별로 음악 취향이 매우 다를 것\n",
    "2. 유저가 언제 play 했는지를 반영하기 어려움\n",
    "- 10년 전에 즐겨듣던 아티스트와 지금 듣는 아티스트 비교해보기"
   ]
  },
  {
   "cell_type": "code",
   "execution_count": null,
   "id": "3628a202",
   "metadata": {},
   "outputs": [],
   "source": []
  },
  {
   "cell_type": "code",
   "execution_count": null,
   "id": "97cca031",
   "metadata": {},
   "outputs": [],
   "source": []
  }
 ],
 "metadata": {
  "kernelspec": {
   "display_name": "Python 3 (ipykernel)",
   "language": "python",
   "name": "python3"
  },
  "language_info": {
   "codemirror_mode": {
    "name": "ipython",
    "version": 3
   },
   "file_extension": ".py",
   "mimetype": "text/x-python",
   "name": "python",
   "nbconvert_exporter": "python",
   "pygments_lexer": "ipython3",
   "version": "3.9.7"
  }
 },
 "nbformat": 4,
 "nbformat_minor": 5
}
