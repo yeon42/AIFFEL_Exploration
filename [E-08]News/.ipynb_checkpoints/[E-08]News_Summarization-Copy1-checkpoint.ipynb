{
 "cells": [
  {
   "cell_type": "markdown",
   "id": "2f38902c",
   "metadata": {},
   "source": [
    "# 📖 8-12. 프로젝트: 뉴스 기사 요약해보기\n",
    "추상적 요약 / 추출적 요약을 모두 해보자."
   ]
  },
  {
   "cell_type": "code",
   "execution_count": 58,
   "id": "b1f1002d",
   "metadata": {},
   "outputs": [],
   "source": [
    "import pandas as pd\n",
    "import urllib.request\n",
    "from nltk.corpus import stopwords\n",
    "from bs4 import BeautifulSoup\n",
    "import re\n",
    "\n",
    "import multiprocessing as mp   # 멀티 프로세싱으로 전처리 속도를 획기적으로 줄여봅시다\n",
    "from multiprocessing import Pool\n",
    "import numpy as np\n",
    "import time\n",
    "from functools import partial  # map을 할 때 함수에 여러 인자를 넣어줄 수 있도록 합니다\n",
    "import matplotlib.pyplot as plt\n",
    "\n",
    "from tensorflow.keras.preprocessing.text import Tokenizer \n",
    "from tensorflow.keras.preprocessing.sequence import pad_sequences\n",
    "\n",
    "from tensorflow.keras.layers import Input, LSTM, Embedding, Dense, Concatenate\n",
    "from tensorflow.keras.models import Model\n",
    "from tensorflow.keras.callbacks import EarlyStopping, ModelCheckpoint\n",
    "\n",
    "# from tensorflow.python.keras.layers import Input, GRU, Dense, Concatenate, TimeDistributed from tensorflow.python.keras.models import Model\n",
    "\n",
    "import requests\n",
    "from summa.summarizer import summarize"
   ]
  },
  {
   "cell_type": "code",
   "execution_count": null,
   "id": "c12d8160",
   "metadata": {},
   "outputs": [],
   "source": []
  },
  {
   "cell_type": "markdown",
   "id": "1f4696d2",
   "metadata": {},
   "source": [
    "## Step 1. 데이터 수집하기"
   ]
  },
  {
   "cell_type": "code",
   "execution_count": 59,
   "id": "45d5b466",
   "metadata": {},
   "outputs": [],
   "source": [
    "import urllib.request\n",
    "# urllib.request.urlretrieve(\"https://raw.githubusercontent.com/sunnysai12345/News_Summary/master/news_summary_more.csv\", filename=\"news_summary_more.csv\")\n",
    "\n",
    "# data = pd.read_csv('news_summary_more.csv', encoding='iso-8859-1')\n",
    "data = pd.read_csv('news_summary_more_preprocessing.csv', encoding='iso-8859-1')\n"
   ]
  },
  {
   "cell_type": "code",
   "execution_count": 60,
   "id": "1609307e",
   "metadata": {},
   "outputs": [
    {
     "data": {
      "text/html": [
       "<div>\n",
       "<style scoped>\n",
       "    .dataframe tbody tr th:only-of-type {\n",
       "        vertical-align: middle;\n",
       "    }\n",
       "\n",
       "    .dataframe tbody tr th {\n",
       "        vertical-align: top;\n",
       "    }\n",
       "\n",
       "    .dataframe thead th {\n",
       "        text-align: right;\n",
       "    }\n",
       "</style>\n",
       "<table border=\"1\" class=\"dataframe\">\n",
       "  <thead>\n",
       "    <tr style=\"text-align: right;\">\n",
       "      <th></th>\n",
       "      <th>Unnamed: 0</th>\n",
       "      <th>headlines</th>\n",
       "      <th>text</th>\n",
       "    </tr>\n",
       "  </thead>\n",
       "  <tbody>\n",
       "    <tr>\n",
       "      <th>0</th>\n",
       "      <td>0</td>\n",
       "      <td>upgrad learner switches to career in ml al wit...</td>\n",
       "      <td>saurav kant alumnus upgrad iiit pg program mac...</td>\n",
       "    </tr>\n",
       "  </tbody>\n",
       "</table>\n",
       "</div>"
      ],
      "text/plain": [
       "   Unnamed: 0                                          headlines  \\\n",
       "0           0  upgrad learner switches to career in ml al wit...   \n",
       "\n",
       "                                                text  \n",
       "0  saurav kant alumnus upgrad iiit pg program mac...  "
      ]
     },
     "execution_count": 60,
     "metadata": {},
     "output_type": "execute_result"
    }
   ],
   "source": [
    "data.head(1)"
   ]
  },
  {
   "cell_type": "code",
   "execution_count": 61,
   "id": "7db2e32f",
   "metadata": {},
   "outputs": [
    {
     "data": {
      "text/html": [
       "<div>\n",
       "<style scoped>\n",
       "    .dataframe tbody tr th:only-of-type {\n",
       "        vertical-align: middle;\n",
       "    }\n",
       "\n",
       "    .dataframe tbody tr th {\n",
       "        vertical-align: top;\n",
       "    }\n",
       "\n",
       "    .dataframe thead th {\n",
       "        text-align: right;\n",
       "    }\n",
       "</style>\n",
       "<table border=\"1\" class=\"dataframe\">\n",
       "  <thead>\n",
       "    <tr style=\"text-align: right;\">\n",
       "      <th></th>\n",
       "      <th>headlines</th>\n",
       "      <th>text</th>\n",
       "    </tr>\n",
       "  </thead>\n",
       "  <tbody>\n",
       "    <tr>\n",
       "      <th>24118</th>\n",
       "      <td>pakistan election results tainted former pm na...</td>\n",
       "      <td>former pakistan pm nawaz sharif rejected taint...</td>\n",
       "    </tr>\n",
       "    <tr>\n",
       "      <th>88134</th>\n",
       "      <td>chinese navy ships visit myanmar for joint exe...</td>\n",
       "      <td>chinese navy ships visiting myanmar conduct co...</td>\n",
       "    </tr>\n",
       "    <tr>\n",
       "      <th>5303</th>\n",
       "      <td>week old girl succumbs to injuries in esic hos...</td>\n",
       "      <td>one week old girl succumbed injuries today suf...</td>\n",
       "    </tr>\n",
       "    <tr>\n",
       "      <th>61871</th>\n",
       "      <td>govt failed to deliver on promises bhopal gas ...</td>\n",
       "      <td>five organisations representing bhopal gas tra...</td>\n",
       "    </tr>\n",
       "    <tr>\n",
       "      <th>66745</th>\n",
       "      <td>iceland pm sold bank assets hours before econo...</td>\n",
       "      <td>iceland pm bjarni benediktsson sold bank asset...</td>\n",
       "    </tr>\n",
       "    <tr>\n",
       "      <th>64727</th>\n",
       "      <td>youth killed for objecting to men urinating on...</td>\n",
       "      <td>three four men arrested friday allegedly beati...</td>\n",
       "    </tr>\n",
       "    <tr>\n",
       "      <th>19421</th>\n",
       "      <td>uber building its own electric scooter report</td>\n",
       "      <td>us based ride hailing startup uber building el...</td>\n",
       "    </tr>\n",
       "    <tr>\n",
       "      <th>52424</th>\n",
       "      <td>divyanka husband attacked by drunk armed men d...</td>\n",
       "      <td>tv actress divyanka tripathi husband tv actor ...</td>\n",
       "    </tr>\n",
       "    <tr>\n",
       "      <th>91900</th>\n",
       "      <td>sc directs up govt to recruit sis constables</td>\n",
       "      <td>supreme court monday directed uttar pradesh go...</td>\n",
       "    </tr>\n",
       "    <tr>\n",
       "      <th>53649</th>\n",
       "      <td>cryptocurrency puts power into people hands zu...</td>\n",
       "      <td>facebook ceo mark zuckerberg said cryptocurren...</td>\n",
       "    </tr>\n",
       "  </tbody>\n",
       "</table>\n",
       "</div>"
      ],
      "text/plain": [
       "                                               headlines  \\\n",
       "24118  pakistan election results tainted former pm na...   \n",
       "88134  chinese navy ships visit myanmar for joint exe...   \n",
       "5303   week old girl succumbs to injuries in esic hos...   \n",
       "61871  govt failed to deliver on promises bhopal gas ...   \n",
       "66745  iceland pm sold bank assets hours before econo...   \n",
       "64727  youth killed for objecting to men urinating on...   \n",
       "19421      uber building its own electric scooter report   \n",
       "52424  divyanka husband attacked by drunk armed men d...   \n",
       "91900       sc directs up govt to recruit sis constables   \n",
       "53649  cryptocurrency puts power into people hands zu...   \n",
       "\n",
       "                                                    text  \n",
       "24118  former pakistan pm nawaz sharif rejected taint...  \n",
       "88134  chinese navy ships visiting myanmar conduct co...  \n",
       "5303   one week old girl succumbed injuries today suf...  \n",
       "61871  five organisations representing bhopal gas tra...  \n",
       "66745  iceland pm bjarni benediktsson sold bank asset...  \n",
       "64727  three four men arrested friday allegedly beati...  \n",
       "19421  us based ride hailing startup uber building el...  \n",
       "52424  tv actress divyanka tripathi husband tv actor ...  \n",
       "91900  supreme court monday directed uttar pradesh go...  \n",
       "53649  facebook ceo mark zuckerberg said cryptocurren...  "
      ]
     },
     "execution_count": 61,
     "metadata": {},
     "output_type": "execute_result"
    }
   ],
   "source": [
    "data.drop(['Unnamed: 0'], axis=1, inplace=True)\n",
    "data.sample(10)"
   ]
  },
  {
   "cell_type": "markdown",
   "id": "4980e96b",
   "metadata": {},
   "source": [
    "## Step 2. 데이터 전처리하기 (추상적 요약)\n",
    "### 중복 샘플, null 값 제거\n",
    "- text는 중복되어도 headlines는 동일할 수도 있다.\n",
    "- 일단 text에서 중복된 데이터를 제거하자."
   ]
  },
  {
   "cell_type": "code",
   "execution_count": 62,
   "id": "fd559958",
   "metadata": {
    "scrolled": true
   },
   "outputs": [],
   "source": [
    "# print(len(data['text']))\n",
    "# print(len(data['text']) - data['text'].nunique())"
   ]
  },
  {
   "cell_type": "markdown",
   "id": "5f6c8106",
   "metadata": {},
   "source": [
    "41개 98360개"
   ]
  },
  {
   "cell_type": "code",
   "execution_count": 63,
   "id": "81229171",
   "metadata": {},
   "outputs": [],
   "source": [
    "# data.drop_duplicates(subset=['text'], inplace=True)\n",
    "# print('전체 text 샘플 수: ', len(data))"
   ]
  },
  {
   "cell_type": "code",
   "execution_count": 64,
   "id": "5bed8a25",
   "metadata": {},
   "outputs": [],
   "source": [
    "# print(data.isnull().sum())"
   ]
  },
  {
   "cell_type": "markdown",
   "id": "7a9a9df5",
   "metadata": {},
   "source": [
    "null data는 제거할 필요 없다. 총 데이터 수는 중복 데이터 41개를 제거해 **98,360개**임을 확인!"
   ]
  },
  {
   "cell_type": "markdown",
   "id": "d7c8f895",
   "metadata": {},
   "source": [
    "### 텍스트 정규화와 불용어 제거\n",
    "#### 정규화 사전 (dictionary)"
   ]
  },
  {
   "cell_type": "code",
   "execution_count": 65,
   "id": "45baf663",
   "metadata": {},
   "outputs": [],
   "source": [
    "# contractions = {\"ain't\": \"is not\", \"aren't\": \"are not\",\"can't\": \"cannot\", \"'cause\": \"because\", \"could've\": \"could have\", \"couldn't\": \"could not\",\n",
    "#                            \"didn't\": \"did not\",  \"doesn't\": \"does not\", \"don't\": \"do not\", \"hadn't\": \"had not\", \"hasn't\": \"has not\", \"haven't\": \"have not\",\n",
    "#                            \"he'd\": \"he would\",\"he'll\": \"he will\", \"he's\": \"he is\", \"how'd\": \"how did\", \"how'd'y\": \"how do you\", \"how'll\": \"how will\", \"how's\": \"how is\",\n",
    "#                            \"I'd\": \"I would\", \"I'd've\": \"I would have\", \"I'll\": \"I will\", \"I'll've\": \"I will have\",\"I'm\": \"I am\", \"I've\": \"I have\", \"i'd\": \"i would\",\n",
    "#                            \"i'd've\": \"i would have\", \"i'll\": \"i will\",  \"i'll've\": \"i will have\",\"i'm\": \"i am\", \"i've\": \"i have\", \"isn't\": \"is not\", \"it'd\": \"it would\",\n",
    "#                            \"it'd've\": \"it would have\", \"it'll\": \"it will\", \"it'll've\": \"it will have\",\"it's\": \"it is\", \"let's\": \"let us\", \"ma'am\": \"madam\",\n",
    "#                            \"mayn't\": \"may not\", \"might've\": \"might have\",\"mightn't\": \"might not\",\"mightn't've\": \"might not have\", \"must've\": \"must have\",\n",
    "#                            \"mustn't\": \"must not\", \"mustn't've\": \"must not have\", \"needn't\": \"need not\", \"needn't've\": \"need not have\",\"o'clock\": \"of the clock\",\n",
    "#                            \"oughtn't\": \"ought not\", \"oughtn't've\": \"ought not have\", \"shan't\": \"shall not\", \"sha'n't\": \"shall not\", \"shan't've\": \"shall not have\",\n",
    "#                            \"she'd\": \"she would\", \"she'd've\": \"she would have\", \"she'll\": \"she will\", \"she'll've\": \"she will have\", \"she's\": \"she is\",\n",
    "#                            \"should've\": \"should have\", \"shouldn't\": \"should not\", \"shouldn't've\": \"should not have\", \"so've\": \"so have\",\"so's\": \"so as\",\n",
    "#                            \"this's\": \"this is\",\"that'd\": \"that would\", \"that'd've\": \"that would have\", \"that's\": \"that is\", \"there'd\": \"there would\",\n",
    "#                            \"there'd've\": \"there would have\", \"there's\": \"there is\", \"here's\": \"here is\",\"they'd\": \"they would\", \"they'd've\": \"they would have\",\n",
    "#                            \"they'll\": \"they will\", \"they'll've\": \"they will have\", \"they're\": \"they are\", \"they've\": \"they have\", \"to've\": \"to have\",\n",
    "#                            \"wasn't\": \"was not\", \"we'd\": \"we would\", \"we'd've\": \"we would have\", \"we'll\": \"we will\", \"we'll've\": \"we will have\", \"we're\": \"we are\",\n",
    "#                            \"we've\": \"we have\", \"weren't\": \"were not\", \"what'll\": \"what will\", \"what'll've\": \"what will have\", \"what're\": \"what are\",\n",
    "#                            \"what's\": \"what is\", \"what've\": \"what have\", \"when's\": \"when is\", \"when've\": \"when have\", \"where'd\": \"where did\", \"where's\": \"where is\",\n",
    "#                            \"where've\": \"where have\", \"who'll\": \"who will\", \"who'll've\": \"who will have\", \"who's\": \"who is\", \"who've\": \"who have\",\n",
    "#                            \"why's\": \"why is\", \"why've\": \"why have\", \"will've\": \"will have\", \"won't\": \"will not\", \"won't've\": \"will not have\",\n",
    "#                            \"would've\": \"would have\", \"wouldn't\": \"would not\", \"wouldn't've\": \"would not have\", \"y'all\": \"you all\",\n",
    "#                            \"y'all'd\": \"you all would\",\"y'all'd've\": \"you all would have\",\"y'all're\": \"you all are\",\"y'all've\": \"you all have\",\n",
    "#                            \"you'd\": \"you would\", \"you'd've\": \"you would have\", \"you'll\": \"you will\", \"you'll've\": \"you will have\",\n",
    "#                            \"you're\": \"you are\", \"you've\": \"you have\"}\n",
    "\n",
    "# print(\"정규화 사전의 수: \", len(contractions))"
   ]
  },
  {
   "cell_type": "markdown",
   "id": "0cfcc4cc",
   "metadata": {},
   "source": [
    "#### 불용어 (stopwords)\n",
    "- NLTK에서 제공하는 불용어 리스트를 참조하자."
   ]
  },
  {
   "cell_type": "code",
   "execution_count": 66,
   "id": "951919f1",
   "metadata": {},
   "outputs": [],
   "source": [
    "# # NLTK에서 제공하는 불용어 리스트\n",
    "# print('불용어 개수: ', len(stopwords.words('english')))\n",
    "# print(stopwords.words('english'))"
   ]
  },
  {
   "cell_type": "code",
   "execution_count": null,
   "id": "0dfc7f08",
   "metadata": {},
   "outputs": [],
   "source": []
  },
  {
   "cell_type": "code",
   "execution_count": 67,
   "id": "0f9a03dd",
   "metadata": {},
   "outputs": [],
   "source": [
    "# # 데이터 전처리 함수\n",
    "# def preprocess_sentence(sentence, remove_stopwords=True):\n",
    "#     sentence = sentence.lower() # 텍스트 소문자화\n",
    "#     sentence = BeautifulSoup(sentence, 'lxml').text # <br />, <a href=...> 등의 html 태그 제거\n",
    "#     sentence = re.sub(r'\\([^)]*\\)', '', sentence) # 괄호로 닫힌 문자열 (...) 제거 Ex) my husband (and myself!) for => my husband for\n",
    "#     sentence = re.sub('\"','', sentence) # 쌍따옴표 \" 제거\n",
    "#     sentence = ' '.join([contractions[t] if t in contractions else t for t in sentence.split(\" \")]) # 약어 정규화\n",
    "#     sentence = re.sub(r\"'s\\b\",\"\", sentence) # 소유격 제거. Ex) roland's -> roland\n",
    "#     sentence = re.sub(\"[^a-zA-Z]\", \" \", sentence) # 영어 외 문자(숫자, 특수문자 등) 공백으로 변환\n",
    "#     sentence = re.sub('[m]{2,}', 'mm', sentence) # m이 3개 이상이면 2개로 변경. Ex) ummmmmmm yeah -> umm yeah\n",
    "\n",
    "#     # 불용어 제거 (text)\n",
    "#     if remove_stopwords:\n",
    "#         tokens = ' '.join(word for word in sentence.split() if not word in stopwords.words('english') if len(word) > 1)\n",
    "    \n",
    "#     # 불용어 미제거 (headlines)\n",
    "#     else:\n",
    "#         tokens = ' '.join(word for word in sentence.split() if len(word) > 1)\n",
    "    \n",
    "#     return tokens"
   ]
  },
  {
   "cell_type": "code",
   "execution_count": 68,
   "id": "c1037dca",
   "metadata": {},
   "outputs": [],
   "source": [
    "# clean_text = []\n",
    "\n",
    "# # 전체 text 데이터에 대한 전처리: 10분 이상 소요\n",
    "# for s in data['text']:\n",
    "#     clean_text.append(preprocess_sentence(s))\n",
    "    \n",
    "# # 전처리 후 출력\n",
    "# print('text 전처리 후 결과: ', clean_text[:5])"
   ]
  },
  {
   "cell_type": "code",
   "execution_count": 69,
   "id": "aa0ef133",
   "metadata": {},
   "outputs": [],
   "source": [
    "# clean_summary = []\n",
    "\n",
    "# # 전체 Summary 데이터에 대한 전처리: 5분 이상 시간 소요\n",
    "# for s in data['headlines']:\n",
    "#     clean_summary.append(preprocess_sentence(s, False)) # 불용어 제거 수행하지 않는다는 의미의 False\n",
    "    \n",
    "# print(\"headlines 전처리 후 결과: \", clean_summary[:5])"
   ]
  },
  {
   "cell_type": "code",
   "execution_count": 70,
   "id": "1c6f9b7e",
   "metadata": {},
   "outputs": [],
   "source": [
    "# data['text'] = clean_text\n",
    "# data['headlines'] = clean_summary\n",
    "\n",
    "# # 빈 값을 null로 변환\n",
    "# data.replace('', np.nan, inplace=True)"
   ]
  },
  {
   "cell_type": "code",
   "execution_count": 71,
   "id": "d3dbed0c",
   "metadata": {},
   "outputs": [],
   "source": [
    "# data.isnull().sum()"
   ]
  },
  {
   "cell_type": "code",
   "execution_count": 72,
   "id": "db9512e5",
   "metadata": {},
   "outputs": [
    {
     "name": "stdout",
     "output_type": "stream",
     "text": [
      "전체 샘플 수:  98360\n"
     ]
    }
   ],
   "source": [
    "print('전체 샘플 수: ', len(data))"
   ]
  },
  {
   "cell_type": "code",
   "execution_count": 73,
   "id": "aa25dea1",
   "metadata": {},
   "outputs": [],
   "source": [
    "# data.to_csv('news_summary_more_preprocessing.csv')"
   ]
  },
  {
   "cell_type": "markdown",
   "id": "65aca2b5",
   "metadata": {},
   "source": [
    "### 훈련 데이터, 테스트 데이터 나누기\n",
    "#### 샘플의 최대 길이 정하기"
   ]
  },
  {
   "cell_type": "code",
   "execution_count": 74,
   "id": "91bb045a",
   "metadata": {},
   "outputs": [
    {
     "name": "stdout",
     "output_type": "stream",
     "text": [
      "텍스트의 최소 길이 : 1\n",
      "텍스트의 최대 길이 : 60\n",
      "텍스트의 평균 길이 : 35.09968483123221\n",
      "헤드라인의 최소 길이 : 1\n",
      "헤드라인의 최대 길이 : 16\n",
      "헤드라인의 평균 길이 : 9.299532330215534\n"
     ]
    },
    {
     "data": {
      "image/png": "[encoded data removed]",
      "text/plain": [
       "<Figure size 432x288 with 2 Axes>"
      ]
     },
     "metadata": {
      "needs_background": "light"
     },
     "output_type": "display_data"
    },
    {
     "data": {
      "image/png": "[encoded data removed]",
      "text/plain": [
       "<Figure size 432x288 with 1 Axes>"
      ]
     },
     "metadata": {
      "needs_background": "light"
     },
     "output_type": "display_data"
    },
    {
     "data": {
      "image/png": "[encoded data removed]",
      "text/plain": [
       "<Figure size 432x288 with 1 Axes>"
      ]
     },
     "metadata": {
      "needs_background": "light"
     },
     "output_type": "display_data"
    }
   ],
   "source": [
    "# 길이 분포 출력\n",
    "import matplotlib.pyplot as plt\n",
    "\n",
    "text_len = [len(s.split()) for s in data['text']]\n",
    "headlines_len = [len(s.split()) for s in data['headlines']]\n",
    "\n",
    "print('텍스트의 최소 길이 : {}'.format(np.min(text_len)))\n",
    "print('텍스트의 최대 길이 : {}'.format(np.max(text_len)))\n",
    "print('텍스트의 평균 길이 : {}'.format(np.mean(text_len)))\n",
    "print('헤드라인의 최소 길이 : {}'.format(np.min(headlines_len)))\n",
    "print('헤드라인의 최대 길이 : {}'.format(np.max(headlines_len)))\n",
    "print('헤드라인의 평균 길이 : {}'.format(np.mean(headlines_len)))\n",
    "\n",
    "plt.subplot(1, 2, 1)\n",
    "plt.boxplot(text_len)\n",
    "plt.title('text')\n",
    "plt.subplot(1, 2, 2)\n",
    "plt.boxplot(headlines_len)\n",
    "plt.title('headlines_len')\n",
    "plt.tight_layout()\n",
    "plt.show()\n",
    "\n",
    "plt.title('text')\n",
    "plt.hist(text_len, bins = 40)\n",
    "plt.xlabel('length of samples')\n",
    "plt.ylabel('number of samples')\n",
    "plt.show()\n",
    "\n",
    "plt.title('headlines')\n",
    "plt.hist(headlines_len, bins = 40)\n",
    "plt.xlabel('length of samples')\n",
    "plt.ylabel('number of samples')\n",
    "plt.show()"
   ]
  },
  {
   "cell_type": "code",
   "execution_count": 75,
   "id": "c6c31aa3",
   "metadata": {},
   "outputs": [],
   "source": [
    "# text_max_len = 35\n",
    "# headlines_max_len = 9\n",
    "\n",
    "text_max_len = 50\n",
    "headlines_max_len = 8\n",
    "\n",
    "# text_max_len = 40\n",
    "# summary_max_len = 10\n",
    "\n",
    "# text_max_len = 40\n",
    "# summary_max_len = 12\n",
    "\n",
    "# text_max_len = 45\n",
    "# headlines_max_len = 12\n",
    "\n",
    "# text_max_len = 45\n",
    "# headlines_max_len = 13"
   ]
  },
  {
   "cell_type": "code",
   "execution_count": 76,
   "id": "fab2dc88",
   "metadata": {},
   "outputs": [],
   "source": [
    "# 위의 길이가 적절한지 통계로 확인해보기\n",
    "# 훈련 데이터와 샘플의 길이를 입력하면, 데이터의 몇 %가 해당하는지 계산하는 함수를 만들어서 좀 더 정확하게 판단해볼게요.\n",
    "def below_threshold_len(max_len, nested_list):\n",
    "    cnt = 0\n",
    "    for s in nested_list:\n",
    "        if(len(s.split()) <= max_len):\n",
    "            cnt = cnt + 1\n",
    "    print('전체 샘플 중 길이가 %s 이하인 샘플의 비율: %s'%(max_len, (cnt / len(nested_list))))"
   ]
  },
  {
   "cell_type": "code",
   "execution_count": 77,
   "id": "21aefe89",
   "metadata": {},
   "outputs": [
    {
     "name": "stdout",
     "output_type": "stream",
     "text": [
      "전체 샘플 중 길이가 50 이하인 샘플의 비율: 0.9998576657177715\n",
      "전체 샘플 중 길이가 8 이하인 샘플의 비율: 0.2755693371289142\n"
     ]
    }
   ],
   "source": [
    "below_threshold_len(text_max_len, data['text'])\n",
    "below_threshold_len(headlines_max_len, data['headlines'])"
   ]
  },
  {
   "cell_type": "code",
   "execution_count": 78,
   "id": "2364e75b",
   "metadata": {},
   "outputs": [
    {
     "name": "stdout",
     "output_type": "stream",
     "text": [
      "전체 샘플 수:  27105\n"
     ]
    }
   ],
   "source": [
    "data = data[data['text'].apply(lambda x: len(x.split()) <= text_max_len)]\n",
    "data = data[data['headlines'].apply(lambda x: len(x.split()) <= headlines_max_len)]\n",
    "print('전체 샘플 수: ', len(data))"
   ]
  },
  {
   "cell_type": "markdown",
   "id": "e0c68666",
   "metadata": {},
   "source": [
    "### 시작 토큰, 종료 토큰 추가하기\n",
    "- seq2seq에선 디코더의 입력과 출력 sostoekn, eostoken을 추가할 필요가 있다.\n",
    "- **디코더의 입력**이며 `sostoken`이 맨 앞에 있는 문장은 `decoder_input`, **디코더의 출력**에 해당하며 `eostoken`이 맨 뒤에 붙은 문장은 `decoder_target`이라 명명하자."
   ]
  },
  {
   "cell_type": "code",
   "execution_count": 79,
   "id": "24e4104c",
   "metadata": {},
   "outputs": [
    {
     "data": {
      "text/html": [
       "<div>\n",
       "<style scoped>\n",
       "    .dataframe tbody tr th:only-of-type {\n",
       "        vertical-align: middle;\n",
       "    }\n",
       "\n",
       "    .dataframe tbody tr th {\n",
       "        vertical-align: top;\n",
       "    }\n",
       "\n",
       "    .dataframe thead th {\n",
       "        text-align: right;\n",
       "    }\n",
       "</style>\n",
       "<table border=\"1\" class=\"dataframe\">\n",
       "  <thead>\n",
       "    <tr style=\"text-align: right;\">\n",
       "      <th></th>\n",
       "      <th>headlines</th>\n",
       "      <th>text</th>\n",
       "      <th>decoder_input</th>\n",
       "      <th>decoder_target</th>\n",
       "    </tr>\n",
       "  </thead>\n",
       "  <tbody>\n",
       "    <tr>\n",
       "      <th>19</th>\n",
       "      <td>odisha cm patnaik controls mining mafia union ...</td>\n",
       "      <td>union minister dharmendra pradhan wednesday cl...</td>\n",
       "      <td>sostoken odisha cm patnaik controls mining maf...</td>\n",
       "      <td>odisha cm patnaik controls mining mafia union ...</td>\n",
       "    </tr>\n",
       "    <tr>\n",
       "      <th>21</th>\n",
       "      <td>isro unveils bengaluru centre for manned space...</td>\n",
       "      <td>indian space research organisation wednesday u...</td>\n",
       "      <td>sostoken isro unveils bengaluru centre for man...</td>\n",
       "      <td>isro unveils bengaluru centre for manned space...</td>\n",
       "    </tr>\n",
       "    <tr>\n",
       "      <th>22</th>\n",
       "      <td>killed injured in saudi arabia floods</td>\n",
       "      <td>least people killed others injured saudi arabi...</td>\n",
       "      <td>sostoken killed injured in saudi arabia floods</td>\n",
       "      <td>killed injured in saudi arabia floods eostoken</td>\n",
       "    </tr>\n",
       "    <tr>\n",
       "      <th>29</th>\n",
       "      <td>seat cushions from missing plane carrying foot...</td>\n",
       "      <td>investigators searching lost plane carrying ar...</td>\n",
       "      <td>sostoken seat cushions from missing plane carr...</td>\n",
       "      <td>seat cushions from missing plane carrying foot...</td>\n",
       "    </tr>\n",
       "    <tr>\n",
       "      <th>36</th>\n",
       "      <td>agustawestland scam accused rajiv saxena extra...</td>\n",
       "      <td>agustawestland chopper scam co accused rajiv s...</td>\n",
       "      <td>sostoken agustawestland scam accused rajiv sax...</td>\n",
       "      <td>agustawestland scam accused rajiv saxena extra...</td>\n",
       "    </tr>\n",
       "  </tbody>\n",
       "</table>\n",
       "</div>"
      ],
      "text/plain": [
       "                                            headlines  \\\n",
       "19  odisha cm patnaik controls mining mafia union ...   \n",
       "21  isro unveils bengaluru centre for manned space...   \n",
       "22              killed injured in saudi arabia floods   \n",
       "29  seat cushions from missing plane carrying foot...   \n",
       "36  agustawestland scam accused rajiv saxena extra...   \n",
       "\n",
       "                                                 text  \\\n",
       "19  union minister dharmendra pradhan wednesday cl...   \n",
       "21  indian space research organisation wednesday u...   \n",
       "22  least people killed others injured saudi arabi...   \n",
       "29  investigators searching lost plane carrying ar...   \n",
       "36  agustawestland chopper scam co accused rajiv s...   \n",
       "\n",
       "                                        decoder_input  \\\n",
       "19  sostoken odisha cm patnaik controls mining maf...   \n",
       "21  sostoken isro unveils bengaluru centre for man...   \n",
       "22     sostoken killed injured in saudi arabia floods   \n",
       "29  sostoken seat cushions from missing plane carr...   \n",
       "36  sostoken agustawestland scam accused rajiv sax...   \n",
       "\n",
       "                                       decoder_target  \n",
       "19  odisha cm patnaik controls mining mafia union ...  \n",
       "21  isro unveils bengaluru centre for manned space...  \n",
       "22     killed injured in saudi arabia floods eostoken  \n",
       "29  seat cushions from missing plane carrying foot...  \n",
       "36  agustawestland scam accused rajiv saxena extra...  "
      ]
     },
     "execution_count": 79,
     "metadata": {},
     "output_type": "execute_result"
    }
   ],
   "source": [
    "# 요약 데이터에 시작 토큰과 종료 토큰을 추가함\n",
    "data['decoder_input'] = data['headlines'].apply(lambda x: 'sostoken ' + x)\n",
    "data['decoder_target'] = data['headlines'].apply(lambda x: x + ' eostoken')\n",
    "data.head()"
   ]
  },
  {
   "cell_type": "code",
   "execution_count": 80,
   "id": "ef097a06",
   "metadata": {},
   "outputs": [],
   "source": [
    "encoder_input = np.array(data['text']) # 인코더의 입력 (text)\n",
    "decoder_input = np.array(data['decoder_input']) # 디코더의 입력 (sostoken + Summary)\n",
    "decoder_target = np.array(data['decoder_target']) # 디코더의 레이블 (Summary + eostoken)"
   ]
  },
  {
   "cell_type": "code",
   "execution_count": 81,
   "id": "d0fea4cd",
   "metadata": {},
   "outputs": [
    {
     "data": {
      "text/plain": [
       "array(['union minister dharmendra pradhan wednesday claimed illegal mining mafia odisha operates control cm naveen patnaik state congress chief niranjan patnaik added time come people odisha put full stop activities time come us ask explanation corrupt government',\n",
       "       'indian space research organisation wednesday unveiled human space flight centre bengaluru crore manned space mission gaganyaan scheduled isro said centre responsible development engineering systems crew survival space crew selection training also pursue activities sustained human space flight missions isro added',\n",
       "       'least people killed others injured saudi arabia week due flooding heavy rain emergency services rescued people flooded areas half tabuk heavy rains hit mainly western northwestern parts saudi arabia near border jordan',\n",
       "       ...,\n",
       "       'pakistan started building nearly kilometer fence along border afghanistan according reports comes afghan militants reportedly killed six pakistani soldiers stationed security checkpoints earlier month pakistan new fence aimed enhancing aerial surveillance border prevent future terror attacks transfer weapons ammunition',\n",
       "       'according reports new version science fiction film matrix development michael jordan reportedly play lead role film screenwriter zak penn talks write script film reports added actor keanu reeves starred original film followed two sequels',\n",
       "       'madhesi morcha alliance seven political parties withdrawn support pm pushpa kamal dahal led nepal government failed meet seven day ultimatum fulfil demands including endorsement revised constitution amendment bill morcha seats parliament despite withdrawal support immediate threat government'],\n",
       "      dtype=object)"
      ]
     },
     "execution_count": 81,
     "metadata": {},
     "output_type": "execute_result"
    }
   ],
   "source": [
    "encoder_input_ = np.array(data['text']) # 컬럼 하나를 선택해 Series를 ndarray로 표현\n",
    "encoder_input_ # 섞기 전"
   ]
  },
  {
   "cell_type": "code",
   "execution_count": 82,
   "id": "4c90fb61",
   "metadata": {},
   "outputs": [
    {
     "name": "stdout",
     "output_type": "stream",
     "text": [
      "[12996  4127 12201 ... 22484  3755 10285]\n"
     ]
    }
   ],
   "source": [
    "# `encoder_input`과 크기, 형태가 같은 순서가 섞인 정수 시퀀스 만들기\n",
    "indices = np.arange(encoder_input.shape[0])\n",
    "np.random.shuffle(indices)\n",
    "\n",
    "print(indices)"
   ]
  },
  {
   "cell_type": "code",
   "execution_count": 83,
   "id": "b59137e8",
   "metadata": {},
   "outputs": [],
   "source": [
    "# 이 정수 시퀀스(indices)를 통해 데이터의 샘플 순서를 정의해주면 잘 섞인 샘플이 될 것이다.\n",
    "encoder_input = encoder_input[indices]\n",
    "decoder_input = decoder_input[indices]\n",
    "decoer_target = decoder_target[indices]"
   ]
  },
  {
   "cell_type": "code",
   "execution_count": 84,
   "id": "82c660f5",
   "metadata": {},
   "outputs": [
    {
     "data": {
      "text/plain": [
       "array(['responding indian dairy cooperative amul tharooraurus poster congress mp shashi tharoor saturday tweeted butterly honoured feel like tharoorosaurus rex amul tweeted poster leader captioned tharooraurus anyone usage word rodomontade tharoor used word recent tweet parodies writing style',\n",
       "       'argentinian lawmakers thursday voted bill legalise elective abortion first weeks pregnancy female activists supported bill reportedly said pressure catholic church prevented approval argentina currently allows abortion cases rape risks woman health',\n",
       "       'minister state railways rajen gohain said aadhaar compulsory booking tickets rail journey added use encouraged adding proposal make compulsory said reward scheme also introduced irctc incentivise linking aadhaar user id irctc',\n",
       "       ...,\n",
       "       'death two protestors allegedly killed police firing first case loss lives reported darjeeling amid protests demanding separate gorkhaland state protests broke june ahead west bengal cm mamata banerjee scheduled visit darjeeling announcement teaching bengali schools class',\n",
       "       'india largest engineering construction company larsen toubro thursday approved first ever share buyback proposal crore company buyback shares aggregating equity capital premium tuesday closing price buyback price higher stock time high recorded february',\n",
       "       'hyderabad jamia nizamia seminary issued fatwa song manikya malarayi poovi film oru adaar love featuring malayalam actress priya prakash varrier seminary expressed objection references love story prophet mohammad wife khadijah bivi asked makers remove song film release'],\n",
       "      dtype=object)"
      ]
     },
     "execution_count": 84,
     "metadata": {},
     "output_type": "execute_result"
    }
   ],
   "source": [
    "encoder_input # 섞은 후"
   ]
  },
  {
   "cell_type": "code",
   "execution_count": 85,
   "id": "1fc632d5",
   "metadata": {},
   "outputs": [
    {
     "name": "stdout",
     "output_type": "stream",
     "text": [
      "테스트 데이터의 수:  5421\n"
     ]
    }
   ],
   "source": [
    "# 8:2로 train/test 데이터 분리\n",
    "n_of_val = int(len(encoder_input) * 0.2)\n",
    "print('테스트 데이터의 수: ', n_of_val)"
   ]
  },
  {
   "cell_type": "code",
   "execution_count": 86,
   "id": "529e75b5",
   "metadata": {},
   "outputs": [
    {
     "name": "stdout",
     "output_type": "stream",
     "text": [
      "훈련 데이터의 개수 : 21684\n",
      "훈련 레이블의 개수 : 21684\n",
      "테스트 데이터의 개수 : 5421\n",
      "테스트 레이블의 개수 : 5421\n"
     ]
    }
   ],
   "source": [
    "encoder_input_train = encoder_input[:-n_of_val]\n",
    "decoder_input_train = decoder_input[:-n_of_val]\n",
    "decoder_target_train = decoder_target[:-n_of_val]\n",
    "\n",
    "encoder_input_test = encoder_input[-n_of_val:]\n",
    "decoder_input_test = decoder_input[-n_of_val:]\n",
    "decoder_target_test = decoder_target[-n_of_val:]\n",
    "\n",
    "print('훈련 데이터의 개수 :', len(encoder_input_train))\n",
    "print('훈련 레이블의 개수 :', len(decoder_input_train))\n",
    "print('테스트 데이터의 개수 :', len(encoder_input_test))\n",
    "print('테스트 레이블의 개수 :', len(decoder_input_test))"
   ]
  },
  {
   "cell_type": "markdown",
   "id": "3e296469",
   "metadata": {},
   "source": [
    "### 정수 인코딩\n",
    "#### 단어 집합(vocabulary) 만들기 및 정수 인코딩"
   ]
  },
  {
   "cell_type": "code",
   "execution_count": 87,
   "id": "9fea573f",
   "metadata": {},
   "outputs": [],
   "source": [
    "src_tokenizer = Tokenizer() # 토크나이저 정의\n",
    "src_tokenizer.fit_on_texts(encoder_input_train) # 입력된 데이터로부터 단어 집합 생성"
   ]
  },
  {
   "cell_type": "code",
   "execution_count": 88,
   "id": "fe0ad28f",
   "metadata": {},
   "outputs": [
    {
     "name": "stdout",
     "output_type": "stream",
     "text": [
      "단어 집합(vocabulary)의 크기 : 42404\n",
      "등장 빈도가 6번 이하인 희귀 단어의 수: 30686\n",
      "단어 집합에서 희귀 단어를 제외시킬 경우의 단어 집합의 크기 11718\n",
      "단어 집합에서 희귀 단어의 비율: 72.36581454579756\n",
      "전체 등장 빈도에서 희귀 단어 등장 빈도 비율: 8.282605752382805\n"
     ]
    }
   ],
   "source": [
    "threshold = 7\n",
    "total_cnt = len(src_tokenizer.word_index) # 단어의 수\n",
    "rare_cnt = 0 # 등장 빈도수가 threshold보다 작은 단어의 개수 카운트\n",
    "total_freq = 0 # 훈련 빈도수의 전체 단어 빈도수 총합\n",
    "rare_freq = 0 # 등장 빈도수가 threshold보다 낮은 단어의 등장 빈도수 총합\n",
    "\n",
    "# 단어와 빈도수의 쌍(pair)을 key와 value로 받음\n",
    "for key, value in src_tokenizer.word_counts.items():\n",
    "    total_freq = total_freq + value # 총 빈도수\n",
    "    \n",
    "    # 단어의 등장 빈도수가 threshold보다 작으면\n",
    "    if (value < threshold):\n",
    "        rare_cnt = rare_cnt + 1\n",
    "        rare_freq = rare_freq + value # rare 빈도수\n",
    "        \n",
    "print('단어 집합(vocabulary)의 크기 :', total_cnt)\n",
    "print('등장 빈도가 %s번 이하인 희귀 단어의 수: %s'%(threshold - 1, rare_cnt))\n",
    "print('단어 집합에서 희귀 단어를 제외시킬 경우의 단어 집합의 크기 %s'%(total_cnt - rare_cnt))\n",
    "print(\"단어 집합에서 희귀 단어의 비율:\", (rare_cnt / total_cnt)*100)\n",
    "print(\"전체 등장 빈도에서 희귀 단어 등장 빈도 비율:\", (rare_freq / total_freq)*100)"
   ]
  },
  {
   "cell_type": "code",
   "execution_count": 89,
   "id": "91769467",
   "metadata": {},
   "outputs": [],
   "source": [
    "src_vocab = 8000\n",
    "src_tokenizer = Tokenizer(num_words=src_vocab) # 단어 집합의 크기를 19000으로 제한\n",
    "src_tokenizer.fit_on_texts(encoder_input_train) # 단어 집합 재생성"
   ]
  },
  {
   "cell_type": "code",
   "execution_count": 90,
   "id": "54f8681f",
   "metadata": {},
   "outputs": [
    {
     "name": "stdout",
     "output_type": "stream",
     "text": [
      "[[1645, 13, 4191, 5565, 4652, 1052, 56, 740, 2402, 2008, 72, 109, 3137, 1221, 47, 4765, 4652, 109, 1052, 96, 1396, 1117, 4281, 1309, 2008, 75, 1309, 379, 551, 2290, 2325], [3448, 54, 2024, 411, 6742, 5385, 12, 819, 3449, 491, 1665, 2919, 411, 22, 1, 1137, 4516, 2291, 5041, 1708, 2403, 336, 776, 5385, 304, 741, 6197, 112, 258], [14, 17, 680, 7395, 1, 488, 3534, 3379, 1688, 1974, 1571, 6, 202, 6198, 165, 1103, 150, 3534, 1, 3197, 795, 4, 964, 5386, 4517, 488, 222, 3535, 5386]]\n"
     ]
    }
   ],
   "source": [
    "# 텍스트 시퀀스를 정수 시퀀스로 변환\n",
    "encoder_input_train = src_tokenizer.texts_to_sequences(encoder_input_train)\n",
    "encoder_input_test = src_tokenizer.texts_to_sequences(encoder_input_test)\n",
    "\n",
    "# 잘 진행되었는지 샘플 출력\n",
    "print(encoder_input_train[:3])"
   ]
  },
  {
   "cell_type": "code",
   "execution_count": 91,
   "id": "069c783d",
   "metadata": {},
   "outputs": [],
   "source": [
    "tar_tokenizer = Tokenizer()\n",
    "tar_tokenizer.fit_on_texts(decoder_input_train)"
   ]
  },
  {
   "cell_type": "code",
   "execution_count": 92,
   "id": "92c32155",
   "metadata": {},
   "outputs": [
    {
     "name": "stdout",
     "output_type": "stream",
     "text": [
      "단어 집합(vocabulary)의 크기 : 18977\n",
      "등장 빈도가 5번 이하인 희귀 단어의 수: 14326\n",
      "단어 집합에서 희귀 단어를 제외시킬 경우의 단어 집합의 크기 4651\n",
      "단어 집합에서 희귀 단어의 비율: 75.4913843073194\n",
      "전체 등장 빈도에서 희귀 단어 등장 빈도 비율: 14.136900770811096\n"
     ]
    }
   ],
   "source": [
    "threshold = 6\n",
    "total_cnt = len(tar_tokenizer.word_index) # 단어의 수\n",
    "rare_cnt = 0 # 등장 빈도수가 threshold보다 작은 단어의 개수를 카운트\n",
    "total_freq = 0 # 훈련 데이터의 전체 단어 빈도수 총 합\n",
    "rare_freq = 0 # 등장 빈도수가 threshold보다 작은 단어의 등장 빈도수의 총 합\n",
    "\n",
    "# 단어와 빈도수의 쌍(pair)을 key와 value로 받는다.\n",
    "for key, value in tar_tokenizer.word_counts.items():\n",
    "    total_freq = total_freq + value\n",
    "\n",
    "    # 단어의 등장 빈도수가 threshold보다 작으면\n",
    "    if(value < threshold):\n",
    "        rare_cnt = rare_cnt + 1\n",
    "        rare_freq = rare_freq + value\n",
    "\n",
    "print('단어 집합(vocabulary)의 크기 :', total_cnt)\n",
    "print('등장 빈도가 %s번 이하인 희귀 단어의 수: %s'%(threshold - 1, rare_cnt))\n",
    "print('단어 집합에서 희귀 단어를 제외시킬 경우의 단어 집합의 크기 %s'%(total_cnt - rare_cnt))\n",
    "print(\"단어 집합에서 희귀 단어의 비율:\", (rare_cnt / total_cnt)*100)\n",
    "print(\"전체 등장 빈도에서 희귀 단어 등장 빈도 비율:\", (rare_freq / total_freq)*100)"
   ]
  },
  {
   "cell_type": "code",
   "execution_count": 93,
   "id": "af00b65c",
   "metadata": {},
   "outputs": [
    {
     "name": "stdout",
     "output_type": "stream",
     "text": [
      "input\n",
      "input  [[1, 1637, 674, 4, 321], [1, 1845, 387, 310, 4], [1, 135, 5, 34, 1638, 226], [1, 825, 1040, 87, 267, 11, 462], [1, 60, 852, 147, 60, 365]]\n",
      "target\n",
      "decoder  [[571, 63, 1869, 273, 38, 2], [962, 211, 69, 171, 5, 240, 751, 2], [31, 100, 3, 139, 596, 450, 2], [9, 217, 374, 1035, 649, 81, 2], [718, 117, 4, 8, 2]]\n"
     ]
    }
   ],
   "source": [
    "tar_vocab = 2000\n",
    "tar_tokenizer = Tokenizer(num_words=tar_vocab) \n",
    "tar_tokenizer.fit_on_texts(decoder_input_train)\n",
    "tar_tokenizer.fit_on_texts(decoder_target_train)\n",
    "\n",
    "# 텍스트 시퀀스를 정수 시퀀스로 변환\n",
    "decoder_input_train = tar_tokenizer.texts_to_sequences(decoder_input_train) \n",
    "decoder_target_train = tar_tokenizer.texts_to_sequences(decoder_target_train)\n",
    "decoder_input_test = tar_tokenizer.texts_to_sequences(decoder_input_test)\n",
    "decoder_target_test = tar_tokenizer.texts_to_sequences(decoder_target_test)\n",
    "\n",
    "# 잘 변환되었는지 확인\n",
    "print('input')\n",
    "print('input ', decoder_input_train[:5])\n",
    "print('target')\n",
    "print('decoder ', decoder_target_train[:5])"
   ]
  },
  {
   "cell_type": "code",
   "execution_count": 94,
   "id": "210e464f",
   "metadata": {},
   "outputs": [
    {
     "name": "stdout",
     "output_type": "stream",
     "text": [
      "삭제할 훈련 데이터의 개수 : 9\n",
      "삭제할 테스트 데이터의 개수 : 3\n",
      "훈련 데이터의 개수 : 21675\n",
      "훈련 레이블의 개수 : 21675\n",
      "테스트 데이터의 개수 : 5418\n",
      "테스트 레이블의 개수 : 5418\n"
     ]
    }
   ],
   "source": [
    "drop_train = [index for index, sentence in enumerate(decoder_input_train) if len(sentence) == 1]\n",
    "drop_test = [index for index, sentence in enumerate(decoder_input_test) if len(sentence) == 1]\n",
    "\n",
    "print('삭제할 훈련 데이터의 개수 :', len(drop_train))\n",
    "print('삭제할 테스트 데이터의 개수 :', len(drop_test))\n",
    "\n",
    "# encoder_input_train = [sentence for index, sentence in enumerate(encoder_input_train) if index not in drop_train]\n",
    "# decoder_input_train = [sentence for index, sentence in enumerate(decoder_input_train) if index not in drop_train]\n",
    "# decoder_target_train = [sentence for index, sentence in enumerate(decoder_target_train) if index not in drop_train]\n",
    "\n",
    "# encoder_input_test = [sentence for index, sentence in enumerate(encoder_input_test) if index not in drop_test]\n",
    "# decoder_input_test = [sentence for index, sentence in enumerate(decoder_input_test) if index not in drop_test]\n",
    "# decoder_target_test = [sentence for index, sentence in enumerate(decoder_target_test) if index not in drop_test]\n",
    "\n",
    "\n",
    "encoder_input_train = np.delete(encoder_input_train, drop_train, axis=0)\n",
    "decoder_input_train = np.delete(decoder_input_train, drop_train, axis=0)\n",
    "decoder_target_train = np.delete(decoder_target_train, drop_train, axis=0)\n",
    "\n",
    "encoder_input_test = np.delete(encoder_input_test, drop_test, axis=0)\n",
    "decoder_input_test = np.delete(decoder_input_test, drop_test, axis=0)\n",
    "decoder_target_test = np.delete(decoder_target_test, drop_test, axis=0)\n",
    "\n",
    "print('훈련 데이터의 개수 :', len(encoder_input_train))\n",
    "print('훈련 레이블의 개수 :', len(decoder_input_train))\n",
    "print('테스트 데이터의 개수 :', len(encoder_input_test))\n",
    "print('테스트 레이블의 개수 :', len(decoder_input_test))"
   ]
  },
  {
   "cell_type": "code",
   "execution_count": 95,
   "id": "b3cdd312",
   "metadata": {},
   "outputs": [],
   "source": [
    "encoder_input_train = pad_sequences(encoder_input_train, maxlen=text_max_len, padding='post')\n",
    "encoder_input_test = pad_sequences(encoder_input_test, maxlen=text_max_len, padding='post')\n",
    "decoder_input_train = pad_sequences(decoder_input_train, maxlen=headlines_max_len, padding='post')\n",
    "decoder_target_train = pad_sequences(decoder_target_train, maxlen=headlines_max_len, padding='post')\n",
    "decoder_input_test = pad_sequences(decoder_input_test, maxlen=headlines_max_len, padding='post')\n",
    "decoder_target_test = pad_sequences(decoder_target_test, maxlen=headlines_max_len, padding='post')"
   ]
  },
  {
   "cell_type": "code",
   "execution_count": 96,
   "id": "3ca09ca6",
   "metadata": {},
   "outputs": [
    {
     "name": "stdout",
     "output_type": "stream",
     "text": [
      "WARNING:tensorflow:Layer lstm_4 will not use cuDNN kernels since it doesn't meet the criteria. It will use a generic GPU kernel as fallback when running on GPU.\n",
      "WARNING:tensorflow:Layer lstm_5 will not use cuDNN kernels since it doesn't meet the criteria. It will use a generic GPU kernel as fallback when running on GPU.\n",
      "WARNING:tensorflow:Layer lstm_6 will not use cuDNN kernels since it doesn't meet the criteria. It will use a generic GPU kernel as fallback when running on GPU.\n"
     ]
    }
   ],
   "source": [
    "from tensorflow.keras.layers import Input, LSTM, Embedding, Dense, Concatenate, TimeDistributed\n",
    "from tensorflow.keras.models import Model\n",
    "from tensorflow.keras.callbacks import EarlyStopping, ModelCheckpoint\n",
    "\n",
    "# 인코더 설계 시작\n",
    "embedding_dim = 128\n",
    "hidden_size = 256\n",
    "\n",
    "# 인코더\n",
    "encoder_inputs = Input(shape=(text_max_len,))\n",
    "\n",
    "# 인코더의 임베딩 층\n",
    "enc_emb = Embedding(src_vocab, embedding_dim)(encoder_inputs)\n",
    "\n",
    "# 인코더의 LSTM 1\n",
    "encoder_lstm1 = LSTM(hidden_size, return_sequences=True, return_state=True, dropout=0.4, recurrent_dropout=0.4)\n",
    "encoder_output1, state_h1, state_c1 = encoder_lstm1(enc_emb)\n",
    "\n",
    "# 인코더의 LSTM 2\n",
    "encoder_lstm2 = LSTM(hidden_size, return_sequences=True, return_state=True, dropout=0.4, recurrent_dropout=0.4)\n",
    "encoder_output2, state_h2, state_c2 = encoder_lstm2(encoder_output1)\n",
    "\n",
    "# 인코더의 LSTM 3\n",
    "encoder_lstm3 = LSTM(hidden_size, return_state=True, return_sequences=True, dropout=0.4, recurrent_dropout=0.4)\n",
    "encoder_outputs, state_h, state_c= encoder_lstm3(encoder_output2)"
   ]
  },
  {
   "cell_type": "code",
   "execution_count": 97,
   "id": "5f3e3a01",
   "metadata": {},
   "outputs": [
    {
     "name": "stdout",
     "output_type": "stream",
     "text": [
      "WARNING:tensorflow:Layer lstm_7 will not use cuDNN kernels since it doesn't meet the criteria. It will use a generic GPU kernel as fallback when running on GPU.\n"
     ]
    }
   ],
   "source": [
    "# 디코더 설계\n",
    "decoder_inputs = Input(shape=(None,))\n",
    "\n",
    "# 디코더의 임베딩 층\n",
    "dec_emb_layer = Embedding(tar_vocab, embedding_dim)\n",
    "dec_emb = dec_emb_layer(decoder_inputs)\n",
    "\n",
    "# 디코더의 LSTM\n",
    "decoder_lstm = LSTM(hidden_size, return_sequences=True, return_state=True, dropout=0.4, recurrent_dropout=0.2)\n",
    "decoder_outputs, _, _ = decoder_lstm(dec_emb, initial_state=[state_h, state_c]) # 체크"
   ]
  },
  {
   "cell_type": "code",
   "execution_count": 98,
   "id": "5072efc2",
   "metadata": {},
   "outputs": [
    {
     "name": "stdout",
     "output_type": "stream",
     "text": [
      "Model: \"model_4\"\n",
      "__________________________________________________________________________________________________\n",
      " Layer (type)                   Output Shape         Param #     Connected to                     \n",
      "==================================================================================================\n",
      " input_6 (InputLayer)           [(None, 50)]         0           []                               \n",
      "                                                                                                  \n",
      " embedding_2 (Embedding)        (None, 50, 128)      1024000     ['input_6[0][0]']                \n",
      "                                                                                                  \n",
      " lstm_4 (LSTM)                  [(None, 50, 256),    394240      ['embedding_2[0][0]']            \n",
      "                                 (None, 256),                                                     \n",
      "                                 (None, 256)]                                                     \n",
      "                                                                                                  \n",
      " input_7 (InputLayer)           [(None, None)]       0           []                               \n",
      "                                                                                                  \n",
      " lstm_5 (LSTM)                  [(None, 50, 256),    525312      ['lstm_4[0][0]']                 \n",
      "                                 (None, 256),                                                     \n",
      "                                 (None, 256)]                                                     \n",
      "                                                                                                  \n",
      " embedding_3 (Embedding)        (None, None, 128)    256000      ['input_7[0][0]']                \n",
      "                                                                                                  \n",
      " lstm_6 (LSTM)                  [(None, 50, 256),    525312      ['lstm_5[0][0]']                 \n",
      "                                 (None, 256),                                                     \n",
      "                                 (None, 256)]                                                     \n",
      "                                                                                                  \n",
      " lstm_7 (LSTM)                  [(None, None, 256),  394240      ['embedding_3[0][0]',            \n",
      "                                 (None, 256),                     'lstm_6[0][1]',                 \n",
      "                                 (None, 256)]                     'lstm_6[0][2]']                 \n",
      "                                                                                                  \n",
      " dense_2 (Dense)                (None, None, 2000)   514000      ['lstm_7[0][0]']                 \n",
      "                                                                                                  \n",
      "==================================================================================================\n",
      "Total params: 3,633,104\n",
      "Trainable params: 3,633,104\n",
      "Non-trainable params: 0\n",
      "__________________________________________________________________________________________________\n"
     ]
    }
   ],
   "source": [
    "# 디코더의 출력층\n",
    "decoder_softmax_layer = Dense(tar_vocab, activation='softmax')\n",
    "decoder_softmax_outputs = decoder_softmax_layer(decoder_outputs)\n",
    "\n",
    "# 모델 정의\n",
    "model = Model([encoder_inputs, decoder_inputs], decoder_softmax_outputs)\n",
    "model.summary()"
   ]
  },
  {
   "cell_type": "code",
   "execution_count": null,
   "id": "4a22b2f1",
   "metadata": {},
   "outputs": [],
   "source": []
  },
  {
   "cell_type": "markdown",
   "id": "5f04ed97",
   "metadata": {},
   "source": [
    "## Step 3. 어텐션 매커니즘 사용하기 (추상적 요약)\n",
    "- 일반적인 seq2seq보다 어텐션 메커니즘을 이용해 더 나은 성능을 내보자."
   ]
  },
  {
   "cell_type": "code",
   "execution_count": 99,
   "id": "f435490c",
   "metadata": {},
   "outputs": [],
   "source": [
    "from tensorflow.keras.layers import Input, LSTM, Embedding, Dense, Concatenate\n",
    "from tensorflow.keras.models import Model\n",
    "from tensorflow.keras.callbacks import EarlyStopping, ModelCheckpoint"
   ]
  },
  {
   "cell_type": "code",
   "execution_count": 100,
   "id": "b3c42e23",
   "metadata": {},
   "outputs": [],
   "source": [
    "# 이미 구현된 어텐션 함수를 가져와서 디코더의 출력층에 어떤 방식으로 결합하는지 배워볼게요\n",
    "\n",
    "urllib.request.urlretrieve(\"https://raw.githubusercontent.com/thushv89/attention_keras/master/src/layers/attention.py\", filename=\"attention.py\")\n",
    "from attention import AttentionLayer"
   ]
  },
  {
   "cell_type": "code",
   "execution_count": 101,
   "id": "592d34bb",
   "metadata": {},
   "outputs": [
    {
     "name": "stdout",
     "output_type": "stream",
     "text": [
      "Model: \"model_5\"\n",
      "__________________________________________________________________________________________________\n",
      " Layer (type)                   Output Shape         Param #     Connected to                     \n",
      "==================================================================================================\n",
      " input_6 (InputLayer)           [(None, 50)]         0           []                               \n",
      "                                                                                                  \n",
      " embedding_2 (Embedding)        (None, 50, 128)      1024000     ['input_6[0][0]']                \n",
      "                                                                                                  \n",
      " lstm_4 (LSTM)                  [(None, 50, 256),    394240      ['embedding_2[0][0]']            \n",
      "                                 (None, 256),                                                     \n",
      "                                 (None, 256)]                                                     \n",
      "                                                                                                  \n",
      " input_7 (InputLayer)           [(None, None)]       0           []                               \n",
      "                                                                                                  \n",
      " lstm_5 (LSTM)                  [(None, 50, 256),    525312      ['lstm_4[0][0]']                 \n",
      "                                 (None, 256),                                                     \n",
      "                                 (None, 256)]                                                     \n",
      "                                                                                                  \n",
      " embedding_3 (Embedding)        (None, None, 128)    256000      ['input_7[0][0]']                \n",
      "                                                                                                  \n",
      " lstm_6 (LSTM)                  [(None, 50, 256),    525312      ['lstm_5[0][0]']                 \n",
      "                                 (None, 256),                                                     \n",
      "                                 (None, 256)]                                                     \n",
      "                                                                                                  \n",
      " lstm_7 (LSTM)                  [(None, None, 256),  394240      ['embedding_3[0][0]',            \n",
      "                                 (None, 256),                     'lstm_6[0][1]',                 \n",
      "                                 (None, 256)]                     'lstm_6[0][2]']                 \n",
      "                                                                                                  \n",
      " attention_layer (AdditiveAtten  (None, None, 256)   256         ['lstm_7[0][0]',                 \n",
      " tion)                                                            'lstm_6[0][0]']                 \n",
      "                                                                                                  \n",
      " concat_layer (Concatenate)     (None, None, 512)    0           ['lstm_7[0][0]',                 \n",
      "                                                                  'attention_layer[0][0]']        \n",
      "                                                                                                  \n",
      " dense_3 (Dense)                (None, None, 2000)   1026000     ['concat_layer[0][0]']           \n",
      "                                                                                                  \n",
      "==================================================================================================\n",
      "Total params: 4,145,360\n",
      "Trainable params: 4,145,360\n",
      "Non-trainable params: 0\n",
      "__________________________________________________________________________________________________\n"
     ]
    }
   ],
   "source": [
    "from tensorflow.keras.layers import AdditiveAttention\n",
    "\n",
    "# 어텐션 층(어텐션 함수)\n",
    "attn_layer = AdditiveAttention(name='attention_layer')\n",
    "# 인코더와 디코더의 모든 time step의 hidden state를 어텐션 층에 전달하고 결과를 리턴\n",
    "attn_out= attn_layer([decoder_outputs, encoder_outputs])\n",
    "\n",
    "# 어텐션의 결과와 디코더의 hidden state들을 연결\n",
    "decoder_concat_input = Concatenate(axis=-1, name='concat_layer')([decoder_outputs, attn_out])\n",
    "\n",
    "# 디코더의 출력층\n",
    "decoder_softmax_layer = Dense(tar_vocab, activation='softmax')\n",
    "decoder_softmax_outputs = decoder_softmax_layer(decoder_concat_input)\n",
    "\n",
    "# 모델 정의\n",
    "model = Model([encoder_inputs, decoder_inputs], decoder_softmax_outputs)\n",
    "model.summary()\n",
    "\n",
    "\n",
    "\n",
    "# # from attention_keras.layers.attention import AttentionLayer\n",
    "# from attention import AttentionLayer\n",
    "\n",
    "# # 어텐션 층(어텐션 함수)\n",
    "# attn_layer = AttentionLayer(name='attention_layer')\n",
    "\n",
    "# # 인코더와 디코더의 모든 time step의 hidden state를 어텐션 층에 전달하고 결과를 리턴\n",
    "# attn_out, attn_states = attn_layer([encoder_outputs, decoder_outputs])\n",
    "\n",
    "# # 어텐션의 결과와 디코더의 hidden state들을 연결\n",
    "# decoder_concat_input = Concatenate(axis = -1, name='concat_layer')([decoder_outputs, attn_out])\n",
    "\n",
    "# # 디코더의 출력층\n",
    "# decoder_softmax_layer = Dense(tar_vocab, activation='softmax')\n",
    "# decoder_softmax_outputs = decoder_softmax_layer(decoder_concat_input)\n",
    "\n",
    "# # 모델 정의\n",
    "# model = Model([encoder_inputs, decoder_inputs], decoder_softmax_outputs)\n",
    "# model.summary()"
   ]
  },
  {
   "cell_type": "code",
   "execution_count": 102,
   "id": "bca049bd",
   "metadata": {},
   "outputs": [
    {
     "name": "stdout",
     "output_type": "stream",
     "text": [
      "Epoch 1/50\n",
      "85/85 [==============================] - 69s 710ms/step - loss: 5.0812 - val_loss: 4.8300\n",
      "Epoch 2/50\n",
      "85/85 [==============================] - 59s 700ms/step - loss: 4.8978 - val_loss: 4.7972\n",
      "Epoch 3/50\n",
      "85/85 [==============================] - 60s 702ms/step - loss: 4.8695 - val_loss: 4.7547\n",
      "Epoch 4/50\n",
      "85/85 [==============================] - 59s 696ms/step - loss: 4.8462 - val_loss: 4.7615\n",
      "Epoch 5/50\n",
      "85/85 [==============================] - 60s 704ms/step - loss: 4.8274 - val_loss: 4.7652\n",
      "Epoch 5: early stopping\n"
     ]
    }
   ],
   "source": [
    "model.compile(optimizer='rmsprop', loss='sparse_categorical_crossentropy')\n",
    "es = EarlyStopping(monitor='val_loss', patience=2, verbose=1)\n",
    "history = model.fit(x = [encoder_input_train, decoder_input_train], y = decoder_target_train, \\\n",
    "          validation_data = ([encoder_input_test, decoder_input_test], decoder_target_test),\n",
    "          batch_size = 256, callbacks=[es], epochs = 50)"
   ]
  },
  {
   "cell_type": "code",
   "execution_count": 103,
   "id": "c0c289da",
   "metadata": {},
   "outputs": [
    {
     "data": {
      "image/png": "[encoded data removed]",
      "text/plain": [
       "<Figure size 432x288 with 1 Axes>"
      ]
     },
     "metadata": {
      "needs_background": "light"
     },
     "output_type": "display_data"
    }
   ],
   "source": [
    "plt.plot(history.history['loss'], label='train')\n",
    "plt.plot(history.history['val_loss'], label='test')\n",
    "plt.legend()\n",
    "plt.show()"
   ]
  },
  {
   "cell_type": "code",
   "execution_count": null,
   "id": "e2ced751",
   "metadata": {},
   "outputs": [],
   "source": []
  },
  {
   "cell_type": "code",
   "execution_count": 104,
   "id": "0890f839",
   "metadata": {},
   "outputs": [],
   "source": [
    "src_index_to_word = src_tokenizer.index_word # 원문 단어 집합에서 정수 -> 단어를 얻음\n",
    "tar_word_to_index = tar_tokenizer.word_index # 요약 단어 집합에서 단어 -> 정수를 얻음\n",
    "tar_index_to_word = tar_tokenizer.index_word # 요약 단어 집합에서 정수 -> 단어를 얻음"
   ]
  },
  {
   "cell_type": "code",
   "execution_count": 105,
   "id": "4cb59078",
   "metadata": {},
   "outputs": [],
   "source": [
    "# 인코더 설계\n",
    "encoder_model = Model(inputs=encoder_inputs,\n",
    "                      outputs=[encoder_outputs, state_h, state_c])\n",
    "\n",
    "# 이전 시점의 상태들을 저장하는 텐서\n",
    "decoder_state_input_h = Input(shape=(hidden_size,))\n",
    "decoder_state_input_c = Input(shape=(hidden_size,))\n",
    "\n",
    "dec_emb2 = dec_emb_layer(decoder_inputs)\n",
    "\n",
    "# 문장의 다음 단어를 예측하기 위해 초기 상태(initial_state)를 이전 시점의 상태로 사용. 이는 뒤의 decode_sequence()에 구현\n",
    "# 훈련 과정에서와 달리 LSTM의 리턴하는 은닉 상태와 셀 상태인 state_h와 state_c를 버리지 않음.\n",
    "decoder_outputs2, state_h2, state_c2 = decoder_lstm(dec_emb2, initial_state=[decoder_state_input_h, decoder_state_input_c])"
   ]
  },
  {
   "cell_type": "code",
   "execution_count": 106,
   "id": "bf5b2922",
   "metadata": {},
   "outputs": [],
   "source": [
    "# 어텐션 함수\n",
    "decoder_hidden_state_input = Input(shape=(text_max_len, hidden_size))\n",
    "attn_out_inf = attn_layer([decoder_outputs2, decoder_hidden_state_input])\n",
    "decoder_inf_concat = Concatenate(axis=-1, name='concat')([decoder_outputs2, attn_out_inf])\n",
    "\n",
    "# 디코더의 출력층\n",
    "decoder_outputs2 = decoder_softmax_layer(decoder_inf_concat) \n",
    "\n",
    "# 최종 디코더 모델\n",
    "decoder_model = Model(\n",
    "    [decoder_inputs] + [decoder_hidden_state_input, decoder_state_input_h, decoder_state_input_c],\n",
    "    [decoder_outputs2] + [state_h2, state_c2])"
   ]
  },
  {
   "cell_type": "code",
   "execution_count": 107,
   "id": "7b537861",
   "metadata": {},
   "outputs": [],
   "source": [
    "def decode_sequence(input_seq):\n",
    "    # 입력으로부터 인코더의 상태를 얻음\n",
    "    e_out, e_h, e_c = encoder_model.predict(input_seq)\n",
    "\n",
    "     # <SOS>에 해당하는 토큰 생성\n",
    "    target_seq = np.zeros((1,1))\n",
    "    target_seq[0, 0] = tar_word_to_index['sostoken']\n",
    "\n",
    "    stop_condition = False\n",
    "    decoded_sentence = ''\n",
    "    while not stop_condition: # stop_condition이 True가 될 때까지 루프 반복\n",
    "\n",
    "        output_tokens, h, c = decoder_model.predict([target_seq] + [e_out, e_h, e_c])\n",
    "        sampled_token_index = np.argmax(output_tokens[0, -1, :])\n",
    "        sampled_token = tar_index_to_word[sampled_token_index]\n",
    "\n",
    "        if (sampled_token!='eostoken'):\n",
    "            decoded_sentence += ' ' + sampled_token\n",
    "\n",
    "        #  <eos>에 도달하거나 최대 길이를 넘으면 중단.\n",
    "        if (sampled_token == 'eostoken' or len(decoded_sentence.split()) >= (headlines_max_len-1)):\n",
    "            stop_condition = True\n",
    "\n",
    "        # 길이가 1인 타겟 시퀀스를 업데이트\n",
    "        target_seq = np.zeros((1,1))\n",
    "        target_seq[0, 0] = sampled_token_index\n",
    "\n",
    "        # 상태를 업데이트 합니다.\n",
    "        e_h, e_c = h, c\n",
    "\n",
    "    return decoded_sentence"
   ]
  },
  {
   "cell_type": "code",
   "execution_count": null,
   "id": "22932783",
   "metadata": {},
   "outputs": [],
   "source": []
  },
  {
   "cell_type": "markdown",
   "id": "d526ff9b",
   "metadata": {},
   "source": [
    "## Step 4. 실제 결과와 요약문 비교하기 (추상적 요약)\n",
    "test 단계에선 정수 시퀀스를 텍스트 시퀀스로 변환하여 결과를 확인하는 것이 편하다.\n",
    "- text의 정수 시퀀스에선 패딩을 위해 사용된 숫자 0을 제외하고\n",
    "- summary의 정수 시퀀스에선 숫자 0, sostoken, eostoken을 출력에서 제외하자."
   ]
  },
  {
   "cell_type": "code",
   "execution_count": 108,
   "id": "d7b99b98",
   "metadata": {},
   "outputs": [],
   "source": [
    "# 원문의 정수 시퀀스를 텍스트 시퀀스로 변환\n",
    "def seq2text(input_seq):\n",
    "    temp=''\n",
    "    for i in input_seq:\n",
    "        if (i!=0):\n",
    "            temp = temp + src_index_to_word[i] + ' '\n",
    "    return temp\n",
    "\n",
    "# 요약문의 정수 시퀀스를 텍스트 시퀀스로 변환\n",
    "def seq2summary(input_seq):\n",
    "    temp=''\n",
    "    for i in input_seq:\n",
    "        if ((i!=0 and i!=tar_word_to_index['sostoken']) and i!=tar_word_to_index['eostoken']):\n",
    "            temp = temp + tar_index_to_word[i] + ' '\n",
    "    return temp"
   ]
  },
  {
   "cell_type": "code",
   "execution_count": 109,
   "id": "0353d2da",
   "metadata": {},
   "outputs": [
    {
     "name": "stdout",
     "output_type": "stream",
     "text": [
      "원문 : technology giant google pixel smartphone facing audio recording quality issues according pixel users google users reported smartphone recording audio high google confirmed audio quality issue said fix rolled next weeks \n",
      "실제 요약 : google faces issue \n",
      "예측 요약 :  india to to\n",
      "\n",
      "\n",
      "원문 : four persons killed others injured bus road overturned bihar district sunday bus road order save motorcycle borne person police said incident occurred near shankar village bus way police added \n",
      "실제 요약 : killed injured in bus accident in bihar \n",
      "예측 요약 :  india to in\n",
      "\n",
      "\n",
      "원문 : russia colonel retired professional tennis one win short career wins reached us open twice career playing career final tournament st open russia year old tour titles reached career high ranking eighth \n",
      "실제 요약 : russian tennis player with wins \n",
      "예측 요약 :  india to to\n",
      "\n",
      "\n",
      "원문 : ex team india captain mohammed azharuddin appointed working president telangana pradesh congress committee comes reports azharuddin treatment within party cricketer turned politician reportedly wanted contest next month telangana assembly elections proposal faced resistance senior leaders \n",
      "실제 요약 : appointed working president of telangana congress \n",
      "예측 요약 :  india to in\n",
      "\n",
      "\n",
      "원문 : first look film bharat lead stars salman khan katrina kaif revealed salman seen sporting katrina seen hair picture said song salman sporting five different looks film \n",
      "실제 요약 : first look of salman katrina from bharat revealed \n",
      "예측 요약 :  india to to\n",
      "\n",
      "\n",
      "원문 : bjp ally samaj party president sunday said burn politician make fight basis religion big politician die hindu muslim violence die added earlier said pull nda bjp want continue alliance \n",
      "실제 요약 : politicians hindu muslim violence bjp \n",
      "예측 요약 :  india to in\n",
      "\n",
      "\n",
      "원문 : civil war started syria march peaceful anti government protests turned violent following killing imprisonment hundreds protesters president al assad regime conflict foreign intervention islamic state war reportedly claimed lives least lakh people last seven years \n",
      "실제 요약 : why is war on in syria \n",
      "예측 요약 :  india to in\n",
      "\n",
      "\n",
      "원문 : singer ed sheeran announced engagement girlfriend instagram post sharing picture fianc sheeran wrote got fianc new year happy love cats well ed attended high school reportedly started dating \n",
      "실제 요약 : ed announces his engagement to girlfriend \n",
      "예측 요약 :  india to in\n",
      "\n",
      "\n",
      "원문 : kerala witnessed red coloured rain july september first thought caused meteor burst later tests revealed colour due local people also assumed red rain result activity \n",
      "실제 요약 : kerala red for two months in \n",
      "예측 요약 :  india to in\n",
      "\n",
      "\n",
      "원문 : priyanka chopra upcoming hollywood debut film given certificate cbfc scenes strong language censor board chief pahlaj nihalani said bad language allowed several cutting would take away intention words film reportedly recommended five cuts one visual four verbal \n",
      "실제 요약 : given for \n",
      "예측 요약 :  india to to in\n",
      "\n",
      "\n"
     ]
    }
   ],
   "source": [
    "for i in range(10):\n",
    "    print(\"원문 :\", seq2text(encoder_input_test[i]))\n",
    "    print(\"실제 요약 :\", seq2summary(decoder_input_test[i]))\n",
    "    print(\"예측 요약 :\", decode_sequence(encoder_input_test[i].reshape(1, text_max_len)))\n",
    "    print(\"\\n\")"
   ]
  },
  {
   "cell_type": "markdown",
   "id": "8ebbbbbf",
   "metadata": {},
   "source": [
    "전치사만 나오는 불상사 ..!"
   ]
  },
  {
   "cell_type": "code",
   "execution_count": null,
   "id": "1fdf2dcf",
   "metadata": {},
   "outputs": [],
   "source": []
  },
  {
   "cell_type": "markdown",
   "id": "5e749c39",
   "metadata": {},
   "source": [
    "***"
   ]
  },
  {
   "cell_type": "code",
   "execution_count": null,
   "id": "61b0e890",
   "metadata": {},
   "outputs": [],
   "source": [
    "\n"
   ]
  },
  {
   "cell_type": "code",
   "execution_count": null,
   "id": "e92a1681",
   "metadata": {},
   "outputs": [],
   "source": []
  },
  {
   "cell_type": "code",
   "execution_count": null,
   "id": "b13062d6",
   "metadata": {},
   "outputs": [],
   "source": []
  },
  {
   "cell_type": "code",
   "execution_count": null,
   "id": "4c5c4740",
   "metadata": {},
   "outputs": [],
   "source": []
  },
  {
   "cell_type": "code",
   "execution_count": null,
   "id": "1ad72e44",
   "metadata": {},
   "outputs": [],
   "source": []
  },
  {
   "cell_type": "code",
   "execution_count": null,
   "id": "02fbcdb2",
   "metadata": {},
   "outputs": [],
   "source": []
  },
  {
   "cell_type": "code",
   "execution_count": null,
   "id": "dbfa5f22",
   "metadata": {},
   "outputs": [],
   "source": []
  },
  {
   "cell_type": "code",
   "execution_count": null,
   "id": "dc369a9c",
   "metadata": {},
   "outputs": [],
   "source": []
  },
  {
   "cell_type": "code",
   "execution_count": null,
   "id": "4adc5f49",
   "metadata": {},
   "outputs": [],
   "source": []
  },
  {
   "cell_type": "code",
   "execution_count": null,
   "id": "b874eecd",
   "metadata": {},
   "outputs": [],
   "source": []
  },
  {
   "cell_type": "markdown",
   "id": "e102009d",
   "metadata": {},
   "source": [
    "# 5."
   ]
  },
  {
   "cell_type": "code",
   "execution_count": 110,
   "id": "2f6b7a54",
   "metadata": {},
   "outputs": [],
   "source": [
    "import requests\n",
    "from summa.summarizer import summarize"
   ]
  },
  {
   "cell_type": "code",
   "execution_count": 111,
   "id": "79dfd2ff",
   "metadata": {},
   "outputs": [],
   "source": [
    "text = '\"Under no circumstance will we compromise the health \\\n",
    "and wellbeing of those Tongans who have already had a concerted \\\n",
    "effort against the virus by protecting themselves, and the virus \\\n",
    "is not present on the island,\" Australian Defense Minister Dutton \\\n",
    "said Tuesday.'"
   ]
  },
  {
   "cell_type": "code",
   "execution_count": 112,
   "id": "2d9f34fc",
   "metadata": {},
   "outputs": [
    {
     "name": "stdout",
     "output_type": "stream",
     "text": [
      "Summary:\n",
      "\n"
     ]
    }
   ],
   "source": [
    "print('Summary:')\n",
    "print(summarize(text, ratio=0.05))"
   ]
  },
  {
   "cell_type": "markdown",
   "id": "a21cb1e2",
   "metadata": {},
   "source": [
    "뉴스 기사: https://edition.cnn.com/travel/article/new-zealand-travel-covid-19/index.html"
   ]
  },
  {
   "cell_type": "code",
   "execution_count": 113,
   "id": "e66442e7",
   "metadata": {},
   "outputs": [],
   "source": [
    "text2 = \"New Zealand' landscape is the stuff of legend. \\\n",
    "Arthur's Pass National Park, with its soaring peaks and deep valleys \\\n",
    "is ripe for 'tramping,' the locals' term for a good, long hike.\\\n",
    "Cape Reinga and Ninety Mile Beach offer vast sea views from the tip \\\n",
    "of North Island. Meanwhile, indigenous Maori culture permeates \\\n",
    "every aspect of the country. Pick up an RV and it's easy to find \\\n",
    "an empty corner of this magical country to explore.\""
   ]
  },
  {
   "cell_type": "code",
   "execution_count": 114,
   "id": "144d3a72",
   "metadata": {},
   "outputs": [
    {
     "name": "stdout",
     "output_type": "stream",
     "text": [
      "Summary:\n",
      "Meanwhile, indigenous Maori culture permeates every aspect of the country.\n",
      "Pick up an RV and it's easy to find an empty corner of this magical country to explore.\n",
      "\n",
      "\n",
      "Summary:\n",
      "New Zealand' landscape is the stuff of legend.\n",
      "Meanwhile, indigenous Maori culture permeates every aspect of the country.\n",
      "Pick up an RV and it's easy to find an empty corner of this magical country to explore.\n",
      "\n",
      "\n",
      "Summary:\n",
      "Meanwhile, indigenous Maori culture permeates every aspect of the country.\n",
      "Pick up an RV and it's easy to find an empty corner of this magical country to explore.\n"
     ]
    }
   ],
   "source": [
    "print('Summary:')\n",
    "print(summarize(text2, ratio=0.5))\n",
    "print('\\n')\n",
    "\n",
    "print('Summary:')\n",
    "print(summarize(text2, ratio=0.8))\n",
    "print('\\n')\n",
    "\n",
    "print('Summary:')\n",
    "print(summarize(text2, words=20))"
   ]
  },
  {
   "cell_type": "code",
   "execution_count": null,
   "id": "2dad674c",
   "metadata": {},
   "outputs": [],
   "source": []
  },
  {
   "cell_type": "code",
   "execution_count": null,
   "id": "3a6d2027",
   "metadata": {},
   "outputs": [],
   "source": []
  },
  {
   "cell_type": "code",
   "execution_count": null,
   "id": "4c7bbd30",
   "metadata": {},
   "outputs": [],
   "source": []
  },
  {
   "cell_type": "code",
   "execution_count": null,
   "id": "31e7dc5b",
   "metadata": {},
   "outputs": [],
   "source": []
  },
  {
   "cell_type": "code",
   "execution_count": null,
   "id": "e989b298",
   "metadata": {},
   "outputs": [],
   "source": []
  },
  {
   "cell_type": "code",
   "execution_count": null,
   "id": "f2e5bce6",
   "metadata": {},
   "outputs": [],
   "source": []
  },
  {
   "cell_type": "markdown",
   "id": "2bf51ae5",
   "metadata": {},
   "source": [
    "앞으로 전처리 파일을 따로 저장해서 해야겠다."
   ]
  },
  {
   "cell_type": "code",
   "execution_count": null,
   "id": "350a9c2c",
   "metadata": {},
   "outputs": [],
   "source": []
  },
  {
   "cell_type": "code",
   "execution_count": null,
   "id": "962c0c2f",
   "metadata": {},
   "outputs": [],
   "source": []
  },
  {
   "cell_type": "code",
   "execution_count": null,
   "id": "0bee2059",
   "metadata": {},
   "outputs": [],
   "source": []
  },
  {
   "cell_type": "code",
   "execution_count": null,
   "id": "9c1b10bc",
   "metadata": {},
   "outputs": [],
   "source": []
  },
  {
   "cell_type": "code",
   "execution_count": null,
   "id": "e50a1211",
   "metadata": {},
   "outputs": [],
   "source": []
  },
  {
   "cell_type": "code",
   "execution_count": null,
   "id": "ed3b0096",
   "metadata": {},
   "outputs": [],
   "source": []
  },
  {
   "cell_type": "code",
   "execution_count": null,
   "id": "7b126376",
   "metadata": {},
   "outputs": [],
   "source": []
  },
  {
   "cell_type": "code",
   "execution_count": null,
   "id": "e4a60ba9",
   "metadata": {},
   "outputs": [],
   "source": []
  },
  {
   "cell_type": "code",
   "execution_count": null,
   "id": "dd0f34fd",
   "metadata": {},
   "outputs": [],
   "source": []
  },
  {
   "cell_type": "code",
   "execution_count": null,
   "id": "f58e0fb7",
   "metadata": {},
   "outputs": [],
   "source": []
  }
 ],
 "metadata": {
  "kernelspec": {
   "display_name": "Python 3 (ipykernel)",
   "language": "python",
   "name": "python3"
  },
  "language_info": {
   "codemirror_mode": {
    "name": "ipython",
    "version": 3
   },
   "file_extension": ".py",
   "mimetype": "text/x-python",
   "name": "python",
   "nbconvert_exporter": "python",
   "pygments_lexer": "ipython3",
   "version": "3.9.7"
  }
 },
 "nbformat": 4,
 "nbformat_minor": 5
}
