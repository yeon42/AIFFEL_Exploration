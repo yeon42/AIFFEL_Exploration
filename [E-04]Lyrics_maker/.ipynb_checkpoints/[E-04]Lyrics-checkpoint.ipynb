{
 "cells": [
  {
   "cell_type": "markdown",
   "id": "3b39f7f7",
   "metadata": {},
   "source": [
    "# [E-04] 멋진 작사가 만들기"
   ]
  },
  {
   "cell_type": "markdown",
   "id": "6a883e36",
   "metadata": {},
   "source": [
    "## 1. 데이터 다운로드"
   ]
  },
  {
   "cell_type": "code",
   "execution_count": 1,
   "id": "04c88bd9",
   "metadata": {},
   "outputs": [],
   "source": [
    "# $ mkdir -p ~/aiffel/lyricist/models\n",
    "# $ ln -s ~/data ~/aiffel/lyricist/data"
   ]
  },
  {
   "cell_type": "markdown",
   "id": "81dea1d6",
   "metadata": {},
   "source": [
    "## 2. 데이터 읽어오기"
   ]
  },
  {
   "cell_type": "code",
   "execution_count": 2,
   "id": "e2a231a4",
   "metadata": {},
   "outputs": [],
   "source": [
    "import glob\n",
    "import os, re\n",
    "\n",
    "import numpy as np\n",
    "import tensorflow as tf"
   ]
  },
  {
   "cell_type": "code",
   "execution_count": 3,
   "id": "e0aa6edf",
   "metadata": {},
   "outputs": [
    {
     "name": "stdout",
     "output_type": "stream",
     "text": [
      "데이터 크기:  187088\n",
      "Examples:\n",
      " [\"Now I've heard there was a secret chord\", 'That David played, and it pleased the Lord', \"But you don't really care for music, do you?\"]\n"
     ]
    }
   ],
   "source": [
    "txt_file_path = os.getenv('HOME') + '/aiffel/lyricist/data/lyrics/*'\n",
    "\n",
    "txt_list = glob.glob(txt_file_path) # txt 파일이 여러 개이므로\n",
    "\n",
    "raw_corpus = []\n",
    "\n",
    "# 여러 개의 txt 파일을 모두 읽어 raw_corpus에 담기\n",
    "for txt_file in txt_list:\n",
    "    with open(txt_file, \"r\") as f:\n",
    "        raw = f.read().splitlines() # 라인 단위로\n",
    "        raw_corpus.extend(raw)\n",
    "\n",
    "print('데이터 크기: ', len(raw_corpus))\n",
    "print('Examples:\\n', raw_corpus[:3])"
   ]
  },
  {
   "cell_type": "markdown",
   "id": "6012f621",
   "metadata": {},
   "source": [
    "✔️여기서 파이썬 extend 함수는 append와 비슷하지만 가장 바깥쪽 iterable의 모든 항목을 넣는다."
   ]
  },
  {
   "cell_type": "markdown",
   "id": "e865d203",
   "metadata": {},
   "source": [
    "## 3. 데이터 정제\n",
    "- 앞에서 만든 preprocess_sentence() 함수를 이용해 정제하기\n",
    "- 토큰 개수 15개 넘어가는 문장(지나치게 긴 문장)은 제외하기"
   ]
  },
  {
   "cell_type": "markdown",
   "id": "a6ca2f1b",
   "metadata": {},
   "source": [
    "#### 정규표현식(Regex) 이용\n",
    "1. 소문자로 바꾸고, 양쪽에 공백 지우기\n",
    "2. 특수문자의 양쪽에 공백 넣기\n",
    "3. 여러 개의 공백 -> 하나의 공백으로\n",
    "4. a-zA-Z?.!,¿가 아닌 모든 문자를 하나의 공백으로 바꾸기\n",
    "5. 다시 양쪽 공백 지우기\n",
    "6. 문장 시작에는 < start >를, 끝에는 < end >를 추가"
   ]
  },
  {
   "cell_type": "code",
   "execution_count": 4,
   "id": "40576d2b",
   "metadata": {},
   "outputs": [],
   "source": [
    "def preprocess_sentence(sentence):\n",
    "    sentence = sentence.lower().strip() # 1\n",
    "    sentence = re.sub(r\"([?.!,¿])\", r\" \\1 \", sentence) # 2\n",
    "    sentence = re.sub(r'[\" \"]+', \" \", sentence) # 3\n",
    "    sentence = re.sub(r\"[^a-zA-Z?.!,¿]+\", \" \", sentence) # 4\n",
    "    sentence = sentence.strip() # 5\n",
    "    sentence = '<start> ' + sentence + ' <end>' # 6\n",
    "    \n",
    "    return sentence"
   ]
  },
  {
   "cell_type": "code",
   "execution_count": 5,
   "id": "06cc3ccb",
   "metadata": {},
   "outputs": [
    {
     "data": {
      "text/plain": [
       "'<start> this is sample sentence . <end>'"
      ]
     },
     "execution_count": 5,
     "metadata": {},
     "output_type": "execute_result"
    }
   ],
   "source": [
    "# 예시로 필터링이 어떻게 되는지 확인해보기\n",
    "ex = \"This @_is ;;;sample        sentence.\"\n",
    "preprocess_sentence(ex)"
   ]
  },
  {
   "cell_type": "markdown",
   "id": "0cf85d60",
   "metadata": {},
   "source": [
    "#### 🔮토큰 개수가 15개를 넘어가는 문장은 제외해야 한다.\n",
    "#### 🔮이를 위해 필터링 된 단어를 split으로 나눈 뒤 15개 초과한 문장은 제거하도록 하자"
   ]
  },
  {
   "cell_type": "code",
   "execution_count": 6,
   "id": "a39c0050",
   "metadata": {},
   "outputs": [
    {
     "data": {
      "text/plain": [
       "7"
      ]
     },
     "execution_count": 6,
     "metadata": {},
     "output_type": "execute_result"
    }
   ],
   "source": [
    "# 이런 식으로 개수 셀 수 있음\n",
    "len(preprocess_sentence(ex).split())"
   ]
  },
  {
   "cell_type": "code",
   "execution_count": 7,
   "id": "001a1bef",
   "metadata": {},
   "outputs": [
    {
     "data": {
      "text/plain": [
       "['<start> now i ve heard there was a secret chord <end>',\n",
       " '<start> that david played , and it pleased the lord <end>',\n",
       " '<start> but you don t really care for music , do you ? <end>',\n",
       " '<start> it goes like this <end>',\n",
       " '<start> the fourth , the fifth <end>']"
      ]
     },
     "execution_count": 7,
     "metadata": {},
     "output_type": "execute_result"
    }
   ],
   "source": [
    "corpus = [] # 정제된 문자 모으기\n",
    "\n",
    "for sentence in raw_corpus:\n",
    "    # 원하지 않는 문장 건너 뛰기\n",
    "    if len(sentence) == 0: continue\n",
    "    if sentence[-1] == ':': continue\n",
    "    \n",
    "    # 정제\n",
    "    preprocessed_sentence = preprocess_sentence(sentence)\n",
    "    # 토큰 개수가 15개 넘어가는 경우 건너 뛰기\n",
    "    if len(preprocessed_sentence.split()) > 15: continue\n",
    "        \n",
    "    # 담아주기\n",
    "    corpus.append(preprocessed_sentence)\n",
    "\n",
    "corpus[:5]"
   ]
  },
  {
   "cell_type": "markdown",
   "id": "da3bd9eb",
   "metadata": {},
   "source": [
    "잘 정제됨을 확인할 수 있다."
   ]
  },
  {
   "cell_type": "markdown",
   "id": "1af1643b",
   "metadata": {},
   "source": [
    "## 토큰화\n",
    "- 단어장의 크기는 12,000장 이상으로 설정하기\n",
    "- maxlen으로 문장 최대 길이 설정"
   ]
  },
  {
   "cell_type": "code",
   "execution_count": 8,
   "id": "2be91f3f",
   "metadata": {},
   "outputs": [
    {
     "name": "stdout",
     "output_type": "stream",
     "text": [
      "[[   2   50    4 ...    0    0    0]\n",
      " [   2   15 2967 ...    0    0    0]\n",
      " [   2   33    7 ...   46    3    0]\n",
      " ...\n",
      " [   2    4  118 ...    0    0    0]\n",
      " [   2  258  194 ...   12    3    0]\n",
      " [   2    7   34 ...    0    0    0]] \n",
      " <keras_preprocessing.text.Tokenizer object at 0x7fc44445cfa0>\n"
     ]
    }
   ],
   "source": [
    "def tokenize(corpus):\n",
    "    tokenizer = tf.keras.preprocessing.text.Tokenizer(\n",
    "                    num_words=12000, # 12000개가 담긴 단어장\n",
    "                    filters=' ',\n",
    "                    oov_token=\"<unk>\" # 포함되지 못하는 단어는 <unk>로 바꿔주기\n",
    "    )\n",
    "    \n",
    "    tokenizer.fit_on_texts(corpus) # 문자 데이터 입력 받아 리스트 형태로 반환\n",
    "\n",
    "    # 텍스트 안의 단어를 숫자 시퀀스(tensor)로 변환하기\n",
    "    tensor = tokenizer.texts_to_sequences(corpus)\n",
    "    \n",
    "    # pad_sequences의 padding을 통해 시퀀스 길이 일정하게 맞춰주기\n",
    "    # 문장 앞에 길이 맞추고 싶다면 padding='pre' 입력\n",
    "    # maxlen으로 문장 최대 길이 15로 설정\n",
    "    tensor = tf.keras.preprocessing.sequence.pad_sequences(tensor, padding='post', maxlen=15)\n",
    "    \n",
    "    print(tensor, '\\n', tokenizer)\n",
    "    return tensor, tokenizer\n",
    "\n",
    "\n",
    "tensor, tokenizer = tokenize(corpus)"
   ]
  },
  {
   "cell_type": "markdown",
   "id": "9532ac90",
   "metadata": {},
   "source": [
    "#### ✔️표준 정규분포를 이용하여 maxlen 설정하는 방법\n",
    "max_tokens를 mean + 2*std 로 계산, 즉 이상치를 제외한 약 95% 이내의 값을 최대 값으로 잡음"
   ]
  },
  {
   "cell_type": "code",
   "execution_count": 9,
   "id": "7405e5bd",
   "metadata": {},
   "outputs": [],
   "source": [
    "#total_data_text = list(tensor)\n",
    "#     num_tokens = [len(tokens) for tokens in total_data_text]\n",
    "#     max_tokens = np.mean(num_tokens) + 2 * np.std(num_tokens)\n",
    "#     maxlen = int(max_tokens)\n",
    "      # corpus의 가장 긴 문장을 기준으로 시퀀스 길이가 맞춰짐\n",
    "#     tensor = tf.keras.preprocessing.sequence.pad_sequences(tensor, padding='post', maxlen=maxlen)"
   ]
  },
  {
   "cell_type": "code",
   "execution_count": 10,
   "id": "7bebaeae",
   "metadata": {},
   "outputs": [
    {
     "name": "stdout",
     "output_type": "stream",
     "text": [
      "156013 156013\n"
     ]
    }
   ],
   "source": [
    "print(len(tensor), len(corpus))"
   ]
  },
  {
   "cell_type": "markdown",
   "id": "0c6db4d0",
   "metadata": {},
   "source": [
    "문장이 잘 정제되었나 확인해보기"
   ]
  },
  {
   "cell_type": "code",
   "execution_count": 11,
   "id": "b822b694",
   "metadata": {},
   "outputs": [
    {
     "name": "stdout",
     "output_type": "stream",
     "text": [
      "Now I've heard there was a secret chord\n",
      "That David played, and it pleased the Lord\n",
      "But you don't really care for music, do you?\n",
      "It goes like this\n",
      "The fourth, the fifth\n",
      "The minor fall, the major lift\n",
      "The baffled king composing Hallelujah Hallelujah\n",
      "Hallelujah\n",
      "Hallelujah\n",
      "Hallelujah Your faith was strong but you needed proof\n"
     ]
    }
   ],
   "source": [
    "for idx, sentence in enumerate(raw_corpus):\n",
    "    if len(sentence) == 0: continue   # 길이가 0인 문장은 건너뜁니다.\n",
    "    if sentence[-1] == \":\": continue  # 문장의 끝이 : 인 문장은 건너뜁니다.\n",
    "\n",
    "    if idx > 9: break   # 일단 문장 10개만 확인\n",
    "        \n",
    "    print(sentence)"
   ]
  },
  {
   "cell_type": "markdown",
   "id": "f2b796a6",
   "metadata": {},
   "source": [
    "단어 사전 구축 확인해보기"
   ]
  },
  {
   "cell_type": "code",
   "execution_count": 12,
   "id": "a0b719d0",
   "metadata": {},
   "outputs": [
    {
     "name": "stdout",
     "output_type": "stream",
     "text": [
      "1 : <unk>\n",
      "2 : <start>\n",
      "3 : <end>\n",
      "4 : i\n",
      "5 : ,\n",
      "6 : the\n",
      "7 : you\n",
      "8 : and\n",
      "9 : a\n",
      "10 : to\n"
     ]
    }
   ],
   "source": [
    "for idx in tokenizer.index_word:\n",
    "    print(idx, \":\", tokenizer.index_word[idx])\n",
    "\n",
    "    if idx >= 10: break"
   ]
  },
  {
   "cell_type": "markdown",
   "id": "863e985f",
   "metadata": {},
   "source": [
    "### 입력 데이터인 source sentence와 출력 데이터인 target sentence 생성"
   ]
  },
  {
   "cell_type": "code",
   "execution_count": 13,
   "id": "49a5c52b",
   "metadata": {},
   "outputs": [
    {
     "name": "stdout",
     "output_type": "stream",
     "text": [
      "[   2   50    4   95  303   62   53    9  946 6263    3    0    0    0]\n",
      "[  50    4   95  303   62   53    9  946 6263    3    0    0    0    0]\n"
     ]
    }
   ],
   "source": [
    "# tensor[a][b] == tensor[a, b]\n",
    "src_input = tensor[:, :-1] # <end> 토큰 제외\n",
    "tgt_input = tensor[:, 1:] # <start> 토큰 제외\n",
    "\n",
    "print(src_input[0])\n",
    "print(tgt_input[0])"
   ]
  },
  {
   "cell_type": "code",
   "execution_count": 14,
   "id": "3867e1ae",
   "metadata": {},
   "outputs": [
    {
     "name": "stdout",
     "output_type": "stream",
     "text": [
      "(156013, 14) (156013, 14)\n"
     ]
    }
   ],
   "source": [
    "print(src_input.shape, tgt_input.shape)"
   ]
  },
  {
   "cell_type": "markdown",
   "id": "6382c4c4",
   "metadata": {},
   "source": [
    "## 4. 평가 데이터셋 분리"
   ]
  },
  {
   "cell_type": "code",
   "execution_count": 15,
   "id": "c1b71935",
   "metadata": {},
   "outputs": [],
   "source": [
    "from sklearn.model_selection import train_test_split\n",
    "\n",
    "# 총 데이터의 20%를 평가 데이터셋으로 사용\n",
    "enc_train, enc_val, dec_train, dec_val = train_test_split(src_input,\n",
    "                                                          tgt_input,\n",
    "                                                          test_size=0.2,\n",
    "                                                          random_state=42,\n",
    "                                                          shuffle=True)"
   ]
  },
  {
   "cell_type": "code",
   "execution_count": 16,
   "id": "21a81884",
   "metadata": {},
   "outputs": [
    {
     "name": "stdout",
     "output_type": "stream",
     "text": [
      "Source Train:  (124810, 14)\n",
      "Target Train:  (124810, 14)\n"
     ]
    }
   ],
   "source": [
    "print(\"Source Train: \", enc_train.shape)\n",
    "print(\"Target Train: \", dec_train.shape)"
   ]
  },
  {
   "cell_type": "code",
   "execution_count": 17,
   "id": "57d4b74a",
   "metadata": {},
   "outputs": [
    {
     "name": "stdout",
     "output_type": "stream",
     "text": [
      "<BatchDataset shapes: ((256, 14), (256, 14)), types: (tf.int32, tf.int32)>\n",
      "<BatchDataset shapes: ((256, 14), (256, 14)), types: (tf.int32, tf.int32)>\n"
     ]
    }
   ],
   "source": [
    "BUFFER_SIZE = len(src_input)\n",
    "BATCH_SIZE = 256\n",
    "steps_per_epoch = len(src_input) // BATCH_SIZE\n",
    "\n",
    "# tokenizer가 구축한 단어사전 내 12000개와, 여기 포함되지 않은 0:<pad>를 포함해 120001개\n",
    "VOCAB_SIZE = tokenizer.num_words + 1\n",
    "\n",
    "# train 데이터셋 만들기 (자세히 알수록 중요함)\n",
    "train_dataset = tf.data.Dataset.from_tensor_slices((enc_train, dec_train))\n",
    "train_dataset = train_dataset.shuffle(BUFFER_SIZE)\n",
    "train_dataset = train_dataset.batch(BATCH_SIZE, drop_remainder=True)\n",
    "print(train_dataset)\n",
    "\n",
    "# test 데이터셋 만들기\n",
    "test_dataset = tf.data.Dataset.from_tensor_slices((enc_val, dec_val))\n",
    "test_dataset = test_dataset.shuffle(BUFFER_SIZE)\n",
    "test_dataset = test_dataset.batch(BATCH_SIZE, drop_remainder=True)\n",
    "print(test_dataset)"
   ]
  },
  {
   "cell_type": "code",
   "execution_count": 18,
   "id": "bce3ab13",
   "metadata": {},
   "outputs": [],
   "source": [
    "class TextGenerator(tf.keras.Model):\n",
    "    def __init__(self, vocab_size, embedding_size, hidden_size):\n",
    "        super().__init__()\n",
    "        \n",
    "        self.embedding = tf.keras.layers.Embedding(vocab_size, embedding_size)\n",
    "        self.rnn_1 = tf.keras.layers.LSTM(hidden_size, return_sequences=True)\n",
    "        self.rnn_2 = tf.keras.layers.LSTM(hidden_size, return_sequences=True)\n",
    "        self.linear = tf.keras.layers.Dense(vocab_size)\n",
    "    \n",
    "    def call(self, x): # 순환 신경망의 구조가 잘 나타나는듯!\n",
    "        out = self.embedding(x)\n",
    "        out = self.rnn_1(out)\n",
    "        out = self.rnn_2(out)\n",
    "        out = self.linear(out)\n",
    "        return out\n",
    "\n",
    "# 적정 조절 필요\n",
    "embedding_size = 1024\n",
    "hidden_size = 2048\n",
    "lyrics_model = TextGenerator(tokenizer.num_words + 1, embedding_size, hidden_size)"
   ]
  },
  {
   "cell_type": "markdown",
   "id": "f93ac1e1",
   "metadata": {},
   "source": [
    "#### 🔮embedding_size, hidden_size 무작정 늘리면 좋을까? No\n",
    "✔️embedding_size: 단어가 추상적으로 표현되는 크기 <br/>\n",
    "✔️hidden_size: 출력 벡터의 차원 수"
   ]
  },
  {
   "cell_type": "code",
   "execution_count": 19,
   "id": "62bf294c",
   "metadata": {},
   "outputs": [
    {
     "data": {
      "text/plain": [
       "<tf.Tensor: shape=(256, 14, 12001), dtype=float32, numpy=\n",
       "array([[[-4.2884832e-04, -1.9075633e-04, -3.6576070e-04, ...,\n",
       "          4.7980252e-04, -1.6787158e-04,  2.1608412e-04],\n",
       "        [-5.9164554e-04, -5.1411055e-04, -5.7025120e-04, ...,\n",
       "          1.1598979e-03, -8.5568882e-04,  6.1838113e-04],\n",
       "        [-6.4624008e-04, -9.7006297e-04, -8.4429682e-04, ...,\n",
       "          1.3000256e-03, -1.3890498e-03,  5.2444125e-04],\n",
       "        ...,\n",
       "        [ 1.1307108e-03,  7.9232402e-04, -3.9909143e-04, ...,\n",
       "         -2.4010043e-03,  3.3250733e-04,  4.4830627e-04],\n",
       "        [ 1.7929948e-03,  1.5372628e-03, -2.4023495e-04, ...,\n",
       "         -3.0462020e-03,  4.4854783e-04,  5.4578483e-04],\n",
       "        [ 2.4624546e-03,  2.4173423e-03, -1.3877306e-04, ...,\n",
       "         -3.6218569e-03,  5.6286715e-04,  6.2903221e-04]],\n",
       "\n",
       "       [[-4.2884832e-04, -1.9075633e-04, -3.6576070e-04, ...,\n",
       "          4.7980252e-04, -1.6787158e-04,  2.1608412e-04],\n",
       "        [-8.5755886e-04, -1.1793675e-04, -6.2126142e-04, ...,\n",
       "          1.0074893e-03,  8.1677990e-06,  1.3488685e-04],\n",
       "        [-7.8074454e-04,  1.8602284e-05, -7.3079031e-04, ...,\n",
       "          1.2247917e-03,  2.5044804e-04,  1.4565171e-04],\n",
       "        ...,\n",
       "        [ 4.7210176e-03,  6.7018289e-03, -4.4966704e-04, ...,\n",
       "         -5.2045123e-03,  2.5578630e-03,  2.2712565e-04],\n",
       "        [ 4.9419631e-03,  7.2864490e-03, -3.0580242e-04, ...,\n",
       "         -5.5222353e-03,  2.8769432e-03,  9.1175854e-05],\n",
       "        [ 5.0856499e-03,  7.7808285e-03, -1.4642488e-04, ...,\n",
       "         -5.7670982e-03,  3.1746675e-03, -4.6317527e-05]],\n",
       "\n",
       "       [[-4.2884832e-04, -1.9075633e-04, -3.6576070e-04, ...,\n",
       "          4.7980252e-04, -1.6787158e-04,  2.1608412e-04],\n",
       "        [-2.4861790e-04,  4.9407536e-04, -9.8338205e-05, ...,\n",
       "          9.2428725e-04, -2.4449386e-04,  2.6243660e-04],\n",
       "        [-3.8680789e-04,  9.4343425e-04, -1.9017592e-04, ...,\n",
       "          8.6841261e-04, -6.2995707e-04,  2.8346272e-04],\n",
       "        ...,\n",
       "        [ 3.7447396e-03,  5.1022205e-03,  7.5183169e-04, ...,\n",
       "         -3.1431161e-03,  1.4975461e-03,  1.8021693e-03],\n",
       "        [ 4.2385645e-03,  5.6593246e-03,  6.4066943e-04, ...,\n",
       "         -3.5793697e-03,  1.6681979e-03,  1.7356330e-03],\n",
       "        [ 4.6215612e-03,  6.2293983e-03,  5.5789459e-04, ...,\n",
       "         -3.9594877e-03,  1.8719955e-03,  1.5976992e-03]],\n",
       "\n",
       "       ...,\n",
       "\n",
       "       [[-4.2884832e-04, -1.9075633e-04, -3.6576070e-04, ...,\n",
       "          4.7980252e-04, -1.6787158e-04,  2.1608412e-04],\n",
       "        [-6.9393968e-04, -3.8663173e-04, -9.2390354e-04, ...,\n",
       "          4.7948849e-04, -1.9724341e-04,  3.7222836e-04],\n",
       "        [-1.1320688e-03, -5.1206123e-04, -1.3224378e-03, ...,\n",
       "          2.0352320e-04,  1.3586161e-04,  1.1604255e-04],\n",
       "        ...,\n",
       "        [-9.8426302e-04,  6.4279442e-04,  9.1171142e-04, ...,\n",
       "         -2.6607430e-03, -5.1685458e-04, -1.0349812e-03],\n",
       "        [-2.1575263e-05,  1.4440318e-03,  1.0704080e-03, ...,\n",
       "         -3.2331489e-03, -4.2772002e-04, -9.0966013e-04],\n",
       "        [ 9.2955719e-04,  2.3958564e-03,  1.0819802e-03, ...,\n",
       "         -3.7407230e-03, -2.5257326e-04, -7.8903930e-04]],\n",
       "\n",
       "       [[-4.2884832e-04, -1.9075633e-04, -3.6576070e-04, ...,\n",
       "          4.7980252e-04, -1.6787158e-04,  2.1608412e-04],\n",
       "        [-6.5895983e-05,  9.4510237e-05, -6.6751207e-04, ...,\n",
       "          7.5311330e-04, -3.6282081e-04,  8.0580678e-05],\n",
       "        [ 3.7811388e-04, -1.8090491e-04, -1.0360067e-03, ...,\n",
       "          1.2380967e-03, -4.5976081e-04, -2.6740821e-04],\n",
       "        ...,\n",
       "        [ 1.7806671e-03,  1.5406922e-04, -2.7076465e-03, ...,\n",
       "          1.7920365e-03, -3.7553539e-03, -1.9773734e-03],\n",
       "        [ 1.8938845e-03,  1.2540868e-04, -2.7176493e-03, ...,\n",
       "          1.6912463e-03, -4.4071050e-03, -1.7201875e-03],\n",
       "        [ 2.2365411e-03,  3.6380373e-04, -2.4753453e-03, ...,\n",
       "          1.0965213e-03, -4.0806169e-03, -1.4390064e-03]],\n",
       "\n",
       "       [[-4.2884832e-04, -1.9075633e-04, -3.6576070e-04, ...,\n",
       "          4.7980252e-04, -1.6787158e-04,  2.1608412e-04],\n",
       "        [-2.0387846e-04, -3.1930630e-04, -7.9679629e-04, ...,\n",
       "          9.9589117e-04, -9.1617811e-05,  2.1927673e-04],\n",
       "        [-2.8187598e-04, -1.1890470e-04, -8.5890898e-04, ...,\n",
       "          1.0612896e-03,  9.6282514e-05, -1.9579964e-05],\n",
       "        ...,\n",
       "        [ 3.0900168e-03,  5.1307217e-03, -5.7140592e-04, ...,\n",
       "         -4.6678348e-03,  1.3351348e-03, -3.6937743e-04],\n",
       "        [ 3.5376498e-03,  5.9154592e-03, -4.0576945e-04, ...,\n",
       "         -5.0474158e-03,  1.7069922e-03, -3.8271982e-04],\n",
       "        [ 3.8972285e-03,  6.6117803e-03, -2.3697913e-04, ...,\n",
       "         -5.3501739e-03,  2.0915759e-03, -4.0635499e-04]]], dtype=float32)>"
      ]
     },
     "execution_count": 19,
     "metadata": {},
     "output_type": "execute_result"
    }
   ],
   "source": [
    "# 데이터셋에서 데이터 한 배치만 불러오는 방법\n",
    "for src_sample, tgt_sample in train_dataset.take(1): break\n",
    "\n",
    "# 한 배치만 불러온 데이터를 모델에 넣어보기\n",
    "lyrics_model(src_sample)"
   ]
  },
  {
   "cell_type": "code",
   "execution_count": 20,
   "id": "75eb2233",
   "metadata": {},
   "outputs": [
    {
     "name": "stdout",
     "output_type": "stream",
     "text": [
      "Model: \"text_generator\"\n",
      "_________________________________________________________________\n",
      "Layer (type)                 Output Shape              Param #   \n",
      "=================================================================\n",
      "embedding (Embedding)        multiple                  12289024  \n",
      "_________________________________________________________________\n",
      "lstm (LSTM)                  multiple                  25174016  \n",
      "_________________________________________________________________\n",
      "lstm_1 (LSTM)                multiple                  33562624  \n",
      "_________________________________________________________________\n",
      "dense (Dense)                multiple                  24590049  \n",
      "=================================================================\n",
      "Total params: 95,615,713\n",
      "Trainable params: 95,615,713\n",
      "Non-trainable params: 0\n",
      "_________________________________________________________________\n"
     ]
    }
   ],
   "source": [
    "lyrics_model.summary()"
   ]
  },
  {
   "cell_type": "markdown",
   "id": "f7ed1155",
   "metadata": {},
   "source": [
    "## 5. 인공지능 만들기"
   ]
  },
  {
   "cell_type": "code",
   "execution_count": 21,
   "id": "6cd92729",
   "metadata": {},
   "outputs": [
    {
     "name": "stdout",
     "output_type": "stream",
     "text": [
      "Epoch 1/10\n",
      "487/487 [==============================] - 261s 528ms/step - loss: 3.2213 - accuracy: 0.5079 - val_loss: 2.8676 - val_accuracy: 0.5325\n",
      "Epoch 2/10\n",
      "487/487 [==============================] - 269s 552ms/step - loss: 2.6835 - accuracy: 0.5473 - val_loss: 2.6121 - val_accuracy: 0.5564\n",
      "Epoch 3/10\n",
      "487/487 [==============================] - 271s 556ms/step - loss: 2.3601 - accuracy: 0.5773 - val_loss: 2.4312 - val_accuracy: 0.5801\n",
      "Epoch 4/10\n",
      "487/487 [==============================] - 272s 558ms/step - loss: 2.0418 - accuracy: 0.6160 - val_loss: 2.2974 - val_accuracy: 0.6038\n",
      "Epoch 5/10\n",
      "487/487 [==============================] - 284s 584ms/step - loss: 1.7422 - accuracy: 0.6615 - val_loss: 2.2048 - val_accuracy: 0.6250\n",
      "Epoch 6/10\n",
      "487/487 [==============================] - 284s 583ms/step - loss: 1.4798 - accuracy: 0.7082 - val_loss: 2.1451 - val_accuracy: 0.6447\n",
      "Epoch 7/10\n",
      "487/487 [==============================] - 284s 582ms/step - loss: 1.2721 - accuracy: 0.7498 - val_loss: 2.1207 - val_accuracy: 0.6587\n",
      "Epoch 8/10\n",
      "487/487 [==============================] - 284s 583ms/step - loss: 1.1241 - accuracy: 0.7821 - val_loss: 2.1231 - val_accuracy: 0.6664\n",
      "Epoch 9/10\n",
      "487/487 [==============================] - 284s 583ms/step - loss: 1.0355 - accuracy: 0.8011 - val_loss: 2.1486 - val_accuracy: 0.6686\n",
      "Epoch 10/10\n",
      "487/487 [==============================] - 284s 584ms/step - loss: 0.9909 - accuracy: 0.8093 - val_loss: 2.1655 - val_accuracy: 0.6711\n"
     ]
    }
   ],
   "source": [
    "optimizer = tf.keras.optimizers.Adam()\n",
    "\n",
    "# Loss\n",
    "loss = tf.keras.losses.SparseCategoricalCrossentropy(\n",
    "    from_logits=True,\n",
    "    reduction='none'\n",
    ")\n",
    "\n",
    "epoch = 7 # 에포크 조절하기\n",
    "\n",
    "lyrics_model.compile(loss=loss, \n",
    "                     optimizer=optimizer, \n",
    "                     metrics=['accuracy']) # 정확성 판단\n",
    "\n",
    "lyrics_history = lyrics_model.fit(train_dataset, # 훈련 데이터\n",
    "                                  validation_data=test_dataset, # 평가 데이터\n",
    "                                  epochs=epoch)"
   ]
  },
  {
   "cell_type": "code",
   "execution_count": 22,
   "id": "35863901",
   "metadata": {},
   "outputs": [
    {
     "data": {
      "image/png": "[encoded data removed]",
      "text/plain": [
       "<Figure size 864x576 with 2 Axes>"
      ]
     },
     "metadata": {
      "needs_background": "light"
     },
     "output_type": "display_data"
    }
   ],
   "source": [
    "import matplotlib.pyplot as plt\n",
    "\n",
    "acc = lyrics_history.history['accuracy']\n",
    "val_acc = lyrics_history.history['val_accuracy']\n",
    "\n",
    "loss = lyrics_history.history['loss']\n",
    "val_loss = lyrics_history.history['val_loss']\n",
    "\n",
    "epochs_range = range(len(acc))\n",
    "\n",
    "plt.figure(figsize = (12, 8))\n",
    "plt.subplot(1, 2, 1)\n",
    "plt.plot(epochs_range, acc, label = 'Training Accuracy')\n",
    "plt.plot(epochs_range, val_acc, label = 'Validation Accuracy')\n",
    "plt.legend(loc = 'lower right')\n",
    "plt.title('Training and Validation Accuracy')\n",
    "\n",
    "plt.subplot(1, 2, 2)\n",
    "plt.plot(epochs_range, loss, label = 'Training Loss')\n",
    "plt.plot(epochs_range, val_loss, label = 'Validation Loss')\n",
    "plt.legend(loc = 'upper right')\n",
    "plt.title('Training and Validation Loss')\n",
    "plt.show()"
   ]
  },
  {
   "cell_type": "markdown",
   "id": "4797ba9a",
   "metadata": {},
   "source": [
    "#### 에포크=8부터 val loss가 다시 증가하기 시작했다. 조금 줄일 필요성이 있어 보인다."
   ]
  },
  {
   "cell_type": "code",
   "execution_count": 23,
   "id": "ab5dbab7",
   "metadata": {},
   "outputs": [],
   "source": [
    "def generate_text(model, tokenizer, init_sentence=\"<start>\", max_len=20):\n",
    "    \n",
    "    # 테스트를 위해 입력받은 init_sentence도 텐서로 변환하기\n",
    "    test_input = tokenizer.texts_to_sequences([init_sentence])\n",
    "    test_tensor = tf.convert_to_tensor(test_input, dtype=tf.int64)\n",
    "    end_token = tokenizer.word_index[\"<end>\"]\n",
    "    \n",
    "    # 단어 하나씩 예측해 문장 만들기\n",
    "        # 1. 입력받은 문장의 텐서 입력\n",
    "        # 2. 예측된 값 중 가장 높은 확률인 word index 뽑기\n",
    "        # 3. 2에서 예측된 word index를 문장 뒤에 붙이기\n",
    "        # 4. 모델이 <end>를 예측했거나, max_len에 도달했다면 문장 생성 끝내기\n",
    "\n",
    "    while True:\n",
    "        predict = model(test_tensor) # 1\n",
    "        \n",
    "        predict_word = tf.argmax(tf.nn.softmax(predict, axis=-1), axis=-1)[:, -1] # 2\n",
    "        \n",
    "        test_tensor = tf.concat([test_tensor, tf.expand_dims(predict_word, axis=0)], axis=-1) # 3\n",
    "\n",
    "        if predict_word.numpy()[0] == end_token: break # 4\n",
    "        if test_tensor.shape[1] >= max_len: break\n",
    "    \n",
    "    generated = \"\"\n",
    "    # tokenizer를 이용해 word index를 단어로 하나씩 변환하기\n",
    "    for word_index in test_tensor[0].numpy():\n",
    "        generated += tokenizer.index_word[word_index] + \" \"\n",
    "    \n",
    "    return generated\n"
   ]
  },
  {
   "cell_type": "code",
   "execution_count": 24,
   "id": "2d53d33a",
   "metadata": {},
   "outputs": [
    {
     "data": {
      "text/plain": [
       "'<start> i love you so much , i love you so much <end> '"
      ]
     },
     "execution_count": 24,
     "metadata": {},
     "output_type": "execute_result"
    }
   ],
   "source": [
    "generate_text(lyrics_model, tokenizer, init_sentence=\"<start> i love\", max_len=20)"
   ]
  },
  {
   "cell_type": "code",
   "execution_count": 25,
   "id": "e4b1921d",
   "metadata": {},
   "outputs": [
    {
     "data": {
      "text/plain": [
       "'<start> i can see it through the lens of my <unk> <end> '"
      ]
     },
     "execution_count": 25,
     "metadata": {},
     "output_type": "execute_result"
    }
   ],
   "source": [
    "generate_text(lyrics_model, tokenizer, init_sentence=\"<start> i can see\", max_len=20)"
   ]
  },
  {
   "cell_type": "code",
   "execution_count": 26,
   "id": "52d93331",
   "metadata": {},
   "outputs": [
    {
     "data": {
      "text/plain": [
       "'<start> they say i m losing my mind <end> '"
      ]
     },
     "execution_count": 26,
     "metadata": {},
     "output_type": "execute_result"
    }
   ],
   "source": [
    "generate_text(lyrics_model, tokenizer, init_sentence=\"<start> They say\", max_len=20)"
   ]
  },
  {
   "cell_type": "code",
   "execution_count": 27,
   "id": "78f0cc09",
   "metadata": {},
   "outputs": [
    {
     "data": {
      "text/plain": [
       "'<start> the sky is low , the clouds are mean , <end> '"
      ]
     },
     "execution_count": 27,
     "metadata": {},
     "output_type": "execute_result"
    }
   ],
   "source": [
    "generate_text(lyrics_model, tokenizer, init_sentence=\"<start> The sky\", max_len=20)"
   ]
  },
  {
   "cell_type": "code",
   "execution_count": null,
   "id": "16bd3696",
   "metadata": {},
   "outputs": [],
   "source": []
  },
  {
   "cell_type": "code",
   "execution_count": null,
   "id": "4e4770f9",
   "metadata": {},
   "outputs": [],
   "source": []
  },
  {
   "cell_type": "markdown",
   "id": "b3bea0bf",
   "metadata": {},
   "source": [
    "*****"
   ]
  },
  {
   "cell_type": "markdown",
   "id": "4de8944b",
   "metadata": {},
   "source": [
    "# 🧤회고"
   ]
  },
  {
   "cell_type": "markdown",
   "id": "3ce0e5b6",
   "metadata": {},
   "source": [
    "평소 자연어처리에 관심이 있었는데 이번 노드를 통해 다뤄볼 수 있어서 유익한 시간이었다. 내가 입력한 짧은 문장으로 멋진 작사를 해줄 수 있다는 점이 재밌었고, 다음 번엔 좀 더 좋은 예제로 더 긴 문장을 만들어보고 싶다."
   ]
  },
  {
   "cell_type": "markdown",
   "id": "c351092b",
   "metadata": {},
   "source": [
    "#### ✔️결과\n",
    "- 같은 모델을 돌려보면 만들어지는 문장이 계속해서 바뀌는데 길이가 줄어들 때도 있고, 말이 안 되는 문장이 나오는 경우도 있었다. loss값도 돌릴 때마다 증가해서 난처한 부분도 존재했다.\n",
    "\n",
    "#### ✔️정규표현식\n",
    "- 예전에도 정규표현식을 한 번 다뤄본 적이 있는데 느낀 점은 꽤나 까다롭다는 것이다. 내가 원하는 부분을 세세하게 따져가며 조건을 줘야할 것 같다.\n",
    "\n",
    "#### ✔️embedding_size, hidden_state\n",
    "- 이 둘의 크기를 조절해나가며 모델을 훈련했는데, 예제에 나온 256, 1024로는 val_loss가 2.2 이하로 떨어지지 않아 크기를 키워보았다. hidden_state를 너무 키우면 훈련 시간이 상상 이상으로 증가하였고, 성능도 그만큼 좋게 나오진 않았다. 이 두 파라미터의 크기를 너무 키워도 좋지 않구나를 깨달았다.\n",
    "\n",
    "#### ✔️train, val 데이터\n",
    "- 앞서 예제에는 dataset을 train 데이터와 val 데이터로 분리하는 부분이 없어 이를 어떻게 이용해야하는지 감이 안 잡혔다. 결과적으로 두 개의 데이터셋을 만들어 모델 훈련 시 두 가지 데이터를 모두 넣어주면 된다는 것을 깨달았다.\n",
    "\n",
    "#### ✔️dataset\n",
    "- 이 과정에서 굳이 dataset으로 만들어주는 이유는 무엇일까? 생각해보았는데 노드 설명에도 나와있듯이 텐서플로우를 활용할 때는 이 데이터셋 객체를 생성하는 방법을 흔히 사용한다 한다. 여러 편의성이 있다고 하니 참고해야겠다.\n",
    "\n",
    "#### ✔️토큰 개수 조절\n",
    "- 본 예제는 토큰의 개수가 15개가 넘어가는 문장은 학습에서 제외를 시켜야했다. 결과적으로 파이썬의 split 함수를 이용해len(preprocessed_sentence.split()) > 15 인 경우 건너 뛰어라 라는 문장을 추가해 구현할 수 있었다.\n",
    "\n",
    "#### ✔️max_len\n",
    "- 나는 위에서 max_len을 15를 주었지만 찾아보니 max_tokens를 np.mean(num_tokens) + 2 * np.std(num_tokens) 로 구하여 max_len = len(max_tokens)으로 문장 길이를 조절하는 코드가 있었다. 처음에는 무슨 말인지 이해가 가지 않았는데 정규분포의 개념을 떠올리니 쉽게 이해할 수 있었다. 좋은 예시인 것 같다.\n",
    "\n",
    "#### 🔮🔮\n",
    "- 토큰 개수를 15개로 제한하는 부분에서 (1) split 함수를 사용해 애초에 15개가 넘어가는 토큰을 가진 문장은 배제시키는 방법과 (2) max_len=15를 이용해 문장 자체를 15개로 자르는 두 가지 방법이 있었다.\n",
    "- 하지만 두 번째 방법은 길이가 긴 문장이 15번째에서 도중에 잘릴 위험이 있다. 따라서 안정적으로 첫 번째 방법을 이용하는 것이 좋다고 판단하였고, 혹시 몰라 max_len도 15로 맞춰주었다."
   ]
  },
  {
   "cell_type": "markdown",
   "id": "88f18385",
   "metadata": {},
   "source": [
    "NLP를 다뤄볼 수 있는 재미있는 노드였고, 앞으로 좀 더 공부해보고싶다!"
   ]
  },
  {
   "cell_type": "code",
   "execution_count": null,
   "id": "d61f69de",
   "metadata": {},
   "outputs": [],
   "source": []
  },
  {
   "cell_type": "code",
   "execution_count": null,
   "id": "1b5d49df",
   "metadata": {},
   "outputs": [],
   "source": []
  },
  {
   "cell_type": "code",
   "execution_count": null,
   "id": "d1cfab99",
   "metadata": {},
   "outputs": [],
   "source": []
  }
 ],
 "metadata": {
  "kernelspec": {
   "display_name": "Python 3 (ipykernel)",
   "language": "python",
   "name": "python3"
  },
  "language_info": {
   "codemirror_mode": {
    "name": "ipython",
    "version": 3
   },
   "file_extension": ".py",
   "mimetype": "text/x-python",
   "name": "python",
   "nbconvert_exporter": "python",
   "pygments_lexer": "ipython3",
   "version": "3.9.7"
  }
 },
 "nbformat": 4,
 "nbformat_minor": 5
}
