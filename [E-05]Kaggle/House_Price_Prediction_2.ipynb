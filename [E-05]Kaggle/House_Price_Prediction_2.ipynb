{
 "cells": [
  {
   "cell_type": "markdown",
   "id": "7357148a",
   "metadata": {},
   "source": [
    "# 2. 랭킹 올려보기"
   ]
  },
  {
   "cell_type": "code",
   "execution_count": 62,
   "id": "0c7a8092",
   "metadata": {},
   "outputs": [],
   "source": [
    "import matplotlib.pyplot as plt\n",
    "%matplotlib inline\n",
    "%config InlineBackend.figure_forat = 'retina'\n",
    "\n",
    "import warnings\n",
    "warnings.filterwarnings(\"ignore\")\n",
    "\n",
    "import os\n",
    "from os.path import join\n",
    "\n",
    "import pandas as pd\n",
    "import numpy as np\n",
    "\n",
    "import missingno as msno\n",
    "\n",
    "from sklearn.ensemble import GradientBoostingRegressor\n",
    "from sklearn.model_selection import KFold, cross_val_score\n",
    "import xgboost as xgb\n",
    "import lightgbm as lgb\n",
    "\n",
    "import matplotlib.pyplot as plt\n",
    "import seaborn as sns"
   ]
  },
  {
   "cell_type": "code",
   "execution_count": 63,
   "id": "23319775",
   "metadata": {},
   "outputs": [],
   "source": [
    "data_dir = os.getenv('HOME')+'/aiffel/kaggle_kakr_housing/data'\n",
    "\n",
    "train_data_path = join(data_dir, \"train.csv\")\n",
    "test_data_path = join(data_dir, \"test.csv\")\n",
    "\n",
    "train = pd.read_csv(train_data_path)\n",
    "test = pd.read_csv(test_data_path)"
   ]
  },
  {
   "cell_type": "markdown",
   "id": "87c6da73",
   "metadata": {},
   "source": [
    "#### train 컬럼 정리"
   ]
  },
  {
   "cell_type": "code",
   "execution_count": 64,
   "id": "05851296",
   "metadata": {},
   "outputs": [
    {
     "data": {
      "text/html": [
       "<div>\n",
       "<style scoped>\n",
       "    .dataframe tbody tr th:only-of-type {\n",
       "        vertical-align: middle;\n",
       "    }\n",
       "\n",
       "    .dataframe tbody tr th {\n",
       "        vertical-align: top;\n",
       "    }\n",
       "\n",
       "    .dataframe thead th {\n",
       "        text-align: right;\n",
       "    }\n",
       "</style>\n",
       "<table border=\"1\" class=\"dataframe\">\n",
       "  <thead>\n",
       "    <tr style=\"text-align: right;\">\n",
       "      <th></th>\n",
       "      <th>id</th>\n",
       "      <th>date</th>\n",
       "      <th>price</th>\n",
       "      <th>bedrooms</th>\n",
       "      <th>bathrooms</th>\n",
       "      <th>sqft_living</th>\n",
       "      <th>sqft_lot</th>\n",
       "      <th>floors</th>\n",
       "      <th>waterfront</th>\n",
       "      <th>view</th>\n",
       "      <th>...</th>\n",
       "      <th>grade</th>\n",
       "      <th>sqft_above</th>\n",
       "      <th>sqft_basement</th>\n",
       "      <th>yr_built</th>\n",
       "      <th>yr_renovated</th>\n",
       "      <th>zipcode</th>\n",
       "      <th>lat</th>\n",
       "      <th>long</th>\n",
       "      <th>sqft_living15</th>\n",
       "      <th>sqft_lot15</th>\n",
       "    </tr>\n",
       "  </thead>\n",
       "  <tbody>\n",
       "    <tr>\n",
       "      <th>0</th>\n",
       "      <td>0</td>\n",
       "      <td>20141013T000000</td>\n",
       "      <td>221900.0</td>\n",
       "      <td>3</td>\n",
       "      <td>1.00</td>\n",
       "      <td>1180</td>\n",
       "      <td>5650</td>\n",
       "      <td>1.0</td>\n",
       "      <td>0</td>\n",
       "      <td>0</td>\n",
       "      <td>...</td>\n",
       "      <td>7</td>\n",
       "      <td>1180</td>\n",
       "      <td>0</td>\n",
       "      <td>1955</td>\n",
       "      <td>0</td>\n",
       "      <td>98178</td>\n",
       "      <td>47.5112</td>\n",
       "      <td>-122.257</td>\n",
       "      <td>1340</td>\n",
       "      <td>5650</td>\n",
       "    </tr>\n",
       "    <tr>\n",
       "      <th>1</th>\n",
       "      <td>1</td>\n",
       "      <td>20150225T000000</td>\n",
       "      <td>180000.0</td>\n",
       "      <td>2</td>\n",
       "      <td>1.00</td>\n",
       "      <td>770</td>\n",
       "      <td>10000</td>\n",
       "      <td>1.0</td>\n",
       "      <td>0</td>\n",
       "      <td>0</td>\n",
       "      <td>...</td>\n",
       "      <td>6</td>\n",
       "      <td>770</td>\n",
       "      <td>0</td>\n",
       "      <td>1933</td>\n",
       "      <td>0</td>\n",
       "      <td>98028</td>\n",
       "      <td>47.7379</td>\n",
       "      <td>-122.233</td>\n",
       "      <td>2720</td>\n",
       "      <td>8062</td>\n",
       "    </tr>\n",
       "    <tr>\n",
       "      <th>2</th>\n",
       "      <td>2</td>\n",
       "      <td>20150218T000000</td>\n",
       "      <td>510000.0</td>\n",
       "      <td>3</td>\n",
       "      <td>2.00</td>\n",
       "      <td>1680</td>\n",
       "      <td>8080</td>\n",
       "      <td>1.0</td>\n",
       "      <td>0</td>\n",
       "      <td>0</td>\n",
       "      <td>...</td>\n",
       "      <td>8</td>\n",
       "      <td>1680</td>\n",
       "      <td>0</td>\n",
       "      <td>1987</td>\n",
       "      <td>0</td>\n",
       "      <td>98074</td>\n",
       "      <td>47.6168</td>\n",
       "      <td>-122.045</td>\n",
       "      <td>1800</td>\n",
       "      <td>7503</td>\n",
       "    </tr>\n",
       "    <tr>\n",
       "      <th>3</th>\n",
       "      <td>3</td>\n",
       "      <td>20140627T000000</td>\n",
       "      <td>257500.0</td>\n",
       "      <td>3</td>\n",
       "      <td>2.25</td>\n",
       "      <td>1715</td>\n",
       "      <td>6819</td>\n",
       "      <td>2.0</td>\n",
       "      <td>0</td>\n",
       "      <td>0</td>\n",
       "      <td>...</td>\n",
       "      <td>7</td>\n",
       "      <td>1715</td>\n",
       "      <td>0</td>\n",
       "      <td>1995</td>\n",
       "      <td>0</td>\n",
       "      <td>98003</td>\n",
       "      <td>47.3097</td>\n",
       "      <td>-122.327</td>\n",
       "      <td>2238</td>\n",
       "      <td>6819</td>\n",
       "    </tr>\n",
       "    <tr>\n",
       "      <th>4</th>\n",
       "      <td>4</td>\n",
       "      <td>20150115T000000</td>\n",
       "      <td>291850.0</td>\n",
       "      <td>3</td>\n",
       "      <td>1.50</td>\n",
       "      <td>1060</td>\n",
       "      <td>9711</td>\n",
       "      <td>1.0</td>\n",
       "      <td>0</td>\n",
       "      <td>0</td>\n",
       "      <td>...</td>\n",
       "      <td>7</td>\n",
       "      <td>1060</td>\n",
       "      <td>0</td>\n",
       "      <td>1963</td>\n",
       "      <td>0</td>\n",
       "      <td>98198</td>\n",
       "      <td>47.4095</td>\n",
       "      <td>-122.315</td>\n",
       "      <td>1650</td>\n",
       "      <td>9711</td>\n",
       "    </tr>\n",
       "  </tbody>\n",
       "</table>\n",
       "<p>5 rows × 21 columns</p>\n",
       "</div>"
      ],
      "text/plain": [
       "   id             date     price  bedrooms  bathrooms  sqft_living  sqft_lot  \\\n",
       "0   0  20141013T000000  221900.0         3       1.00         1180      5650   \n",
       "1   1  20150225T000000  180000.0         2       1.00          770     10000   \n",
       "2   2  20150218T000000  510000.0         3       2.00         1680      8080   \n",
       "3   3  20140627T000000  257500.0         3       2.25         1715      6819   \n",
       "4   4  20150115T000000  291850.0         3       1.50         1060      9711   \n",
       "\n",
       "   floors  waterfront  view  ...  grade  sqft_above  sqft_basement  yr_built  \\\n",
       "0     1.0           0     0  ...      7        1180              0      1955   \n",
       "1     1.0           0     0  ...      6         770              0      1933   \n",
       "2     1.0           0     0  ...      8        1680              0      1987   \n",
       "3     2.0           0     0  ...      7        1715              0      1995   \n",
       "4     1.0           0     0  ...      7        1060              0      1963   \n",
       "\n",
       "   yr_renovated  zipcode      lat     long  sqft_living15  sqft_lot15  \n",
       "0             0    98178  47.5112 -122.257           1340        5650  \n",
       "1             0    98028  47.7379 -122.233           2720        8062  \n",
       "2             0    98074  47.6168 -122.045           1800        7503  \n",
       "3             0    98003  47.3097 -122.327           2238        6819  \n",
       "4             0    98198  47.4095 -122.315           1650        9711  \n",
       "\n",
       "[5 rows x 21 columns]"
      ]
     },
     "execution_count": 64,
     "metadata": {},
     "output_type": "execute_result"
    }
   ],
   "source": [
    "train.head()"
   ]
  },
  {
   "cell_type": "code",
   "execution_count": 65,
   "id": "829920de",
   "metadata": {},
   "outputs": [
    {
     "data": {
      "text/html": [
       "<div>\n",
       "<style scoped>\n",
       "    .dataframe tbody tr th:only-of-type {\n",
       "        vertical-align: middle;\n",
       "    }\n",
       "\n",
       "    .dataframe tbody tr th {\n",
       "        vertical-align: top;\n",
       "    }\n",
       "\n",
       "    .dataframe thead th {\n",
       "        text-align: right;\n",
       "    }\n",
       "</style>\n",
       "<table border=\"1\" class=\"dataframe\">\n",
       "  <thead>\n",
       "    <tr style=\"text-align: right;\">\n",
       "      <th></th>\n",
       "      <th>id</th>\n",
       "      <th>date</th>\n",
       "      <th>price</th>\n",
       "      <th>bedrooms</th>\n",
       "      <th>bathrooms</th>\n",
       "      <th>sqft_living</th>\n",
       "      <th>sqft_lot</th>\n",
       "      <th>floors</th>\n",
       "      <th>waterfront</th>\n",
       "      <th>view</th>\n",
       "      <th>...</th>\n",
       "      <th>grade</th>\n",
       "      <th>sqft_above</th>\n",
       "      <th>sqft_basement</th>\n",
       "      <th>yr_built</th>\n",
       "      <th>yr_renovated</th>\n",
       "      <th>zipcode</th>\n",
       "      <th>lat</th>\n",
       "      <th>long</th>\n",
       "      <th>sqft_living15</th>\n",
       "      <th>sqft_lot15</th>\n",
       "    </tr>\n",
       "  </thead>\n",
       "  <tbody>\n",
       "    <tr>\n",
       "      <th>0</th>\n",
       "      <td>0</td>\n",
       "      <td>201410</td>\n",
       "      <td>221900.0</td>\n",
       "      <td>3</td>\n",
       "      <td>1.00</td>\n",
       "      <td>1180</td>\n",
       "      <td>5650</td>\n",
       "      <td>1.0</td>\n",
       "      <td>0</td>\n",
       "      <td>0</td>\n",
       "      <td>...</td>\n",
       "      <td>7</td>\n",
       "      <td>1180</td>\n",
       "      <td>0</td>\n",
       "      <td>1955</td>\n",
       "      <td>0</td>\n",
       "      <td>98178</td>\n",
       "      <td>47.5112</td>\n",
       "      <td>-122.257</td>\n",
       "      <td>1340</td>\n",
       "      <td>5650</td>\n",
       "    </tr>\n",
       "    <tr>\n",
       "      <th>1</th>\n",
       "      <td>1</td>\n",
       "      <td>201502</td>\n",
       "      <td>180000.0</td>\n",
       "      <td>2</td>\n",
       "      <td>1.00</td>\n",
       "      <td>770</td>\n",
       "      <td>10000</td>\n",
       "      <td>1.0</td>\n",
       "      <td>0</td>\n",
       "      <td>0</td>\n",
       "      <td>...</td>\n",
       "      <td>6</td>\n",
       "      <td>770</td>\n",
       "      <td>0</td>\n",
       "      <td>1933</td>\n",
       "      <td>0</td>\n",
       "      <td>98028</td>\n",
       "      <td>47.7379</td>\n",
       "      <td>-122.233</td>\n",
       "      <td>2720</td>\n",
       "      <td>8062</td>\n",
       "    </tr>\n",
       "    <tr>\n",
       "      <th>2</th>\n",
       "      <td>2</td>\n",
       "      <td>201502</td>\n",
       "      <td>510000.0</td>\n",
       "      <td>3</td>\n",
       "      <td>2.00</td>\n",
       "      <td>1680</td>\n",
       "      <td>8080</td>\n",
       "      <td>1.0</td>\n",
       "      <td>0</td>\n",
       "      <td>0</td>\n",
       "      <td>...</td>\n",
       "      <td>8</td>\n",
       "      <td>1680</td>\n",
       "      <td>0</td>\n",
       "      <td>1987</td>\n",
       "      <td>0</td>\n",
       "      <td>98074</td>\n",
       "      <td>47.6168</td>\n",
       "      <td>-122.045</td>\n",
       "      <td>1800</td>\n",
       "      <td>7503</td>\n",
       "    </tr>\n",
       "    <tr>\n",
       "      <th>3</th>\n",
       "      <td>3</td>\n",
       "      <td>201406</td>\n",
       "      <td>257500.0</td>\n",
       "      <td>3</td>\n",
       "      <td>2.25</td>\n",
       "      <td>1715</td>\n",
       "      <td>6819</td>\n",
       "      <td>2.0</td>\n",
       "      <td>0</td>\n",
       "      <td>0</td>\n",
       "      <td>...</td>\n",
       "      <td>7</td>\n",
       "      <td>1715</td>\n",
       "      <td>0</td>\n",
       "      <td>1995</td>\n",
       "      <td>0</td>\n",
       "      <td>98003</td>\n",
       "      <td>47.3097</td>\n",
       "      <td>-122.327</td>\n",
       "      <td>2238</td>\n",
       "      <td>6819</td>\n",
       "    </tr>\n",
       "    <tr>\n",
       "      <th>4</th>\n",
       "      <td>4</td>\n",
       "      <td>201501</td>\n",
       "      <td>291850.0</td>\n",
       "      <td>3</td>\n",
       "      <td>1.50</td>\n",
       "      <td>1060</td>\n",
       "      <td>9711</td>\n",
       "      <td>1.0</td>\n",
       "      <td>0</td>\n",
       "      <td>0</td>\n",
       "      <td>...</td>\n",
       "      <td>7</td>\n",
       "      <td>1060</td>\n",
       "      <td>0</td>\n",
       "      <td>1963</td>\n",
       "      <td>0</td>\n",
       "      <td>98198</td>\n",
       "      <td>47.4095</td>\n",
       "      <td>-122.315</td>\n",
       "      <td>1650</td>\n",
       "      <td>9711</td>\n",
       "    </tr>\n",
       "  </tbody>\n",
       "</table>\n",
       "<p>5 rows × 21 columns</p>\n",
       "</div>"
      ],
      "text/plain": [
       "   id    date     price  bedrooms  bathrooms  sqft_living  sqft_lot  floors  \\\n",
       "0   0  201410  221900.0         3       1.00         1180      5650     1.0   \n",
       "1   1  201502  180000.0         2       1.00          770     10000     1.0   \n",
       "2   2  201502  510000.0         3       2.00         1680      8080     1.0   \n",
       "3   3  201406  257500.0         3       2.25         1715      6819     2.0   \n",
       "4   4  201501  291850.0         3       1.50         1060      9711     1.0   \n",
       "\n",
       "   waterfront  view  ...  grade  sqft_above  sqft_basement  yr_built  \\\n",
       "0           0     0  ...      7        1180              0      1955   \n",
       "1           0     0  ...      6         770              0      1933   \n",
       "2           0     0  ...      8        1680              0      1987   \n",
       "3           0     0  ...      7        1715              0      1995   \n",
       "4           0     0  ...      7        1060              0      1963   \n",
       "\n",
       "   yr_renovated  zipcode      lat     long  sqft_living15  sqft_lot15  \n",
       "0             0    98178  47.5112 -122.257           1340        5650  \n",
       "1             0    98028  47.7379 -122.233           2720        8062  \n",
       "2             0    98074  47.6168 -122.045           1800        7503  \n",
       "3             0    98003  47.3097 -122.327           2238        6819  \n",
       "4             0    98198  47.4095 -122.315           1650        9711  \n",
       "\n",
       "[5 rows x 21 columns]"
      ]
     },
     "execution_count": 65,
     "metadata": {},
     "output_type": "execute_result"
    }
   ],
   "source": [
    "# 정수형으로 처리\n",
    "train['date'] = train['date'].apply(lambda i: i[:6]).astype(int)\n",
    "train.head()"
   ]
  },
  {
   "cell_type": "code",
   "execution_count": 66,
   "id": "ba2bcffa",
   "metadata": {},
   "outputs": [
    {
     "name": "stdout",
     "output_type": "stream",
     "text": [
      "Index(['id', 'date', 'bedrooms', 'bathrooms', 'sqft_living', 'sqft_lot',\n",
      "       'floors', 'waterfront', 'view', 'condition', 'grade', 'sqft_above',\n",
      "       'sqft_basement', 'yr_built', 'yr_renovated', 'zipcode', 'lat', 'long',\n",
      "       'sqft_living15', 'sqft_lot15'],\n",
      "      dtype='object')\n"
     ]
    }
   ],
   "source": [
    "y = train['price']\n",
    "del train['price']\n",
    "\n",
    "print(train.columns)"
   ]
  },
  {
   "cell_type": "code",
   "execution_count": 67,
   "id": "7c06c892",
   "metadata": {},
   "outputs": [
    {
     "name": "stdout",
     "output_type": "stream",
     "text": [
      "Index(['date', 'bedrooms', 'bathrooms', 'sqft_living', 'sqft_lot', 'floors',\n",
      "       'waterfront', 'view', 'condition', 'grade', 'sqft_above',\n",
      "       'sqft_basement', 'yr_built', 'yr_renovated', 'zipcode', 'lat', 'long',\n",
      "       'sqft_living15', 'sqft_lot15'],\n",
      "      dtype='object')\n"
     ]
    }
   ],
   "source": [
    "del train['id']\n",
    "print(train.columns)"
   ]
  },
  {
   "cell_type": "markdown",
   "id": "4b9de0dd",
   "metadata": {},
   "source": [
    "#### test에서도 똑같이"
   ]
  },
  {
   "cell_type": "code",
   "execution_count": 68,
   "id": "57588c40",
   "metadata": {},
   "outputs": [
    {
     "name": "stdout",
     "output_type": "stream",
     "text": [
      "Index(['id', 'bedrooms', 'bathrooms', 'sqft_living', 'sqft_lot', 'floors',\n",
      "       'waterfront', 'view', 'condition', 'grade', 'sqft_above',\n",
      "       'sqft_basement', 'yr_built', 'yr_renovated', 'zipcode', 'lat', 'long',\n",
      "       'sqft_living15', 'sqft_lot15'],\n",
      "      dtype='object')\n"
     ]
    }
   ],
   "source": [
    "test['date'] = test['date'].apply(lambda i: i[:6]).astype(int)\n",
    "del test['id']\n",
    "\n",
    "print(test.columns)"
   ]
  },
  {
   "cell_type": "code",
   "execution_count": 69,
   "id": "9bafd81e",
   "metadata": {},
   "outputs": [
    {
     "data": {
      "text/plain": [
       "0         221900.0\n",
       "1         180000.0\n",
       "2         510000.0\n",
       "3         257500.0\n",
       "4         291850.0\n",
       "           ...    \n",
       "15030     610685.0\n",
       "15031    1007500.0\n",
       "15032     360000.0\n",
       "15033     400000.0\n",
       "15034     325000.0\n",
       "Name: price, Length: 15035, dtype: float64"
      ]
     },
     "execution_count": 69,
     "metadata": {},
     "output_type": "execute_result"
    }
   ],
   "source": [
    "y"
   ]
  },
  {
   "cell_type": "markdown",
   "id": "c0726cc6",
   "metadata": {},
   "source": [
    "#### 가격 데이터의 분포 확인해보기"
   ]
  },
  {
   "cell_type": "code",
   "execution_count": 70,
   "id": "eed244a1",
   "metadata": {},
   "outputs": [
    {
     "data": {
      "image/png": "[encoded data removed]",
      "text/plain": [
       "<Figure size 432x288 with 1 Axes>"
      ]
     },
     "metadata": {
      "needs_background": "light"
     },
     "output_type": "display_data"
    }
   ],
   "source": [
    "sns.kdeplot(y)\n",
    "plt.show()"
   ]
  },
  {
   "cell_type": "code",
   "execution_count": 71,
   "id": "80b98af1",
   "metadata": {},
   "outputs": [
    {
     "data": {
      "text/plain": [
       "0        12.309987\n",
       "1        12.100718\n",
       "2        13.142168\n",
       "3        12.458779\n",
       "4        12.583999\n",
       "           ...    \n",
       "15030    13.322338\n",
       "15031    13.822984\n",
       "15032    12.793862\n",
       "15033    12.899222\n",
       "15034    12.691584\n",
       "Name: price, Length: 15035, dtype: float64"
      ]
     },
     "execution_count": 71,
     "metadata": {},
     "output_type": "execute_result"
    }
   ],
   "source": [
    "y = np.log1p(y)\n",
    "y"
   ]
  },
  {
   "cell_type": "code",
   "execution_count": 72,
   "id": "9bd7c5e7",
   "metadata": {},
   "outputs": [
    {
     "data": {
      "image/png": "[encoded data removed]",
      "text/plain": [
       "<Figure size 432x288 with 1 Axes>"
      ]
     },
     "metadata": {
      "needs_background": "light"
     },
     "output_type": "display_data"
    }
   ],
   "source": [
    "sns.kdeplot(y)\n",
    "plt.show()"
   ]
  },
  {
   "cell_type": "markdown",
   "id": "54e65b01",
   "metadata": {},
   "source": [
    "##### 모두 int, float형으로 모델 학습에 활용하기 문제 없을 것"
   ]
  },
  {
   "cell_type": "code",
   "execution_count": 73,
   "id": "d6d98fbf",
   "metadata": {},
   "outputs": [
    {
     "name": "stdout",
     "output_type": "stream",
     "text": [
      "<class 'pandas.core.frame.DataFrame'>\n",
      "RangeIndex: 15035 entries, 0 to 15034\n",
      "Data columns (total 19 columns):\n",
      " #   Column         Non-Null Count  Dtype  \n",
      "---  ------         --------------  -----  \n",
      " 0   date           15035 non-null  int64  \n",
      " 1   bedrooms       15035 non-null  int64  \n",
      " 2   bathrooms      15035 non-null  float64\n",
      " 3   sqft_living    15035 non-null  int64  \n",
      " 4   sqft_lot       15035 non-null  int64  \n",
      " 5   floors         15035 non-null  float64\n",
      " 6   waterfront     15035 non-null  int64  \n",
      " 7   view           15035 non-null  int64  \n",
      " 8   condition      15035 non-null  int64  \n",
      " 9   grade          15035 non-null  int64  \n",
      " 10  sqft_above     15035 non-null  int64  \n",
      " 11  sqft_basement  15035 non-null  int64  \n",
      " 12  yr_built       15035 non-null  int64  \n",
      " 13  yr_renovated   15035 non-null  int64  \n",
      " 14  zipcode        15035 non-null  int64  \n",
      " 15  lat            15035 non-null  float64\n",
      " 16  long           15035 non-null  float64\n",
      " 17  sqft_living15  15035 non-null  int64  \n",
      " 18  sqft_lot15     15035 non-null  int64  \n",
      "dtypes: float64(4), int64(15)\n",
      "memory usage: 2.2 MB\n"
     ]
    }
   ],
   "source": [
    "train.info()"
   ]
  },
  {
   "cell_type": "code",
   "execution_count": null,
   "id": "c189f9de",
   "metadata": {},
   "outputs": [],
   "source": []
  },
  {
   "cell_type": "markdown",
   "id": "2ab75f3d",
   "metadata": {},
   "source": [
    "## 2-2. 함수로 만들어 쓰기\n",
    "- 여러 가지 반복되는 작업들은 함수로 만들자 ****"
   ]
  },
  {
   "cell_type": "markdown",
   "id": "1a8fd415",
   "metadata": {},
   "source": [
    "#### RMSE 계산"
   ]
  },
  {
   "cell_type": "code",
   "execution_count": 74,
   "id": "fbe32769",
   "metadata": {},
   "outputs": [],
   "source": [
    "from sklearn.model_selection import train_test_split\n",
    "from sklearn.metrics import mean_squared_error"
   ]
  },
  {
   "cell_type": "markdown",
   "id": "e74b7406",
   "metadata": {},
   "source": [
    "y_test, y_pred는 위에서 np.log1p()로 변환된 값이므로 원래 데이터로 되돌리기 위해 np.expm1()을 추가해야 함"
   ]
  },
  {
   "cell_type": "code",
   "execution_count": 75,
   "id": "8c51c5b4",
   "metadata": {},
   "outputs": [],
   "source": [
    "def rmse(y_test, y_pred):\n",
    "    return np.sqrt(mean_squared_error(np.expm1(y_test), np.expm1(y_pred)))"
   ]
  },
  {
   "cell_type": "markdown",
   "id": "256070c0",
   "metadata": {},
   "source": [
    "#### 모델 가져오기"
   ]
  },
  {
   "cell_type": "code",
   "execution_count": 76,
   "id": "ed87be7e",
   "metadata": {},
   "outputs": [],
   "source": [
    "from xgboost import XGBRegressor\n",
    "from lightgbm import LGBMRegressor\n",
    "from sklearn.ensemble import GradientBoostingRegressor, RandomForestRegressor"
   ]
  },
  {
   "cell_type": "markdown",
   "id": "f885b336",
   "metadata": {},
   "source": [
    "모델 인스턴스 생성한 후 models라는 리스트에 넣어주기"
   ]
  },
  {
   "cell_type": "code",
   "execution_count": 77,
   "id": "dccdb735",
   "metadata": {},
   "outputs": [],
   "source": [
    "# random_state는 모델초기화나 데이터셋 구성에 사용되는 랜덤 시드값 \n",
    "# random_state=None    # 이게 초기값. 아무것도 지정하지 않고 None 넘겨주면 모델 내부에서 임의로 선택 \n",
    "random_state=2020     # 고정값 세팅하기\n",
    "\n",
    "gboost = GradientBoostingRegressor(random_state=random_state)\n",
    "xgboost = XGBRegressor(random_state=random_state)\n",
    "lightgbm = LGBMRegressor(random_state=random_state)\n",
    "rdforest = RandomForestRegressor(random_state=random_state)\n",
    "\n",
    "models = [gboost, xgboost, lightgbm, rdforest]"
   ]
  },
  {
   "cell_type": "markdown",
   "id": "0a9c6098",
   "metadata": {},
   "source": [
    "모델 이름은 다음과 같이 클래스의 __name__ 속성에 접근해서 얻을 수 있음"
   ]
  },
  {
   "cell_type": "code",
   "execution_count": 78,
   "id": "4669678b",
   "metadata": {},
   "outputs": [
    {
     "data": {
      "text/plain": [
       "'GradientBoostingRegressor'"
      ]
     },
     "execution_count": 78,
     "metadata": {},
     "output_type": "execute_result"
    }
   ],
   "source": [
    "gboost.__class__.__name__"
   ]
  },
  {
   "cell_type": "markdown",
   "id": "a7de7c98",
   "metadata": {},
   "source": [
    "#### 4가지 모델에 대해 RMSE 값 얻기"
   ]
  },
  {
   "cell_type": "code",
   "execution_count": 79,
   "id": "0082c8fb",
   "metadata": {},
   "outputs": [
    {
     "data": {
      "text/plain": [
       "{'GradientBoostingRegressor': 128360.19649691365,\n",
       " 'XGBRegressor': 110318.66956616656,\n",
       " 'LGBMRegressor': 111920.36735892233,\n",
       " 'RandomForestRegressor': 125487.07102453562}"
      ]
     },
     "execution_count": 79,
     "metadata": {},
     "output_type": "execute_result"
    }
   ],
   "source": [
    "df = {}\n",
    "\n",
    "for model in models:\n",
    "    # 모델 이름 획득\n",
    "    model_name = model.__class__.__name__\n",
    "\n",
    "    # train, test 데이터셋 분리 - 여기에도 random_state를 고정\n",
    "    X_train, X_test, y_train, y_test = train_test_split(train, y, random_state=random_state, test_size=0.2)\n",
    "\n",
    "    # 모델 학습\n",
    "    model.fit(X_train, y_train)\n",
    "    \n",
    "    # 예측\n",
    "    y_pred = model.predict(X_test)\n",
    "\n",
    "    # 예측 결과의 rmse값 저장\n",
    "    df[model_name] = rmse(y_test, y_pred)\n",
    "    \n",
    "    # data frame에 저장\n",
    "    score_df = pd.DataFrame(df, index=['RMSE']).T.sort_values('RMSE', ascending=False) # 내림차순 정렬\n",
    "    \n",
    "df"
   ]
  },
  {
   "cell_type": "markdown",
   "id": "42094eeb",
   "metadata": {},
   "source": [
    "#### 위의 과정을 get_scores(models, train, y) 함수로 만들어보기"
   ]
  },
  {
   "cell_type": "code",
   "execution_count": 80,
   "id": "d4212555",
   "metadata": {},
   "outputs": [
    {
     "data": {
      "text/html": [
       "<div>\n",
       "<style scoped>\n",
       "    .dataframe tbody tr th:only-of-type {\n",
       "        vertical-align: middle;\n",
       "    }\n",
       "\n",
       "    .dataframe tbody tr th {\n",
       "        vertical-align: top;\n",
       "    }\n",
       "\n",
       "    .dataframe thead th {\n",
       "        text-align: right;\n",
       "    }\n",
       "</style>\n",
       "<table border=\"1\" class=\"dataframe\">\n",
       "  <thead>\n",
       "    <tr style=\"text-align: right;\">\n",
       "      <th></th>\n",
       "      <th>RMSE</th>\n",
       "    </tr>\n",
       "  </thead>\n",
       "  <tbody>\n",
       "    <tr>\n",
       "      <th>GradientBoostingRegressor</th>\n",
       "      <td>128360.196497</td>\n",
       "    </tr>\n",
       "    <tr>\n",
       "      <th>RandomForestRegressor</th>\n",
       "      <td>125487.071025</td>\n",
       "    </tr>\n",
       "    <tr>\n",
       "      <th>LGBMRegressor</th>\n",
       "      <td>111920.367359</td>\n",
       "    </tr>\n",
       "    <tr>\n",
       "      <th>XGBRegressor</th>\n",
       "      <td>110318.669566</td>\n",
       "    </tr>\n",
       "  </tbody>\n",
       "</table>\n",
       "</div>"
      ],
      "text/plain": [
       "                                    RMSE\n",
       "GradientBoostingRegressor  128360.196497\n",
       "RandomForestRegressor      125487.071025\n",
       "LGBMRegressor              111920.367359\n",
       "XGBRegressor               110318.669566"
      ]
     },
     "execution_count": 80,
     "metadata": {},
     "output_type": "execute_result"
    }
   ],
   "source": [
    "def get_scores(models, train, y):\n",
    "    \n",
    "    df = {}\n",
    "\n",
    "    for model in models:\n",
    "        # 모델 이름 획득\n",
    "        model_name = model.__class__.__name__\n",
    "\n",
    "        # train, test 데이터셋 분리 - 여기에도 random_state를 고정\n",
    "        X_train, X_test, y_train, y_test = train_test_split(train, y, random_state=random_state, test_size=0.2)\n",
    "\n",
    "        # 모델 학습\n",
    "        model.fit(X_train, y_train)\n",
    "\n",
    "        # 예측\n",
    "        y_pred = model.predict(X_test)\n",
    "\n",
    "        # 예측 결과의 rmse값 저장\n",
    "        df[model_name] = rmse(y_test, y_pred)\n",
    "        \n",
    "        # data frame에 저장\n",
    "        score_df = pd.DataFrame(df, index=['RMSE']).T.sort_values('RMSE', ascending=False) # 내림차순 정렬\n",
    "    \n",
    "    return score_df\n",
    "\n",
    "get_scores(models, train, y)"
   ]
  },
  {
   "cell_type": "code",
   "execution_count": null,
   "id": "2eb9e5aa",
   "metadata": {},
   "outputs": [],
   "source": []
  },
  {
   "cell_type": "markdown",
   "id": "09a163cd",
   "metadata": {},
   "source": [
    "## 2-3. 그리드 탐색\n",
    "RMSE 결과값을 나타내주는 함수가 준비되어 있으니, 다양한 하이퍼파라미터로 실험을 해보자"
   ]
  },
  {
   "cell_type": "code",
   "execution_count": 81,
   "id": "d0dde2f8",
   "metadata": {},
   "outputs": [],
   "source": [
    "from sklearn.model_selection import GridSearchCV"
   ]
  },
  {
   "cell_type": "markdown",
   "id": "4b568349",
   "metadata": {},
   "source": [
    "#### 🧤그리드 탐색\n",
    "- 탐색할 하이퍼 파라미터의 값들을 정해두고, 그 값들로 만들어질 수 있는 모든 조합을 (격자와 같이) 탐색\n",
    "- 사람이 정해둔 값들로 조합 탐색하므로 최적의 조합 놓칠 수 있음 <br/>\n",
    "\n",
    "#### 🧤랜덤 탐색\n",
    "- 사람이 탐색할 하이퍼 파라미터의 공간만 정해두고, 그 안에서 랜덤으로 조합을 선택해 탐색하는 방법\n",
    "- 랜덤으로 탐색하기 때문에 최적의 조합 찾을 수 있지만 가능성 또한 랜덤성에 의존 (보장 x)"
   ]
  },
  {
   "cell_type": "markdown",
   "id": "cf333a95",
   "metadata": {},
   "source": [
    "#### ✔️GridSearchCV\n",
    "- param_grid: 탐색할 파라미터 종류\n",
    "- scoring: 모델의 성능을 평가할 지표\n",
    "- cv: cross validation을 수행하기 위해 train 데이터셋을 나누는 조각의 수\n",
    "- verbose: 그리드 탐색을 진행하며 진행 과정을 출력해서 보여줄 메시지 양\n",
    "- n_jobs: 그리드 탐색 진행하며 사용할 CPU 수"
   ]
  },
  {
   "cell_type": "markdown",
   "id": "98925fcc",
   "metadata": {},
   "source": [
    "#### 하이퍼 파라미터"
   ]
  },
  {
   "cell_type": "code",
   "execution_count": 82,
   "id": "8aa2628e",
   "metadata": {},
   "outputs": [],
   "source": [
    "param_grid = {\n",
    "    'n_estimators': [50, 100],\n",
    "    'max_depth': [1, 10],\n",
    "}"
   ]
  },
  {
   "cell_type": "markdown",
   "id": "baf02b93",
   "metadata": {},
   "source": [
    "#### 모델 (LightGBM)"
   ]
  },
  {
   "cell_type": "code",
   "execution_count": 83,
   "id": "f60c0ee0",
   "metadata": {},
   "outputs": [],
   "source": [
    "model = LGBMRegressor(random_state=random_state)"
   ]
  },
  {
   "cell_type": "markdown",
   "id": "05f16263",
   "metadata": {},
   "source": [
    "#### 다양한 인자 넣어 GridSearchCV 수행하기\n",
    "- param_grid 내의 모든 하이퍼 파라미터의 조합에 대해 실험 완료"
   ]
  },
  {
   "cell_type": "code",
   "execution_count": 84,
   "id": "9e034233",
   "metadata": {},
   "outputs": [
    {
     "name": "stdout",
     "output_type": "stream",
     "text": [
      "Fitting 5 folds for each of 4 candidates, totalling 20 fits\n"
     ]
    },
    {
     "data": {
      "text/plain": [
       "GridSearchCV(cv=5, estimator=LGBMRegressor(random_state=2020), n_jobs=5,\n",
       "             param_grid={'max_depth': [1, 10], 'n_estimators': [50, 100]},\n",
       "             scoring='neg_mean_squared_error', verbose=1)"
      ]
     },
     "execution_count": 84,
     "metadata": {},
     "output_type": "execute_result"
    }
   ],
   "source": [
    "# grid_model 초기화\n",
    "grid_model = GridSearchCV(model,\n",
    "                         param_grid=param_grid,\n",
    "                         scoring='neg_mean_squared_error',\n",
    "                         cv=5,\n",
    "                         verbose=1,\n",
    "                         n_jobs=5)\n",
    "\n",
    "# train과 y로 간단한 학습\n",
    "grid_model.fit(train, y)"
   ]
  },
  {
   "cell_type": "markdown",
   "id": "dabddcca",
   "metadata": {},
   "source": [
    "##### 실험에 대한 결과는 grid_odel.cv_results_ 안에 저장됨"
   ]
  },
  {
   "cell_type": "code",
   "execution_count": 85,
   "id": "14f45e18",
   "metadata": {},
   "outputs": [
    {
     "data": {
      "text/plain": [
       "{'mean_fit_time': array([0.18177342, 0.17733426, 0.3156971 , 0.47050962]),\n",
       " 'std_fit_time': array([0.06609748, 0.00728564, 0.0163512 , 0.07503963]),\n",
       " 'mean_score_time': array([0.00695162, 0.01601491, 0.02206554, 0.03191514]),\n",
       " 'std_score_time': array([0.00026654, 0.0103864 , 0.01004504, 0.0102496 ]),\n",
       " 'param_max_depth': masked_array(data=[1, 1, 10, 10],\n",
       "              mask=[False, False, False, False],\n",
       "        fill_value='?',\n",
       "             dtype=object),\n",
       " 'param_n_estimators': masked_array(data=[50, 100, 50, 100],\n",
       "              mask=[False, False, False, False],\n",
       "        fill_value='?',\n",
       "             dtype=object),\n",
       " 'params': [{'max_depth': 1, 'n_estimators': 50},\n",
       "  {'max_depth': 1, 'n_estimators': 100},\n",
       "  {'max_depth': 10, 'n_estimators': 50},\n",
       "  {'max_depth': 10, 'n_estimators': 100}],\n",
       " 'split0_test_score': array([-0.0756974 , -0.05555652, -0.02885847, -0.02665428]),\n",
       " 'split1_test_score': array([-0.07666447, -0.057876  , -0.03041465, -0.02795896]),\n",
       " 'split2_test_score': array([-0.07354904, -0.05546079, -0.03068533, -0.02834112]),\n",
       " 'split3_test_score': array([-0.07510863, -0.05582109, -0.02987609, -0.02774809]),\n",
       " 'split4_test_score': array([-0.06595281, -0.05038773, -0.02605217, -0.02443328]),\n",
       " 'mean_test_score': array([-0.07339447, -0.05502043, -0.02917734, -0.02702714]),\n",
       " 'std_test_score': array([0.00385583, 0.00247946, 0.00168295, 0.00141292]),\n",
       " 'rank_test_score': array([4, 3, 2, 1], dtype=int32)}"
      ]
     },
     "execution_count": 85,
     "metadata": {},
     "output_type": "execute_result"
    }
   ],
   "source": [
    "grid_model.cv_results_"
   ]
  },
  {
   "cell_type": "code",
   "execution_count": 86,
   "id": "fc9591cb",
   "metadata": {},
   "outputs": [
    {
     "data": {
      "text/plain": [
       "[{'max_depth': 1, 'n_estimators': 50},\n",
       " {'max_depth': 1, 'n_estimators': 100},\n",
       " {'max_depth': 10, 'n_estimators': 50},\n",
       " {'max_depth': 10, 'n_estimators': 100}]"
      ]
     },
     "execution_count": 86,
     "metadata": {},
     "output_type": "execute_result"
    }
   ],
   "source": [
    "params = grid_model.cv_results_['params']\n",
    "params"
   ]
  },
  {
   "cell_type": "code",
   "execution_count": 87,
   "id": "4e18f78c",
   "metadata": {},
   "outputs": [
    {
     "data": {
      "text/plain": [
       "array([-0.07339447, -0.05502043, -0.02917734, -0.02702714])"
      ]
     },
     "execution_count": 87,
     "metadata": {},
     "output_type": "execute_result"
    }
   ],
   "source": [
    "score = grid_model.cv_results_['mean_test_score']\n",
    "score"
   ]
  },
  {
   "cell_type": "code",
   "execution_count": 88,
   "id": "59613f67",
   "metadata": {},
   "outputs": [
    {
     "data": {
      "text/html": [
       "<div>\n",
       "<style scoped>\n",
       "    .dataframe tbody tr th:only-of-type {\n",
       "        vertical-align: middle;\n",
       "    }\n",
       "\n",
       "    .dataframe tbody tr th {\n",
       "        vertical-align: top;\n",
       "    }\n",
       "\n",
       "    .dataframe thead th {\n",
       "        text-align: right;\n",
       "    }\n",
       "</style>\n",
       "<table border=\"1\" class=\"dataframe\">\n",
       "  <thead>\n",
       "    <tr style=\"text-align: right;\">\n",
       "      <th></th>\n",
       "      <th>max_depth</th>\n",
       "      <th>n_estimators</th>\n",
       "      <th>score</th>\n",
       "    </tr>\n",
       "  </thead>\n",
       "  <tbody>\n",
       "    <tr>\n",
       "      <th>0</th>\n",
       "      <td>1</td>\n",
       "      <td>50</td>\n",
       "      <td>-0.073394</td>\n",
       "    </tr>\n",
       "    <tr>\n",
       "      <th>1</th>\n",
       "      <td>1</td>\n",
       "      <td>100</td>\n",
       "      <td>-0.055020</td>\n",
       "    </tr>\n",
       "    <tr>\n",
       "      <th>2</th>\n",
       "      <td>10</td>\n",
       "      <td>50</td>\n",
       "      <td>-0.029177</td>\n",
       "    </tr>\n",
       "    <tr>\n",
       "      <th>3</th>\n",
       "      <td>10</td>\n",
       "      <td>100</td>\n",
       "      <td>-0.027027</td>\n",
       "    </tr>\n",
       "  </tbody>\n",
       "</table>\n",
       "</div>"
      ],
      "text/plain": [
       "   max_depth  n_estimators     score\n",
       "0          1            50 -0.073394\n",
       "1          1           100 -0.055020\n",
       "2         10            50 -0.029177\n",
       "3         10           100 -0.027027"
      ]
     },
     "execution_count": 88,
     "metadata": {},
     "output_type": "execute_result"
    }
   ],
   "source": [
    "results = pd.DataFrame(params)\n",
    "results['score'] = score\n",
    "\n",
    "results"
   ]
  },
  {
   "cell_type": "markdown",
   "id": "7679319a",
   "metadata": {},
   "source": [
    "#### ✔️점수가 음수인 이유는?\n",
    "위에서 score에 neg_mean_squared_error, 즉 MSE에 음수를 취한 값을 넣었기 때문이다."
   ]
  },
  {
   "cell_type": "code",
   "execution_count": 89,
   "id": "d4c5ce4d",
   "metadata": {},
   "outputs": [
    {
     "data": {
      "text/html": [
       "<div>\n",
       "<style scoped>\n",
       "    .dataframe tbody tr th:only-of-type {\n",
       "        vertical-align: middle;\n",
       "    }\n",
       "\n",
       "    .dataframe tbody tr th {\n",
       "        vertical-align: top;\n",
       "    }\n",
       "\n",
       "    .dataframe thead th {\n",
       "        text-align: right;\n",
       "    }\n",
       "</style>\n",
       "<table border=\"1\" class=\"dataframe\">\n",
       "  <thead>\n",
       "    <tr style=\"text-align: right;\">\n",
       "      <th></th>\n",
       "      <th>max_depth</th>\n",
       "      <th>n_estimators</th>\n",
       "      <th>score</th>\n",
       "      <th>RMSE</th>\n",
       "    </tr>\n",
       "  </thead>\n",
       "  <tbody>\n",
       "    <tr>\n",
       "      <th>0</th>\n",
       "      <td>1</td>\n",
       "      <td>50</td>\n",
       "      <td>-0.073394</td>\n",
       "      <td>0.270914</td>\n",
       "    </tr>\n",
       "    <tr>\n",
       "      <th>1</th>\n",
       "      <td>1</td>\n",
       "      <td>100</td>\n",
       "      <td>-0.055020</td>\n",
       "      <td>0.234564</td>\n",
       "    </tr>\n",
       "    <tr>\n",
       "      <th>2</th>\n",
       "      <td>10</td>\n",
       "      <td>50</td>\n",
       "      <td>-0.029177</td>\n",
       "      <td>0.170814</td>\n",
       "    </tr>\n",
       "    <tr>\n",
       "      <th>3</th>\n",
       "      <td>10</td>\n",
       "      <td>100</td>\n",
       "      <td>-0.027027</td>\n",
       "      <td>0.164399</td>\n",
       "    </tr>\n",
       "  </tbody>\n",
       "</table>\n",
       "</div>"
      ],
      "text/plain": [
       "   max_depth  n_estimators     score      RMSE\n",
       "0          1            50 -0.073394  0.270914\n",
       "1          1           100 -0.055020  0.234564\n",
       "2         10            50 -0.029177  0.170814\n",
       "3         10           100 -0.027027  0.164399"
      ]
     },
     "execution_count": 89,
     "metadata": {},
     "output_type": "execute_result"
    }
   ],
   "source": [
    "results['RMSE'] = np.sqrt(-1 * results['score']) # 음수였기 때문에 마이너스 붙이기\n",
    "results"
   ]
  },
  {
   "cell_type": "markdown",
   "id": "3412dce5",
   "metadata": {},
   "source": [
    "✔️우리는 위에서 price에 log를 취해주어 다시 expm1를 이용해 원래대로 복원한 뒤 RMSE를 계산하였다. <br/>\n",
    "✔️하지만 그리드 탐색을 하면서는 exmp1로 변환하는 과정이 없었기 때문에 log가 취해져있는 price데이터의 손실합수값을 계산하게 된 것 ! <br/>\n",
    "✔️즉, 엄밀히 말하면 그리드 탐색의 RMSE는 RMSLE(Root Mean Squared Log Error)"
   ]
  },
  {
   "cell_type": "code",
   "execution_count": 90,
   "id": "e16386ca",
   "metadata": {},
   "outputs": [
    {
     "data": {
      "text/html": [
       "<div>\n",
       "<style scoped>\n",
       "    .dataframe tbody tr th:only-of-type {\n",
       "        vertical-align: middle;\n",
       "    }\n",
       "\n",
       "    .dataframe tbody tr th {\n",
       "        vertical-align: top;\n",
       "    }\n",
       "\n",
       "    .dataframe thead th {\n",
       "        text-align: right;\n",
       "    }\n",
       "</style>\n",
       "<table border=\"1\" class=\"dataframe\">\n",
       "  <thead>\n",
       "    <tr style=\"text-align: right;\">\n",
       "      <th></th>\n",
       "      <th>max_depth</th>\n",
       "      <th>n_estimators</th>\n",
       "      <th>score</th>\n",
       "      <th>RMSLE</th>\n",
       "    </tr>\n",
       "  </thead>\n",
       "  <tbody>\n",
       "    <tr>\n",
       "      <th>0</th>\n",
       "      <td>1</td>\n",
       "      <td>50</td>\n",
       "      <td>-0.073394</td>\n",
       "      <td>0.270914</td>\n",
       "    </tr>\n",
       "    <tr>\n",
       "      <th>1</th>\n",
       "      <td>1</td>\n",
       "      <td>100</td>\n",
       "      <td>-0.055020</td>\n",
       "      <td>0.234564</td>\n",
       "    </tr>\n",
       "    <tr>\n",
       "      <th>2</th>\n",
       "      <td>10</td>\n",
       "      <td>50</td>\n",
       "      <td>-0.029177</td>\n",
       "      <td>0.170814</td>\n",
       "    </tr>\n",
       "    <tr>\n",
       "      <th>3</th>\n",
       "      <td>10</td>\n",
       "      <td>100</td>\n",
       "      <td>-0.027027</td>\n",
       "      <td>0.164399</td>\n",
       "    </tr>\n",
       "  </tbody>\n",
       "</table>\n",
       "</div>"
      ],
      "text/plain": [
       "   max_depth  n_estimators     score     RMSLE\n",
       "0          1            50 -0.073394  0.270914\n",
       "1          1           100 -0.055020  0.234564\n",
       "2         10            50 -0.029177  0.170814\n",
       "3         10           100 -0.027027  0.164399"
      ]
     },
     "execution_count": 90,
     "metadata": {},
     "output_type": "execute_result"
    }
   ],
   "source": [
    "# 컬럼 이름 RMSLE로 변환해주기\n",
    "results = results.rename(columns={'RMSE': 'RMSLE'})\n",
    "results"
   ]
  },
  {
   "cell_type": "code",
   "execution_count": 91,
   "id": "5237f868",
   "metadata": {},
   "outputs": [
    {
     "data": {
      "text/html": [
       "<div>\n",
       "<style scoped>\n",
       "    .dataframe tbody tr th:only-of-type {\n",
       "        vertical-align: middle;\n",
       "    }\n",
       "\n",
       "    .dataframe tbody tr th {\n",
       "        vertical-align: top;\n",
       "    }\n",
       "\n",
       "    .dataframe thead th {\n",
       "        text-align: right;\n",
       "    }\n",
       "</style>\n",
       "<table border=\"1\" class=\"dataframe\">\n",
       "  <thead>\n",
       "    <tr style=\"text-align: right;\">\n",
       "      <th></th>\n",
       "      <th>max_depth</th>\n",
       "      <th>n_estimators</th>\n",
       "      <th>score</th>\n",
       "      <th>RMSLE</th>\n",
       "    </tr>\n",
       "  </thead>\n",
       "  <tbody>\n",
       "    <tr>\n",
       "      <th>3</th>\n",
       "      <td>10</td>\n",
       "      <td>100</td>\n",
       "      <td>-0.027027</td>\n",
       "      <td>0.164399</td>\n",
       "    </tr>\n",
       "    <tr>\n",
       "      <th>2</th>\n",
       "      <td>10</td>\n",
       "      <td>50</td>\n",
       "      <td>-0.029177</td>\n",
       "      <td>0.170814</td>\n",
       "    </tr>\n",
       "    <tr>\n",
       "      <th>1</th>\n",
       "      <td>1</td>\n",
       "      <td>100</td>\n",
       "      <td>-0.055020</td>\n",
       "      <td>0.234564</td>\n",
       "    </tr>\n",
       "    <tr>\n",
       "      <th>0</th>\n",
       "      <td>1</td>\n",
       "      <td>50</td>\n",
       "      <td>-0.073394</td>\n",
       "      <td>0.270914</td>\n",
       "    </tr>\n",
       "  </tbody>\n",
       "</table>\n",
       "</div>"
      ],
      "text/plain": [
       "   max_depth  n_estimators     score     RMSLE\n",
       "3         10           100 -0.027027  0.164399\n",
       "2         10            50 -0.029177  0.170814\n",
       "1          1           100 -0.055020  0.234564\n",
       "0          1            50 -0.073394  0.270914"
      ]
     },
     "execution_count": 91,
     "metadata": {},
     "output_type": "execute_result"
    }
   ],
   "source": [
    "# RMSLE 낮은 순대로 (오름차순) 정렬\n",
    "results = results.sort_values('RMSLE')\n",
    "results"
   ]
  },
  {
   "cell_type": "code",
   "execution_count": 94,
   "id": "a87e0fbe",
   "metadata": {},
   "outputs": [],
   "source": [
    "# 모든 과정 한 함수에 담기\n",
    "\n",
    "def my_GridSearch(model, train, y, param_grid, verbose=2, n_jobs=5):\n",
    "    \n",
    "    # GridSearchCV 모델로 초기화\n",
    "    grid_model = GridSearchCV(model,\n",
    "                         param_grid=param_grid,\n",
    "                         scoring='neg_mean_squared_error',\n",
    "                         cv=5,\n",
    "                         verbose=verbose,\n",
    "                         n_jobs=n_jobs)\n",
    "    # 모델 fitting\n",
    "    grid_model.fit(train, y)\n",
    "    \n",
    "    # 결과값 저장\n",
    "    params = grid_model.cv_results_['params']\n",
    "    score = grid_model.cv_results_['mean_test_score']\n",
    "\n",
    "    # 데이터 프레임 생성\n",
    "    results = pd.DataFrame(params)\n",
    "    results['score'] = score\n",
    "    \n",
    "    # RMSLE 값 계산 후 정렬\n",
    "    results['RMSLE'] = np.sqrt(-1 * results['score'])\n",
    "    results = results.sort_values('RMSLE')\n",
    "\n",
    "    return results"
   ]
  },
  {
   "cell_type": "code",
   "execution_count": 95,
   "id": "8315d207",
   "metadata": {},
   "outputs": [
    {
     "name": "stdout",
     "output_type": "stream",
     "text": [
      "Fitting 5 folds for each of 4 candidates, totalling 20 fits\n"
     ]
    },
    {
     "data": {
      "text/html": [
       "<div>\n",
       "<style scoped>\n",
       "    .dataframe tbody tr th:only-of-type {\n",
       "        vertical-align: middle;\n",
       "    }\n",
       "\n",
       "    .dataframe tbody tr th {\n",
       "        vertical-align: top;\n",
       "    }\n",
       "\n",
       "    .dataframe thead th {\n",
       "        text-align: right;\n",
       "    }\n",
       "</style>\n",
       "<table border=\"1\" class=\"dataframe\">\n",
       "  <thead>\n",
       "    <tr style=\"text-align: right;\">\n",
       "      <th></th>\n",
       "      <th>max_depth</th>\n",
       "      <th>n_estimators</th>\n",
       "      <th>score</th>\n",
       "      <th>RMSLE</th>\n",
       "    </tr>\n",
       "  </thead>\n",
       "  <tbody>\n",
       "    <tr>\n",
       "      <th>3</th>\n",
       "      <td>10</td>\n",
       "      <td>100</td>\n",
       "      <td>-0.027027</td>\n",
       "      <td>0.164399</td>\n",
       "    </tr>\n",
       "    <tr>\n",
       "      <th>2</th>\n",
       "      <td>10</td>\n",
       "      <td>50</td>\n",
       "      <td>-0.029177</td>\n",
       "      <td>0.170814</td>\n",
       "    </tr>\n",
       "    <tr>\n",
       "      <th>1</th>\n",
       "      <td>1</td>\n",
       "      <td>100</td>\n",
       "      <td>-0.055020</td>\n",
       "      <td>0.234564</td>\n",
       "    </tr>\n",
       "    <tr>\n",
       "      <th>0</th>\n",
       "      <td>1</td>\n",
       "      <td>50</td>\n",
       "      <td>-0.073394</td>\n",
       "      <td>0.270914</td>\n",
       "    </tr>\n",
       "  </tbody>\n",
       "</table>\n",
       "</div>"
      ],
      "text/plain": [
       "   max_depth  n_estimators     score     RMSLE\n",
       "3         10           100 -0.027027  0.164399\n",
       "2         10            50 -0.029177  0.170814\n",
       "1          1           100 -0.055020  0.234564\n",
       "0          1            50 -0.073394  0.270914"
      ]
     },
     "execution_count": 95,
     "metadata": {},
     "output_type": "execute_result"
    }
   ],
   "source": [
    "param_grid = {\n",
    "    'n_estimators': [50, 100],\n",
    "    'max_depth': [1, 10],\n",
    "}\n",
    "\n",
    "model = LGBMRegressor(random_state=random_state)\n",
    "my_GridSearch(model, train, y, param_grid, verbose=2, n_jobs=5)"
   ]
  },
  {
   "cell_type": "markdown",
   "id": "c48592a9",
   "metadata": {},
   "source": [
    "제일 좋은 조합은 max_depth=10, n_estimators=100이구나!"
   ]
  },
  {
   "cell_type": "code",
   "execution_count": 96,
   "id": "0ef43a63",
   "metadata": {},
   "outputs": [
    {
     "data": {
      "text/plain": [
       "array([13.13498986, 13.06690353, 14.11202067, ..., 12.98496696,\n",
       "       12.70900921, 12.95815607])"
      ]
     },
     "execution_count": 96,
     "metadata": {},
     "output_type": "execute_result"
    }
   ],
   "source": [
    "# 해당 파라미터로 구성된 모델 준비하고, 학습 후 예측 결과 생성하기\n",
    "\n",
    "model = LGBMRegressor(max_depth=10,\n",
    "                     n_estimators=100,\n",
    "                     random_stat=random_state)\n",
    "model.fit(train, y)\n",
    "\n",
    "prediction = model.predict(test)\n",
    "prediction"
   ]
  },
  {
   "cell_type": "code",
   "execution_count": 97,
   "id": "28b334dd",
   "metadata": {},
   "outputs": [
    {
     "data": {
      "text/plain": [
       "array([ 506352.26558681,  473024.00582453, 1345155.15609376, ...,\n",
       "        435811.3151346 ,  330712.99128413,  424282.04332686])"
      ]
     },
     "execution_count": 97,
     "metadata": {},
     "output_type": "execute_result"
    }
   ],
   "source": [
    "# 예측 결과에 np.expm1() 씌우기\n",
    "prediction = np.expm1(prediction)\n",
    "prediction"
   ]
  },
  {
   "cell_type": "markdown",
   "id": "1064304c",
   "metadata": {},
   "source": [
    "submission 파일 가져와보기"
   ]
  },
  {
   "cell_type": "code",
   "execution_count": 98,
   "id": "55d9471b",
   "metadata": {},
   "outputs": [
    {
     "data": {
      "text/html": [
       "<div>\n",
       "<style scoped>\n",
       "    .dataframe tbody tr th:only-of-type {\n",
       "        vertical-align: middle;\n",
       "    }\n",
       "\n",
       "    .dataframe tbody tr th {\n",
       "        vertical-align: top;\n",
       "    }\n",
       "\n",
       "    .dataframe thead th {\n",
       "        text-align: right;\n",
       "    }\n",
       "</style>\n",
       "<table border=\"1\" class=\"dataframe\">\n",
       "  <thead>\n",
       "    <tr style=\"text-align: right;\">\n",
       "      <th></th>\n",
       "      <th>id</th>\n",
       "      <th>price</th>\n",
       "    </tr>\n",
       "  </thead>\n",
       "  <tbody>\n",
       "    <tr>\n",
       "      <th>0</th>\n",
       "      <td>15035</td>\n",
       "      <td>100000</td>\n",
       "    </tr>\n",
       "    <tr>\n",
       "      <th>1</th>\n",
       "      <td>15036</td>\n",
       "      <td>100000</td>\n",
       "    </tr>\n",
       "    <tr>\n",
       "      <th>2</th>\n",
       "      <td>15037</td>\n",
       "      <td>100000</td>\n",
       "    </tr>\n",
       "    <tr>\n",
       "      <th>3</th>\n",
       "      <td>15038</td>\n",
       "      <td>100000</td>\n",
       "    </tr>\n",
       "    <tr>\n",
       "      <th>4</th>\n",
       "      <td>15039</td>\n",
       "      <td>100000</td>\n",
       "    </tr>\n",
       "  </tbody>\n",
       "</table>\n",
       "</div>"
      ],
      "text/plain": [
       "      id   price\n",
       "0  15035  100000\n",
       "1  15036  100000\n",
       "2  15037  100000\n",
       "3  15038  100000\n",
       "4  15039  100000"
      ]
     },
     "execution_count": 98,
     "metadata": {},
     "output_type": "execute_result"
    }
   ],
   "source": [
    "data_dir = os.getenv('HOME')+'/aiffel/kaggle_kakr_housing/data'\n",
    "\n",
    "submission_path = join(data_dir, 'sample_submission.csv')\n",
    "submission = pd.read_csv(submission_path)\n",
    "submission.head()"
   ]
  },
  {
   "cell_type": "code",
   "execution_count": 99,
   "id": "cdc28f6e",
   "metadata": {},
   "outputs": [
    {
     "data": {
      "text/html": [
       "<div>\n",
       "<style scoped>\n",
       "    .dataframe tbody tr th:only-of-type {\n",
       "        vertical-align: middle;\n",
       "    }\n",
       "\n",
       "    .dataframe tbody tr th {\n",
       "        vertical-align: top;\n",
       "    }\n",
       "\n",
       "    .dataframe thead th {\n",
       "        text-align: right;\n",
       "    }\n",
       "</style>\n",
       "<table border=\"1\" class=\"dataframe\">\n",
       "  <thead>\n",
       "    <tr style=\"text-align: right;\">\n",
       "      <th></th>\n",
       "      <th>id</th>\n",
       "      <th>price</th>\n",
       "    </tr>\n",
       "  </thead>\n",
       "  <tbody>\n",
       "    <tr>\n",
       "      <th>0</th>\n",
       "      <td>15035</td>\n",
       "      <td>5.063523e+05</td>\n",
       "    </tr>\n",
       "    <tr>\n",
       "      <th>1</th>\n",
       "      <td>15036</td>\n",
       "      <td>4.730240e+05</td>\n",
       "    </tr>\n",
       "    <tr>\n",
       "      <th>2</th>\n",
       "      <td>15037</td>\n",
       "      <td>1.345155e+06</td>\n",
       "    </tr>\n",
       "    <tr>\n",
       "      <th>3</th>\n",
       "      <td>15038</td>\n",
       "      <td>2.857408e+05</td>\n",
       "    </tr>\n",
       "    <tr>\n",
       "      <th>4</th>\n",
       "      <td>15039</td>\n",
       "      <td>3.263876e+05</td>\n",
       "    </tr>\n",
       "  </tbody>\n",
       "</table>\n",
       "</div>"
      ],
      "text/plain": [
       "      id         price\n",
       "0  15035  5.063523e+05\n",
       "1  15036  4.730240e+05\n",
       "2  15037  1.345155e+06\n",
       "3  15038  2.857408e+05\n",
       "4  15039  3.263876e+05"
      ]
     },
     "execution_count": 99,
     "metadata": {},
     "output_type": "execute_result"
    }
   ],
   "source": [
    "submission['price'] = prediction\n",
    "submission.head()"
   ]
  },
  {
   "cell_type": "code",
   "execution_count": 100,
   "id": "812558c6",
   "metadata": {},
   "outputs": [
    {
     "name": "stdout",
     "output_type": "stream",
     "text": [
      "/aiffel/aiffel/kaggle_kakr_housing/data/submission_lgbm_RMSLE_0.164399.csv\n",
      "[CV] END .......................max_depth=1, n_estimators=50; total time=   0.1s\n",
      "[CV] END ......................max_depth=1, n_estimators=100; total time=   0.2s\n",
      "[CV] END ......................max_depth=10, n_estimators=50; total time=   0.3s\n",
      "[CV] END ......................max_depth=10, n_estimators=50; total time=   0.4s\n",
      "[CV] END .......................max_depth=1, n_estimators=50; total time=   0.1s\n",
      "[CV] END ......................max_depth=1, n_estimators=100; total time=   0.2s\n",
      "[CV] END ......................max_depth=10, n_estimators=50; total time=   0.5s\n",
      "[CV] END ......................max_depth=10, n_estimators=50; total time=   0.5s\n",
      "[CV] END .......................max_depth=1, n_estimators=50; total time=   0.2s\n",
      "[CV] END ......................max_depth=1, n_estimators=100; total time=   0.2s\n",
      "[CV] END ......................max_depth=10, n_estimators=50; total time=   0.4s\n",
      "[CV] END .....................max_depth=10, n_estimators=100; total time=   0.6s\n",
      "[CV] END .......................max_depth=1, n_estimators=50; total time=   0.1s\n",
      "[CV] END ......................max_depth=1, n_estimators=100; total time=   0.4s\n",
      "[CV] END .....................max_depth=10, n_estimators=100; total time=   0.5s\n",
      "[CV] END .....................max_depth=10, n_estimators=100; total time=   0.4s\n",
      "[CV] END .......................max_depth=1, n_estimators=50; total time=   0.3s\n",
      "[CV] END ......................max_depth=1, n_estimators=100; total time=   0.4s\n",
      "[CV] END .....................max_depth=10, n_estimators=100; total time=   0.7s\n",
      "[CV] END .....................max_depth=10, n_estimators=100; total time=   0.3s\n"
     ]
    }
   ],
   "source": [
    "submission_csv_path = '{}/submission_{}_RMSLE_{}.csv'.format(data_dir, 'lgbm', '0.164399')\n",
    "submission.to_csv(submission_csv_path, index=False)\n",
    "print(submission_csv_path)"
   ]
  },
  {
   "cell_type": "code",
   "execution_count": 102,
   "id": "a5682fc2",
   "metadata": {},
   "outputs": [],
   "source": [
    "# 위 과정을 하나의 함수로 만들기\n",
    "\n",
    "def save_submission(model, train, y, test, model_name, rmsle):\n",
    "    model.fit(train, y)\n",
    "    prediction = model.predict(test)\n",
    "    prediction = np.expm1(prediction)\n",
    "    \n",
    "    data_dir = os.getenv('HOME')+'/aiffel/kaggle_kakr_housing/data'\n",
    "    submission_path = join(data_dir, 'sample_submission.csv')\n",
    "    submission = pd.read_csv(submission_path)\n",
    "    submission['price'] = prediction\n",
    "    submission_csv_path = '{}/submission_{}_RMSLE_{}.csv'.format(data_dir, model_name, rmsle)\n",
    "    submission.to_csv(submission_csv_path, index=False)\n",
    "    print('{} saved!'.format(submission_csv_path))"
   ]
  },
  {
   "cell_type": "code",
   "execution_count": 103,
   "id": "0e524fc7",
   "metadata": {},
   "outputs": [
    {
     "name": "stdout",
     "output_type": "stream",
     "text": [
      "[LightGBM] [Warning] Unknown parameter: random_stat\n",
      "/aiffel/aiffel/kaggle_kakr_housing/data/submission_lgbm_RMSLE_0.0168.csv saved!\n"
     ]
    }
   ],
   "source": [
    "save_submission(model, train, y, test, 'lgbm', rmsle='0.0168')"
   ]
  },
  {
   "attachments": {
    "image-2.png": {
     "image/png": "[encoded data removed]"
    }
   },
   "cell_type": "markdown",
   "id": "6a13bb7f",
   "metadata": {},
   "source": [
    "![image-2.png](attachment:image-2.png)"
   ]
  },
  {
   "cell_type": "code",
   "execution_count": null,
   "id": "6ac74791",
   "metadata": {},
   "outputs": [],
   "source": []
  },
  {
   "cell_type": "code",
   "execution_count": null,
   "id": "ea688140",
   "metadata": {},
   "outputs": [],
   "source": []
  },
  {
   "cell_type": "code",
   "execution_count": null,
   "id": "53611bbc",
   "metadata": {},
   "outputs": [],
   "source": []
  }
 ],
 "metadata": {
  "kernelspec": {
   "display_name": "Python 3 (ipykernel)",
   "language": "python",
   "name": "python3"
  },
  "language_info": {
   "codemirror_mode": {
    "name": "ipython",
    "version": 3
   },
   "file_extension": ".py",
   "mimetype": "text/x-python",
   "name": "python",
   "nbconvert_exporter": "python",
   "pygments_lexer": "ipython3",
   "version": "3.9.7"
  }
 },
 "nbformat": 4,
 "nbformat_minor": 5
}
