{
 "cells": [
  {
   "cell_type": "markdown",
   "id": "fe78887b",
   "metadata": {},
   "source": [
    "# [E-06] 네이버 영화리뷰 감성분석 도전하기 🌱\n",
    "\n",
    "활용할 데이터셋: https://github.com/e9t/nsmc"
   ]
  },
  {
   "cell_type": "code",
   "execution_count": 1,
   "id": "ff016737",
   "metadata": {},
   "outputs": [],
   "source": [
    "# $ ln -s ~/data/*.txt ~/aiffel/sentiment_classification/data"
   ]
  },
  {
   "cell_type": "markdown",
   "id": "196712a6",
   "metadata": {},
   "source": [
    "## 1. 데이터 준비와 확인"
   ]
  },
  {
   "cell_type": "code",
   "execution_count": 2,
   "id": "e1cf3df1",
   "metadata": {},
   "outputs": [
    {
     "data": {
      "text/html": [
       "<div>\n",
       "<style scoped>\n",
       "    .dataframe tbody tr th:only-of-type {\n",
       "        vertical-align: middle;\n",
       "    }\n",
       "\n",
       "    .dataframe tbody tr th {\n",
       "        vertical-align: top;\n",
       "    }\n",
       "\n",
       "    .dataframe thead th {\n",
       "        text-align: right;\n",
       "    }\n",
       "</style>\n",
       "<table border=\"1\" class=\"dataframe\">\n",
       "  <thead>\n",
       "    <tr style=\"text-align: right;\">\n",
       "      <th></th>\n",
       "      <th>id</th>\n",
       "      <th>document</th>\n",
       "      <th>label</th>\n",
       "    </tr>\n",
       "  </thead>\n",
       "  <tbody>\n",
       "    <tr>\n",
       "      <th>0</th>\n",
       "      <td>9976970</td>\n",
       "      <td>아 더빙.. 진짜 짜증나네요 목소리</td>\n",
       "      <td>0</td>\n",
       "    </tr>\n",
       "    <tr>\n",
       "      <th>1</th>\n",
       "      <td>3819312</td>\n",
       "      <td>흠...포스터보고 초딩영화줄....오버연기조차 가볍지 않구나</td>\n",
       "      <td>1</td>\n",
       "    </tr>\n",
       "    <tr>\n",
       "      <th>2</th>\n",
       "      <td>10265843</td>\n",
       "      <td>너무재밓었다그래서보는것을추천한다</td>\n",
       "      <td>0</td>\n",
       "    </tr>\n",
       "    <tr>\n",
       "      <th>3</th>\n",
       "      <td>9045019</td>\n",
       "      <td>교도소 이야기구먼 ..솔직히 재미는 없다..평점 조정</td>\n",
       "      <td>0</td>\n",
       "    </tr>\n",
       "    <tr>\n",
       "      <th>4</th>\n",
       "      <td>6483659</td>\n",
       "      <td>사이몬페그의 익살스런 연기가 돋보였던 영화!스파이더맨에서 늙어보이기만 했던 커스틴 ...</td>\n",
       "      <td>1</td>\n",
       "    </tr>\n",
       "  </tbody>\n",
       "</table>\n",
       "</div>"
      ],
      "text/plain": [
       "         id                                           document  label\n",
       "0   9976970                                아 더빙.. 진짜 짜증나네요 목소리      0\n",
       "1   3819312                  흠...포스터보고 초딩영화줄....오버연기조차 가볍지 않구나      1\n",
       "2  10265843                                  너무재밓었다그래서보는것을추천한다      0\n",
       "3   9045019                      교도소 이야기구먼 ..솔직히 재미는 없다..평점 조정      0\n",
       "4   6483659  사이몬페그의 익살스런 연기가 돋보였던 영화!스파이더맨에서 늙어보이기만 했던 커스틴 ...      1"
      ]
     },
     "execution_count": 2,
     "metadata": {},
     "output_type": "execute_result"
    }
   ],
   "source": [
    "import pandas as pd\n",
    "\n",
    "# 데이터를 읽어봅시다. \n",
    "train_data = pd.read_table('~/aiffel/sentiment_classification/data/ratings_train.txt')\n",
    "test_data = pd.read_table('~/aiffel/sentiment_classification/data/ratings_test.txt')\n",
    "\n",
    "train_data.head()"
   ]
  },
  {
   "cell_type": "code",
   "execution_count": null,
   "id": "d0d2a113",
   "metadata": {},
   "outputs": [],
   "source": []
  },
  {
   "cell_type": "markdown",
   "id": "11fb79e8",
   "metadata": {},
   "source": [
    "## 2. 데이터로더 구성\n",
    "#### 🔮\n",
    "- 실습 때 다룬 IMDb 데이터셋은 `imdb.data_loader()` 메서드를 호출하면 숫자 인덱스로 변환된 텍스트와 word_to_index 딕셔너리까지 친절히 제공했다.\n",
    "- but, 이번 nsmc 데이터셋은 전혀 가공되지 않은 텍스트 파일이다.\n",
    "- 이것을 읽어 `imdb.data_loader()`와 동일하게 동작하는 자신만의 **`data_loader`** 만들어보자.\n",
    "\n",
    "#### 🔮 data_loader에서 필요한 부분\n",
    "- 데이터의 중복 제거\n",
    "- NaN 결측치 제거\n",
    "- 한국어 토크나이저로 토큰화\n",
    "- 불용어(Stopwords) 제거\n",
    "- 사전 `word_to_index` 구성\n",
    "- 텍스트 스트링을 사전 인덱스 스트링으로 변환\n",
    "- `X_train`, `y_train`, `X_test`, `y_test`, `word_to_index` 리턴"
   ]
  },
  {
   "cell_type": "markdown",
   "id": "afdcdaf8",
   "metadata": {},
   "source": [
    "### ❓Stopwords란?\n",
    "- 언어를 분석할 때 의미 있는 단어와, 의미 없는 단어나 조사 등이 있다. 이렇게 의미 없는 것들을 `stopwords`라 함\n",
    "- 개발자가 직접 정의할 수도 있고, 영어 문장에서는 NLTK가 정의한 영어 불용어가 존재함"
   ]
  },
  {
   "cell_type": "markdown",
   "id": "5c9cd231",
   "metadata": {},
   "source": [
    "### ❓한국어 토큰화\n",
    "- 영어와 달리 한국어는 띄어쓰기 단위로 토큰화를 하면 '사과가 =/= 사과는'으로 인식되어 단어집합이 불필요하게 커진다.\n",
    "- 형태소 토큰화 사용: 형태소 분석기를 사용해 토큰화를 진행함\n",
    "- 형태소 분석기 중 `mecab`을 사용해 한국어 형태소 토큰화를 함 <br/>\n",
    "\n",
    "morphs(text) : 텍스트에서 형태소를 반환함"
   ]
  },
  {
   "cell_type": "code",
   "execution_count": 3,
   "id": "c3631699",
   "metadata": {},
   "outputs": [],
   "source": [
    "from konlpy.tag import Mecab # 한국어 형태소 토큰화를 위해 형태소 분석기 중 mecab 사용\n",
    "import numpy as np\n",
    "from collections import Counter\n",
    "\n",
    "tokenizer = Mecab()\n",
    "stopwords = ['의','가','이','은','들','는','좀','잘','걍','과','도','를','으로','자','에','와','한','하다']\n",
    "\n",
    "def load_data(train_data, test_data, num_words=10000):\n",
    "    train_data.drop_duplicates(subset=['document'], inplace=True) # 중복 제거\n",
    "    train_data = train_data.dropna(how='any') # 결측치 하나라도 있으면 제거\n",
    "    test_data.drop_duplicates(subset=['document'], inplace=True)\n",
    "    test_data = test_data.dropna(how='any')\n",
    "    \n",
    "    X_train = []\n",
    "    for sentence in train_data['document']:\n",
    "        temp_X = tokenizer.morphs(sentence) # 토큰화\n",
    "        temp_X = [word for word in temp_X if not word in stopwords] # 불용어 제거\n",
    "        X_train.append(temp_X)\n",
    "        \n",
    "    X_test = []\n",
    "    for sentence in test_data['document']:\n",
    "        temp_X = tokenizer.morphs(sentence) # 토큰화\n",
    "        temp_X = [word for word in temp_X if not word in stopwords] # 불용어 제거\n",
    "        X_test.append(temp_X)\n",
    "    \n",
    "    words = np.concatenate(X_train).tolist()\n",
    "    counter = Counter(words) # 각 요소의 개수 다루고 싶을 때\n",
    "    counter = counter.most_common(10000-4) # 빈도순으로 높은 9996개 리스트 안의 튜플로 반환\n",
    "    vocab = ['<PAD>', '<BOS>', '<UNK>', '<UNUSED>'] + [key for key, _ in counter] # ????\n",
    "    word_to_index = {word: index for index, word in enumerate(vocab)}\n",
    "    \n",
    "    def wordlist_to_indexlist(wordlist): # 텍스트 스트링을 사전 인덱스 스트링으로\n",
    "        return [word_to_index[word] if word in word_to_index else word_to_index['<UNK>'] for word in wordlist]\n",
    "    \n",
    "    X_train = list(map(wordlist_to_indexlist, X_train))\n",
    "    X_test = list(map(wordlist_to_indexlist, X_test))\n",
    "    \n",
    "    return X_train, np.array(list(train_data['label'])), X_test, np.array(list(test_data['label'])), word_to_index\n",
    "    \n",
    "    \n",
    "X_train, y_train, X_test, y_test, word_to_index = load_data(train_data, test_data)"
   ]
  },
  {
   "cell_type": "code",
   "execution_count": 4,
   "id": "20985108",
   "metadata": {},
   "outputs": [],
   "source": [
    "index_to_word = {index: word for word, index in word_to_index.items()}"
   ]
  },
  {
   "cell_type": "code",
   "execution_count": 5,
   "id": "ee39c47a",
   "metadata": {},
   "outputs": [],
   "source": [
    "# 문장 1개를 활용할 딕셔너리와 함께 주면, 단어 인덱스 리스트 벡터로 변환해주는 함수\n",
    "# 단, 모든 문장은 <BOS>로 시작하는 것으로 하자.\n",
    "def get_encoded_sentence(sentence, word_to_index):\n",
    "    return [word_to_index['<BOS>']] + [word_to_index[word]\n",
    "        if word in word_to_index else word_to_index['<UNK>'] \n",
    "            for word in sentence.split()]\n",
    "\n",
    "# 여러 개의 문장 리스트를 한꺼번에 단어 인덱스 리스트 벡터로 encode해주는 함수\n",
    "def get_encoded_sentences(sentences, word_to_index):\n",
    "    return [get_encoded_sentence(sentence, word_to_index) for sentence in sentences]\n",
    "\n",
    "# 숫자 벡터로 encode된 문장을 원래대로 decode하는 함수\n",
    "def get_decoded_sentence(encoded_sentence, index_to_word):\n",
    "    return ' '.join(index_to_word[index] \n",
    "        if index in index_to_word else '<UNK>' \n",
    "            for index in encoded_sentence[1:]) # [1:]를 통해 <BOS>를 제외\n",
    "\n",
    "# 여러 개의 숫자 벡터로 encode된 문장을 한꺼번에 원래대로 decode하는 함수\n",
    "def get_decoded_sentences(encoded_sentences, index_to_word):\n",
    "    return [get_decoded_sentence(encoded_sentence, index_to_word) for encoded_sentence in encoded_sentences]\n"
   ]
  },
  {
   "cell_type": "code",
   "execution_count": null,
   "id": "bbb5827b",
   "metadata": {},
   "outputs": [],
   "source": []
  },
  {
   "cell_type": "markdown",
   "id": "2d84f7ef",
   "metadata": {},
   "source": [
    "## 3. 모델 구성을 위한 데이터 분석 및 가공\n",
    "- 데이터셋 내 문장 길이 분포\n",
    "- 적절한 최대 문장 길이 지정\n",
    "- `keras.preprocessing.sequence.pad_sequences` 을 활용한 패딩 추가"
   ]
  },
  {
   "cell_type": "code",
   "execution_count": 6,
   "id": "d2575f66",
   "metadata": {},
   "outputs": [
    {
     "name": "stdout",
     "output_type": "stream",
     "text": [
      "문장길이 평균:  15.96940191154864\n",
      "문장길이 최대:  116\n",
      "문장길이 표준편차:  12.843571191092\n",
      "padd_sequences maxlen:  41\n",
      "전체 문장의 0.9342988343341575%가 maxlen 설정값 이내에 포함됩니다.\n"
     ]
    }
   ],
   "source": [
    "total_data_text = list(X_train) + list(X_test)\n",
    "# 텍스트 데이터 문장길이의 리스트 생성\n",
    "\n",
    "num_tokens = [len(tokens) for tokens in total_data_text]\n",
    "num_tokens = np.array(num_tokens)\n",
    "\n",
    "# 문장 길이의 평균값, 최대값, 표준편차 계산해보자\n",
    "print('문장길이 평균: ', np.mean(num_tokens))\n",
    "print('문장길이 최대: ', np.max(num_tokens))\n",
    "print('문장길이 표준편차: ', np.std(num_tokens))\n",
    "\n",
    "max_tokens = np.mean(num_tokens) + 2*np.std(num_tokens)\n",
    "maxlen = int(max_tokens)\n",
    "\n",
    "print('padd_sequences maxlen: ', maxlen)\n",
    "print('전체 문장의 {}%가 maxlen 설정값 이내에 포함됩니다.'.format(np.sum(num_tokens < max_tokens) / len(num_tokens)))\n"
   ]
  },
  {
   "cell_type": "markdown",
   "id": "55c4aa44",
   "metadata": {},
   "source": [
    "✔️ 위에서 설정한 **maxlen**을 이용하자"
   ]
  },
  {
   "cell_type": "code",
   "execution_count": 7,
   "id": "16a6937b",
   "metadata": {},
   "outputs": [
    {
     "name": "stdout",
     "output_type": "stream",
     "text": [
      "(146182, 41)\n"
     ]
    }
   ],
   "source": [
    "import tensorflow as tf\n",
    "\n",
    "X_train = tf.keras.preprocessing.sequence.pad_sequences(X_train,\n",
    "                                                        value=word_to_index[\"<PAD>\"],\n",
    "                                                        padding='pre', # 혹은 'pre'\n",
    "                                                        maxlen=maxlen)\n",
    "X_test = tf.keras.preprocessing.sequence.pad_sequences(X_test,\n",
    "                                                        value=word_to_index[\"<PAD>\"],\n",
    "                                                        padding='pre', # 혹은 'pre'\n",
    "                                                        maxlen=maxlen)\n",
    "print(X_train.shape)"
   ]
  },
  {
   "cell_type": "markdown",
   "id": "6aa8955b",
   "metadata": {},
   "source": [
    "#### ❓RNN 활용 시 padding 방식에서 'post'와 'pre' 중 어느 것이 더 유리할까?\n",
    "`pre` <br/>\n",
    "RNN은 입력 데이터가 순차적으로 처리되어, 가장 마지막 입력이 최종 state 값에 가장 영향을 많이 미침. 그러므로 마지막 입력이 무의미한 padding으로 채워지는 것은 비효율적.\n",
    "따라서 'pre'가 훨씬 유리하며, 10% 이상의 테스트 성능 차이를 보인다."
   ]
  },
  {
   "cell_type": "markdown",
   "id": "032b2492",
   "metadata": {},
   "source": [
    "### Validation set 구성"
   ]
  },
  {
   "cell_type": "code",
   "execution_count": 8,
   "id": "1165951a",
   "metadata": {},
   "outputs": [
    {
     "name": "stdout",
     "output_type": "stream",
     "text": [
      "(136182, 41)\n",
      "(136182,)\n"
     ]
    }
   ],
   "source": [
    "# validation set 10000건 분리\n",
    "X_val = X_train[:10000]\n",
    "y_val = y_train[:10000]\n",
    "\n",
    "# validation set을 제외한 나머지\n",
    "partial_X_train = X_train[10000:]\n",
    "partial_y_train = y_train[10000:]\n",
    "\n",
    "print(partial_X_train.shape)\n",
    "print(partial_y_train.shape)"
   ]
  },
  {
   "cell_type": "markdown",
   "id": "c7d8886c",
   "metadata": {},
   "source": [
    "## 4-1. RNN 모델 구성\n",
    "- 모델은 3가지 이상 다양하게 구성하여 실험해보세요."
   ]
  },
  {
   "cell_type": "code",
   "execution_count": 9,
   "id": "b76bb566",
   "metadata": {},
   "outputs": [
    {
     "name": "stdout",
     "output_type": "stream",
     "text": [
      "Model: \"sequential\"\n",
      "_________________________________________________________________\n",
      "Layer (type)                 Output Shape              Param #   \n",
      "=================================================================\n",
      "embedding (Embedding)        (None, None, 16)          160000    \n",
      "_________________________________________________________________\n",
      "lstm (LSTM)                  (None, 8)                 800       \n",
      "_________________________________________________________________\n",
      "dense (Dense)                (None, 8)                 72        \n",
      "_________________________________________________________________\n",
      "dense_1 (Dense)              (None, 1)                 9         \n",
      "=================================================================\n",
      "Total params: 160,881\n",
      "Trainable params: 160,881\n",
      "Non-trainable params: 0\n",
      "_________________________________________________________________\n"
     ]
    }
   ],
   "source": [
    "vocab_size = 10000 # 어휘 사전의 크기 (10,000개의 단어)\n",
    "word_vector_dim = 16 # 워드 벡터의 차원 수 (변경 가능한 하이퍼파라미터)\n",
    "\n",
    "# model 설계\n",
    "model = tf.keras.Sequential()\n",
    "model.add(tf.keras.layers.Embedding(vocab_size, word_vector_dim, input_shape=(None,)))\n",
    "model.add(tf.keras.layers.LSTM(8)) # 가장 널리 쓰이는 LSTM레이어 (이 때 LSTM state 벡터의 차원수는 8로 함 - 변경 가능)\n",
    "model.add(tf.keras.layers.Dense(8, activation='relu'))\n",
    "model.add(tf.keras.layers.Dense(1, activation='sigmoid')) # 최종 출력은 긍정/부정을 나타내는 1차원\n",
    "\n",
    "model.summary()"
   ]
  },
  {
   "cell_type": "markdown",
   "id": "ab16a1e0",
   "metadata": {},
   "source": [
    "## 5-1. RNN 모델 훈련 개시"
   ]
  },
  {
   "cell_type": "code",
   "execution_count": 10,
   "id": "8cca1383",
   "metadata": {},
   "outputs": [
    {
     "name": "stdout",
     "output_type": "stream",
     "text": [
      "Epoch 1/8\n",
      "266/266 [==============================] - 5s 7ms/step - loss: 0.5120 - accuracy: 0.7769 - val_loss: 0.3719 - val_accuracy: 0.8441\n",
      "Epoch 2/8\n",
      "266/266 [==============================] - 1s 5ms/step - loss: 0.3446 - accuracy: 0.8557 - val_loss: 0.3393 - val_accuracy: 0.8540\n",
      "Epoch 3/8\n",
      "266/266 [==============================] - 1s 5ms/step - loss: 0.3151 - accuracy: 0.8690 - val_loss: 0.3338 - val_accuracy: 0.8568\n",
      "Epoch 4/8\n",
      "266/266 [==============================] - 1s 5ms/step - loss: 0.2985 - accuracy: 0.8775 - val_loss: 0.3354 - val_accuracy: 0.8566\n",
      "Epoch 5/8\n",
      "266/266 [==============================] - 1s 5ms/step - loss: 0.2862 - accuracy: 0.8827 - val_loss: 0.3368 - val_accuracy: 0.8547\n",
      "Epoch 6/8\n",
      "266/266 [==============================] - 1s 5ms/step - loss: 0.2743 - accuracy: 0.8881 - val_loss: 0.3439 - val_accuracy: 0.8533\n",
      "Epoch 7/8\n",
      "266/266 [==============================] - 1s 5ms/step - loss: 0.2634 - accuracy: 0.8935 - val_loss: 0.3487 - val_accuracy: 0.8533\n",
      "Epoch 8/8\n",
      "266/266 [==============================] - 1s 5ms/step - loss: 0.2538 - accuracy: 0.8979 - val_loss: 0.3569 - val_accuracy: 0.8533\n"
     ]
    }
   ],
   "source": [
    "model.compile(optimizer='adam',\n",
    "              loss='binary_crossentropy',\n",
    "              metrics=['accuracy'])\n",
    "\n",
    "epochs = 8 # 몇 epoch를 훈련하면 좋을지 결과 보며 바꾸기\n",
    "\n",
    "history = model.fit(partial_X_train,\n",
    "                    partial_y_train,\n",
    "                    epochs=epochs,\n",
    "                    batch_size=512,\n",
    "                    validation_data=(X_val, y_val),\n",
    "                    verbose=1)"
   ]
  },
  {
   "cell_type": "code",
   "execution_count": 11,
   "id": "13d427ce",
   "metadata": {},
   "outputs": [
    {
     "name": "stdout",
     "output_type": "stream",
     "text": [
      "1537/1537 - 3s - loss: 0.3679 - accuracy: 0.8465\n",
      "[0.3679121136665344, 0.8464714884757996]\n"
     ]
    }
   ],
   "source": [
    "# 학습이 끝난 모델 테스트셋으로 평가해보기\n",
    "results = model.evaluate(X_test, y_test, verbose=2)\n",
    "print(results)"
   ]
  },
  {
   "cell_type": "markdown",
   "id": "9b9261cf",
   "metadata": {},
   "source": [
    "### 💥💥💥 <font color=green>정확도: 0.84 </font>"
   ]
  },
  {
   "cell_type": "markdown",
   "id": "9b9d3bde",
   "metadata": {},
   "source": [
    "## 6-1. RNN - Loss, Accuracy 그래프 시각화\n",
    "model.fit() 과정 중 train과 validation 데이터의 loss, accuracy 등이 매 epoch마다 history 변수에 저장되어 있음"
   ]
  },
  {
   "cell_type": "code",
   "execution_count": 12,
   "id": "972c642e",
   "metadata": {},
   "outputs": [
    {
     "name": "stdout",
     "output_type": "stream",
     "text": [
      "dict_keys(['loss', 'accuracy', 'val_loss', 'val_accuracy'])\n"
     ]
    }
   ],
   "source": [
    "history_dict = history.history\n",
    "print(history_dict.keys()) # epoch에 따른 그래프를 그려볼 수 있는 항목들"
   ]
  },
  {
   "cell_type": "code",
   "execution_count": 13,
   "id": "2e195e7e",
   "metadata": {},
   "outputs": [
    {
     "data": {
      "image/png": "[encoded data removed]",
      "text/plain": [
       "<Figure size 432x288 with 1 Axes>"
      ]
     },
     "metadata": {
      "needs_background": "light"
     },
     "output_type": "display_data"
    }
   ],
   "source": [
    "import matplotlib.pyplot as plt\n",
    "\n",
    "acc = history_dict['accuracy']\n",
    "val_acc = history_dict['val_accuracy']\n",
    "\n",
    "loss = history_dict['loss']\n",
    "val_loss = history_dict['val_loss']\n",
    "\n",
    "epochs = range(1, len(acc) + 1)\n",
    "\n",
    "# \"bo\"는 \"파란색 점\"입니다\n",
    "plt.plot(epochs, loss, 'bo', label='Training loss')\n",
    "# b는 \"파란 실선\"입니다\n",
    "plt.plot(epochs, val_loss, 'b', label='Validation loss')\n",
    "plt.title('Training and validation loss')\n",
    "plt.xlabel('Epochs')\n",
    "plt.ylabel('Loss')\n",
    "plt.legend()\n",
    "\n",
    "plt.show()"
   ]
  },
  {
   "cell_type": "code",
   "execution_count": 14,
   "id": "86e99771",
   "metadata": {},
   "outputs": [
    {
     "data": {
      "image/png": "[encoded data removed]",
      "text/plain": [
       "<Figure size 432x288 with 1 Axes>"
      ]
     },
     "metadata": {
      "needs_background": "light"
     },
     "output_type": "display_data"
    }
   ],
   "source": [
    "plt.clf()   # 그림을 초기화합니다\n",
    "\n",
    "plt.plot(epochs, acc, 'bo', label='Training acc')\n",
    "plt.plot(epochs, val_acc, 'b', label='Validation acc')\n",
    "plt.title('Training and validation accuracy')\n",
    "plt.xlabel('Epochs')\n",
    "plt.ylabel('Accuracy')\n",
    "plt.legend()\n",
    "\n",
    "plt.show()"
   ]
  },
  {
   "cell_type": "code",
   "execution_count": 15,
   "id": "65001513",
   "metadata": {},
   "outputs": [
    {
     "data": {
      "image/png": "[encoded data removed]",
      "text/plain": [
       "<Figure size 864x576 with 2 Axes>"
      ]
     },
     "metadata": {
      "needs_background": "light"
     },
     "output_type": "display_data"
    }
   ],
   "source": [
    "import matplotlib.pyplot as plt\n",
    "\n",
    "acc = history.history['accuracy']\n",
    "val_acc = history.history['val_accuracy']\n",
    "\n",
    "loss = history.history['loss']\n",
    "val_loss = history.history['val_loss']\n",
    "\n",
    "epochs_range = range(len(acc))\n",
    "\n",
    "plt.figure(figsize = (12, 8))\n",
    "plt.subplot(1, 2, 1)\n",
    "plt.plot(epochs_range, acc, label = 'Training Accuracy')\n",
    "plt.plot(epochs_range, val_acc, label = 'Validation Accuracy')\n",
    "plt.legend(loc = 'lower right')\n",
    "plt.title('Training and Validation Accuracy')\n",
    "\n",
    "plt.subplot(1, 2, 2)\n",
    "plt.plot(epochs_range, loss, label = 'Training Loss')\n",
    "plt.plot(epochs_range, val_loss, label = 'Validation Loss')\n",
    "plt.legend(loc = 'upper right')\n",
    "plt.title('Training and Validation Loss')\n",
    "plt.show()"
   ]
  },
  {
   "cell_type": "markdown",
   "id": "893244f3",
   "metadata": {},
   "source": [
    "### 💥💥💥  <font color=green>epoch에 따른 변화 </font>\n",
    "- epoch가 1을 초과하자 validation loss가 증가했고, train accuracy가 급격하게 증가한 것으로 보아 과적합이 일어났을 가능성이 높다.\n",
    "- epoch=1이 적절하다고 판단된다."
   ]
  },
  {
   "cell_type": "code",
   "execution_count": null,
   "id": "3c268c17",
   "metadata": {},
   "outputs": [],
   "source": []
  },
  {
   "cell_type": "markdown",
   "id": "ad6bbfb2",
   "metadata": {},
   "source": [
    "## 4-2. 1-D CNN 모델 구성"
   ]
  },
  {
   "cell_type": "code",
   "execution_count": 16,
   "id": "24dc828f",
   "metadata": {},
   "outputs": [
    {
     "name": "stdout",
     "output_type": "stream",
     "text": [
      "Model: \"sequential_1\"\n",
      "_________________________________________________________________\n",
      "Layer (type)                 Output Shape              Param #   \n",
      "=================================================================\n",
      "embedding_1 (Embedding)      (None, None, 16)          160000    \n",
      "_________________________________________________________________\n",
      "conv1d (Conv1D)              (None, None, 16)          1808      \n",
      "_________________________________________________________________\n",
      "max_pooling1d (MaxPooling1D) (None, None, 16)          0         \n",
      "_________________________________________________________________\n",
      "conv1d_1 (Conv1D)            (None, None, 16)          1808      \n",
      "_________________________________________________________________\n",
      "global_max_pooling1d (Global (None, 16)                0         \n",
      "_________________________________________________________________\n",
      "dense_2 (Dense)              (None, 8)                 136       \n",
      "_________________________________________________________________\n",
      "dense_3 (Dense)              (None, 1)                 9         \n",
      "=================================================================\n",
      "Total params: 163,761\n",
      "Trainable params: 163,761\n",
      "Non-trainable params: 0\n",
      "_________________________________________________________________\n"
     ]
    }
   ],
   "source": [
    "vocab_size = 10000 # 어휘 사전의 크기 (10개의 단어)\n",
    "word_vector_dim = 16 # 단어 하나를 표현하는 임베딩 벡터의 차원 수\n",
    "\n",
    "model = tf.keras.Sequential()\n",
    "model.add(tf.keras.layers.Embedding(vocab_size, word_vector_dim, input_shape=(None,)))\n",
    "model.add(tf.keras.layers.Conv1D(16, 7, activation='relu'))\n",
    "model.add(tf.keras.layers.MaxPooling1D(5))\n",
    "model.add(tf.keras.layers.Conv1D(16, 7, activation='relu'))\n",
    "model.add(tf.keras.layers.GlobalMaxPooling1D())\n",
    "model.add(tf.keras.layers.Dense(8, activation='relu'))\n",
    "model.add(tf.keras.layers.Dense(1, activation='sigmoid'))  # 최종 출력은 긍정/부정을 나타내는 1차원\n",
    "\n",
    "model.summary()"
   ]
  },
  {
   "cell_type": "code",
   "execution_count": 17,
   "id": "7f5ff907",
   "metadata": {},
   "outputs": [
    {
     "name": "stdout",
     "output_type": "stream",
     "text": [
      "Epoch 1/8\n",
      "266/266 [==============================] - 3s 6ms/step - loss: 0.4596 - accuracy: 0.7812 - val_loss: 0.3461 - val_accuracy: 0.8446\n",
      "Epoch 2/8\n",
      "266/266 [==============================] - 1s 4ms/step - loss: 0.3218 - accuracy: 0.8626 - val_loss: 0.3321 - val_accuracy: 0.8522\n",
      "Epoch 3/8\n",
      "266/266 [==============================] - 1s 4ms/step - loss: 0.2875 - accuracy: 0.8803 - val_loss: 0.3279 - val_accuracy: 0.8554\n",
      "Epoch 4/8\n",
      "266/266 [==============================] - 1s 4ms/step - loss: 0.2556 - accuracy: 0.8970 - val_loss: 0.3315 - val_accuracy: 0.8581\n",
      "Epoch 5/8\n",
      "266/266 [==============================] - 1s 4ms/step - loss: 0.2228 - accuracy: 0.9136 - val_loss: 0.3470 - val_accuracy: 0.8550\n",
      "Epoch 6/8\n",
      "266/266 [==============================] - 1s 4ms/step - loss: 0.1890 - accuracy: 0.9297 - val_loss: 0.3761 - val_accuracy: 0.8512\n",
      "Epoch 7/8\n",
      "266/266 [==============================] - 1s 4ms/step - loss: 0.1572 - accuracy: 0.9443 - val_loss: 0.4110 - val_accuracy: 0.8484\n",
      "Epoch 8/8\n",
      "266/266 [==============================] - 1s 5ms/step - loss: 0.1308 - accuracy: 0.9559 - val_loss: 0.4647 - val_accuracy: 0.8434\n"
     ]
    }
   ],
   "source": [
    "model.compile(optimizer='adam',\n",
    "              loss='binary_crossentropy',\n",
    "              metrics=['accuracy'])\n",
    "\n",
    "epochs = 8 # 몇 epoch를 훈련하면 좋을지 결과 보며 바꾸기\n",
    "\n",
    "history = model.fit(partial_X_train,\n",
    "                    partial_y_train,\n",
    "                    epochs=epochs,\n",
    "                    batch_size=512,\n",
    "                    validation_data=(X_val, y_val),\n",
    "                    verbose=1)"
   ]
  },
  {
   "cell_type": "code",
   "execution_count": 18,
   "id": "45dcc6b5",
   "metadata": {},
   "outputs": [
    {
     "name": "stdout",
     "output_type": "stream",
     "text": [
      "1537/1537 - 2s - loss: 0.4770 - accuracy: 0.8387\n",
      "[0.4770359992980957, 0.8387411832809448]\n"
     ]
    }
   ],
   "source": [
    "# 학습이 끝난 모델 테스트셋으로 평가해보기\n",
    "results = model.evaluate(X_test, y_test, verbose=2)\n",
    "print(results)"
   ]
  },
  {
   "cell_type": "markdown",
   "id": "d54e7681",
   "metadata": {},
   "source": [
    "### 💥💥💥 <font color=green>정확도: 0.84 </font>"
   ]
  },
  {
   "cell_type": "code",
   "execution_count": 19,
   "id": "f1c35aa7",
   "metadata": {},
   "outputs": [
    {
     "name": "stdout",
     "output_type": "stream",
     "text": [
      "dict_keys(['loss', 'accuracy', 'val_loss', 'val_accuracy'])\n"
     ]
    }
   ],
   "source": [
    "history_dict = history.history\n",
    "print(history_dict.keys()) # epoch에 따른 그래프를 그려볼 수 있는 항목들"
   ]
  },
  {
   "cell_type": "code",
   "execution_count": 20,
   "id": "5b48a056",
   "metadata": {},
   "outputs": [
    {
     "data": {
      "image/png": "[encoded data removed]",
      "text/plain": [
       "<Figure size 432x288 with 1 Axes>"
      ]
     },
     "metadata": {
      "needs_background": "light"
     },
     "output_type": "display_data"
    }
   ],
   "source": [
    "import matplotlib.pyplot as plt\n",
    "\n",
    "acc = history_dict['accuracy']\n",
    "val_acc = history_dict['val_accuracy']\n",
    "\n",
    "loss = history_dict['loss']\n",
    "val_loss = history_dict['val_loss']\n",
    "\n",
    "epochs = range(1, len(acc) + 1)\n",
    "\n",
    "# \"bo\"는 \"파란색 점\"입니다\n",
    "plt.plot(epochs, loss, 'bo', label='Training loss')\n",
    "# b는 \"파란 실선\"입니다\n",
    "plt.plot(epochs, val_loss, 'b', label='Validation loss')\n",
    "plt.title('Training and validation loss')\n",
    "plt.xlabel('Epochs')\n",
    "plt.ylabel('Loss')\n",
    "plt.legend()\n",
    "\n",
    "plt.show()"
   ]
  },
  {
   "cell_type": "code",
   "execution_count": 21,
   "id": "f19a64d0",
   "metadata": {},
   "outputs": [
    {
     "data": {
      "image/png": "[encoded data removed]",
      "text/plain": [
       "<Figure size 432x288 with 1 Axes>"
      ]
     },
     "metadata": {
      "needs_background": "light"
     },
     "output_type": "display_data"
    }
   ],
   "source": [
    "plt.clf()   # 그림을 초기화합니다\n",
    "\n",
    "plt.plot(epochs, acc, 'bo', label='Training acc')\n",
    "plt.plot(epochs, val_acc, 'b', label='Validation acc')\n",
    "plt.title('Training and validation accuracy')\n",
    "plt.xlabel('Epochs')\n",
    "plt.ylabel('Accuracy')\n",
    "plt.legend()\n",
    "\n",
    "plt.show()"
   ]
  },
  {
   "cell_type": "code",
   "execution_count": 22,
   "id": "7f9fb540",
   "metadata": {},
   "outputs": [
    {
     "data": {
      "image/png": "[encoded data removed]",
      "text/plain": [
       "<Figure size 864x576 with 2 Axes>"
      ]
     },
     "metadata": {
      "needs_background": "light"
     },
     "output_type": "display_data"
    }
   ],
   "source": [
    "import matplotlib.pyplot as plt\n",
    "\n",
    "acc = history.history['accuracy']\n",
    "val_acc = history.history['val_accuracy']\n",
    "\n",
    "loss = history.history['loss']\n",
    "val_loss = history.history['val_loss']\n",
    "\n",
    "epochs_range = range(len(acc))\n",
    "\n",
    "plt.figure(figsize = (12, 8))\n",
    "plt.subplot(1, 2, 1)\n",
    "plt.plot(epochs_range, acc, label = 'Training Accuracy')\n",
    "plt.plot(epochs_range, val_acc, label = 'Validation Accuracy')\n",
    "plt.legend(loc = 'lower right')\n",
    "plt.title('Training and Validation Accuracy')\n",
    "\n",
    "plt.subplot(1, 2, 2)\n",
    "plt.plot(epochs_range, loss, label = 'Training Loss')\n",
    "plt.plot(epochs_range, val_loss, label = 'Validation Loss')\n",
    "plt.legend(loc = 'upper right')\n",
    "plt.title('Training and Validation Loss')\n",
    "plt.show()"
   ]
  },
  {
   "cell_type": "markdown",
   "id": "80360233",
   "metadata": {},
   "source": [
    "### 💥💥💥  <font color=green>epoch에 따른 변화 </font>\n",
    "- epoch가 2를 초과하자 validation loss가 꽤나 높은 정도로 증가했고, train accuracy 또한 급격하게 증가했다. 반면 validation accuracy는 감소한다. 따라서 과적합이 일어났을 가능성이 높다.\n",
    "- epoch=1~2이 적절하다고 판단된다."
   ]
  },
  {
   "cell_type": "code",
   "execution_count": null,
   "id": "223b8e84",
   "metadata": {},
   "outputs": [],
   "source": []
  },
  {
   "cell_type": "markdown",
   "id": "6279d942",
   "metadata": {},
   "source": [
    "## 4-3. GlobalMaxPooling1D - 모델 구성"
   ]
  },
  {
   "cell_type": "code",
   "execution_count": 23,
   "id": "8698477a",
   "metadata": {},
   "outputs": [
    {
     "name": "stdout",
     "output_type": "stream",
     "text": [
      "Model: \"sequential_2\"\n",
      "_________________________________________________________________\n",
      "Layer (type)                 Output Shape              Param #   \n",
      "=================================================================\n",
      "embedding_2 (Embedding)      (None, None, 16)          160000    \n",
      "_________________________________________________________________\n",
      "global_max_pooling1d_1 (Glob (None, 16)                0         \n",
      "_________________________________________________________________\n",
      "dense_4 (Dense)              (None, 8)                 136       \n",
      "_________________________________________________________________\n",
      "dense_5 (Dense)              (None, 1)                 9         \n",
      "=================================================================\n",
      "Total params: 160,145\n",
      "Trainable params: 160,145\n",
      "Non-trainable params: 0\n",
      "_________________________________________________________________\n"
     ]
    }
   ],
   "source": [
    "vocab_size = 10000 # 어휘 사전의 크기 (10개의 단어)\n",
    "word_vector_dim = 16 # 단어 하나를 표현하는 임베딩 벡터의 차원 수\n",
    "\n",
    "model = tf.keras.Sequential()\n",
    "model.add(tf.keras.layers.Embedding(vocab_size, word_vector_dim, input_shape=(None,)))\n",
    "model.add(tf.keras.layers.GlobalMaxPooling1D())\n",
    "model.add(tf.keras.layers.Dense(8, activation='relu'))\n",
    "model.add(tf.keras.layers.Dense(1, activation='sigmoid'))  # 최종 출력은 긍정/부정을 나타내는 1차원\n",
    "\n",
    "model.summary()"
   ]
  },
  {
   "cell_type": "code",
   "execution_count": 24,
   "id": "88d3adc4",
   "metadata": {},
   "outputs": [
    {
     "name": "stdout",
     "output_type": "stream",
     "text": [
      "Epoch 1/8\n",
      "266/266 [==============================] - 1s 4ms/step - loss: 0.5766 - accuracy: 0.7522 - val_loss: 0.4154 - val_accuracy: 0.8262\n",
      "Epoch 2/8\n",
      "266/266 [==============================] - 1s 3ms/step - loss: 0.3720 - accuracy: 0.8409 - val_loss: 0.3548 - val_accuracy: 0.8420\n",
      "Epoch 3/8\n",
      "266/266 [==============================] - 1s 3ms/step - loss: 0.3258 - accuracy: 0.8617 - val_loss: 0.3465 - val_accuracy: 0.8472\n",
      "Epoch 4/8\n",
      "266/266 [==============================] - 1s 3ms/step - loss: 0.3006 - accuracy: 0.8750 - val_loss: 0.3463 - val_accuracy: 0.8477\n",
      "Epoch 5/8\n",
      "266/266 [==============================] - 1s 3ms/step - loss: 0.2821 - accuracy: 0.8832 - val_loss: 0.3502 - val_accuracy: 0.8465\n",
      "Epoch 6/8\n",
      "266/266 [==============================] - 1s 3ms/step - loss: 0.2669 - accuracy: 0.8905 - val_loss: 0.3559 - val_accuracy: 0.8467\n",
      "Epoch 7/8\n",
      "266/266 [==============================] - 1s 3ms/step - loss: 0.2540 - accuracy: 0.8966 - val_loss: 0.3638 - val_accuracy: 0.8441\n",
      "Epoch 8/8\n",
      "266/266 [==============================] - 1s 3ms/step - loss: 0.2426 - accuracy: 0.9020 - val_loss: 0.3718 - val_accuracy: 0.8408\n"
     ]
    }
   ],
   "source": [
    "model.compile(optimizer='adam',\n",
    "              loss='binary_crossentropy',\n",
    "              metrics=['accuracy'])\n",
    "\n",
    "epochs = 8 # 몇 epoch를 훈련하면 좋을지 결과 보며 바꾸기\n",
    "\n",
    "history = model.fit(partial_X_train,\n",
    "                    partial_y_train,\n",
    "                    epochs=epochs,\n",
    "                    batch_size=512,\n",
    "                    validation_data=(X_val, y_val),\n",
    "                    verbose=1)"
   ]
  },
  {
   "cell_type": "code",
   "execution_count": 25,
   "id": "ab9ba2ad",
   "metadata": {},
   "outputs": [
    {
     "name": "stdout",
     "output_type": "stream",
     "text": [
      "1537/1537 - 2s - loss: 0.3818 - accuracy: 0.8423\n",
      "[0.3818053901195526, 0.842321515083313]\n"
     ]
    }
   ],
   "source": [
    "# 학습이 끝난 모델 테스트셋으로 평가해보기\n",
    "results = model.evaluate(X_test, y_test, verbose=2)\n",
    "print(results)"
   ]
  },
  {
   "cell_type": "markdown",
   "id": "a056dead",
   "metadata": {},
   "source": [
    "### 💥💥💥 <font color=green>정확도: 0.84 </font>"
   ]
  },
  {
   "cell_type": "code",
   "execution_count": 26,
   "id": "9e517fd8",
   "metadata": {},
   "outputs": [
    {
     "name": "stdout",
     "output_type": "stream",
     "text": [
      "dict_keys(['loss', 'accuracy', 'val_loss', 'val_accuracy'])\n"
     ]
    }
   ],
   "source": [
    "history_dict = history.history\n",
    "print(history_dict.keys()) # epoch에 따른 그래프를 그려볼 수 있는 항목들"
   ]
  },
  {
   "cell_type": "code",
   "execution_count": 27,
   "id": "df616b3d",
   "metadata": {},
   "outputs": [
    {
     "data": {
      "image/png": "[encoded data removed]",
      "text/plain": [
       "<Figure size 432x288 with 1 Axes>"
      ]
     },
     "metadata": {
      "needs_background": "light"
     },
     "output_type": "display_data"
    }
   ],
   "source": [
    "import matplotlib.pyplot as plt\n",
    "\n",
    "acc = history_dict['accuracy']\n",
    "val_acc = history_dict['val_accuracy']\n",
    "\n",
    "loss = history_dict['loss']\n",
    "val_loss = history_dict['val_loss']\n",
    "\n",
    "epochs = range(1, len(acc) + 1)\n",
    "\n",
    "# \"bo\"는 \"파란색 점\"입니다\n",
    "plt.plot(epochs, loss, 'bo', label='Training loss')\n",
    "# b는 \"파란 실선\"입니다\n",
    "plt.plot(epochs, val_loss, 'b', label='Validation loss')\n",
    "plt.title('Training and validation loss')\n",
    "plt.xlabel('Epochs')\n",
    "plt.ylabel('Loss')\n",
    "plt.legend()\n",
    "\n",
    "plt.show()"
   ]
  },
  {
   "cell_type": "code",
   "execution_count": 28,
   "id": "b2c4c2e2",
   "metadata": {},
   "outputs": [
    {
     "data": {
      "image/png": "[encoded data removed]",
      "text/plain": [
       "<Figure size 432x288 with 1 Axes>"
      ]
     },
     "metadata": {
      "needs_background": "light"
     },
     "output_type": "display_data"
    }
   ],
   "source": [
    "plt.clf()   # 그림을 초기화합니다\n",
    "\n",
    "plt.plot(epochs, acc, 'bo', label='Training acc')\n",
    "plt.plot(epochs, val_acc, 'b', label='Validation acc')\n",
    "plt.title('Training and validation accuracy')\n",
    "plt.xlabel('Epochs')\n",
    "plt.ylabel('Accuracy')\n",
    "plt.legend()\n",
    "\n",
    "plt.show()"
   ]
  },
  {
   "cell_type": "code",
   "execution_count": 29,
   "id": "ad609c9e",
   "metadata": {},
   "outputs": [
    {
     "data": {
      "image/png": "[encoded data removed]",
      "text/plain": [
       "<Figure size 864x576 with 2 Axes>"
      ]
     },
     "metadata": {
      "needs_background": "light"
     },
     "output_type": "display_data"
    }
   ],
   "source": [
    "import matplotlib.pyplot as plt\n",
    "\n",
    "acc = history.history['accuracy']\n",
    "val_acc = history.history['val_accuracy']\n",
    "\n",
    "loss = history.history['loss']\n",
    "val_loss = history.history['val_loss']\n",
    "\n",
    "epochs_range = range(len(acc))\n",
    "\n",
    "plt.figure(figsize = (12, 8))\n",
    "plt.subplot(1, 2, 1)\n",
    "plt.plot(epochs_range, acc, label = 'Training Accuracy')\n",
    "plt.plot(epochs_range, val_acc, label = 'Validation Accuracy')\n",
    "plt.legend(loc = 'lower right')\n",
    "plt.title('Training and Validation Accuracy')\n",
    "\n",
    "plt.subplot(1, 2, 2)\n",
    "plt.plot(epochs_range, loss, label = 'Training Loss')\n",
    "plt.plot(epochs_range, val_loss, label = 'Validation Loss')\n",
    "plt.legend(loc = 'upper right')\n",
    "plt.title('Training and Validation Loss')\n",
    "plt.show()"
   ]
  },
  {
   "cell_type": "markdown",
   "id": "f0218690",
   "metadata": {},
   "source": [
    "### 💥💥💥  <font color=green>epoch에 따른 변화 </font>\n",
    "- epoch가 2를 초과하자 validation loss가 꽤나 높은 정도로 증가했고, train accuracy 또한 급격하게 증가했다. 반면 validation accuracy는 감소한다. 따라서 과적합이 일어났을 가능성이 높다.\n",
    "- epoch=1~2이 적절하다고 판단된다."
   ]
  },
  {
   "cell_type": "code",
   "execution_count": null,
   "id": "c8d5870a",
   "metadata": {},
   "outputs": [],
   "source": []
  },
  {
   "cell_type": "markdown",
   "id": "a34610bc",
   "metadata": {},
   "source": [
    "## 7. 학습된 Embedding 레이어 분석\n"
   ]
  },
  {
   "cell_type": "markdown",
   "id": "a9a365f9",
   "metadata": {},
   "source": [
    "- 3개의 모델 모두 정확도는 약 0.84로 큰 차이를 보이지 않았다.\n",
    "- epoch 변화에 따른 validation loss를 보았더니 1-2를 초과하면 3개의 모델 모두 validation loss가 증가하는 경향을 보였고, validation accuracy에 비해 train accuracy가 급격하게 증가하는 것을 보아 overfitting이 발생한 것으로 보인다.\n",
    "- **결과적으로 세 개의 모델 모두 비슷한 결과를 보여주어 큰 성능 차이가 없다고 판단된다.**"
   ]
  },
  {
   "cell_type": "code",
   "execution_count": null,
   "id": "e989d965",
   "metadata": {},
   "outputs": [],
   "source": []
  },
  {
   "cell_type": "markdown",
   "id": "8a1cb995",
   "metadata": {},
   "source": [
    "## 8. 한국어 Word2Vec 임베딩 활용하여 성능 개선\n",
    "\n",
    "### 🧤 Word Embedding(워드 임베딩)\n",
    ": 라벨링 비용이 많이 드는 머신러닝 기반 감성분석의 비용을 절감하면서 정확도를 크게 향상시킬 수 있는 자연어처림 기법. 단어의 특성을 저차원 벡터값으로 표현 <br/><br/>\n",
    "- 우리가 사용한 model의 첫 번째 레이어는 Embedding이었다.\n",
    "    - 우리가 가진 사전 단어 개수 x 워드 벡터 사이즈 만큼의 크기를 가진 학습 파라미터\n",
    "- 만약 우리의 감성 분류 모델이 잘 학습되었다면, Embedding 레이어에 학습된 우리 워드 벡터들도 의미 공간상에 유의미한 형태로 학습되었을 것."
   ]
  },
  {
   "cell_type": "code",
   "execution_count": 30,
   "id": "e585cd7d",
   "metadata": {},
   "outputs": [
    {
     "name": "stdout",
     "output_type": "stream",
     "text": [
      "(10000, 16)\n"
     ]
    }
   ],
   "source": [
    "embedding_layer = model.layers[0]\n",
    "weights = embedding_layer.get_weights()[0]\n",
    "print(weights.shape) # shape: (vocab_size, embedding_dim)"
   ]
  },
  {
   "cell_type": "code",
   "execution_count": 31,
   "id": "30a80a36",
   "metadata": {},
   "outputs": [],
   "source": [
    "import os\n",
    "\n",
    "# 학습한 Embedding 파라미터를 파일에 써서 저장하기\n",
    "word2vec_file_path = os.getenv('HOME')+'/aiffel/AIFFEL_Exploration/[E-06]Text_Sentimental_Analysis/word2vec.txt'\n",
    "f = open(word2vec_file_path, 'w')\n",
    "f.write('{} {}\\n'.format(vocab_size-4, word_vector_dim))  # 몇개의 벡터를 얼마 사이즈로 기재할지 타이틀을 씁니다.\n",
    "\n",
    "# 단어 개수(에서 특수문자 4개 제외)만큼의 워드 벡터를 파일에 기록\n",
    "vectors = model.get_weights()[0]\n",
    "for i in range(4, vocab_size):\n",
    "    f.write('{} {}\\n'.format(index_to_word[i], ' '.join(map(str, list(vectors[i, :])))))\n",
    "\n",
    "f.close()"
   ]
  },
  {
   "cell_type": "markdown",
   "id": "4d4ea302",
   "metadata": {},
   "source": [
    "gensim에서 제공하는 패키지를 이용해, 위에 남긴 임베딩 파라미터를 읽어 word vector로 활용할 수 있다."
   ]
  },
  {
   "cell_type": "code",
   "execution_count": 32,
   "id": "97288b79",
   "metadata": {},
   "outputs": [
    {
     "data": {
      "text/plain": [
       "array([-0.07811962, -0.09376694,  0.02334941, -0.12604755,  0.00165098,\n",
       "        0.04499587,  0.04933521,  0.06039157,  0.03879579, -0.11393183,\n",
       "       -0.0105836 , -0.00677461, -0.10674792, -0.11167341, -0.06675747,\n",
       "       -0.03671347], dtype=float32)"
      ]
     },
     "execution_count": 32,
     "metadata": {},
     "output_type": "execute_result"
    }
   ],
   "source": [
    "from gensim.models.keyedvectors import Word2VecKeyedVectors\n",
    "\n",
    "word_vectors = Word2VecKeyedVectors.load_word2vec_format(word2vec_file_path, binary=False)\n",
    "vector = word_vectors['컴퓨터'] # 한글로 확인\n",
    "vector"
   ]
  },
  {
   "cell_type": "markdown",
   "id": "720edeef",
   "metadata": {},
   "source": [
    "#### 단어 하나를 주고, 그와 가장 유사한 단어와 그 유사도를 확인하는 방법"
   ]
  },
  {
   "cell_type": "code",
   "execution_count": 33,
   "id": "cae07c7f",
   "metadata": {},
   "outputs": [
    {
     "data": {
      "text/plain": [
       "[('로렌스', 0.9031912684440613),\n",
       " ('사실', 0.8968018293380737),\n",
       " ('독일', 0.8822091817855835),\n",
       " ('매혹', 0.8815040588378906),\n",
       " ('슴다', 0.8805168271064758),\n",
       " ('좋아한다면', 0.8801020383834839),\n",
       " ('지내', 0.8780760765075684),\n",
       " ('그대', 0.8777097463607788),\n",
       " ('좋', 0.8706409931182861),\n",
       " ('신랄', 0.8676961660385132)]"
      ]
     },
     "execution_count": 33,
     "metadata": {},
     "output_type": "execute_result"
    }
   ],
   "source": [
    "word_vectors.similar_by_word(\"사랑\")"
   ]
  },
  {
   "cell_type": "markdown",
   "id": "4de77359",
   "metadata": {},
   "source": [
    "'사랑' 이라는 단어와 의미적으로 유사한 단어를 그리 잘 찾았다는 느낌이 들지 않는다. <br/><br/>\n",
    "\n",
    "이번엔 구글에서 제공하는 **`Word2Vec`**라는 사전학습된(Pretrained) 워드 임베딩 모델 가져다 활용해보자.\n",
    "### 🧤 Word2Vec\n",
    "- 1억 개의 단어로 구성된 Google News dataset을 바탕으로 학습됨\n",
    "- 총 300만 개의 단어를 각각 300차원의 벡터로 표현함\n",
    "- Embedding Layer과 원리는 동일\n"
   ]
  },
  {
   "cell_type": "markdown",
   "id": "e6345af9",
   "metadata": {},
   "source": [
    "https://github.com/Kyubyong/wordvectors 에서 적절한 ko.bin 다운받기\n",
    "### ❓ko.bin\n",
    "- 한글 word vector 모음집"
   ]
  },
  {
   "cell_type": "code",
   "execution_count": 34,
   "id": "cb8683db",
   "metadata": {},
   "outputs": [],
   "source": [
    "# # 4.1.2 로 설치된 gensim 3.x.x로 다운그레이드하기\n",
    "\n",
    "# !pip install --upgrade gensim==3.8.3"
   ]
  },
  {
   "cell_type": "code",
   "execution_count": 35,
   "id": "83c2bd37",
   "metadata": {},
   "outputs": [
    {
     "data": {
      "text/plain": [
       "'3.8.3'"
      ]
     },
     "execution_count": 35,
     "metadata": {},
     "output_type": "execute_result"
    }
   ],
   "source": [
    "import gensim\n",
    "\n",
    "gensim.__version__"
   ]
  },
  {
   "cell_type": "code",
   "execution_count": 36,
   "id": "61375027",
   "metadata": {
    "scrolled": false
   },
   "outputs": [
    {
     "name": "stderr",
     "output_type": "stream",
     "text": [
      "/tmp/ipykernel_3068/856549728.py:18: DeprecationWarning: Call to deprecated `__getitem__` (Method will be removed in 4.0.0, use self.wv.__getitem__() instead).\n",
      "  vector = word2vec['컴퓨터']\n"
     ]
    },
    {
     "data": {
      "text/plain": [
       "array([-1.517628  , -0.8935504 , -1.4352998 ,  1.5069847 , -1.5178334 ,\n",
       "        1.1542678 , -2.94064   ,  1.1850045 ,  0.19959009, -1.5288961 ,\n",
       "       -1.7067502 , -2.1892095 , -0.20728938, -2.2606812 , -2.2283888 ,\n",
       "        0.32318738, -0.2845471 , -0.07731772, -0.86269003, -1.1722927 ,\n",
       "       -0.91062415,  0.8440715 ,  0.903278  , -0.84685427,  0.7023384 ,\n",
       "       -2.1920419 , -0.47571626, -0.60159504, -0.68860835,  0.18944737,\n",
       "        0.5319404 ,  0.73058116, -0.9658133 , -1.0123725 , -0.36183038,\n",
       "        2.5851305 ,  0.66589296, -1.7231252 ,  1.7576753 ,  0.88845277,\n",
       "        1.5791365 , -4.430691  ,  0.36731872,  0.69481534, -0.46041563,\n",
       "        1.742655  , -1.5077016 ,  0.72209424, -0.04532204, -0.6557301 ,\n",
       "       -0.71276623,  0.26522732, -0.17656395, -2.4720876 , -0.845565  ,\n",
       "        0.23591152,  1.3414925 ,  0.77577615, -2.289371  , -0.8078124 ,\n",
       "        1.4359473 ,  0.22882733, -1.08867   ,  1.2607764 , -1.7469797 ,\n",
       "        0.06542054,  0.39896825, -0.3160832 , -1.7257563 ,  0.54638785,\n",
       "       -0.31753907, -0.48656994, -0.8225613 , -0.573065  ,  0.13175343,\n",
       "       -0.3924169 ,  0.55588305, -1.0773534 ,  0.55159163,  0.1352609 ,\n",
       "        0.88245326, -1.0127378 ,  0.14704451, -0.5254349 , -3.401769  ,\n",
       "       -0.42525592,  2.0031376 ,  0.36679608, -1.0043006 ,  1.3084906 ,\n",
       "        0.66252464, -0.48564675,  1.1390634 , -0.61399025, -0.50669813,\n",
       "        2.984564  ,  1.126494  ,  0.68590933, -0.2439008 , -1.317931  ,\n",
       "        0.826134  , -0.3985872 ,  0.509279  , -2.7423162 ,  2.1723568 ,\n",
       "        0.02191449, -0.16062206, -0.14502135, -0.32332814, -1.7890338 ,\n",
       "        1.8245052 , -1.3794106 ,  0.4879299 , -1.4982558 , -1.2389678 ,\n",
       "        1.1795257 , -1.54579   ,  0.07694028,  0.44653377,  0.27894926,\n",
       "       -1.9621123 ,  0.6149733 , -0.41162157, -1.0487087 , -1.7935017 ,\n",
       "        0.31845954,  0.14684801, -0.49587062,  1.6319822 ,  0.39944446,\n",
       "        0.434382  , -1.1794649 , -2.5206347 ,  0.6408292 , -0.62896025,\n",
       "        1.9872422 ,  1.2521076 , -0.21406372,  1.6773093 , -1.6608806 ,\n",
       "       -0.33801398, -0.88510543,  0.1943094 , -1.7670768 , -0.39440864,\n",
       "        1.5270631 , -1.1952105 , -0.60033166,  1.0510954 , -1.4626403 ,\n",
       "       -1.517039  ,  0.59476143,  0.36977595, -1.4121546 , -0.21997249,\n",
       "       -1.0658429 , -0.17150132,  0.8064618 ,  0.5093993 , -0.74832773,\n",
       "        1.2333933 , -1.9864655 , -0.8474578 , -1.1405545 , -3.6550071 ,\n",
       "       -1.556984  ,  1.8270527 ,  1.3725282 , -1.2329742 , -0.09723412,\n",
       "        0.34405386,  0.11565362, -0.9567215 ,  1.4773479 ,  2.169166  ,\n",
       "       -0.26613593, -1.4810696 ,  3.1457973 , -0.4415616 , -1.1940637 ,\n",
       "       -0.09637992, -0.05768079,  0.6716703 , -0.21914895,  0.56199044,\n",
       "       -1.129858  , -0.7972026 ,  0.73576796,  0.22356483,  0.9140782 ,\n",
       "       -1.4168789 ,  0.15810002, -0.79947495, -1.0691265 ,  1.4587201 ,\n",
       "       -0.5216996 ,  1.1812991 ,  0.37763026,  1.3513768 , -0.4241938 ],\n",
       "      dtype=float32)"
      ]
     },
     "execution_count": 36,
     "metadata": {},
     "output_type": "execute_result"
    }
   ],
   "source": [
    "from gensim.models import KeyedVectors\n",
    "from gensim.models import Word2Vec\n",
    "from gensim.models.word2vec import Word2Vec\n",
    "\n",
    "import gensim\n",
    "import numpy as np\n",
    "\n",
    "# word2vec_path = os.getenv('HOME')+'/aiffel/ML/MLdev/movie_review_NLP/ko.bin'\n",
    "# word2vec = gensim.models.Word2Vec.load(word2vec_path)\n",
    "\n",
    "word2vec_path = os.getenv('HOME')+'/aiffel/AIFFEL_Exploration/[E-06]Text_Sentimental_Analysis/ko.bin'\n",
    "word2vec = gensim.models.Word2Vec.load(word2vec_path)\n",
    "# word2vec = KeyedVectors.load_word2vec_format(word2vec_path, binary=True, limit=None)\n",
    "# word2vec = gensim.models.KeyedVectors.load_word2vec_format(word2vec_path, binary=True)\n",
    "# word2vec = KeyedVectors.load(word2vec_path)\n",
    "\n",
    "# word2vec = KeyedVectors.load_word2vec_format(word2vec_path, binary=True, limit=1000000)\n",
    "vector = word2vec['컴퓨터']\n",
    "vector # 무려 200dim의 워드 벡터"
   ]
  },
  {
   "cell_type": "code",
   "execution_count": 37,
   "id": "13d3e2f9",
   "metadata": {},
   "outputs": [
    {
     "name": "stderr",
     "output_type": "stream",
     "text": [
      "/tmp/ipykernel_3068/898241355.py:1: DeprecationWarning: Call to deprecated `similar_by_word` (Method will be removed in 4.0.0, use self.wv.similar_by_word() instead).\n",
      "  word2vec.similar_by_word(\"행복\")\n"
     ]
    },
    {
     "data": {
      "text/plain": [
       "[('사랑', 0.6759077310562134),\n",
       " ('기쁨', 0.6493781805038452),\n",
       " ('즐거움', 0.6396492719650269),\n",
       " ('삶', 0.6299898028373718),\n",
       " ('젊음', 0.6187379360198975),\n",
       " ('즐겁', 0.6027448177337646),\n",
       " ('인생', 0.6002243161201477),\n",
       " ('존엄', 0.5952589511871338),\n",
       " ('고독', 0.5938762426376343),\n",
       " ('불행', 0.5894461870193481)]"
      ]
     },
     "execution_count": 37,
     "metadata": {},
     "output_type": "execute_result"
    }
   ],
   "source": [
    "word2vec.similar_by_word(\"행복\")"
   ]
  },
  {
   "cell_type": "code",
   "execution_count": 38,
   "id": "08d92930",
   "metadata": {},
   "outputs": [
    {
     "name": "stderr",
     "output_type": "stream",
     "text": [
      "/tmp/ipykernel_3068/298478903.py:1: DeprecationWarning: Call to deprecated `similar_by_word` (Method will be removed in 4.0.0, use self.wv.similar_by_word() instead).\n",
      "  word2vec.similar_by_word(\"짜증\")\n"
     ]
    },
    {
     "data": {
      "text/plain": [
       "[('싫증', 0.7431163787841797),\n",
       " ('흠집', 0.590933620929718),\n",
       " ('흉내', 0.5880372524261475),\n",
       " ('아물', 0.5121865272521973),\n",
       " ('울음소리', 0.5063953995704651),\n",
       " ('탄로', 0.4944570064544678),\n",
       " ('그러', 0.4920297861099243),\n",
       " ('내보', 0.48765820264816284),\n",
       " ('악취', 0.48633816838264465),\n",
       " ('이거', 0.48398834466934204)]"
      ]
     },
     "execution_count": 38,
     "metadata": {},
     "output_type": "execute_result"
    }
   ],
   "source": [
    "word2vec.similar_by_word(\"짜증\")"
   ]
  },
  {
   "cell_type": "markdown",
   "id": "dcf3d835",
   "metadata": {},
   "source": [
    "Word2Vec에서 제공하는 워드 임베딩 벡터들끼리는 의미적 유사도가 가까운 것이 서로 가깝게 제대로 학습된 것을 확인 가능함 <br/>\n",
    "이전 스텝에서 학습했던 모델의 임베딩 레이어를 Word2Vec의 것으로 교체하여 다시 학습시켜보자"
   ]
  },
  {
   "cell_type": "code",
   "execution_count": 39,
   "id": "26864109",
   "metadata": {},
   "outputs": [
    {
     "name": "stderr",
     "output_type": "stream",
     "text": [
      "/tmp/ipykernel_3068/2708284156.py:7: DeprecationWarning: Call to deprecated `__contains__` (Method will be removed in 4.0.0, use self.wv.__contains__() instead).\n",
      "  if index_to_word[i] in word2vec:\n",
      "/tmp/ipykernel_3068/2708284156.py:8: DeprecationWarning: Call to deprecated `__getitem__` (Method will be removed in 4.0.0, use self.wv.__getitem__() instead).\n",
      "  embedding_matrix[i] = word2vec[index_to_word[i]]\n"
     ]
    }
   ],
   "source": [
    "vocab_size = 10000 # 어휘 사전의 크기 (10,000개의 단어)\n",
    "word_vector_dim = 200 # 워드 벡터의 차원 수\n",
    "embedding_matrix = np.random.rand(vocab_size, word_vector_dim)\n",
    "\n",
    "# embedding_matrix에 Word2Vec 워드 벡터를 단어 하나씩마다 차례차례 카피한다.\n",
    "for i in range(4, vocab_size):\n",
    "    if index_to_word[i] in word2vec:\n",
    "        embedding_matrix[i] = word2vec[index_to_word[i]]"
   ]
  },
  {
   "cell_type": "code",
   "execution_count": 40,
   "id": "34f6ded1",
   "metadata": {},
   "outputs": [
    {
     "name": "stdout",
     "output_type": "stream",
     "text": [
      "Model: \"sequential_3\"\n",
      "_________________________________________________________________\n",
      "Layer (type)                 Output Shape              Param #   \n",
      "=================================================================\n",
      "embedding_3 (Embedding)      (None, 41, 200)           2000000   \n",
      "_________________________________________________________________\n",
      "conv1d_2 (Conv1D)            (None, 35, 16)            22416     \n",
      "_________________________________________________________________\n",
      "max_pooling1d_1 (MaxPooling1 (None, 7, 16)             0         \n",
      "_________________________________________________________________\n",
      "conv1d_3 (Conv1D)            (None, 1, 16)             1808      \n",
      "_________________________________________________________________\n",
      "global_max_pooling1d_2 (Glob (None, 16)                0         \n",
      "_________________________________________________________________\n",
      "dense_6 (Dense)              (None, 8)                 136       \n",
      "_________________________________________________________________\n",
      "dense_7 (Dense)              (None, 1)                 9         \n",
      "=================================================================\n",
      "Total params: 2,024,369\n",
      "Trainable params: 2,024,369\n",
      "Non-trainable params: 0\n",
      "_________________________________________________________________\n"
     ]
    }
   ],
   "source": [
    "from tensorflow.keras.initializers import Constant\n",
    "\n",
    "vocab_size = 10000 # 어휘 사전의 크기 (10,000개의 단어)\n",
    "word_vector_dim = 200 # 워드 벡터의 차원 수\n",
    "\n",
    "# 모델 구성\n",
    "model = tf.keras.Sequential()\n",
    "model.add(tf.keras.layers.Embedding(vocab_size,\n",
    "                                    word_vector_dim,\n",
    "                                    embeddings_initializer=Constant(embedding_matrix), # 카피한 임베딩을 여기서 활용\n",
    "                                    input_length=maxlen,\n",
    "                                    trainable=True)) # trainable을 True로 주면 Fine-tuing\n",
    "model.add(tf.keras.layers.Conv1D(16, 7, activation='relu'))\n",
    "model.add(tf.keras.layers.MaxPooling1D(5))\n",
    "model.add(tf.keras.layers.Conv1D(16, 7, activation='relu'))\n",
    "model.add(tf.keras.layers.GlobalMaxPooling1D())\n",
    "model.add(tf.keras.layers.Dense(8, activation='relu'))\n",
    "model.add(tf.keras.layers.Dense(1, activation='sigmoid'))\n",
    "\n",
    "model.summary()"
   ]
  },
  {
   "cell_type": "code",
   "execution_count": 41,
   "id": "630924a8",
   "metadata": {},
   "outputs": [
    {
     "name": "stdout",
     "output_type": "stream",
     "text": [
      "Epoch 1/5\n",
      "532/532 [==============================] - 4s 6ms/step - loss: 0.4842 - accuracy: 0.7608 - val_loss: 0.3863 - val_accuracy: 0.8277\n",
      "Epoch 2/5\n",
      "532/532 [==============================] - 3s 5ms/step - loss: 0.3472 - accuracy: 0.8491 - val_loss: 0.3456 - val_accuracy: 0.8465\n",
      "Epoch 3/5\n",
      "532/532 [==============================] - 3s 5ms/step - loss: 0.3025 - accuracy: 0.8718 - val_loss: 0.3418 - val_accuracy: 0.8511\n",
      "Epoch 4/5\n",
      "532/532 [==============================] - 3s 5ms/step - loss: 0.2730 - accuracy: 0.8880 - val_loss: 0.3443 - val_accuracy: 0.8492\n",
      "Epoch 5/5\n",
      "532/532 [==============================] - 3s 5ms/step - loss: 0.2494 - accuracy: 0.8991 - val_loss: 0.3498 - val_accuracy: 0.8526\n"
     ]
    }
   ],
   "source": [
    "# 학습의 진행\n",
    "model.compile(optimizer='adam',\n",
    "              loss='binary_crossentropy',\n",
    "              metrics=['accuracy'])\n",
    "\n",
    "epochs=5 # 훈련하며 바꿔보기\n",
    "\n",
    "history = model.fit(partial_X_train,\n",
    "                    partial_y_train,\n",
    "                    epochs=epochs,\n",
    "                    batch_size=256,\n",
    "                    validation_data=(X_val, y_val),\n",
    "                    verbose=1)"
   ]
  },
  {
   "cell_type": "code",
   "execution_count": 42,
   "id": "d686a4e9",
   "metadata": {},
   "outputs": [
    {
     "name": "stdout",
     "output_type": "stream",
     "text": [
      "1537/1537 - 3s - loss: 0.3631 - accuracy: 0.8502\n",
      "[0.36305251717567444, 0.8501739501953125]\n"
     ]
    }
   ],
   "source": [
    "# 테스트셋을 통한 모델 평가\n",
    "results = model.evaluate(X_test, y_test, verbose=2)\n",
    "\n",
    "print(results)"
   ]
  },
  {
   "cell_type": "markdown",
   "id": "949fbdd4",
   "metadata": {},
   "source": [
    "### 💥💥💥 <font color=green>훈련 정확도: 0.8991 </font>\n",
    "### 💥💥💥 <font color=green>평가 정확도: 0.8526 </font>\n",
    "### 💥💥💥 <font color=green>테스트 정확도: 0.8501 </font>"
   ]
  },
  {
   "cell_type": "code",
   "execution_count": 43,
   "id": "da909638",
   "metadata": {},
   "outputs": [
    {
     "data": {
      "image/png": "[encoded data removed]",
      "text/plain": [
       "<Figure size 864x576 with 2 Axes>"
      ]
     },
     "metadata": {
      "needs_background": "light"
     },
     "output_type": "display_data"
    }
   ],
   "source": [
    "import matplotlib.pyplot as plt\n",
    "\n",
    "acc = history.history['accuracy']\n",
    "val_acc = history.history['val_accuracy']\n",
    "\n",
    "loss = history.history['loss']\n",
    "val_loss = history.history['val_loss']\n",
    "\n",
    "epochs_range = range(len(acc))\n",
    "\n",
    "plt.figure(figsize = (12, 8))\n",
    "plt.subplot(1, 2, 1)\n",
    "plt.plot(epochs_range, acc, label = 'Training Accuracy')\n",
    "plt.plot(epochs_range, val_acc, label = 'Validation Accuracy')\n",
    "plt.legend(loc = 'lower right')\n",
    "plt.title('Training and Validation Accuracy')\n",
    "\n",
    "plt.subplot(1, 2, 2)\n",
    "plt.plot(epochs_range, loss, label = 'Training Loss')\n",
    "plt.plot(epochs_range, val_loss, label = 'Validation Loss')\n",
    "plt.legend(loc = 'upper right')\n",
    "plt.title('Training and Validation Loss')\n",
    "plt.show()"
   ]
  },
  {
   "cell_type": "markdown",
   "id": "5b31b824",
   "metadata": {},
   "source": [
    "### 💥💥💥  <font color=green>epoch에 따른 변화 </font>\n",
    "- epoch가 2를 초과하자 validation loss가 증가했고, validation accuracy는 이전 비슷하게 유지된다. train과 val의 변화 폭 차이가 크다. 이는 과적합이 일어났을 가능성이 높다고 판단된다.\n",
    "- epoch=1~2이 적절하다고 판단된다."
   ]
  },
  {
   "cell_type": "code",
   "execution_count": null,
   "id": "bd59baee",
   "metadata": {},
   "outputs": [],
   "source": []
  },
  {
   "cell_type": "code",
   "execution_count": null,
   "id": "ff3354e9",
   "metadata": {},
   "outputs": [],
   "source": []
  },
  {
   "cell_type": "markdown",
   "id": "81955373",
   "metadata": {},
   "source": [
    "*****"
   ]
  },
  {
   "cell_type": "markdown",
   "id": "3001c1cd",
   "metadata": {},
   "source": [
    "# 🧤 회고"
   ]
  },
  {
   "cell_type": "markdown",
   "id": "3e9ed2bb",
   "metadata": {},
   "source": [
    "### ✔️ 3가지 이상의 모델이 성공적으로 시도됨\n",
    "- RNN, 1-D CNN, GlobalMaxPooling1D의 3가지 모델을 만들어 사용했다. 하지만 세 개의 모델 모두 성능과 결과값이 비슷하다는 결과가 나왔다.\n",
    "\n",
    "### ✔️ gensim을 이용한 자체학습 임베딩 / 사전학습 임베딩\n",
    "- gensim을 이용해 자체학습한 word embedding 모델과 한국어로 사전학습된 word2vec embedding 모델을 이용했다. 결과적으로는 pretained된 모델 또한 정확도 측면에선 큰 변화가 나타나지 않았다. 하지만 직접 유사어를 추출해본 결과 앞선 자체학습한 모델보단 훨씬 좋은 성능을 보임을 알 수 있었다. <br/> <br/>\n",
    "- 데이터의 크기가 크면 batch size를 줄이고, 데이터의 크기가 작으면 size를 키워야 한다고 한다. 본 예제에서는 batch size를 512로 쭉 고정했지만, word2vec에서는 256로 줄여 이용했다. <br/> <br/>\n",
    "\n",
    "- word2vec을 이용하려면 gensim의 버전을 3.x.x로 낮춰야 한다. 하지만 아무리 다운그레이드 해도 낮춰지지 않아 0.0~3.83까지 다 다운그레이드 해보았지만 그래도 해결되지 않았다. 그러다 주피터 노트북을 닫고 클라우드 쉘에서 다운그레이드를 한 뒤 실행해보니 아주 잘... 되었다.... 이렇게 큰 배움을 하나 또 얻어 간...다.....\n",
    "\n",
    "### ✔️ 정확도 85% 이상 달성\n",
    "- word2vec에서 batch size와 epoch 수를 조절해가며 훈련, 평가, 테스트 데이터 모두 정확도를 85% 이상 달성할 수 있었다.\n",
    "\n",
    "### ✔️ 아쉬웠던 점\n",
    "- 한 번 돌린 모델을 다시 돌리면 정확도와 loss값이 이상하게 나와 재실행하고 싶으면 이 파일 전체를 처음부터 재실행해야 해서 조금 불편했다."
   ]
  },
  {
   "cell_type": "markdown",
   "id": "d15551a6",
   "metadata": {},
   "source": [
    "## 🔮\n",
    "텍스트 감정 분석은 개인적으로 꼭 한 번 해보고 싶었던 과제다. 작년에 사용자 감정 분석으로 우울증 척도를 재는 프로젝트를 진행한 적이 있는데 이 감정 분석 파트에는 지식이 없어 참여하지 못해 아쉬웠던 경험이 있다. 이번 노드를 통해 좋은 기회로 한국어 감성 분석을 배울 수 있었던 것 같고, 이를 활용하여 실생활에 도움이 되는 과제도 진행하게 된다면 재밌을 것 같다."
   ]
  },
  {
   "cell_type": "code",
   "execution_count": null,
   "id": "e866357b",
   "metadata": {},
   "outputs": [],
   "source": []
  }
 ],
 "metadata": {
  "kernelspec": {
   "display_name": "Python 3 (ipykernel)",
   "language": "python",
   "name": "python3"
  },
  "language_info": {
   "codemirror_mode": {
    "name": "ipython",
    "version": 3
   },
   "file_extension": ".py",
   "mimetype": "text/x-python",
   "name": "python",
   "nbconvert_exporter": "python",
   "pygments_lexer": "ipython3",
   "version": "3.9.7"
  }
 },
 "nbformat": 4,
 "nbformat_minor": 5
}
